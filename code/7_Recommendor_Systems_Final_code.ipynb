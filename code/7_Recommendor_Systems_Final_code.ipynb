{
 "cells": [
  {
   "cell_type": "code",
   "execution_count": 1,
   "metadata": {
    "collapsed": true
   },
   "outputs": [],
   "source": [
    "# Importing some libraries\n",
    "import graphlab as gl\n",
    "import numpy as np\n",
    "import pandas as pd\n",
    "import pickle\n",
    "import os\n",
    "from  sklearn.preprocessing import MinMaxScaler\n",
    "import warnings\n",
    "## Ignoring Warnings\n",
    "warnings.filterwarnings('ignore')"
   ]
  },
  {
   "cell_type": "markdown",
   "metadata": {},
   "source": [
    "## 1) Data import"
   ]
  },
  {
   "cell_type": "code",
   "execution_count": 2,
   "metadata": {
    "collapsed": true
   },
   "outputs": [],
   "source": [
    "# Import Files\n",
    "data = pd.read_csv('./outputdata/ratings.csv')\n",
    "data.columns = ['user_id','item_id','rating','time']\n",
    "users = pd.read_csv('./outputdata/users.csv')\n",
    "movies = pickle.load(open('./outputdata/movies.p'))\n",
    "movies.columns = ['item_id','title','genre','plot']\n",
    "movies_omdb = pd.read_csv('./outputdata/movie_omdb.csv')\n",
    "movies_expanded = pd.read_csv('./outputdata/movies_expanded.csv').ix[:,1:]\n",
    "x = list(movies_expanded.columns)\n",
    "x[0] = 'item_id'\n",
    "movies_expanded.columns = x\n",
    "movies_expanded = movies_expanded.drop(['movie_title','genre'],axis=1)\n",
    "movies_name = gl.SFrame('./outputdata/movies.csv')\n",
    "movies_name = gl.SFrame({'item_id': movies_name['movie_id'],'title' : movies_name['movie_title'],'genre': movies_name['genre']})"
   ]
  },
  {
   "cell_type": "markdown",
   "metadata": {},
   "source": [
    "## 2) Data Manipulation"
   ]
  },
  {
   "cell_type": "code",
   "execution_count": 3,
   "metadata": {
    "collapsed": true
   },
   "outputs": [],
   "source": [
    "### Defining all the fucntions for Manipulations\n",
    "\n",
    "# Function to Removing \"tt\" from the movie_id\n",
    "def subtring(x):\n",
    "    return (int(x[2:]))\n",
    "\n",
    "## Function for Extracting numerical run time from text\n",
    "def runtime(x):\n",
    "    if pd.isnull(x):\n",
    "        return np.NaN\n",
    "    elif len(x.split()) == 2:\n",
    "        return int(x.split()[0])\n",
    "    elif len(x.split()) == 4:\n",
    "        return int(x.split()[0]) * 60 + int(x.split()[2])\n",
    "    \n",
    "## Function if a movie won a award or not\n",
    "def award(x):\n",
    "    if pd.isnull(x):\n",
    "        return 0\n",
    "    else:\n",
    "        return 1\n",
    "\n",
    "## Function if the item is a Movie or not, assuming Nulls are also movies\n",
    "def is_movie(x):\n",
    "    if pd.isnull(x):\n",
    "        return 1\n",
    "    elif x == \"movie\":\n",
    "        return 1\n",
    "    else:\n",
    "        return 0"
   ]
  },
  {
   "cell_type": "code",
   "execution_count": 4,
   "metadata": {
    "collapsed": false
   },
   "outputs": [],
   "source": [
    "## Fixing movie_id in omdb table - Removing tt from string and converting into a integer\n",
    "movies_omdb['item_id'] = movies_omdb.imdbID.apply(subtring)\n",
    "\n",
    "#Implementing the above function for data transformation\n",
    "movies_omdb.Runtime = movies_omdb.Runtime.apply(runtime)\n",
    "\n",
    "# Taking only selective columns from OMDB movie data\n",
    "movies_omdb1 = movies_omdb.ix[:,[1,12,15,16,18,20]] \n",
    "\n",
    "# Applying remaining transformation\n",
    "movies_omdb1.Awards = movies_omdb1.Awards.apply(award)\n",
    "movies_omdb1.Type = movies_omdb1.Type.apply(is_movie)\n",
    "movies_omdb1.imdbRating[pd.isnull(movies_omdb1.imdbRating)] =  np.mean(movies_omdb1.imdbRating )\n",
    "movies_omdb1.imdbVotes[pd.isnull(movies_omdb1.imdbVotes)] =  np.mean(movies_omdb1.imdbVotes )\n",
    "\n",
    "# Merging OMDB features with Genres\n",
    "movies_full = pd.merge(movies_expanded,movies_omdb1,how=\"inner\")"
   ]
  },
  {
   "cell_type": "code",
   "execution_count": 5,
   "metadata": {
    "collapsed": false
   },
   "outputs": [
    {
     "name": "stderr",
     "output_type": "stream",
     "text": [
      "[INFO] graphlab.cython.cy_server: GraphLab Create v2.1 started. Logging: C:\\Users\\AAYUSH~1\\AppData\\Local\\Temp\\graphlab_server_1480798848.log.0\n"
     ]
    },
    {
     "name": "stdout",
     "output_type": "stream",
     "text": [
      "This non-commercial license of GraphLab Create for academic use is assigned to agraw134@umn.edu and will expire on November 11, 2017.\n"
     ]
    }
   ],
   "source": [
    "## Converting data in SFrame\n",
    "ratings = gl.SFrame(data.ix[:,[0,1,2]])\n",
    "genre = gl.SFrame(movies_expanded)\n",
    "omdb = gl.SFrame(movies_omdb1)\n",
    "movie_features_full = gl.SFrame(movies_full)"
   ]
  },
  {
   "cell_type": "markdown",
   "metadata": {},
   "source": [
    "## 3) Modelling"
   ]
  },
  {
   "cell_type": "code",
   "execution_count": 6,
   "metadata": {
    "collapsed": false
   },
   "outputs": [
    {
     "data": {
      "text/html": [
       "<pre>Recsys training: model = factorization_recommender</pre>"
      ],
      "text/plain": [
       "Recsys training: model = factorization_recommender"
      ]
     },
     "metadata": {},
     "output_type": "display_data"
    },
    {
     "data": {
      "text/html": [
       "<pre>Preparing data set.</pre>"
      ],
      "text/plain": [
       "Preparing data set."
      ]
     },
     "metadata": {},
     "output_type": "display_data"
    },
    {
     "data": {
      "text/html": [
       "<pre>    Data has 433200 observations with 36335 users and 23383 items.</pre>"
      ],
      "text/plain": [
       "    Data has 433200 observations with 36335 users and 23383 items."
      ]
     },
     "metadata": {},
     "output_type": "display_data"
    },
    {
     "data": {
      "text/html": [
       "<pre>    Data prepared in: 0.27222s</pre>"
      ],
      "text/plain": [
       "    Data prepared in: 0.27222s"
      ]
     },
     "metadata": {},
     "output_type": "display_data"
    },
    {
     "data": {
      "text/html": [
       "<pre>Training factorization_recommender for recommendations.</pre>"
      ],
      "text/plain": [
       "Training factorization_recommender for recommendations."
      ]
     },
     "metadata": {},
     "output_type": "display_data"
    },
    {
     "data": {
      "text/html": [
       "<pre>+--------------------------------+--------------------------------------------------+----------+</pre>"
      ],
      "text/plain": [
       "+--------------------------------+--------------------------------------------------+----------+"
      ]
     },
     "metadata": {},
     "output_type": "display_data"
    },
    {
     "data": {
      "text/html": [
       "<pre>| Parameter                      | Description                                      | Value    |</pre>"
      ],
      "text/plain": [
       "| Parameter                      | Description                                      | Value    |"
      ]
     },
     "metadata": {},
     "output_type": "display_data"
    },
    {
     "data": {
      "text/html": [
       "<pre>+--------------------------------+--------------------------------------------------+----------+</pre>"
      ],
      "text/plain": [
       "+--------------------------------+--------------------------------------------------+----------+"
      ]
     },
     "metadata": {},
     "output_type": "display_data"
    },
    {
     "data": {
      "text/html": [
       "<pre>| num_factors                    | Factor Dimension                                 | 8        |</pre>"
      ],
      "text/plain": [
       "| num_factors                    | Factor Dimension                                 | 8        |"
      ]
     },
     "metadata": {},
     "output_type": "display_data"
    },
    {
     "data": {
      "text/html": [
       "<pre>| regularization                 | L2 Regularization on Factors                     | 1e-008   |</pre>"
      ],
      "text/plain": [
       "| regularization                 | L2 Regularization on Factors                     | 1e-008   |"
      ]
     },
     "metadata": {},
     "output_type": "display_data"
    },
    {
     "data": {
      "text/html": [
       "<pre>| solver                         | Solver used for training                         | sgd      |</pre>"
      ],
      "text/plain": [
       "| solver                         | Solver used for training                         | sgd      |"
      ]
     },
     "metadata": {},
     "output_type": "display_data"
    },
    {
     "data": {
      "text/html": [
       "<pre>| linear_regularization          | L2 Regularization on Linear Coefficients         | 1e-010   |</pre>"
      ],
      "text/plain": [
       "| linear_regularization          | L2 Regularization on Linear Coefficients         | 1e-010   |"
      ]
     },
     "metadata": {},
     "output_type": "display_data"
    },
    {
     "data": {
      "text/html": [
       "<pre>| max_iterations                 | Maximum Number of Iterations                     | 50       |</pre>"
      ],
      "text/plain": [
       "| max_iterations                 | Maximum Number of Iterations                     | 50       |"
      ]
     },
     "metadata": {},
     "output_type": "display_data"
    },
    {
     "data": {
      "text/html": [
       "<pre>+--------------------------------+--------------------------------------------------+----------+</pre>"
      ],
      "text/plain": [
       "+--------------------------------+--------------------------------------------------+----------+"
      ]
     },
     "metadata": {},
     "output_type": "display_data"
    },
    {
     "data": {
      "text/html": [
       "<pre>  Optimizing model using SGD; tuning step size.</pre>"
      ],
      "text/plain": [
       "  Optimizing model using SGD; tuning step size."
      ]
     },
     "metadata": {},
     "output_type": "display_data"
    },
    {
     "data": {
      "text/html": [
       "<pre>  Using 54150 / 433200 points for tuning the step size.</pre>"
      ],
      "text/plain": [
       "  Using 54150 / 433200 points for tuning the step size."
      ]
     },
     "metadata": {},
     "output_type": "display_data"
    },
    {
     "data": {
      "text/html": [
       "<pre>+---------+-------------------+------------------------------------------+</pre>"
      ],
      "text/plain": [
       "+---------+-------------------+------------------------------------------+"
      ]
     },
     "metadata": {},
     "output_type": "display_data"
    },
    {
     "data": {
      "text/html": [
       "<pre>| Attempt | Initial Step Size | Estimated Objective Value                |</pre>"
      ],
      "text/plain": [
       "| Attempt | Initial Step Size | Estimated Objective Value                |"
      ]
     },
     "metadata": {},
     "output_type": "display_data"
    },
    {
     "data": {
      "text/html": [
       "<pre>+---------+-------------------+------------------------------------------+</pre>"
      ],
      "text/plain": [
       "+---------+-------------------+------------------------------------------+"
      ]
     },
     "metadata": {},
     "output_type": "display_data"
    },
    {
     "data": {
      "text/html": [
       "<pre>| 0       | 25                | Not Viable                               |</pre>"
      ],
      "text/plain": [
       "| 0       | 25                | Not Viable                               |"
      ]
     },
     "metadata": {},
     "output_type": "display_data"
    },
    {
     "data": {
      "text/html": [
       "<pre>| 1       | 6.25              | Not Viable                               |</pre>"
      ],
      "text/plain": [
       "| 1       | 6.25              | Not Viable                               |"
      ]
     },
     "metadata": {},
     "output_type": "display_data"
    },
    {
     "data": {
      "text/html": [
       "<pre>| 2       | 1.5625            | Not Viable                               |</pre>"
      ],
      "text/plain": [
       "| 2       | 1.5625            | Not Viable                               |"
      ]
     },
     "metadata": {},
     "output_type": "display_data"
    },
    {
     "data": {
      "text/html": [
       "<pre>| 3       | 0.390625          | Not Viable                               |</pre>"
      ],
      "text/plain": [
       "| 3       | 0.390625          | Not Viable                               |"
      ]
     },
     "metadata": {},
     "output_type": "display_data"
    },
    {
     "data": {
      "text/html": [
       "<pre>| 4       | 0.0976562         | 1.2798                                   |</pre>"
      ],
      "text/plain": [
       "| 4       | 0.0976562         | 1.2798                                   |"
      ]
     },
     "metadata": {},
     "output_type": "display_data"
    },
    {
     "data": {
      "text/html": [
       "<pre>| 5       | 0.0488281         | 1.56533                                  |</pre>"
      ],
      "text/plain": [
       "| 5       | 0.0488281         | 1.56533                                  |"
      ]
     },
     "metadata": {},
     "output_type": "display_data"
    },
    {
     "data": {
      "text/html": [
       "<pre>| 6       | 0.0244141         | 1.85085                                  |</pre>"
      ],
      "text/plain": [
       "| 6       | 0.0244141         | 1.85085                                  |"
      ]
     },
     "metadata": {},
     "output_type": "display_data"
    },
    {
     "data": {
      "text/html": [
       "<pre>| 7       | 0.012207          | 2.14192                                  |</pre>"
      ],
      "text/plain": [
       "| 7       | 0.012207          | 2.14192                                  |"
      ]
     },
     "metadata": {},
     "output_type": "display_data"
    },
    {
     "data": {
      "text/html": [
       "<pre>+---------+-------------------+------------------------------------------+</pre>"
      ],
      "text/plain": [
       "+---------+-------------------+------------------------------------------+"
      ]
     },
     "metadata": {},
     "output_type": "display_data"
    },
    {
     "data": {
      "text/html": [
       "<pre>| Final   | 0.0976562         | 1.2798                                   |</pre>"
      ],
      "text/plain": [
       "| Final   | 0.0976562         | 1.2798                                   |"
      ]
     },
     "metadata": {},
     "output_type": "display_data"
    },
    {
     "data": {
      "text/html": [
       "<pre>+---------+-------------------+------------------------------------------+</pre>"
      ],
      "text/plain": [
       "+---------+-------------------+------------------------------------------+"
      ]
     },
     "metadata": {},
     "output_type": "display_data"
    },
    {
     "data": {
      "text/html": [
       "<pre>Starting Optimization.</pre>"
      ],
      "text/plain": [
       "Starting Optimization."
      ]
     },
     "metadata": {},
     "output_type": "display_data"
    },
    {
     "data": {
      "text/html": [
       "<pre>+---------+--------------+-------------------+-----------------------+-------------+</pre>"
      ],
      "text/plain": [
       "+---------+--------------+-------------------+-----------------------+-------------+"
      ]
     },
     "metadata": {},
     "output_type": "display_data"
    },
    {
     "data": {
      "text/html": [
       "<pre>| Iter.   | Elapsed Time | Approx. Objective | Approx. Training RMSE | Step Size   |</pre>"
      ],
      "text/plain": [
       "| Iter.   | Elapsed Time | Approx. Objective | Approx. Training RMSE | Step Size   |"
      ]
     },
     "metadata": {},
     "output_type": "display_data"
    },
    {
     "data": {
      "text/html": [
       "<pre>+---------+--------------+-------------------+-----------------------+-------------+</pre>"
      ],
      "text/plain": [
       "+---------+--------------+-------------------+-----------------------+-------------+"
      ]
     },
     "metadata": {},
     "output_type": "display_data"
    },
    {
     "data": {
      "text/html": [
       "<pre>| Initial | 0us          | 3.43147           | 1.85242               |             |</pre>"
      ],
      "text/plain": [
       "| Initial | 0us          | 3.43147           | 1.85242               |             |"
      ]
     },
     "metadata": {},
     "output_type": "display_data"
    },
    {
     "data": {
      "text/html": [
       "<pre>+---------+--------------+-------------------+-----------------------+-------------+</pre>"
      ],
      "text/plain": [
       "+---------+--------------+-------------------+-----------------------+-------------+"
      ]
     },
     "metadata": {},
     "output_type": "display_data"
    },
    {
     "data": {
      "text/html": [
       "<pre>| 1       | 68.683ms     | 3.07574           | 1.75356               | 0.0976562   |</pre>"
      ],
      "text/plain": [
       "| 1       | 68.683ms     | 3.07574           | 1.75356               | 0.0976562   |"
      ]
     },
     "metadata": {},
     "output_type": "display_data"
    },
    {
     "data": {
      "text/html": [
       "<pre>| 2       | 140.875ms    | 2.31083           | 1.51994               | 0.0580668   |</pre>"
      ],
      "text/plain": [
       "| 2       | 140.875ms    | 2.31083           | 1.51994               | 0.0580668   |"
      ]
     },
     "metadata": {},
     "output_type": "display_data"
    },
    {
     "data": {
      "text/html": [
       "<pre>| 3       | 210.059ms    | 1.80304           | 1.34256               | 0.042841    |</pre>"
      ],
      "text/plain": [
       "| 3       | 210.059ms    | 1.80304           | 1.34256               | 0.042841    |"
      ]
     },
     "metadata": {},
     "output_type": "display_data"
    },
    {
     "data": {
      "text/html": [
       "<pre>| 4       | 288.266ms    | 1.52027           | 1.23275               | 0.0345267   |</pre>"
      ],
      "text/plain": [
       "| 4       | 288.266ms    | 1.52027           | 1.23275               | 0.0345267   |"
      ]
     },
     "metadata": {},
     "output_type": "display_data"
    },
    {
     "data": {
      "text/html": [
       "<pre>| 5       | 354.442ms    | 1.35432           | 1.16348               | 0.029206    |</pre>"
      ],
      "text/plain": [
       "| 5       | 354.442ms    | 1.35432           | 1.16348               | 0.029206    |"
      ]
     },
     "metadata": {},
     "output_type": "display_data"
    },
    {
     "data": {
      "text/html": [
       "<pre>| 6       | 447.691ms    | 1.24494           | 1.11547               | 0.0254734   |</pre>"
      ],
      "text/plain": [
       "| 6       | 447.691ms    | 1.24494           | 1.11547               | 0.0254734   |"
      ]
     },
     "metadata": {},
     "output_type": "display_data"
    },
    {
     "data": {
      "text/html": [
       "<pre>| 11      | 761.525ms    | 1.00437           | 1.00178               | 0.016168    |</pre>"
      ],
      "text/plain": [
       "| 11      | 761.525ms    | 1.00437           | 1.00178               | 0.016168    |"
      ]
     },
     "metadata": {},
     "output_type": "display_data"
    },
    {
     "data": {
      "text/html": [
       "<pre>| 25      | 1.64s        | 0.842714          | 0.917468              | 0.00873464  |</pre>"
      ],
      "text/plain": [
       "| 25      | 1.64s        | 0.842714          | 0.917468              | 0.00873464  |"
      ]
     },
     "metadata": {},
     "output_type": "display_data"
    },
    {
     "data": {
      "text/html": [
       "<pre>| 50      | 2.95s        | 0.767853          | 0.87564               | 0.00519365  |</pre>"
      ],
      "text/plain": [
       "| 50      | 2.95s        | 0.767853          | 0.87564               | 0.00519365  |"
      ]
     },
     "metadata": {},
     "output_type": "display_data"
    },
    {
     "data": {
      "text/html": [
       "<pre>+---------+--------------+-------------------+-----------------------+-------------+</pre>"
      ],
      "text/plain": [
       "+---------+--------------+-------------------+-----------------------+-------------+"
      ]
     },
     "metadata": {},
     "output_type": "display_data"
    },
    {
     "data": {
      "text/html": [
       "<pre>Optimization Complete: Maximum number of passes through the data reached.</pre>"
      ],
      "text/plain": [
       "Optimization Complete: Maximum number of passes through the data reached."
      ]
     },
     "metadata": {},
     "output_type": "display_data"
    },
    {
     "data": {
      "text/html": [
       "<pre>Computing final objective value and training RMSE.</pre>"
      ],
      "text/plain": [
       "Computing final objective value and training RMSE."
      ]
     },
     "metadata": {},
     "output_type": "display_data"
    },
    {
     "data": {
      "text/html": [
       "<pre>       Final objective value: 0.718997</pre>"
      ],
      "text/plain": [
       "       Final objective value: 0.718997"
      ]
     },
     "metadata": {},
     "output_type": "display_data"
    },
    {
     "data": {
      "text/html": [
       "<pre>       Final training RMSE: 0.847284</pre>"
      ],
      "text/plain": [
       "       Final training RMSE: 0.847284"
      ]
     },
     "metadata": {},
     "output_type": "display_data"
    },
    {
     "data": {
      "text/html": [
       "<pre>Recsys training: model = ranking_factorization_recommender</pre>"
      ],
      "text/plain": [
       "Recsys training: model = ranking_factorization_recommender"
      ]
     },
     "metadata": {},
     "output_type": "display_data"
    },
    {
     "data": {
      "text/html": [
       "<pre>Preparing data set.</pre>"
      ],
      "text/plain": [
       "Preparing data set."
      ]
     },
     "metadata": {},
     "output_type": "display_data"
    },
    {
     "data": {
      "text/html": [
       "<pre>    Data has 433200 observations with 36335 users and 23383 items.</pre>"
      ],
      "text/plain": [
       "    Data has 433200 observations with 36335 users and 23383 items."
      ]
     },
     "metadata": {},
     "output_type": "display_data"
    },
    {
     "data": {
      "text/html": [
       "<pre>    Data prepared in: 0.265751s</pre>"
      ],
      "text/plain": [
       "    Data prepared in: 0.265751s"
      ]
     },
     "metadata": {},
     "output_type": "display_data"
    },
    {
     "data": {
      "text/html": [
       "<pre>Training ranking_factorization_recommender for recommendations.</pre>"
      ],
      "text/plain": [
       "Training ranking_factorization_recommender for recommendations."
      ]
     },
     "metadata": {},
     "output_type": "display_data"
    },
    {
     "data": {
      "text/html": [
       "<pre>+--------------------------------+--------------------------------------------------+----------+</pre>"
      ],
      "text/plain": [
       "+--------------------------------+--------------------------------------------------+----------+"
      ]
     },
     "metadata": {},
     "output_type": "display_data"
    },
    {
     "data": {
      "text/html": [
       "<pre>| Parameter                      | Description                                      | Value    |</pre>"
      ],
      "text/plain": [
       "| Parameter                      | Description                                      | Value    |"
      ]
     },
     "metadata": {},
     "output_type": "display_data"
    },
    {
     "data": {
      "text/html": [
       "<pre>+--------------------------------+--------------------------------------------------+----------+</pre>"
      ],
      "text/plain": [
       "+--------------------------------+--------------------------------------------------+----------+"
      ]
     },
     "metadata": {},
     "output_type": "display_data"
    },
    {
     "data": {
      "text/html": [
       "<pre>| num_factors                    | Factor Dimension                                 | 32       |</pre>"
      ],
      "text/plain": [
       "| num_factors                    | Factor Dimension                                 | 32       |"
      ]
     },
     "metadata": {},
     "output_type": "display_data"
    },
    {
     "data": {
      "text/html": [
       "<pre>| regularization                 | L2 Regularization on Factors                     | 1e-009   |</pre>"
      ],
      "text/plain": [
       "| regularization                 | L2 Regularization on Factors                     | 1e-009   |"
      ]
     },
     "metadata": {},
     "output_type": "display_data"
    },
    {
     "data": {
      "text/html": [
       "<pre>| solver                         | Solver used for training                         | sgd      |</pre>"
      ],
      "text/plain": [
       "| solver                         | Solver used for training                         | sgd      |"
      ]
     },
     "metadata": {},
     "output_type": "display_data"
    },
    {
     "data": {
      "text/html": [
       "<pre>| linear_regularization          | L2 Regularization on Linear Coefficients         | 1e-009   |</pre>"
      ],
      "text/plain": [
       "| linear_regularization          | L2 Regularization on Linear Coefficients         | 1e-009   |"
      ]
     },
     "metadata": {},
     "output_type": "display_data"
    },
    {
     "data": {
      "text/html": [
       "<pre>| ranking_regularization         | Rank-based Regularization Weight                 | 0.25     |</pre>"
      ],
      "text/plain": [
       "| ranking_regularization         | Rank-based Regularization Weight                 | 0.25     |"
      ]
     },
     "metadata": {},
     "output_type": "display_data"
    },
    {
     "data": {
      "text/html": [
       "<pre>| max_iterations                 | Maximum Number of Iterations                     | 25       |</pre>"
      ],
      "text/plain": [
       "| max_iterations                 | Maximum Number of Iterations                     | 25       |"
      ]
     },
     "metadata": {},
     "output_type": "display_data"
    },
    {
     "data": {
      "text/html": [
       "<pre>+--------------------------------+--------------------------------------------------+----------+</pre>"
      ],
      "text/plain": [
       "+--------------------------------+--------------------------------------------------+----------+"
      ]
     },
     "metadata": {},
     "output_type": "display_data"
    },
    {
     "data": {
      "text/html": [
       "<pre>  Optimizing model using SGD; tuning step size.</pre>"
      ],
      "text/plain": [
       "  Optimizing model using SGD; tuning step size."
      ]
     },
     "metadata": {},
     "output_type": "display_data"
    },
    {
     "data": {
      "text/html": [
       "<pre>  Using 54150 / 433200 points for tuning the step size.</pre>"
      ],
      "text/plain": [
       "  Using 54150 / 433200 points for tuning the step size."
      ]
     },
     "metadata": {},
     "output_type": "display_data"
    },
    {
     "data": {
      "text/html": [
       "<pre>+---------+-------------------+------------------------------------------+</pre>"
      ],
      "text/plain": [
       "+---------+-------------------+------------------------------------------+"
      ]
     },
     "metadata": {},
     "output_type": "display_data"
    },
    {
     "data": {
      "text/html": [
       "<pre>| Attempt | Initial Step Size | Estimated Objective Value                |</pre>"
      ],
      "text/plain": [
       "| Attempt | Initial Step Size | Estimated Objective Value                |"
      ]
     },
     "metadata": {},
     "output_type": "display_data"
    },
    {
     "data": {
      "text/html": [
       "<pre>+---------+-------------------+------------------------------------------+</pre>"
      ],
      "text/plain": [
       "+---------+-------------------+------------------------------------------+"
      ]
     },
     "metadata": {},
     "output_type": "display_data"
    },
    {
     "data": {
      "text/html": [
       "<pre>| 0       | 25                | Not Viable                               |</pre>"
      ],
      "text/plain": [
       "| 0       | 25                | Not Viable                               |"
      ]
     },
     "metadata": {},
     "output_type": "display_data"
    },
    {
     "data": {
      "text/html": [
       "<pre>| 1       | 6.25              | Not Viable                               |</pre>"
      ],
      "text/plain": [
       "| 1       | 6.25              | Not Viable                               |"
      ]
     },
     "metadata": {},
     "output_type": "display_data"
    },
    {
     "data": {
      "text/html": [
       "<pre>| 2       | 1.5625            | Not Viable                               |</pre>"
      ],
      "text/plain": [
       "| 2       | 1.5625            | Not Viable                               |"
      ]
     },
     "metadata": {},
     "output_type": "display_data"
    },
    {
     "data": {
      "text/html": [
       "<pre>| 3       | 0.390625          | Not Viable                               |</pre>"
      ],
      "text/plain": [
       "| 3       | 0.390625          | Not Viable                               |"
      ]
     },
     "metadata": {},
     "output_type": "display_data"
    },
    {
     "data": {
      "text/html": [
       "<pre>| 4       | 0.0976562         | 3.63056                                  |</pre>"
      ],
      "text/plain": [
       "| 4       | 0.0976562         | 3.63056                                  |"
      ]
     },
     "metadata": {},
     "output_type": "display_data"
    },
    {
     "data": {
      "text/html": [
       "<pre>| 5       | 0.0488281         | 4.02504                                  |</pre>"
      ],
      "text/plain": [
       "| 5       | 0.0488281         | 4.02504                                  |"
      ]
     },
     "metadata": {},
     "output_type": "display_data"
    },
    {
     "data": {
      "text/html": [
       "<pre>| 6       | 0.0244141         | 4.45753                                  |</pre>"
      ],
      "text/plain": [
       "| 6       | 0.0244141         | 4.45753                                  |"
      ]
     },
     "metadata": {},
     "output_type": "display_data"
    },
    {
     "data": {
      "text/html": [
       "<pre>| 7       | 0.012207          | 4.89811                                  |</pre>"
      ],
      "text/plain": [
       "| 7       | 0.012207          | 4.89811                                  |"
      ]
     },
     "metadata": {},
     "output_type": "display_data"
    },
    {
     "data": {
      "text/html": [
       "<pre>+---------+-------------------+------------------------------------------+</pre>"
      ],
      "text/plain": [
       "+---------+-------------------+------------------------------------------+"
      ]
     },
     "metadata": {},
     "output_type": "display_data"
    },
    {
     "data": {
      "text/html": [
       "<pre>| Final   | 0.0976562         | 3.63056                                  |</pre>"
      ],
      "text/plain": [
       "| Final   | 0.0976562         | 3.63056                                  |"
      ]
     },
     "metadata": {},
     "output_type": "display_data"
    },
    {
     "data": {
      "text/html": [
       "<pre>+---------+-------------------+------------------------------------------+</pre>"
      ],
      "text/plain": [
       "+---------+-------------------+------------------------------------------+"
      ]
     },
     "metadata": {},
     "output_type": "display_data"
    },
    {
     "data": {
      "text/html": [
       "<pre>Starting Optimization.</pre>"
      ],
      "text/plain": [
       "Starting Optimization."
      ]
     },
     "metadata": {},
     "output_type": "display_data"
    },
    {
     "data": {
      "text/html": [
       "<pre>+---------+--------------+-------------------+-----------------------+-------------+</pre>"
      ],
      "text/plain": [
       "+---------+--------------+-------------------+-----------------------+-------------+"
      ]
     },
     "metadata": {},
     "output_type": "display_data"
    },
    {
     "data": {
      "text/html": [
       "<pre>| Iter.   | Elapsed Time | Approx. Objective | Approx. Training RMSE | Step Size   |</pre>"
      ],
      "text/plain": [
       "| Iter.   | Elapsed Time | Approx. Objective | Approx. Training RMSE | Step Size   |"
      ]
     },
     "metadata": {},
     "output_type": "display_data"
    },
    {
     "data": {
      "text/html": [
       "<pre>+---------+--------------+-------------------+-----------------------+-------------+</pre>"
      ],
      "text/plain": [
       "+---------+--------------+-------------------+-----------------------+-------------+"
      ]
     },
     "metadata": {},
     "output_type": "display_data"
    },
    {
     "data": {
      "text/html": [
       "<pre>| Initial | 0us          | 6.7276            | 1.85242               |             |</pre>"
      ],
      "text/plain": [
       "| Initial | 0us          | 6.7276            | 1.85242               |             |"
      ]
     },
     "metadata": {},
     "output_type": "display_data"
    },
    {
     "data": {
      "text/html": [
       "<pre>+---------+--------------+-------------------+-----------------------+-------------+</pre>"
      ],
      "text/plain": [
       "+---------+--------------+-------------------+-----------------------+-------------+"
      ]
     },
     "metadata": {},
     "output_type": "display_data"
    },
    {
     "data": {
      "text/html": [
       "<pre>| 1       | 327.37ms     | DIVERGED          | DIVERGED              | 0.0976562   |</pre>"
      ],
      "text/plain": [
       "| 1       | 327.37ms     | DIVERGED          | DIVERGED              | 0.0976562   |"
      ]
     },
     "metadata": {},
     "output_type": "display_data"
    },
    {
     "data": {
      "text/html": [
       "<pre>| RESET   | 486.307ms    | 6.72767           | 1.85244               |             |</pre>"
      ],
      "text/plain": [
       "| RESET   | 486.307ms    | 6.72767           | 1.85244               |             |"
      ]
     },
     "metadata": {},
     "output_type": "display_data"
    },
    {
     "data": {
      "text/html": [
       "<pre>| 1       | 660.269ms    | 4.80742           | 1.66047               | 0.0488281   |</pre>"
      ],
      "text/plain": [
       "| 1       | 660.269ms    | 4.80742           | 1.66047               | 0.0488281   |"
      ]
     },
     "metadata": {},
     "output_type": "display_data"
    },
    {
     "data": {
      "text/html": [
       "<pre>| 2       | 868.824ms    | 4.07645           | 1.57916               | 0.0290334   |</pre>"
      ],
      "text/plain": [
       "| 2       | 868.824ms    | 4.07645           | 1.57916               | 0.0290334   |"
      ]
     },
     "metadata": {},
     "output_type": "display_data"
    },
    {
     "data": {
      "text/html": [
       "<pre>| 3       | 1.10s        | 3.75254           | 1.5103                | 0.0214205   |</pre>"
      ],
      "text/plain": [
       "| 3       | 1.10s        | 3.75254           | 1.5103                | 0.0214205   |"
      ]
     },
     "metadata": {},
     "output_type": "display_data"
    },
    {
     "data": {
      "text/html": [
       "<pre>| 4       | 1.27s        | 3.49231           | 1.44857               | 0.0172633   |</pre>"
      ],
      "text/plain": [
       "| 4       | 1.27s        | 3.49231           | 1.44857               | 0.0172633   |"
      ]
     },
     "metadata": {},
     "output_type": "display_data"
    },
    {
     "data": {
      "text/html": [
       "<pre>| 5       | 1.44s        | 3.23666           | 1.37772               | 0.014603    |</pre>"
      ],
      "text/plain": [
       "| 5       | 1.44s        | 3.23666           | 1.37772               | 0.014603    |"
      ]
     },
     "metadata": {},
     "output_type": "display_data"
    },
    {
     "data": {
      "text/html": [
       "<pre>| 6       | 1.61s        | 2.99331           | 1.30381               | 0.0127367   |</pre>"
      ],
      "text/plain": [
       "| 6       | 1.61s        | 2.99331           | 1.30381               | 0.0127367   |"
      ]
     },
     "metadata": {},
     "output_type": "display_data"
    },
    {
     "data": {
      "text/html": [
       "<pre>| 9       | 2.12s        | 2.41746           | 1.11231               | 0.00939698  |</pre>"
      ],
      "text/plain": [
       "| 9       | 2.12s        | 2.41746           | 1.11231               | 0.00939698  |"
      ]
     },
     "metadata": {},
     "output_type": "display_data"
    },
    {
     "data": {
      "text/html": [
       "<pre>| 11      | 2.55s        | 2.16417           | 1.02324               | 0.00808399  |</pre>"
      ],
      "text/plain": [
       "| 11      | 2.55s        | 2.16417           | 1.02324               | 0.00808399  |"
      ]
     },
     "metadata": {},
     "output_type": "display_data"
    },
    {
     "data": {
      "text/html": [
       "<pre>| 19      | 3.90s        | 1.65251           | 0.836555              | 0.00536543  |</pre>"
      ],
      "text/plain": [
       "| 19      | 3.90s        | 1.65251           | 0.836555              | 0.00536543  |"
      ]
     },
     "metadata": {},
     "output_type": "display_data"
    },
    {
     "data": {
      "text/html": [
       "<pre>+---------+--------------+-------------------+-----------------------+-------------+</pre>"
      ],
      "text/plain": [
       "+---------+--------------+-------------------+-----------------------+-------------+"
      ]
     },
     "metadata": {},
     "output_type": "display_data"
    },
    {
     "data": {
      "text/html": [
       "<pre>Optimization Complete: Maximum number of passes through the data reached.</pre>"
      ],
      "text/plain": [
       "Optimization Complete: Maximum number of passes through the data reached."
      ]
     },
     "metadata": {},
     "output_type": "display_data"
    },
    {
     "data": {
      "text/html": [
       "<pre>Computing final objective value and training RMSE.</pre>"
      ],
      "text/plain": [
       "Computing final objective value and training RMSE."
      ]
     },
     "metadata": {},
     "output_type": "display_data"
    },
    {
     "data": {
      "text/html": [
       "<pre>       Final objective value: 1.39797</pre>"
      ],
      "text/plain": [
       "       Final objective value: 1.39797"
      ]
     },
     "metadata": {},
     "output_type": "display_data"
    },
    {
     "data": {
      "text/html": [
       "<pre>       Final training RMSE: 0.72241</pre>"
      ],
      "text/plain": [
       "       Final training RMSE: 0.72241"
      ]
     },
     "metadata": {},
     "output_type": "display_data"
    },
    {
     "data": {
      "text/html": [
       "<pre>Recsys training: model = factorization_recommender</pre>"
      ],
      "text/plain": [
       "Recsys training: model = factorization_recommender"
      ]
     },
     "metadata": {},
     "output_type": "display_data"
    },
    {
     "data": {
      "text/html": [
       "<pre>Preparing data set.</pre>"
      ],
      "text/plain": [
       "Preparing data set."
      ]
     },
     "metadata": {},
     "output_type": "display_data"
    },
    {
     "data": {
      "text/html": [
       "<pre>    Data has 433200 observations with 36335 users and 26096 items.</pre>"
      ],
      "text/plain": [
       "    Data has 433200 observations with 36335 users and 26096 items."
      ]
     },
     "metadata": {},
     "output_type": "display_data"
    },
    {
     "data": {
      "text/html": [
       "<pre>    Data prepared in: 0.302829s</pre>"
      ],
      "text/plain": [
       "    Data prepared in: 0.302829s"
      ]
     },
     "metadata": {},
     "output_type": "display_data"
    },
    {
     "data": {
      "text/html": [
       "<pre>Training factorization_recommender for recommendations.</pre>"
      ],
      "text/plain": [
       "Training factorization_recommender for recommendations."
      ]
     },
     "metadata": {},
     "output_type": "display_data"
    },
    {
     "data": {
      "text/html": [
       "<pre>+--------------------------------+--------------------------------------------------+----------+</pre>"
      ],
      "text/plain": [
       "+--------------------------------+--------------------------------------------------+----------+"
      ]
     },
     "metadata": {},
     "output_type": "display_data"
    },
    {
     "data": {
      "text/html": [
       "<pre>| Parameter                      | Description                                      | Value    |</pre>"
      ],
      "text/plain": [
       "| Parameter                      | Description                                      | Value    |"
      ]
     },
     "metadata": {},
     "output_type": "display_data"
    },
    {
     "data": {
      "text/html": [
       "<pre>+--------------------------------+--------------------------------------------------+----------+</pre>"
      ],
      "text/plain": [
       "+--------------------------------+--------------------------------------------------+----------+"
      ]
     },
     "metadata": {},
     "output_type": "display_data"
    },
    {
     "data": {
      "text/html": [
       "<pre>| num_factors                    | Factor Dimension                                 | 8        |</pre>"
      ],
      "text/plain": [
       "| num_factors                    | Factor Dimension                                 | 8        |"
      ]
     },
     "metadata": {},
     "output_type": "display_data"
    },
    {
     "data": {
      "text/html": [
       "<pre>| regularization                 | L2 Regularization on Factors                     | 1e-008   |</pre>"
      ],
      "text/plain": [
       "| regularization                 | L2 Regularization on Factors                     | 1e-008   |"
      ]
     },
     "metadata": {},
     "output_type": "display_data"
    },
    {
     "data": {
      "text/html": [
       "<pre>| solver                         | Solver used for training                         | adagrad  |</pre>"
      ],
      "text/plain": [
       "| solver                         | Solver used for training                         | adagrad  |"
      ]
     },
     "metadata": {},
     "output_type": "display_data"
    },
    {
     "data": {
      "text/html": [
       "<pre>| linear_regularization          | L2 Regularization on Linear Coefficients         | 1e-010   |</pre>"
      ],
      "text/plain": [
       "| linear_regularization          | L2 Regularization on Linear Coefficients         | 1e-010   |"
      ]
     },
     "metadata": {},
     "output_type": "display_data"
    },
    {
     "data": {
      "text/html": [
       "<pre>| side_data_factorization        | Assign Factors for Side Data                     | True     |</pre>"
      ],
      "text/plain": [
       "| side_data_factorization        | Assign Factors for Side Data                     | True     |"
      ]
     },
     "metadata": {},
     "output_type": "display_data"
    },
    {
     "data": {
      "text/html": [
       "<pre>| max_iterations                 | Maximum Number of Iterations                     | 50       |</pre>"
      ],
      "text/plain": [
       "| max_iterations                 | Maximum Number of Iterations                     | 50       |"
      ]
     },
     "metadata": {},
     "output_type": "display_data"
    },
    {
     "data": {
      "text/html": [
       "<pre>+--------------------------------+--------------------------------------------------+----------+</pre>"
      ],
      "text/plain": [
       "+--------------------------------+--------------------------------------------------+----------+"
      ]
     },
     "metadata": {},
     "output_type": "display_data"
    },
    {
     "data": {
      "text/html": [
       "<pre>  Optimizing model using SGD; tuning step size.</pre>"
      ],
      "text/plain": [
       "  Optimizing model using SGD; tuning step size."
      ]
     },
     "metadata": {},
     "output_type": "display_data"
    },
    {
     "data": {
      "text/html": [
       "<pre>  Using 54150 / 433200 points for tuning the step size.</pre>"
      ],
      "text/plain": [
       "  Using 54150 / 433200 points for tuning the step size."
      ]
     },
     "metadata": {},
     "output_type": "display_data"
    },
    {
     "data": {
      "text/html": [
       "<pre>+---------+-------------------+------------------------------------------+</pre>"
      ],
      "text/plain": [
       "+---------+-------------------+------------------------------------------+"
      ]
     },
     "metadata": {},
     "output_type": "display_data"
    },
    {
     "data": {
      "text/html": [
       "<pre>| Attempt | Initial Step Size | Estimated Objective Value                |</pre>"
      ],
      "text/plain": [
       "| Attempt | Initial Step Size | Estimated Objective Value                |"
      ]
     },
     "metadata": {},
     "output_type": "display_data"
    },
    {
     "data": {
      "text/html": [
       "<pre>+---------+-------------------+------------------------------------------+</pre>"
      ],
      "text/plain": [
       "+---------+-------------------+------------------------------------------+"
      ]
     },
     "metadata": {},
     "output_type": "display_data"
    },
    {
     "data": {
      "text/html": [
       "<pre>| 0       | 1.66667           | Not Viable                               |</pre>"
      ],
      "text/plain": [
       "| 0       | 1.66667           | Not Viable                               |"
      ]
     },
     "metadata": {},
     "output_type": "display_data"
    },
    {
     "data": {
      "text/html": [
       "<pre>| 1       | 0.416667          | Not Viable                               |</pre>"
      ],
      "text/plain": [
       "| 1       | 0.416667          | Not Viable                               |"
      ]
     },
     "metadata": {},
     "output_type": "display_data"
    },
    {
     "data": {
      "text/html": [
       "<pre>| 2       | 0.104167          | Not Viable                               |</pre>"
      ],
      "text/plain": [
       "| 2       | 0.104167          | Not Viable                               |"
      ]
     },
     "metadata": {},
     "output_type": "display_data"
    },
    {
     "data": {
      "text/html": [
       "<pre>| 3       | 0.0260417         | Not Viable                               |</pre>"
      ],
      "text/plain": [
       "| 3       | 0.0260417         | Not Viable                               |"
      ]
     },
     "metadata": {},
     "output_type": "display_data"
    },
    {
     "data": {
      "text/html": [
       "<pre>| 4       | 0.00651042        | Not Viable                               |</pre>"
      ],
      "text/plain": [
       "| 4       | 0.00651042        | Not Viable                               |"
      ]
     },
     "metadata": {},
     "output_type": "display_data"
    },
    {
     "data": {
      "text/html": [
       "<pre>| 5       | 0.0016276         | 3.26448                                  |</pre>"
      ],
      "text/plain": [
       "| 5       | 0.0016276         | 3.26448                                  |"
      ]
     },
     "metadata": {},
     "output_type": "display_data"
    },
    {
     "data": {
      "text/html": [
       "<pre>| 6       | 0.000813802       | 3.33527                                  |</pre>"
      ],
      "text/plain": [
       "| 6       | 0.000813802       | 3.33527                                  |"
      ]
     },
     "metadata": {},
     "output_type": "display_data"
    },
    {
     "data": {
      "text/html": [
       "<pre>| 7       | 0.000406901       | 3.37662                                  |</pre>"
      ],
      "text/plain": [
       "| 7       | 0.000406901       | 3.37662                                  |"
      ]
     },
     "metadata": {},
     "output_type": "display_data"
    },
    {
     "data": {
      "text/html": [
       "<pre>| 8       | 0.000203451       | 3.39738                                  |</pre>"
      ],
      "text/plain": [
       "| 8       | 0.000203451       | 3.39738                                  |"
      ]
     },
     "metadata": {},
     "output_type": "display_data"
    },
    {
     "data": {
      "text/html": [
       "<pre>+---------+-------------------+------------------------------------------+</pre>"
      ],
      "text/plain": [
       "+---------+-------------------+------------------------------------------+"
      ]
     },
     "metadata": {},
     "output_type": "display_data"
    },
    {
     "data": {
      "text/html": [
       "<pre>| Final   | 0.0016276         | 3.26448                                  |</pre>"
      ],
      "text/plain": [
       "| Final   | 0.0016276         | 3.26448                                  |"
      ]
     },
     "metadata": {},
     "output_type": "display_data"
    },
    {
     "data": {
      "text/html": [
       "<pre>+---------+-------------------+------------------------------------------+</pre>"
      ],
      "text/plain": [
       "+---------+-------------------+------------------------------------------+"
      ]
     },
     "metadata": {},
     "output_type": "display_data"
    },
    {
     "data": {
      "text/html": [
       "<pre>Starting Optimization.</pre>"
      ],
      "text/plain": [
       "Starting Optimization."
      ]
     },
     "metadata": {},
     "output_type": "display_data"
    },
    {
     "data": {
      "text/html": [
       "<pre>+---------+--------------+-------------------+-----------------------+-------------+</pre>"
      ],
      "text/plain": [
       "+---------+--------------+-------------------+-----------------------+-------------+"
      ]
     },
     "metadata": {},
     "output_type": "display_data"
    },
    {
     "data": {
      "text/html": [
       "<pre>| Iter.   | Elapsed Time | Approx. Objective | Approx. Training RMSE | Step Size   |</pre>"
      ],
      "text/plain": [
       "| Iter.   | Elapsed Time | Approx. Objective | Approx. Training RMSE | Step Size   |"
      ]
     },
     "metadata": {},
     "output_type": "display_data"
    },
    {
     "data": {
      "text/html": [
       "<pre>+---------+--------------+-------------------+-----------------------+-------------+</pre>"
      ],
      "text/plain": [
       "+---------+--------------+-------------------+-----------------------+-------------+"
      ]
     },
     "metadata": {},
     "output_type": "display_data"
    },
    {
     "data": {
      "text/html": [
       "<pre>| Initial | 0us          | 3.43154           | 1.85244               |             |</pre>"
      ],
      "text/plain": [
       "| Initial | 0us          | 3.43154           | 1.85244               |             |"
      ]
     },
     "metadata": {},
     "output_type": "display_data"
    },
    {
     "data": {
      "text/html": [
       "<pre>+---------+--------------+-------------------+-----------------------+-------------+</pre>"
      ],
      "text/plain": [
       "+---------+--------------+-------------------+-----------------------+-------------+"
      ]
     },
     "metadata": {},
     "output_type": "display_data"
    },
    {
     "data": {
      "text/html": [
       "<pre>| 1       | 596.085ms    | 3.30987           | 1.81931               | 0.0016276   |</pre>"
      ],
      "text/plain": [
       "| 1       | 596.085ms    | 3.30987           | 1.81931               | 0.0016276   |"
      ]
     },
     "metadata": {},
     "output_type": "display_data"
    },
    {
     "data": {
      "text/html": [
       "<pre>| 2       | 1.18s        | 3.22004           | 1.79445               | 0.0016276   |</pre>"
      ],
      "text/plain": [
       "| 2       | 1.18s        | 3.22004           | 1.79445               | 0.0016276   |"
      ]
     },
     "metadata": {},
     "output_type": "display_data"
    },
    {
     "data": {
      "text/html": [
       "<pre>| 3       | 1.77s        | 3.16549           | 1.77918               | 0.0016276   |</pre>"
      ],
      "text/plain": [
       "| 3       | 1.77s        | 3.16549           | 1.77918               | 0.0016276   |"
      ]
     },
     "metadata": {},
     "output_type": "display_data"
    },
    {
     "data": {
      "text/html": [
       "<pre>| 4       | 2.36s        | 3.13222           | 1.76981               | 0.0016276   |</pre>"
      ],
      "text/plain": [
       "| 4       | 2.36s        | 3.13222           | 1.76981               | 0.0016276   |"
      ]
     },
     "metadata": {},
     "output_type": "display_data"
    },
    {
     "data": {
      "text/html": [
       "<pre>| 5       | 2.94s        | 3.20141           | 1.78925               | 0.0016276   |</pre>"
      ],
      "text/plain": [
       "| 5       | 2.94s        | 3.20141           | 1.78925               | 0.0016276   |"
      ]
     },
     "metadata": {},
     "output_type": "display_data"
    },
    {
     "data": {
      "text/html": [
       "<pre>| 6       | 3.60s        | DIVERGED          | DIVERGED              | 0.0016276   |</pre>"
      ],
      "text/plain": [
       "| 6       | 3.60s        | DIVERGED          | DIVERGED              | 0.0016276   |"
      ]
     },
     "metadata": {},
     "output_type": "display_data"
    },
    {
     "data": {
      "text/html": [
       "<pre>| RESET   | 3.68s        | 3.43154           | 1.85244               |             |</pre>"
      ],
      "text/plain": [
       "| RESET   | 3.68s        | 3.43154           | 1.85244               |             |"
      ]
     },
     "metadata": {},
     "output_type": "display_data"
    },
    {
     "data": {
      "text/html": [
       "<pre>| 1       | 4.26s        | 3.36871           | 1.83541               | 0.000813802 |</pre>"
      ],
      "text/plain": [
       "| 1       | 4.26s        | 3.36871           | 1.83541               | 0.000813802 |"
      ]
     },
     "metadata": {},
     "output_type": "display_data"
    },
    {
     "data": {
      "text/html": [
       "<pre>| 4       | 6.03s        | 3.26567           | 1.80712               | 0.000813802 |</pre>"
      ],
      "text/plain": [
       "| 4       | 6.03s        | 3.26567           | 1.80712               | 0.000813802 |"
      ]
     },
     "metadata": {},
     "output_type": "display_data"
    },
    {
     "data": {
      "text/html": [
       "<pre>| 6       | 7.20s        | 3.26219           | 1.80615               | 0.000813802 |</pre>"
      ],
      "text/plain": [
       "| 6       | 7.20s        | 3.26219           | 1.80615               | 0.000813802 |"
      ]
     },
     "metadata": {},
     "output_type": "display_data"
    },
    {
     "data": {
      "text/html": [
       "<pre>| 9       | 8.97s        | 5.2278            | 2.28644               | 0.000813802 |</pre>"
      ],
      "text/plain": [
       "| 9       | 8.97s        | 5.2278            | 2.28644               | 0.000813802 |"
      ]
     },
     "metadata": {},
     "output_type": "display_data"
    },
    {
     "data": {
      "text/html": [
       "<pre>| 10      | 9.63s        | DIVERGED          | DIVERGED              | 0.000813802 |</pre>"
      ],
      "text/plain": [
       "| 10      | 9.63s        | DIVERGED          | DIVERGED              | 0.000813802 |"
      ]
     },
     "metadata": {},
     "output_type": "display_data"
    },
    {
     "data": {
      "text/html": [
       "<pre>| RESET   | 9.71s        | 3.4314            | 1.8524                |             |</pre>"
      ],
      "text/plain": [
       "| RESET   | 9.71s        | 3.4314            | 1.8524                |             |"
      ]
     },
     "metadata": {},
     "output_type": "display_data"
    },
    {
     "data": {
      "text/html": [
       "<pre>| 4       | 12.05s       | 3.34238           | 1.82822               | 0.000406901 |</pre>"
      ],
      "text/plain": [
       "| 4       | 12.05s       | 3.34238           | 1.82822               | 0.000406901 |"
      ]
     },
     "metadata": {},
     "output_type": "display_data"
    },
    {
     "data": {
      "text/html": [
       "<pre>| 9       | 15.00s       | 3.30019           | 1.81664               | 0.000406901 |</pre>"
      ],
      "text/plain": [
       "| 9       | 15.00s       | 3.30019           | 1.81664               | 0.000406901 |"
      ]
     },
     "metadata": {},
     "output_type": "display_data"
    },
    {
     "data": {
      "text/html": [
       "<pre>| 14      | 17.93s       | 3.26905           | 1.80805               | 0.000406901 |</pre>"
      ],
      "text/plain": [
       "| 14      | 17.93s       | 3.26905           | 1.80805               | 0.000406901 |"
      ]
     },
     "metadata": {},
     "output_type": "display_data"
    },
    {
     "data": {
      "text/html": [
       "<pre>| 19      | 20.87s       | 3.24078           | 1.80022               | 0.000406901 |</pre>"
      ],
      "text/plain": [
       "| 19      | 20.87s       | 3.24078           | 1.80022               | 0.000406901 |"
      ]
     },
     "metadata": {},
     "output_type": "display_data"
    },
    {
     "data": {
      "text/html": [
       "<pre>| 24      | 23.81s       | 3.21367           | 1.79267               | 0.000406901 |</pre>"
      ],
      "text/plain": [
       "| 24      | 23.81s       | 3.21367           | 1.79267               | 0.000406901 |"
      ]
     },
     "metadata": {},
     "output_type": "display_data"
    },
    {
     "data": {
      "text/html": [
       "<pre>| 29      | 26.74s       | 3.18788           | 1.78546               | 0.000406901 |</pre>"
      ],
      "text/plain": [
       "| 29      | 26.74s       | 3.18788           | 1.78546               | 0.000406901 |"
      ]
     },
     "metadata": {},
     "output_type": "display_data"
    },
    {
     "data": {
      "text/html": [
       "<pre>| 34      | 29.68s       | 3.16361           | 1.77865               | 0.000406901 |</pre>"
      ],
      "text/plain": [
       "| 34      | 29.68s       | 3.16361           | 1.77865               | 0.000406901 |"
      ]
     },
     "metadata": {},
     "output_type": "display_data"
    },
    {
     "data": {
      "text/html": [
       "<pre>| 37      | 31.43s       | 3.14989           | 1.77479               | 0.000406901 |</pre>"
      ],
      "text/plain": [
       "| 37      | 31.43s       | 3.14989           | 1.77479               | 0.000406901 |"
      ]
     },
     "metadata": {},
     "output_type": "display_data"
    },
    {
     "data": {
      "text/html": [
       "<pre>| 39      | 32.60s       | 3.14109           | 1.77231               | 0.000406901 |</pre>"
      ],
      "text/plain": [
       "| 39      | 32.60s       | 3.14109           | 1.77231               | 0.000406901 |"
      ]
     },
     "metadata": {},
     "output_type": "display_data"
    },
    {
     "data": {
      "text/html": [
       "<pre>+---------+--------------+-------------------+-----------------------+-------------+</pre>"
      ],
      "text/plain": [
       "+---------+--------------+-------------------+-----------------------+-------------+"
      ]
     },
     "metadata": {},
     "output_type": "display_data"
    },
    {
     "data": {
      "text/html": [
       "<pre>Optimization Complete: Maximum number of passes through the data reached (hard limit).</pre>"
      ],
      "text/plain": [
       "Optimization Complete: Maximum number of passes through the data reached (hard limit)."
      ]
     },
     "metadata": {},
     "output_type": "display_data"
    },
    {
     "data": {
      "text/html": [
       "<pre>Computing final objective value and training RMSE.</pre>"
      ],
      "text/plain": [
       "Computing final objective value and training RMSE."
      ]
     },
     "metadata": {},
     "output_type": "display_data"
    },
    {
     "data": {
      "text/html": [
       "<pre>       Final objective value: 3.13887</pre>"
      ],
      "text/plain": [
       "       Final objective value: 3.13887"
      ]
     },
     "metadata": {},
     "output_type": "display_data"
    },
    {
     "data": {
      "text/html": [
       "<pre>       Final training RMSE: 1.77168</pre>"
      ],
      "text/plain": [
       "       Final training RMSE: 1.77168"
      ]
     },
     "metadata": {},
     "output_type": "display_data"
    },
    {
     "data": {
      "text/html": [
       "<pre>Recsys training: model = factorization_recommender</pre>"
      ],
      "text/plain": [
       "Recsys training: model = factorization_recommender"
      ]
     },
     "metadata": {},
     "output_type": "display_data"
    },
    {
     "data": {
      "text/html": [
       "<pre>Preparing data set.</pre>"
      ],
      "text/plain": [
       "Preparing data set."
      ]
     },
     "metadata": {},
     "output_type": "display_data"
    },
    {
     "data": {
      "text/html": [
       "<pre>    Data has 433200 observations with 36335 users and 26099 items.</pre>"
      ],
      "text/plain": [
       "    Data has 433200 observations with 36335 users and 26099 items."
      ]
     },
     "metadata": {},
     "output_type": "display_data"
    },
    {
     "data": {
      "text/html": [
       "<pre>    Data prepared in: 0.248223s</pre>"
      ],
      "text/plain": [
       "    Data prepared in: 0.248223s"
      ]
     },
     "metadata": {},
     "output_type": "display_data"
    },
    {
     "data": {
      "text/html": [
       "<pre>Training factorization_recommender for recommendations.</pre>"
      ],
      "text/plain": [
       "Training factorization_recommender for recommendations."
      ]
     },
     "metadata": {},
     "output_type": "display_data"
    },
    {
     "data": {
      "text/html": [
       "<pre>+--------------------------------+--------------------------------------------------+----------+</pre>"
      ],
      "text/plain": [
       "+--------------------------------+--------------------------------------------------+----------+"
      ]
     },
     "metadata": {},
     "output_type": "display_data"
    },
    {
     "data": {
      "text/html": [
       "<pre>| Parameter                      | Description                                      | Value    |</pre>"
      ],
      "text/plain": [
       "| Parameter                      | Description                                      | Value    |"
      ]
     },
     "metadata": {},
     "output_type": "display_data"
    },
    {
     "data": {
      "text/html": [
       "<pre>+--------------------------------+--------------------------------------------------+----------+</pre>"
      ],
      "text/plain": [
       "+--------------------------------+--------------------------------------------------+----------+"
      ]
     },
     "metadata": {},
     "output_type": "display_data"
    },
    {
     "data": {
      "text/html": [
       "<pre>| num_factors                    | Factor Dimension                                 | 8        |</pre>"
      ],
      "text/plain": [
       "| num_factors                    | Factor Dimension                                 | 8        |"
      ]
     },
     "metadata": {},
     "output_type": "display_data"
    },
    {
     "data": {
      "text/html": [
       "<pre>| regularization                 | L2 Regularization on Factors                     | 1e-008   |</pre>"
      ],
      "text/plain": [
       "| regularization                 | L2 Regularization on Factors                     | 1e-008   |"
      ]
     },
     "metadata": {},
     "output_type": "display_data"
    },
    {
     "data": {
      "text/html": [
       "<pre>| solver                         | Solver used for training                         | adagrad  |</pre>"
      ],
      "text/plain": [
       "| solver                         | Solver used for training                         | adagrad  |"
      ]
     },
     "metadata": {},
     "output_type": "display_data"
    },
    {
     "data": {
      "text/html": [
       "<pre>| linear_regularization          | L2 Regularization on Linear Coefficients         | 1e-010   |</pre>"
      ],
      "text/plain": [
       "| linear_regularization          | L2 Regularization on Linear Coefficients         | 1e-010   |"
      ]
     },
     "metadata": {},
     "output_type": "display_data"
    },
    {
     "data": {
      "text/html": [
       "<pre>| side_data_factorization        | Assign Factors for Side Data                     | True     |</pre>"
      ],
      "text/plain": [
       "| side_data_factorization        | Assign Factors for Side Data                     | True     |"
      ]
     },
     "metadata": {},
     "output_type": "display_data"
    },
    {
     "data": {
      "text/html": [
       "<pre>| max_iterations                 | Maximum Number of Iterations                     | 50       |</pre>"
      ],
      "text/plain": [
       "| max_iterations                 | Maximum Number of Iterations                     | 50       |"
      ]
     },
     "metadata": {},
     "output_type": "display_data"
    },
    {
     "data": {
      "text/html": [
       "<pre>+--------------------------------+--------------------------------------------------+----------+</pre>"
      ],
      "text/plain": [
       "+--------------------------------+--------------------------------------------------+----------+"
      ]
     },
     "metadata": {},
     "output_type": "display_data"
    },
    {
     "data": {
      "text/html": [
       "<pre>  Optimizing model using SGD; tuning step size.</pre>"
      ],
      "text/plain": [
       "  Optimizing model using SGD; tuning step size."
      ]
     },
     "metadata": {},
     "output_type": "display_data"
    },
    {
     "data": {
      "text/html": [
       "<pre>  Using 54150 / 433200 points for tuning the step size.</pre>"
      ],
      "text/plain": [
       "  Using 54150 / 433200 points for tuning the step size."
      ]
     },
     "metadata": {},
     "output_type": "display_data"
    },
    {
     "data": {
      "text/html": [
       "<pre>+---------+-------------------+------------------------------------------+</pre>"
      ],
      "text/plain": [
       "+---------+-------------------+------------------------------------------+"
      ]
     },
     "metadata": {},
     "output_type": "display_data"
    },
    {
     "data": {
      "text/html": [
       "<pre>| Attempt | Initial Step Size | Estimated Objective Value                |</pre>"
      ],
      "text/plain": [
       "| Attempt | Initial Step Size | Estimated Objective Value                |"
      ]
     },
     "metadata": {},
     "output_type": "display_data"
    },
    {
     "data": {
      "text/html": [
       "<pre>+---------+-------------------+------------------------------------------+</pre>"
      ],
      "text/plain": [
       "+---------+-------------------+------------------------------------------+"
      ]
     },
     "metadata": {},
     "output_type": "display_data"
    },
    {
     "data": {
      "text/html": [
       "<pre>| 0       | 7.14286           | Not Viable                               |</pre>"
      ],
      "text/plain": [
       "| 0       | 7.14286           | Not Viable                               |"
      ]
     },
     "metadata": {},
     "output_type": "display_data"
    },
    {
     "data": {
      "text/html": [
       "<pre>| 1       | 1.78571           | Not Viable                               |</pre>"
      ],
      "text/plain": [
       "| 1       | 1.78571           | Not Viable                               |"
      ]
     },
     "metadata": {},
     "output_type": "display_data"
    },
    {
     "data": {
      "text/html": [
       "<pre>| 2       | 0.446429          | 0.184396                                 |</pre>"
      ],
      "text/plain": [
       "| 2       | 0.446429          | 0.184396                                 |"
      ]
     },
     "metadata": {},
     "output_type": "display_data"
    },
    {
     "data": {
      "text/html": [
       "<pre>| 3       | 0.223214          | 0.297079                                 |</pre>"
      ],
      "text/plain": [
       "| 3       | 0.223214          | 0.297079                                 |"
      ]
     },
     "metadata": {},
     "output_type": "display_data"
    },
    {
     "data": {
      "text/html": [
       "<pre>| 4       | 0.111607          | 1.01449                                  |</pre>"
      ],
      "text/plain": [
       "| 4       | 0.111607          | 1.01449                                  |"
      ]
     },
     "metadata": {},
     "output_type": "display_data"
    },
    {
     "data": {
      "text/html": [
       "<pre>+---------+-------------------+------------------------------------------+</pre>"
      ],
      "text/plain": [
       "+---------+-------------------+------------------------------------------+"
      ]
     },
     "metadata": {},
     "output_type": "display_data"
    },
    {
     "data": {
      "text/html": [
       "<pre>| Final   | 0.446429          | 0.184396                                 |</pre>"
      ],
      "text/plain": [
       "| Final   | 0.446429          | 0.184396                                 |"
      ]
     },
     "metadata": {},
     "output_type": "display_data"
    },
    {
     "data": {
      "text/html": [
       "<pre>+---------+-------------------+------------------------------------------+</pre>"
      ],
      "text/plain": [
       "+---------+-------------------+------------------------------------------+"
      ]
     },
     "metadata": {},
     "output_type": "display_data"
    },
    {
     "data": {
      "text/html": [
       "<pre>Starting Optimization.</pre>"
      ],
      "text/plain": [
       "Starting Optimization."
      ]
     },
     "metadata": {},
     "output_type": "display_data"
    },
    {
     "data": {
      "text/html": [
       "<pre>+---------+--------------+-------------------+-----------------------+-------------+</pre>"
      ],
      "text/plain": [
       "+---------+--------------+-------------------+-----------------------+-------------+"
      ]
     },
     "metadata": {},
     "output_type": "display_data"
    },
    {
     "data": {
      "text/html": [
       "<pre>| Iter.   | Elapsed Time | Approx. Objective | Approx. Training RMSE | Step Size   |</pre>"
      ],
      "text/plain": [
       "| Iter.   | Elapsed Time | Approx. Objective | Approx. Training RMSE | Step Size   |"
      ]
     },
     "metadata": {},
     "output_type": "display_data"
    },
    {
     "data": {
      "text/html": [
       "<pre>+---------+--------------+-------------------+-----------------------+-------------+</pre>"
      ],
      "text/plain": [
       "+---------+--------------+-------------------+-----------------------+-------------+"
      ]
     },
     "metadata": {},
     "output_type": "display_data"
    },
    {
     "data": {
      "text/html": [
       "<pre>| Initial | 0us          | 3.43162           | 1.85246               |             |</pre>"
      ],
      "text/plain": [
       "| Initial | 0us          | 3.43162           | 1.85246               |             |"
      ]
     },
     "metadata": {},
     "output_type": "display_data"
    },
    {
     "data": {
      "text/html": [
       "<pre>+---------+--------------+-------------------+-----------------------+-------------+</pre>"
      ],
      "text/plain": [
       "+---------+--------------+-------------------+-----------------------+-------------+"
      ]
     },
     "metadata": {},
     "output_type": "display_data"
    },
    {
     "data": {
      "text/html": [
       "<pre>| 1       | 196.522ms    | 2.48309           | 1.57535               | 0.446429    |</pre>"
      ],
      "text/plain": [
       "| 1       | 196.522ms    | 2.48309           | 1.57535               | 0.446429    |"
      ]
     },
     "metadata": {},
     "output_type": "display_data"
    },
    {
     "data": {
      "text/html": [
       "<pre>| 2       | 395.05ms     | 1.63586           | 1.27853               | 0.446429    |</pre>"
      ],
      "text/plain": [
       "| 2       | 395.05ms     | 1.63586           | 1.27853               | 0.446429    |"
      ]
     },
     "metadata": {},
     "output_type": "display_data"
    },
    {
     "data": {
      "text/html": [
       "<pre>| 3       | 601.6ms      | 1.33347           | 1.15422               | 0.446429    |</pre>"
      ],
      "text/plain": [
       "| 3       | 601.6ms      | 1.33347           | 1.15422               | 0.446429    |"
      ]
     },
     "metadata": {},
     "output_type": "display_data"
    },
    {
     "data": {
      "text/html": [
       "<pre>| 4       | 799.125ms    | 1.19898           | 1.09439               | 0.446429    |</pre>"
      ],
      "text/plain": [
       "| 4       | 799.125ms    | 1.19898           | 1.09439               | 0.446429    |"
      ]
     },
     "metadata": {},
     "output_type": "display_data"
    },
    {
     "data": {
      "text/html": [
       "<pre>| 5       | 996.65ms     | 1.1138            | 1.05474               | 0.446429    |</pre>"
      ],
      "text/plain": [
       "| 5       | 996.65ms     | 1.1138            | 1.05474               | 0.446429    |"
      ]
     },
     "metadata": {},
     "output_type": "display_data"
    },
    {
     "data": {
      "text/html": [
       "<pre>| 6       | 1.19s        | 1.05809           | 1.02797               | 0.446429    |</pre>"
      ],
      "text/plain": [
       "| 6       | 1.19s        | 1.05809           | 1.02797               | 0.446429    |"
      ]
     },
     "metadata": {},
     "output_type": "display_data"
    },
    {
     "data": {
      "text/html": [
       "<pre>| 10      | 1.98s        | 0.942237          | 0.969942              | 0.446429    |</pre>"
      ],
      "text/plain": [
       "| 10      | 1.98s        | 0.942237          | 0.969942              | 0.446429    |"
      ]
     },
     "metadata": {},
     "output_type": "display_data"
    },
    {
     "data": {
      "text/html": [
       "<pre>| 11      | 2.17s        | 0.926087          | 0.961572              | 0.446429    |</pre>"
      ],
      "text/plain": [
       "| 11      | 2.17s        | 0.926087          | 0.961572              | 0.446429    |"
      ]
     },
     "metadata": {},
     "output_type": "display_data"
    },
    {
     "data": {
      "text/html": [
       "<pre>| 15      | 2.96s        | 0.881572          | 0.93811               | 0.446429    |</pre>"
      ],
      "text/plain": [
       "| 15      | 2.96s        | 0.881572          | 0.93811               | 0.446429    |"
      ]
     },
     "metadata": {},
     "output_type": "display_data"
    },
    {
     "data": {
      "text/html": [
       "<pre>| 20      | 3.94s        | 0.849041          | 0.920578              | 0.446429    |</pre>"
      ],
      "text/plain": [
       "| 20      | 3.94s        | 0.849041          | 0.920578              | 0.446429    |"
      ]
     },
     "metadata": {},
     "output_type": "display_data"
    },
    {
     "data": {
      "text/html": [
       "<pre>| 25      | 4.92s        | 0.830724          | 0.91055               | 0.446429    |</pre>"
      ],
      "text/plain": [
       "| 25      | 4.92s        | 0.830724          | 0.91055               | 0.446429    |"
      ]
     },
     "metadata": {},
     "output_type": "display_data"
    },
    {
     "data": {
      "text/html": [
       "<pre>| 30      | 5.90s        | 0.812621          | 0.900536              | 0.446429    |</pre>"
      ],
      "text/plain": [
       "| 30      | 5.90s        | 0.812621          | 0.900536              | 0.446429    |"
      ]
     },
     "metadata": {},
     "output_type": "display_data"
    },
    {
     "data": {
      "text/html": [
       "<pre>| 35      | 6.88s        | 0.800997          | 0.894041              | 0.446429    |</pre>"
      ],
      "text/plain": [
       "| 35      | 6.88s        | 0.800997          | 0.894041              | 0.446429    |"
      ]
     },
     "metadata": {},
     "output_type": "display_data"
    },
    {
     "data": {
      "text/html": [
       "<pre>| 40      | 7.86s        | 0.793545          | 0.889848              | 0.446429    |</pre>"
      ],
      "text/plain": [
       "| 40      | 7.86s        | 0.793545          | 0.889848              | 0.446429    |"
      ]
     },
     "metadata": {},
     "output_type": "display_data"
    },
    {
     "data": {
      "text/html": [
       "<pre>| 45      | 8.90s        | 0.784985          | 0.885011              | 0.446429    |</pre>"
      ],
      "text/plain": [
       "| 45      | 8.90s        | 0.784985          | 0.885011              | 0.446429    |"
      ]
     },
     "metadata": {},
     "output_type": "display_data"
    },
    {
     "data": {
      "text/html": [
       "<pre>| 50      | 9.93s        | 0.777782          | 0.88092               | 0.446429    |</pre>"
      ],
      "text/plain": [
       "| 50      | 9.93s        | 0.777782          | 0.88092               | 0.446429    |"
      ]
     },
     "metadata": {},
     "output_type": "display_data"
    },
    {
     "data": {
      "text/html": [
       "<pre>+---------+--------------+-------------------+-----------------------+-------------+</pre>"
      ],
      "text/plain": [
       "+---------+--------------+-------------------+-----------------------+-------------+"
      ]
     },
     "metadata": {},
     "output_type": "display_data"
    },
    {
     "data": {
      "text/html": [
       "<pre>Optimization Complete: Maximum number of passes through the data reached.</pre>"
      ],
      "text/plain": [
       "Optimization Complete: Maximum number of passes through the data reached."
      ]
     },
     "metadata": {},
     "output_type": "display_data"
    },
    {
     "data": {
      "text/html": [
       "<pre>Computing final objective value and training RMSE.</pre>"
      ],
      "text/plain": [
       "Computing final objective value and training RMSE."
      ]
     },
     "metadata": {},
     "output_type": "display_data"
    },
    {
     "data": {
      "text/html": [
       "<pre>       Final objective value: 0.733168</pre>"
      ],
      "text/plain": [
       "       Final objective value: 0.733168"
      ]
     },
     "metadata": {},
     "output_type": "display_data"
    },
    {
     "data": {
      "text/html": [
       "<pre>       Final training RMSE: 0.855223</pre>"
      ],
      "text/plain": [
       "       Final training RMSE: 0.855223"
      ]
     },
     "metadata": {},
     "output_type": "display_data"
    },
    {
     "data": {
      "text/html": [
       "<pre>Recsys training: model = factorization_recommender</pre>"
      ],
      "text/plain": [
       "Recsys training: model = factorization_recommender"
      ]
     },
     "metadata": {},
     "output_type": "display_data"
    },
    {
     "data": {
      "text/html": [
       "<pre>Preparing data set.</pre>"
      ],
      "text/plain": [
       "Preparing data set."
      ]
     },
     "metadata": {},
     "output_type": "display_data"
    },
    {
     "data": {
      "text/html": [
       "<pre>    Data has 433200 observations with 36335 users and 26093 items.</pre>"
      ],
      "text/plain": [
       "    Data has 433200 observations with 36335 users and 26093 items."
      ]
     },
     "metadata": {},
     "output_type": "display_data"
    },
    {
     "data": {
      "text/html": [
       "<pre>    Data prepared in: 0.346922s</pre>"
      ],
      "text/plain": [
       "    Data prepared in: 0.346922s"
      ]
     },
     "metadata": {},
     "output_type": "display_data"
    },
    {
     "data": {
      "text/html": [
       "<pre>Training factorization_recommender for recommendations.</pre>"
      ],
      "text/plain": [
       "Training factorization_recommender for recommendations."
      ]
     },
     "metadata": {},
     "output_type": "display_data"
    },
    {
     "data": {
      "text/html": [
       "<pre>+--------------------------------+--------------------------------------------------+----------+</pre>"
      ],
      "text/plain": [
       "+--------------------------------+--------------------------------------------------+----------+"
      ]
     },
     "metadata": {},
     "output_type": "display_data"
    },
    {
     "data": {
      "text/html": [
       "<pre>| Parameter                      | Description                                      | Value    |</pre>"
      ],
      "text/plain": [
       "| Parameter                      | Description                                      | Value    |"
      ]
     },
     "metadata": {},
     "output_type": "display_data"
    },
    {
     "data": {
      "text/html": [
       "<pre>+--------------------------------+--------------------------------------------------+----------+</pre>"
      ],
      "text/plain": [
       "+--------------------------------+--------------------------------------------------+----------+"
      ]
     },
     "metadata": {},
     "output_type": "display_data"
    },
    {
     "data": {
      "text/html": [
       "<pre>| num_factors                    | Factor Dimension                                 | 8        |</pre>"
      ],
      "text/plain": [
       "| num_factors                    | Factor Dimension                                 | 8        |"
      ]
     },
     "metadata": {},
     "output_type": "display_data"
    },
    {
     "data": {
      "text/html": [
       "<pre>| regularization                 | L2 Regularization on Factors                     | 1e-008   |</pre>"
      ],
      "text/plain": [
       "| regularization                 | L2 Regularization on Factors                     | 1e-008   |"
      ]
     },
     "metadata": {},
     "output_type": "display_data"
    },
    {
     "data": {
      "text/html": [
       "<pre>| solver                         | Solver used for training                         | adagrad  |</pre>"
      ],
      "text/plain": [
       "| solver                         | Solver used for training                         | adagrad  |"
      ]
     },
     "metadata": {},
     "output_type": "display_data"
    },
    {
     "data": {
      "text/html": [
       "<pre>| linear_regularization          | L2 Regularization on Linear Coefficients         | 1e-010   |</pre>"
      ],
      "text/plain": [
       "| linear_regularization          | L2 Regularization on Linear Coefficients         | 1e-010   |"
      ]
     },
     "metadata": {},
     "output_type": "display_data"
    },
    {
     "data": {
      "text/html": [
       "<pre>| side_data_factorization        | Assign Factors for Side Data                     | True     |</pre>"
      ],
      "text/plain": [
       "| side_data_factorization        | Assign Factors for Side Data                     | True     |"
      ]
     },
     "metadata": {},
     "output_type": "display_data"
    },
    {
     "data": {
      "text/html": [
       "<pre>| max_iterations                 | Maximum Number of Iterations                     | 50       |</pre>"
      ],
      "text/plain": [
       "| max_iterations                 | Maximum Number of Iterations                     | 50       |"
      ]
     },
     "metadata": {},
     "output_type": "display_data"
    },
    {
     "data": {
      "text/html": [
       "<pre>+--------------------------------+--------------------------------------------------+----------+</pre>"
      ],
      "text/plain": [
       "+--------------------------------+--------------------------------------------------+----------+"
      ]
     },
     "metadata": {},
     "output_type": "display_data"
    },
    {
     "data": {
      "text/html": [
       "<pre>  Optimizing model using SGD; tuning step size.</pre>"
      ],
      "text/plain": [
       "  Optimizing model using SGD; tuning step size."
      ]
     },
     "metadata": {},
     "output_type": "display_data"
    },
    {
     "data": {
      "text/html": [
       "<pre>  Using 54150 / 433200 points for tuning the step size.</pre>"
      ],
      "text/plain": [
       "  Using 54150 / 433200 points for tuning the step size."
      ]
     },
     "metadata": {},
     "output_type": "display_data"
    },
    {
     "data": {
      "text/html": [
       "<pre>+---------+-------------------+------------------------------------------+</pre>"
      ],
      "text/plain": [
       "+---------+-------------------+------------------------------------------+"
      ]
     },
     "metadata": {},
     "output_type": "display_data"
    },
    {
     "data": {
      "text/html": [
       "<pre>| Attempt | Initial Step Size | Estimated Objective Value                |</pre>"
      ],
      "text/plain": [
       "| Attempt | Initial Step Size | Estimated Objective Value                |"
      ]
     },
     "metadata": {},
     "output_type": "display_data"
    },
    {
     "data": {
      "text/html": [
       "<pre>+---------+-------------------+------------------------------------------+</pre>"
      ],
      "text/plain": [
       "+---------+-------------------+------------------------------------------+"
      ]
     },
     "metadata": {},
     "output_type": "display_data"
    },
    {
     "data": {
      "text/html": [
       "<pre>| 0       | 1.42857           | Not Viable                               |</pre>"
      ],
      "text/plain": [
       "| 0       | 1.42857           | Not Viable                               |"
      ]
     },
     "metadata": {},
     "output_type": "display_data"
    },
    {
     "data": {
      "text/html": [
       "<pre>| 1       | 0.357143          | 0.24601                                  |</pre>"
      ],
      "text/plain": [
       "| 1       | 0.357143          | 0.24601                                  |"
      ]
     },
     "metadata": {},
     "output_type": "display_data"
    },
    {
     "data": {
      "text/html": [
       "<pre>| 2       | 0.178571          | 0.478244                                 |</pre>"
      ],
      "text/plain": [
       "| 2       | 0.178571          | 0.478244                                 |"
      ]
     },
     "metadata": {},
     "output_type": "display_data"
    },
    {
     "data": {
      "text/html": [
       "<pre>| 3       | 0.0892857         | 1.34205                                  |</pre>"
      ],
      "text/plain": [
       "| 3       | 0.0892857         | 1.34205                                  |"
      ]
     },
     "metadata": {},
     "output_type": "display_data"
    },
    {
     "data": {
      "text/html": [
       "<pre>+---------+-------------------+------------------------------------------+</pre>"
      ],
      "text/plain": [
       "+---------+-------------------+------------------------------------------+"
      ]
     },
     "metadata": {},
     "output_type": "display_data"
    },
    {
     "data": {
      "text/html": [
       "<pre>| Final   | 0.357143          | 0.24601                                  |</pre>"
      ],
      "text/plain": [
       "| Final   | 0.357143          | 0.24601                                  |"
      ]
     },
     "metadata": {},
     "output_type": "display_data"
    },
    {
     "data": {
      "text/html": [
       "<pre>+---------+-------------------+------------------------------------------+</pre>"
      ],
      "text/plain": [
       "+---------+-------------------+------------------------------------------+"
      ]
     },
     "metadata": {},
     "output_type": "display_data"
    },
    {
     "data": {
      "text/html": [
       "<pre>Starting Optimization.</pre>"
      ],
      "text/plain": [
       "Starting Optimization."
      ]
     },
     "metadata": {},
     "output_type": "display_data"
    },
    {
     "data": {
      "text/html": [
       "<pre>+---------+--------------+-------------------+-----------------------+-------------+</pre>"
      ],
      "text/plain": [
       "+---------+--------------+-------------------+-----------------------+-------------+"
      ]
     },
     "metadata": {},
     "output_type": "display_data"
    },
    {
     "data": {
      "text/html": [
       "<pre>| Iter.   | Elapsed Time | Approx. Objective | Approx. Training RMSE | Step Size   |</pre>"
      ],
      "text/plain": [
       "| Iter.   | Elapsed Time | Approx. Objective | Approx. Training RMSE | Step Size   |"
      ]
     },
     "metadata": {},
     "output_type": "display_data"
    },
    {
     "data": {
      "text/html": [
       "<pre>+---------+--------------+-------------------+-----------------------+-------------+</pre>"
      ],
      "text/plain": [
       "+---------+--------------+-------------------+-----------------------+-------------+"
      ]
     },
     "metadata": {},
     "output_type": "display_data"
    },
    {
     "data": {
      "text/html": [
       "<pre>| Initial | 0us          | 3.43162           | 1.85246               |             |</pre>"
      ],
      "text/plain": [
       "| Initial | 0us          | 3.43162           | 1.85246               |             |"
      ]
     },
     "metadata": {},
     "output_type": "display_data"
    },
    {
     "data": {
      "text/html": [
       "<pre>+---------+--------------+-------------------+-----------------------+-------------+</pre>"
      ],
      "text/plain": [
       "+---------+--------------+-------------------+-----------------------+-------------+"
      ]
     },
     "metadata": {},
     "output_type": "display_data"
    },
    {
     "data": {
      "text/html": [
       "<pre>| 1       | 773.558ms    | 2.36247           | 1.53673               | 0.357143    |</pre>"
      ],
      "text/plain": [
       "| 1       | 773.558ms    | 2.36247           | 1.53673               | 0.357143    |"
      ]
     },
     "metadata": {},
     "output_type": "display_data"
    },
    {
     "data": {
      "text/html": [
       "<pre>| 2       | 1.45s        | 1.59275           | 1.26169               | 0.357143    |</pre>"
      ],
      "text/plain": [
       "| 2       | 1.45s        | 1.59275           | 1.26169               | 0.357143    |"
      ]
     },
     "metadata": {},
     "output_type": "display_data"
    },
    {
     "data": {
      "text/html": [
       "<pre>| 3       | 2.14s        | 1.3559            | 1.16404               | 0.357143    |</pre>"
      ],
      "text/plain": [
       "| 3       | 2.14s        | 1.3559            | 1.16404               | 0.357143    |"
      ]
     },
     "metadata": {},
     "output_type": "display_data"
    },
    {
     "data": {
      "text/html": [
       "<pre>| 4       | 2.83s        | 1.23681           | 1.1117                | 0.357143    |</pre>"
      ],
      "text/plain": [
       "| 4       | 2.83s        | 1.23681           | 1.1117                | 0.357143    |"
      ]
     },
     "metadata": {},
     "output_type": "display_data"
    },
    {
     "data": {
      "text/html": [
       "<pre>| 5       | 3.54s        | 1.16345           | 1.07819               | 0.357143    |</pre>"
      ],
      "text/plain": [
       "| 5       | 3.54s        | 1.16345           | 1.07819               | 0.357143    |"
      ]
     },
     "metadata": {},
     "output_type": "display_data"
    },
    {
     "data": {
      "text/html": [
       "<pre>| 6       | 4.25s        | 1.11201           | 1.05406               | 0.357143    |</pre>"
      ],
      "text/plain": [
       "| 6       | 4.25s        | 1.11201           | 1.05406               | 0.357143    |"
      ]
     },
     "metadata": {},
     "output_type": "display_data"
    },
    {
     "data": {
      "text/html": [
       "<pre>| 10      | 7.22s        | 1.00358           | 1.00128               | 0.357143    |</pre>"
      ],
      "text/plain": [
       "| 10      | 7.22s        | 1.00358           | 1.00128               | 0.357143    |"
      ]
     },
     "metadata": {},
     "output_type": "display_data"
    },
    {
     "data": {
      "text/html": [
       "<pre>| 11      | 7.99s        | 0.987042          | 0.99298               | 0.357143    |</pre>"
      ],
      "text/plain": [
       "| 11      | 7.99s        | 0.987042          | 0.99298               | 0.357143    |"
      ]
     },
     "metadata": {},
     "output_type": "display_data"
    },
    {
     "data": {
      "text/html": [
       "<pre>| 15      | 10.97s       | 0.941592          | 0.969808              | 0.357143    |</pre>"
      ],
      "text/plain": [
       "| 15      | 10.97s       | 0.941592          | 0.969808              | 0.357143    |"
      ]
     },
     "metadata": {},
     "output_type": "display_data"
    },
    {
     "data": {
      "text/html": [
       "<pre>| 20      | 14.72s       | 0.906891          | 0.951734              | 0.357143    |</pre>"
      ],
      "text/plain": [
       "| 20      | 14.72s       | 0.906891          | 0.951734              | 0.357143    |"
      ]
     },
     "metadata": {},
     "output_type": "display_data"
    },
    {
     "data": {
      "text/html": [
       "<pre>| 25      | 18.16s       | 0.883864          | 0.939547              | 0.357143    |</pre>"
      ],
      "text/plain": [
       "| 25      | 18.16s       | 0.883864          | 0.939547              | 0.357143    |"
      ]
     },
     "metadata": {},
     "output_type": "display_data"
    },
    {
     "data": {
      "text/html": [
       "<pre>| 30      | 21.64s       | 0.867379          | 0.930722              | 0.357143    |</pre>"
      ],
      "text/plain": [
       "| 30      | 21.64s       | 0.867379          | 0.930722              | 0.357143    |"
      ]
     },
     "metadata": {},
     "output_type": "display_data"
    },
    {
     "data": {
      "text/html": [
       "<pre>| 35      | 25.12s       | 0.854355          | 0.92369               | 0.357143    |</pre>"
      ],
      "text/plain": [
       "| 35      | 25.12s       | 0.854355          | 0.92369               | 0.357143    |"
      ]
     },
     "metadata": {},
     "output_type": "display_data"
    },
    {
     "data": {
      "text/html": [
       "<pre>| 40      | 28.58s       | 0.84386           | 0.917983              | 0.357143    |</pre>"
      ],
      "text/plain": [
       "| 40      | 28.58s       | 0.84386           | 0.917983              | 0.357143    |"
      ]
     },
     "metadata": {},
     "output_type": "display_data"
    },
    {
     "data": {
      "text/html": [
       "<pre>| 45      | 32.04s       | 0.834045          | 0.912615              | 0.357143    |</pre>"
      ],
      "text/plain": [
       "| 45      | 32.04s       | 0.834045          | 0.912615              | 0.357143    |"
      ]
     },
     "metadata": {},
     "output_type": "display_data"
    },
    {
     "data": {
      "text/html": [
       "<pre>| 50      | 35.54s       | 0.827185          | 0.908842              | 0.357143    |</pre>"
      ],
      "text/plain": [
       "| 50      | 35.54s       | 0.827185          | 0.908842              | 0.357143    |"
      ]
     },
     "metadata": {},
     "output_type": "display_data"
    },
    {
     "data": {
      "text/html": [
       "<pre>+---------+--------------+-------------------+-----------------------+-------------+</pre>"
      ],
      "text/plain": [
       "+---------+--------------+-------------------+-----------------------+-------------+"
      ]
     },
     "metadata": {},
     "output_type": "display_data"
    },
    {
     "data": {
      "text/html": [
       "<pre>Optimization Complete: Maximum number of passes through the data reached.</pre>"
      ],
      "text/plain": [
       "Optimization Complete: Maximum number of passes through the data reached."
      ]
     },
     "metadata": {},
     "output_type": "display_data"
    },
    {
     "data": {
      "text/html": [
       "<pre>Computing final objective value and training RMSE.</pre>"
      ],
      "text/plain": [
       "Computing final objective value and training RMSE."
      ]
     },
     "metadata": {},
     "output_type": "display_data"
    },
    {
     "data": {
      "text/html": [
       "<pre>       Final objective value: 0.80212</pre>"
      ],
      "text/plain": [
       "       Final objective value: 0.80212"
      ]
     },
     "metadata": {},
     "output_type": "display_data"
    },
    {
     "data": {
      "text/html": [
       "<pre>       Final training RMSE: 0.894946</pre>"
      ],
      "text/plain": [
       "       Final training RMSE: 0.894946"
      ]
     },
     "metadata": {},
     "output_type": "display_data"
    },
    {
     "data": {
      "text/html": [
       "<pre>recommendations finished on 1000/9005 queries. users per second: 8208.63</pre>"
      ],
      "text/plain": [
       "recommendations finished on 1000/9005 queries. users per second: 8208.63"
      ]
     },
     "metadata": {},
     "output_type": "display_data"
    },
    {
     "data": {
      "text/html": [
       "<pre>recommendations finished on 2000/9005 queries. users per second: 8488.06</pre>"
      ],
      "text/plain": [
       "recommendations finished on 2000/9005 queries. users per second: 8488.06"
      ]
     },
     "metadata": {},
     "output_type": "display_data"
    },
    {
     "data": {
      "text/html": [
       "<pre>recommendations finished on 3000/9005 queries. users per second: 8345.97</pre>"
      ],
      "text/plain": [
       "recommendations finished on 3000/9005 queries. users per second: 8345.97"
      ]
     },
     "metadata": {},
     "output_type": "display_data"
    },
    {
     "data": {
      "text/html": [
       "<pre>recommendations finished on 4000/9005 queries. users per second: 8363.48</pre>"
      ],
      "text/plain": [
       "recommendations finished on 4000/9005 queries. users per second: 8363.48"
      ]
     },
     "metadata": {},
     "output_type": "display_data"
    },
    {
     "data": {
      "text/html": [
       "<pre>recommendations finished on 5000/9005 queries. users per second: 8402.22</pre>"
      ],
      "text/plain": [
       "recommendations finished on 5000/9005 queries. users per second: 8402.22"
      ]
     },
     "metadata": {},
     "output_type": "display_data"
    },
    {
     "data": {
      "text/html": [
       "<pre>recommendations finished on 6000/9005 queries. users per second: 8345.97</pre>"
      ],
      "text/plain": [
       "recommendations finished on 6000/9005 queries. users per second: 8345.97"
      ]
     },
     "metadata": {},
     "output_type": "display_data"
    },
    {
     "data": {
      "text/html": [
       "<pre>recommendations finished on 7000/9005 queries. users per second: 8340.98</pre>"
      ],
      "text/plain": [
       "recommendations finished on 7000/9005 queries. users per second: 8340.98"
      ]
     },
     "metadata": {},
     "output_type": "display_data"
    },
    {
     "data": {
      "text/html": [
       "<pre>recommendations finished on 8000/9005 queries. users per second: 8315.52</pre>"
      ],
      "text/plain": [
       "recommendations finished on 8000/9005 queries. users per second: 8315.52"
      ]
     },
     "metadata": {},
     "output_type": "display_data"
    },
    {
     "data": {
      "text/html": [
       "<pre>recommendations finished on 9000/9005 queries. users per second: 6872.29</pre>"
      ],
      "text/plain": [
       "recommendations finished on 9000/9005 queries. users per second: 6872.29"
      ]
     },
     "metadata": {},
     "output_type": "display_data"
    },
    {
     "name": "stdout",
     "output_type": "stream",
     "text": [
      "\n",
      "Precision and recall summary statistics by cutoff\n",
      "+--------+-------------------+-------------------+\n",
      "| cutoff |   mean_precision  |    mean_recall    |\n",
      "+--------+-------------------+-------------------+\n",
      "|   1    |        0.0        |        0.0        |\n",
      "|   2    | 0.000166574125486 | 1.20746798094e-06 |\n",
      "|   3    | 0.000111049416991 | 1.20746798094e-06 |\n",
      "|   4    | 8.32870627429e-05 | 1.20746798094e-06 |\n",
      "|   5    | 8.88395335924e-05 | 1.13028695255e-05 |\n",
      "|   6    | 9.25411808255e-05 | 1.17714324664e-05 |\n",
      "|   7    | 7.93210121361e-05 | 1.17714324664e-05 |\n",
      "|   8    | 9.71682398667e-05 | 1.68517544342e-05 |\n",
      "|   9    | 8.63717687704e-05 | 1.68517544342e-05 |\n",
      "|   10   | 9.99444752915e-05 | 7.26232394117e-05 |\n",
      "+--------+-------------------+-------------------+\n",
      "[10 rows x 3 columns]\n",
      "\n",
      "('\\nOverall RMSE: ', 1.7109780751888786)\n",
      "\n",
      "Per User RMSE (best)\n",
      "+---------+-------+-------------------+\n",
      "| user_id | count |        rmse       |\n",
      "+---------+-------+-------------------+\n",
      "|   6680  |   1   | 0.000594985725046 |\n",
      "+---------+-------+-------------------+\n",
      "[1 rows x 3 columns]\n",
      "\n",
      "\n",
      "Per User RMSE (worst)\n",
      "+---------+-------+---------------+\n",
      "| user_id | count |      rmse     |\n",
      "+---------+-------+---------------+\n",
      "|   5710  |   1   | 9.36171222949 |\n",
      "+---------+-------+---------------+\n",
      "[1 rows x 3 columns]\n",
      "\n",
      "\n",
      "Per Item RMSE (best)\n",
      "+---------+-------+------------------+\n",
      "| item_id | count |       rmse       |\n",
      "+---------+-------+------------------+\n",
      "| 1337366 |   1   | 0.00171355629122 |\n",
      "+---------+-------+------------------+\n",
      "[1 rows x 3 columns]\n",
      "\n",
      "\n",
      "Per Item RMSE (worst)\n",
      "+---------+-------+---------------+\n",
      "| item_id | count |      rmse     |\n",
      "+---------+-------+---------------+\n",
      "|  70239  |   1   | 8.02306116843 |\n",
      "+---------+-------+---------------+\n",
      "[1 rows x 3 columns]\n",
      "\n"
     ]
    },
    {
     "data": {
      "text/html": [
       "<pre>recommendations finished on 1000/9005 queries. users per second: 3439.13</pre>"
      ],
      "text/plain": [
       "recommendations finished on 1000/9005 queries. users per second: 3439.13"
      ]
     },
     "metadata": {},
     "output_type": "display_data"
    },
    {
     "data": {
      "text/html": [
       "<pre>recommendations finished on 2000/9005 queries. users per second: 3418.49</pre>"
      ],
      "text/plain": [
       "recommendations finished on 2000/9005 queries. users per second: 3418.49"
      ]
     },
     "metadata": {},
     "output_type": "display_data"
    },
    {
     "data": {
      "text/html": [
       "<pre>recommendations finished on 3000/9005 queries. users per second: 3405.84</pre>"
      ],
      "text/plain": [
       "recommendations finished on 3000/9005 queries. users per second: 3405.84"
      ]
     },
     "metadata": {},
     "output_type": "display_data"
    },
    {
     "data": {
      "text/html": [
       "<pre>recommendations finished on 4000/9005 queries. users per second: 3425.82</pre>"
      ],
      "text/plain": [
       "recommendations finished on 4000/9005 queries. users per second: 3425.82"
      ]
     },
     "metadata": {},
     "output_type": "display_data"
    },
    {
     "data": {
      "text/html": [
       "<pre>recommendations finished on 5000/9005 queries. users per second: 3439.11</pre>"
      ],
      "text/plain": [
       "recommendations finished on 5000/9005 queries. users per second: 3439.11"
      ]
     },
     "metadata": {},
     "output_type": "display_data"
    },
    {
     "data": {
      "text/html": [
       "<pre>recommendations finished on 6000/9005 queries. users per second: 3424.35</pre>"
      ],
      "text/plain": [
       "recommendations finished on 6000/9005 queries. users per second: 3424.35"
      ]
     },
     "metadata": {},
     "output_type": "display_data"
    },
    {
     "data": {
      "text/html": [
       "<pre>recommendations finished on 7000/9005 queries. users per second: 3426.45</pre>"
      ],
      "text/plain": [
       "recommendations finished on 7000/9005 queries. users per second: 3426.45"
      ]
     },
     "metadata": {},
     "output_type": "display_data"
    },
    {
     "data": {
      "text/html": [
       "<pre>recommendations finished on 8000/9005 queries. users per second: 3389.44</pre>"
      ],
      "text/plain": [
       "recommendations finished on 8000/9005 queries. users per second: 3389.44"
      ]
     },
     "metadata": {},
     "output_type": "display_data"
    },
    {
     "data": {
      "text/html": [
       "<pre>recommendations finished on 9000/9005 queries. users per second: 3000.01</pre>"
      ],
      "text/plain": [
       "recommendations finished on 9000/9005 queries. users per second: 3000.01"
      ]
     },
     "metadata": {},
     "output_type": "display_data"
    },
    {
     "name": "stdout",
     "output_type": "stream",
     "text": [
      "\n",
      "Precision and recall summary statistics by cutoff\n",
      "+--------+-----------------+------------------+\n",
      "| cutoff |  mean_precision |   mean_recall    |\n",
      "+--------+-----------------+------------------+\n",
      "|   1    | 0.0168795113826 | 0.00304287120806 |\n",
      "|   2    | 0.0167684619656 | 0.00547489118675 |\n",
      "|   3    | 0.0235794928743 | 0.00981539588325 |\n",
      "|   4    | 0.0270682953914 |  0.013154426297  |\n",
      "|   5    | 0.0306496390894 | 0.0175915960111  |\n",
      "|   6    | 0.0305941143809 | 0.0226055340234  |\n",
      "|   7    | 0.0307289601015 |  0.026133872466  |\n",
      "|   8    | 0.0310938367574 | 0.0305139275245  |\n",
      "|   9    | 0.0341291874884 | 0.0382261690784  |\n",
      "|   10   | 0.0343253747918 | 0.0414548256666  |\n",
      "+--------+-----------------+------------------+\n",
      "[10 rows x 3 columns]\n",
      "\n",
      "('\\nOverall RMSE: ', 1.8829676981542138)\n",
      "\n",
      "Per User RMSE (best)\n",
      "+---------+-------+-------------------+\n",
      "| user_id | count |        rmse       |\n",
      "+---------+-------+-------------------+\n",
      "|   2235  |   1   | 0.000201570747734 |\n",
      "+---------+-------+-------------------+\n",
      "[1 rows x 3 columns]\n",
      "\n",
      "\n",
      "Per User RMSE (worst)\n",
      "+---------+-------+---------------+\n",
      "| user_id | count |      rmse     |\n",
      "+---------+-------+---------------+\n",
      "|   5710  |   1   | 9.25162662292 |\n",
      "+---------+-------+---------------+\n",
      "[1 rows x 3 columns]\n",
      "\n",
      "\n",
      "Per Item RMSE (best)\n",
      "+---------+-------+-------------------+\n",
      "| item_id | count |        rmse       |\n",
      "+---------+-------+-------------------+\n",
      "|  77696  |   2   | 2.26619259109e-05 |\n",
      "+---------+-------+-------------------+\n",
      "[1 rows x 3 columns]\n",
      "\n",
      "\n",
      "Per Item RMSE (worst)\n",
      "+---------+-------+---------------+\n",
      "| item_id | count |      rmse     |\n",
      "+---------+-------+---------------+\n",
      "| 2275671 |   1   | 7.30897737765 |\n",
      "+---------+-------+---------------+\n",
      "[1 rows x 3 columns]\n",
      "\n"
     ]
    },
    {
     "data": {
      "text/html": [
       "<pre>recommendations finished on 1000/9005 queries. users per second: 219.316</pre>"
      ],
      "text/plain": [
       "recommendations finished on 1000/9005 queries. users per second: 219.316"
      ]
     },
     "metadata": {},
     "output_type": "display_data"
    },
    {
     "data": {
      "text/html": [
       "<pre>recommendations finished on 2000/9005 queries. users per second: 219.509</pre>"
      ],
      "text/plain": [
       "recommendations finished on 2000/9005 queries. users per second: 219.509"
      ]
     },
     "metadata": {},
     "output_type": "display_data"
    },
    {
     "data": {
      "text/html": [
       "<pre>recommendations finished on 3000/9005 queries. users per second: 218.867</pre>"
      ],
      "text/plain": [
       "recommendations finished on 3000/9005 queries. users per second: 218.867"
      ]
     },
     "metadata": {},
     "output_type": "display_data"
    },
    {
     "data": {
      "text/html": [
       "<pre>recommendations finished on 4000/9005 queries. users per second: 219.455</pre>"
      ],
      "text/plain": [
       "recommendations finished on 4000/9005 queries. users per second: 219.455"
      ]
     },
     "metadata": {},
     "output_type": "display_data"
    },
    {
     "data": {
      "text/html": [
       "<pre>recommendations finished on 5000/9005 queries. users per second: 219.196</pre>"
      ],
      "text/plain": [
       "recommendations finished on 5000/9005 queries. users per second: 219.196"
      ]
     },
     "metadata": {},
     "output_type": "display_data"
    },
    {
     "data": {
      "text/html": [
       "<pre>recommendations finished on 6000/9005 queries. users per second: 219.389</pre>"
      ],
      "text/plain": [
       "recommendations finished on 6000/9005 queries. users per second: 219.389"
      ]
     },
     "metadata": {},
     "output_type": "display_data"
    },
    {
     "data": {
      "text/html": [
       "<pre>recommendations finished on 7000/9005 queries. users per second: 219.413</pre>"
      ],
      "text/plain": [
       "recommendations finished on 7000/9005 queries. users per second: 219.413"
      ]
     },
     "metadata": {},
     "output_type": "display_data"
    },
    {
     "data": {
      "text/html": [
       "<pre>recommendations finished on 8000/9005 queries. users per second: 214.571</pre>"
      ],
      "text/plain": [
       "recommendations finished on 8000/9005 queries. users per second: 214.571"
      ]
     },
     "metadata": {},
     "output_type": "display_data"
    },
    {
     "data": {
      "text/html": [
       "<pre>recommendations finished on 9000/9005 queries. users per second: 195.781</pre>"
      ],
      "text/plain": [
       "recommendations finished on 9000/9005 queries. users per second: 195.781"
      ]
     },
     "metadata": {},
     "output_type": "display_data"
    },
    {
     "name": "stdout",
     "output_type": "stream",
     "text": [
      "\n",
      "Precision and recall summary statistics by cutoff\n",
      "+--------+-----------------+------------------+\n",
      "| cutoff |  mean_precision |   mean_recall    |\n",
      "+--------+-----------------+------------------+\n",
      "|   1    | 0.0372015546918 | 0.00434050469649 |\n",
      "|   2    | 0.0373681288173 | 0.00767953511029 |\n",
      "|   3    | 0.0369424393855 | 0.0109081916985  |\n",
      "|   4    | 0.0302054414214 |  0.011818359167  |\n",
      "|   5    | 0.0254525263742 | 0.0126949586112  |\n",
      "|   6    | 0.0251341847122 | 0.0143700907205  |\n",
      "|   7    |  0.023431426985 | 0.0156988167321  |\n",
      "|   8    | 0.0210299833426 | 0.0158178848581  |\n",
      "|   9    | 0.0191868714911 | 0.0159807185253  |\n",
      "|   10   |  0.017268184342 | 0.0159807185253  |\n",
      "+--------+-----------------+------------------+\n",
      "[10 rows x 3 columns]\n",
      "\n",
      "('\\nOverall RMSE: ', 1.8134799174382465)\n",
      "\n",
      "Per User RMSE (best)\n",
      "+---------+-------+-------------------+\n",
      "| user_id | count |        rmse       |\n",
      "+---------+-------+-------------------+\n",
      "|   875   |   1   | 0.000734288072099 |\n",
      "+---------+-------+-------------------+\n",
      "[1 rows x 3 columns]\n",
      "\n",
      "\n",
      "Per User RMSE (worst)\n",
      "+---------+-------+---------------+\n",
      "| user_id | count |      rmse     |\n",
      "+---------+-------+---------------+\n",
      "|   5710  |   1   | 7.64211006176 |\n",
      "+---------+-------+---------------+\n",
      "[1 rows x 3 columns]\n",
      "\n",
      "\n",
      "Per Item RMSE (best)\n",
      "+---------+-------+-------------------+\n",
      "| item_id | count |        rmse       |\n",
      "+---------+-------+-------------------+\n",
      "|  26138  |   2   | 0.000507732474578 |\n",
      "+---------+-------+-------------------+\n",
      "[1 rows x 3 columns]\n",
      "\n",
      "\n",
      "Per Item RMSE (worst)\n",
      "+---------+-------+---------------+\n",
      "| item_id | count |      rmse     |\n",
      "+---------+-------+---------------+\n",
      "|  70239  |   1   | 7.69382080099 |\n",
      "+---------+-------+---------------+\n",
      "[1 rows x 3 columns]\n",
      "\n"
     ]
    },
    {
     "data": {
      "text/html": [
       "<pre>recommendations finished on 1000/9005 queries. users per second: 651.219</pre>"
      ],
      "text/plain": [
       "recommendations finished on 1000/9005 queries. users per second: 651.219"
      ]
     },
     "metadata": {},
     "output_type": "display_data"
    },
    {
     "data": {
      "text/html": [
       "<pre>recommendations finished on 2000/9005 queries. users per second: 648.361</pre>"
      ],
      "text/plain": [
       "recommendations finished on 2000/9005 queries. users per second: 648.361"
      ]
     },
     "metadata": {},
     "output_type": "display_data"
    },
    {
     "data": {
      "text/html": [
       "<pre>recommendations finished on 3000/9005 queries. users per second: 649.663</pre>"
      ],
      "text/plain": [
       "recommendations finished on 3000/9005 queries. users per second: 649.663"
      ]
     },
     "metadata": {},
     "output_type": "display_data"
    },
    {
     "data": {
      "text/html": [
       "<pre>recommendations finished on 4000/9005 queries. users per second: 651.218</pre>"
      ],
      "text/plain": [
       "recommendations finished on 4000/9005 queries. users per second: 651.218"
      ]
     },
     "metadata": {},
     "output_type": "display_data"
    },
    {
     "data": {
      "text/html": [
       "<pre>recommendations finished on 5000/9005 queries. users per second: 651.431</pre>"
      ],
      "text/plain": [
       "recommendations finished on 5000/9005 queries. users per second: 651.431"
      ]
     },
     "metadata": {},
     "output_type": "display_data"
    },
    {
     "data": {
      "text/html": [
       "<pre>recommendations finished on 6000/9005 queries. users per second: 648.326</pre>"
      ],
      "text/plain": [
       "recommendations finished on 6000/9005 queries. users per second: 648.326"
      ]
     },
     "metadata": {},
     "output_type": "display_data"
    },
    {
     "data": {
      "text/html": [
       "<pre>recommendations finished on 7000/9005 queries. users per second: 645.108</pre>"
      ],
      "text/plain": [
       "recommendations finished on 7000/9005 queries. users per second: 645.108"
      ]
     },
     "metadata": {},
     "output_type": "display_data"
    },
    {
     "data": {
      "text/html": [
       "<pre>recommendations finished on 8000/9005 queries. users per second: 642.227</pre>"
      ],
      "text/plain": [
       "recommendations finished on 8000/9005 queries. users per second: 642.227"
      ]
     },
     "metadata": {},
     "output_type": "display_data"
    },
    {
     "data": {
      "text/html": [
       "<pre>recommendations finished on 9000/9005 queries. users per second: 612.822</pre>"
      ],
      "text/plain": [
       "recommendations finished on 9000/9005 queries. users per second: 612.822"
      ]
     },
     "metadata": {},
     "output_type": "display_data"
    },
    {
     "name": "stdout",
     "output_type": "stream",
     "text": [
      "\n",
      "Precision and recall summary statistics by cutoff\n",
      "+--------+-------------------+-------------------+\n",
      "| cutoff |   mean_precision  |    mean_recall    |\n",
      "+--------+-------------------+-------------------+\n",
      "|   1    |        0.0        |        0.0        |\n",
      "|   2    |        0.0        |        0.0        |\n",
      "|   3    | 3.70164723302e-05 | 2.46776482201e-07 |\n",
      "|   4    | 2.77623542476e-05 | 2.46776482201e-07 |\n",
      "|   5    | 4.44197667962e-05 | 4.93552964402e-07 |\n",
      "|   6    | 3.70164723302e-05 | 4.93552964402e-07 |\n",
      "|   7    | 3.17284048544e-05 | 4.93552964402e-07 |\n",
      "|   8    | 4.16435313715e-05 | 9.66103675001e-07 |\n",
      "|   9    | 7.40329446604e-05 | 4.89044080294e-06 |\n",
      "|   10   | 6.66296501943e-05 | 4.89044080294e-06 |\n",
      "+--------+-------------------+-------------------+\n",
      "[10 rows x 3 columns]\n",
      "\n",
      "('\\nOverall RMSE: ', 1.66178480024915)\n",
      "\n",
      "Per User RMSE (best)\n",
      "+---------+-------+-------------------+\n",
      "| user_id | count |        rmse       |\n",
      "+---------+-------+-------------------+\n",
      "|   1282  |   1   | 0.000360973489324 |\n",
      "+---------+-------+-------------------+\n",
      "[1 rows x 3 columns]\n",
      "\n",
      "\n",
      "Per User RMSE (worst)\n",
      "+---------+-------+--------------+\n",
      "| user_id | count |     rmse     |\n",
      "+---------+-------+--------------+\n",
      "|   5710  |   1   | 9.0286903205 |\n",
      "+---------+-------+--------------+\n",
      "[1 rows x 3 columns]\n",
      "\n",
      "\n",
      "Per Item RMSE (best)\n",
      "+---------+-------+-------------------+\n",
      "| item_id | count |        rmse       |\n",
      "+---------+-------+-------------------+\n",
      "| 3557464 |   1   | 0.000149915067006 |\n",
      "+---------+-------+-------------------+\n",
      "[1 rows x 3 columns]\n",
      "\n",
      "\n",
      "Per Item RMSE (worst)\n",
      "+---------+-------+---------------+\n",
      "| item_id | count |      rmse     |\n",
      "+---------+-------+---------------+\n",
      "| 2275671 |   1   | 7.76650115863 |\n",
      "+---------+-------+---------------+\n",
      "[1 rows x 3 columns]\n",
      "\n"
     ]
    },
    {
     "data": {
      "text/html": [
       "<pre>recommendations finished on 1000/9005 queries. users per second: 204.794</pre>"
      ],
      "text/plain": [
       "recommendations finished on 1000/9005 queries. users per second: 204.794"
      ]
     },
     "metadata": {},
     "output_type": "display_data"
    },
    {
     "data": {
      "text/html": [
       "<pre>recommendations finished on 2000/9005 queries. users per second: 201.514</pre>"
      ],
      "text/plain": [
       "recommendations finished on 2000/9005 queries. users per second: 201.514"
      ]
     },
     "metadata": {},
     "output_type": "display_data"
    },
    {
     "data": {
      "text/html": [
       "<pre>recommendations finished on 3000/9005 queries. users per second: 197.657</pre>"
      ],
      "text/plain": [
       "recommendations finished on 3000/9005 queries. users per second: 197.657"
      ]
     },
     "metadata": {},
     "output_type": "display_data"
    },
    {
     "data": {
      "text/html": [
       "<pre>recommendations finished on 4000/9005 queries. users per second: 197.528</pre>"
      ],
      "text/plain": [
       "recommendations finished on 4000/9005 queries. users per second: 197.528"
      ]
     },
     "metadata": {},
     "output_type": "display_data"
    },
    {
     "data": {
      "text/html": [
       "<pre>recommendations finished on 5000/9005 queries. users per second: 197.599</pre>"
      ],
      "text/plain": [
       "recommendations finished on 5000/9005 queries. users per second: 197.599"
      ]
     },
     "metadata": {},
     "output_type": "display_data"
    },
    {
     "data": {
      "text/html": [
       "<pre>recommendations finished on 6000/9005 queries. users per second: 194.771</pre>"
      ],
      "text/plain": [
       "recommendations finished on 6000/9005 queries. users per second: 194.771"
      ]
     },
     "metadata": {},
     "output_type": "display_data"
    },
    {
     "data": {
      "text/html": [
       "<pre>recommendations finished on 7000/9005 queries. users per second: 190.436</pre>"
      ],
      "text/plain": [
       "recommendations finished on 7000/9005 queries. users per second: 190.436"
      ]
     },
     "metadata": {},
     "output_type": "display_data"
    },
    {
     "data": {
      "text/html": [
       "<pre>recommendations finished on 8000/9005 queries. users per second: 186.171</pre>"
      ],
      "text/plain": [
       "recommendations finished on 8000/9005 queries. users per second: 186.171"
      ]
     },
     "metadata": {},
     "output_type": "display_data"
    },
    {
     "data": {
      "text/html": [
       "<pre>recommendations finished on 9000/9005 queries. users per second: 178.391</pre>"
      ],
      "text/plain": [
       "recommendations finished on 9000/9005 queries. users per second: 178.391"
      ]
     },
     "metadata": {},
     "output_type": "display_data"
    },
    {
     "name": "stdout",
     "output_type": "stream",
     "text": [
      "\n",
      "Precision and recall summary statistics by cutoff\n",
      "+--------+-------------------+-------------------+\n",
      "| cutoff |   mean_precision  |    mean_recall    |\n",
      "+--------+-------------------+-------------------+\n",
      "|   1    | 0.000111049416991 | 3.26615932325e-06 |\n",
      "|   2    | 5.55247084953e-05 | 3.26615932325e-06 |\n",
      "|   3    | 3.70164723302e-05 | 3.26615932325e-06 |\n",
      "|   4    | 2.77623542476e-05 | 3.26615932325e-06 |\n",
      "|   5    | 2.22098833981e-05 | 3.26615932325e-06 |\n",
      "|   6    | 1.85082361651e-05 | 3.26615932325e-06 |\n",
      "|   7    | 3.17284048544e-05 | 3.73472226414e-06 |\n",
      "|   8    | 2.77623542476e-05 | 3.73472226414e-06 |\n",
      "|   9    | 3.70164723302e-05 | 5.95571060395e-06 |\n",
      "|   10   | 5.55247084953e-05 | 9.85991929191e-06 |\n",
      "+--------+-------------------+-------------------+\n",
      "[10 rows x 3 columns]\n",
      "\n",
      "('\\nOverall RMSE: ', 1.6612473624617028)\n",
      "\n",
      "Per User RMSE (best)\n",
      "+---------+-------+-------------------+\n",
      "| user_id | count |        rmse       |\n",
      "+---------+-------+-------------------+\n",
      "|   7379  |   1   | 0.000305361142477 |\n",
      "+---------+-------+-------------------+\n",
      "[1 rows x 3 columns]\n",
      "\n",
      "\n",
      "Per User RMSE (worst)\n",
      "+---------+-------+---------------+\n",
      "| user_id | count |      rmse     |\n",
      "+---------+-------+---------------+\n",
      "|   5710  |   1   | 9.08622116415 |\n",
      "+---------+-------+---------------+\n",
      "[1 rows x 3 columns]\n",
      "\n",
      "\n",
      "Per Item RMSE (best)\n",
      "+---------+-------+-------------------+\n",
      "| item_id | count |        rmse       |\n",
      "+---------+-------+-------------------+\n",
      "|  110155 |   1   | 1.75548487018e-05 |\n",
      "+---------+-------+-------------------+\n",
      "[1 rows x 3 columns]\n",
      "\n",
      "\n",
      "Per Item RMSE (worst)\n",
      "+---------+-------+--------------+\n",
      "| item_id | count |     rmse     |\n",
      "+---------+-------+--------------+\n",
      "| 3330206 |   1   | 16.980154184 |\n",
      "+---------+-------+--------------+\n",
      "[1 rows x 3 columns]\n",
      "\n"
     ]
    },
    {
     "data": {
      "text/html": [
       "<pre>Recsys training: model = factorization_recommender</pre>"
      ],
      "text/plain": [
       "Recsys training: model = factorization_recommender"
      ]
     },
     "metadata": {},
     "output_type": "display_data"
    },
    {
     "data": {
      "text/html": [
       "<pre>Preparing data set.</pre>"
      ],
      "text/plain": [
       "Preparing data set."
      ]
     },
     "metadata": {},
     "output_type": "display_data"
    },
    {
     "data": {
      "text/html": [
       "<pre>    Data has 433201 observations with 36407 users and 23773 items.</pre>"
      ],
      "text/plain": [
       "    Data has 433201 observations with 36407 users and 23773 items."
      ]
     },
     "metadata": {},
     "output_type": "display_data"
    },
    {
     "data": {
      "text/html": [
       "<pre>    Data prepared in: 0.241642s</pre>"
      ],
      "text/plain": [
       "    Data prepared in: 0.241642s"
      ]
     },
     "metadata": {},
     "output_type": "display_data"
    },
    {
     "data": {
      "text/html": [
       "<pre>Training factorization_recommender for recommendations.</pre>"
      ],
      "text/plain": [
       "Training factorization_recommender for recommendations."
      ]
     },
     "metadata": {},
     "output_type": "display_data"
    },
    {
     "data": {
      "text/html": [
       "<pre>+--------------------------------+--------------------------------------------------+----------+</pre>"
      ],
      "text/plain": [
       "+--------------------------------+--------------------------------------------------+----------+"
      ]
     },
     "metadata": {},
     "output_type": "display_data"
    },
    {
     "data": {
      "text/html": [
       "<pre>| Parameter                      | Description                                      | Value    |</pre>"
      ],
      "text/plain": [
       "| Parameter                      | Description                                      | Value    |"
      ]
     },
     "metadata": {},
     "output_type": "display_data"
    },
    {
     "data": {
      "text/html": [
       "<pre>+--------------------------------+--------------------------------------------------+----------+</pre>"
      ],
      "text/plain": [
       "+--------------------------------+--------------------------------------------------+----------+"
      ]
     },
     "metadata": {},
     "output_type": "display_data"
    },
    {
     "data": {
      "text/html": [
       "<pre>| num_factors                    | Factor Dimension                                 | 8        |</pre>"
      ],
      "text/plain": [
       "| num_factors                    | Factor Dimension                                 | 8        |"
      ]
     },
     "metadata": {},
     "output_type": "display_data"
    },
    {
     "data": {
      "text/html": [
       "<pre>| regularization                 | L2 Regularization on Factors                     | 1e-008   |</pre>"
      ],
      "text/plain": [
       "| regularization                 | L2 Regularization on Factors                     | 1e-008   |"
      ]
     },
     "metadata": {},
     "output_type": "display_data"
    },
    {
     "data": {
      "text/html": [
       "<pre>| solver                         | Solver used for training                         | sgd      |</pre>"
      ],
      "text/plain": [
       "| solver                         | Solver used for training                         | sgd      |"
      ]
     },
     "metadata": {},
     "output_type": "display_data"
    },
    {
     "data": {
      "text/html": [
       "<pre>| linear_regularization          | L2 Regularization on Linear Coefficients         | 1e-010   |</pre>"
      ],
      "text/plain": [
       "| linear_regularization          | L2 Regularization on Linear Coefficients         | 1e-010   |"
      ]
     },
     "metadata": {},
     "output_type": "display_data"
    },
    {
     "data": {
      "text/html": [
       "<pre>| max_iterations                 | Maximum Number of Iterations                     | 50       |</pre>"
      ],
      "text/plain": [
       "| max_iterations                 | Maximum Number of Iterations                     | 50       |"
      ]
     },
     "metadata": {},
     "output_type": "display_data"
    },
    {
     "data": {
      "text/html": [
       "<pre>+--------------------------------+--------------------------------------------------+----------+</pre>"
      ],
      "text/plain": [
       "+--------------------------------+--------------------------------------------------+----------+"
      ]
     },
     "metadata": {},
     "output_type": "display_data"
    },
    {
     "data": {
      "text/html": [
       "<pre>  Optimizing model using SGD; tuning step size.</pre>"
      ],
      "text/plain": [
       "  Optimizing model using SGD; tuning step size."
      ]
     },
     "metadata": {},
     "output_type": "display_data"
    },
    {
     "data": {
      "text/html": [
       "<pre>  Using 54150 / 433201 points for tuning the step size.</pre>"
      ],
      "text/plain": [
       "  Using 54150 / 433201 points for tuning the step size."
      ]
     },
     "metadata": {},
     "output_type": "display_data"
    },
    {
     "data": {
      "text/html": [
       "<pre>+---------+-------------------+------------------------------------------+</pre>"
      ],
      "text/plain": [
       "+---------+-------------------+------------------------------------------+"
      ]
     },
     "metadata": {},
     "output_type": "display_data"
    },
    {
     "data": {
      "text/html": [
       "<pre>| Attempt | Initial Step Size | Estimated Objective Value                |</pre>"
      ],
      "text/plain": [
       "| Attempt | Initial Step Size | Estimated Objective Value                |"
      ]
     },
     "metadata": {},
     "output_type": "display_data"
    },
    {
     "data": {
      "text/html": [
       "<pre>+---------+-------------------+------------------------------------------+</pre>"
      ],
      "text/plain": [
       "+---------+-------------------+------------------------------------------+"
      ]
     },
     "metadata": {},
     "output_type": "display_data"
    },
    {
     "data": {
      "text/html": [
       "<pre>| 0       | 25                | Not Viable                               |</pre>"
      ],
      "text/plain": [
       "| 0       | 25                | Not Viable                               |"
      ]
     },
     "metadata": {},
     "output_type": "display_data"
    },
    {
     "data": {
      "text/html": [
       "<pre>| 1       | 6.25              | Not Viable                               |</pre>"
      ],
      "text/plain": [
       "| 1       | 6.25              | Not Viable                               |"
      ]
     },
     "metadata": {},
     "output_type": "display_data"
    },
    {
     "data": {
      "text/html": [
       "<pre>| 2       | 1.5625            | Not Viable                               |</pre>"
      ],
      "text/plain": [
       "| 2       | 1.5625            | Not Viable                               |"
      ]
     },
     "metadata": {},
     "output_type": "display_data"
    },
    {
     "data": {
      "text/html": [
       "<pre>| 3       | 0.390625          | Not Viable                               |</pre>"
      ],
      "text/plain": [
       "| 3       | 0.390625          | Not Viable                               |"
      ]
     },
     "metadata": {},
     "output_type": "display_data"
    },
    {
     "data": {
      "text/html": [
       "<pre>| 4       | 0.0976562         | 1.22607                                  |</pre>"
      ],
      "text/plain": [
       "| 4       | 0.0976562         | 1.22607                                  |"
      ]
     },
     "metadata": {},
     "output_type": "display_data"
    },
    {
     "data": {
      "text/html": [
       "<pre>| 5       | 0.0488281         | 1.53372                                  |</pre>"
      ],
      "text/plain": [
       "| 5       | 0.0488281         | 1.53372                                  |"
      ]
     },
     "metadata": {},
     "output_type": "display_data"
    },
    {
     "data": {
      "text/html": [
       "<pre>| 6       | 0.0244141         | 1.81976                                  |</pre>"
      ],
      "text/plain": [
       "| 6       | 0.0244141         | 1.81976                                  |"
      ]
     },
     "metadata": {},
     "output_type": "display_data"
    },
    {
     "data": {
      "text/html": [
       "<pre>| 7       | 0.012207          | 2.11301                                  |</pre>"
      ],
      "text/plain": [
       "| 7       | 0.012207          | 2.11301                                  |"
      ]
     },
     "metadata": {},
     "output_type": "display_data"
    },
    {
     "data": {
      "text/html": [
       "<pre>+---------+-------------------+------------------------------------------+</pre>"
      ],
      "text/plain": [
       "+---------+-------------------+------------------------------------------+"
      ]
     },
     "metadata": {},
     "output_type": "display_data"
    },
    {
     "data": {
      "text/html": [
       "<pre>| Final   | 0.0976562         | 1.22607                                  |</pre>"
      ],
      "text/plain": [
       "| Final   | 0.0976562         | 1.22607                                  |"
      ]
     },
     "metadata": {},
     "output_type": "display_data"
    },
    {
     "data": {
      "text/html": [
       "<pre>+---------+-------------------+------------------------------------------+</pre>"
      ],
      "text/plain": [
       "+---------+-------------------+------------------------------------------+"
      ]
     },
     "metadata": {},
     "output_type": "display_data"
    },
    {
     "data": {
      "text/html": [
       "<pre>Starting Optimization.</pre>"
      ],
      "text/plain": [
       "Starting Optimization."
      ]
     },
     "metadata": {},
     "output_type": "display_data"
    },
    {
     "data": {
      "text/html": [
       "<pre>+---------+--------------+-------------------+-----------------------+-------------+</pre>"
      ],
      "text/plain": [
       "+---------+--------------+-------------------+-----------------------+-------------+"
      ]
     },
     "metadata": {},
     "output_type": "display_data"
    },
    {
     "data": {
      "text/html": [
       "<pre>| Iter.   | Elapsed Time | Approx. Objective | Approx. Training RMSE | Step Size   |</pre>"
      ],
      "text/plain": [
       "| Iter.   | Elapsed Time | Approx. Objective | Approx. Training RMSE | Step Size   |"
      ]
     },
     "metadata": {},
     "output_type": "display_data"
    },
    {
     "data": {
      "text/html": [
       "<pre>+---------+--------------+-------------------+-----------------------+-------------+</pre>"
      ],
      "text/plain": [
       "+---------+--------------+-------------------+-----------------------+-------------+"
      ]
     },
     "metadata": {},
     "output_type": "display_data"
    },
    {
     "data": {
      "text/html": [
       "<pre>| Initial | 502us        | 3.44656           | 1.85649               |             |</pre>"
      ],
      "text/plain": [
       "| Initial | 502us        | 3.44656           | 1.85649               |             |"
      ]
     },
     "metadata": {},
     "output_type": "display_data"
    },
    {
     "data": {
      "text/html": [
       "<pre>+---------+--------------+-------------------+-----------------------+-------------+</pre>"
      ],
      "text/plain": [
       "+---------+--------------+-------------------+-----------------------+-------------+"
      ]
     },
     "metadata": {},
     "output_type": "display_data"
    },
    {
     "data": {
      "text/html": [
       "<pre>| 1       | 56.651ms     | 3.09026           | 1.75769               | 0.0976562   |</pre>"
      ],
      "text/plain": [
       "| 1       | 56.651ms     | 3.09026           | 1.75769               | 0.0976562   |"
      ]
     },
     "metadata": {},
     "output_type": "display_data"
    },
    {
     "data": {
      "text/html": [
       "<pre>| 2       | 105.781ms    | 2.32454           | 1.52444               | 0.0580668   |</pre>"
      ],
      "text/plain": [
       "| 2       | 105.781ms    | 2.32454           | 1.52444               | 0.0580668   |"
      ]
     },
     "metadata": {},
     "output_type": "display_data"
    },
    {
     "data": {
      "text/html": [
       "<pre>| 3       | 206.187ms    | 1.79562           | 1.33979               | 0.042841    |</pre>"
      ],
      "text/plain": [
       "| 3       | 206.187ms    | 1.79562           | 1.33979               | 0.042841    |"
      ]
     },
     "metadata": {},
     "output_type": "display_data"
    },
    {
     "data": {
      "text/html": [
       "<pre>| 4       | 257.824ms    | 1.50909           | 1.2282                | 0.0345267   |</pre>"
      ],
      "text/plain": [
       "| 4       | 257.824ms    | 1.50909           | 1.2282                | 0.0345267   |"
      ]
     },
     "metadata": {},
     "output_type": "display_data"
    },
    {
     "data": {
      "text/html": [
       "<pre>| 5       | 304.448ms    | 1.34055           | 1.15754               | 0.029206    |</pre>"
      ],
      "text/plain": [
       "| 5       | 304.448ms    | 1.34055           | 1.15754               | 0.029206    |"
      ]
     },
     "metadata": {},
     "output_type": "display_data"
    },
    {
     "data": {
      "text/html": [
       "<pre>| 6       | 358.591ms    | 1.22943           | 1.10849               | 0.0254734   |</pre>"
      ],
      "text/plain": [
       "| 6       | 358.591ms    | 1.22943           | 1.10849               | 0.0254734   |"
      ]
     },
     "metadata": {},
     "output_type": "display_data"
    },
    {
     "data": {
      "text/html": [
       "<pre>| 11      | 647.861ms    | 0.995643          | 0.997414              | 0.016168    |</pre>"
      ],
      "text/plain": [
       "| 11      | 647.861ms    | 0.995643          | 0.997414              | 0.016168    |"
      ]
     },
     "metadata": {},
     "output_type": "display_data"
    },
    {
     "data": {
      "text/html": [
       "<pre>| 25      | 1.73s        | 0.836923          | 0.914301              | 0.00873464  |</pre>"
      ],
      "text/plain": [
       "| 25      | 1.73s        | 0.836923          | 0.914301              | 0.00873464  |"
      ]
     },
     "metadata": {},
     "output_type": "display_data"
    },
    {
     "data": {
      "text/html": [
       "<pre>| 50      | 3.28s        | 0.762708          | 0.872691              | 0.00519365  |</pre>"
      ],
      "text/plain": [
       "| 50      | 3.28s        | 0.762708          | 0.872691              | 0.00519365  |"
      ]
     },
     "metadata": {},
     "output_type": "display_data"
    },
    {
     "data": {
      "text/html": [
       "<pre>+---------+--------------+-------------------+-----------------------+-------------+</pre>"
      ],
      "text/plain": [
       "+---------+--------------+-------------------+-----------------------+-------------+"
      ]
     },
     "metadata": {},
     "output_type": "display_data"
    },
    {
     "data": {
      "text/html": [
       "<pre>Optimization Complete: Maximum number of passes through the data reached.</pre>"
      ],
      "text/plain": [
       "Optimization Complete: Maximum number of passes through the data reached."
      ]
     },
     "metadata": {},
     "output_type": "display_data"
    },
    {
     "data": {
      "text/html": [
       "<pre>Computing final objective value and training RMSE.</pre>"
      ],
      "text/plain": [
       "Computing final objective value and training RMSE."
      ]
     },
     "metadata": {},
     "output_type": "display_data"
    },
    {
     "data": {
      "text/html": [
       "<pre>       Final objective value: 0.71648</pre>"
      ],
      "text/plain": [
       "       Final objective value: 0.71648"
      ]
     },
     "metadata": {},
     "output_type": "display_data"
    },
    {
     "data": {
      "text/html": [
       "<pre>       Final training RMSE: 0.84579</pre>"
      ],
      "text/plain": [
       "       Final training RMSE: 0.84579"
      ]
     },
     "metadata": {},
     "output_type": "display_data"
    },
    {
     "data": {
      "text/html": [
       "<pre>Recsys training: model = ranking_factorization_recommender</pre>"
      ],
      "text/plain": [
       "Recsys training: model = ranking_factorization_recommender"
      ]
     },
     "metadata": {},
     "output_type": "display_data"
    },
    {
     "data": {
      "text/html": [
       "<pre>Preparing data set.</pre>"
      ],
      "text/plain": [
       "Preparing data set."
      ]
     },
     "metadata": {},
     "output_type": "display_data"
    },
    {
     "data": {
      "text/html": [
       "<pre>    Data has 433201 observations with 36407 users and 23773 items.</pre>"
      ],
      "text/plain": [
       "    Data has 433201 observations with 36407 users and 23773 items."
      ]
     },
     "metadata": {},
     "output_type": "display_data"
    },
    {
     "data": {
      "text/html": [
       "<pre>    Data prepared in: 0.244652s</pre>"
      ],
      "text/plain": [
       "    Data prepared in: 0.244652s"
      ]
     },
     "metadata": {},
     "output_type": "display_data"
    },
    {
     "data": {
      "text/html": [
       "<pre>Training ranking_factorization_recommender for recommendations.</pre>"
      ],
      "text/plain": [
       "Training ranking_factorization_recommender for recommendations."
      ]
     },
     "metadata": {},
     "output_type": "display_data"
    },
    {
     "data": {
      "text/html": [
       "<pre>+--------------------------------+--------------------------------------------------+----------+</pre>"
      ],
      "text/plain": [
       "+--------------------------------+--------------------------------------------------+----------+"
      ]
     },
     "metadata": {},
     "output_type": "display_data"
    },
    {
     "data": {
      "text/html": [
       "<pre>| Parameter                      | Description                                      | Value    |</pre>"
      ],
      "text/plain": [
       "| Parameter                      | Description                                      | Value    |"
      ]
     },
     "metadata": {},
     "output_type": "display_data"
    },
    {
     "data": {
      "text/html": [
       "<pre>+--------------------------------+--------------------------------------------------+----------+</pre>"
      ],
      "text/plain": [
       "+--------------------------------+--------------------------------------------------+----------+"
      ]
     },
     "metadata": {},
     "output_type": "display_data"
    },
    {
     "data": {
      "text/html": [
       "<pre>| num_factors                    | Factor Dimension                                 | 32       |</pre>"
      ],
      "text/plain": [
       "| num_factors                    | Factor Dimension                                 | 32       |"
      ]
     },
     "metadata": {},
     "output_type": "display_data"
    },
    {
     "data": {
      "text/html": [
       "<pre>| regularization                 | L2 Regularization on Factors                     | 1e-009   |</pre>"
      ],
      "text/plain": [
       "| regularization                 | L2 Regularization on Factors                     | 1e-009   |"
      ]
     },
     "metadata": {},
     "output_type": "display_data"
    },
    {
     "data": {
      "text/html": [
       "<pre>| solver                         | Solver used for training                         | sgd      |</pre>"
      ],
      "text/plain": [
       "| solver                         | Solver used for training                         | sgd      |"
      ]
     },
     "metadata": {},
     "output_type": "display_data"
    },
    {
     "data": {
      "text/html": [
       "<pre>| linear_regularization          | L2 Regularization on Linear Coefficients         | 1e-009   |</pre>"
      ],
      "text/plain": [
       "| linear_regularization          | L2 Regularization on Linear Coefficients         | 1e-009   |"
      ]
     },
     "metadata": {},
     "output_type": "display_data"
    },
    {
     "data": {
      "text/html": [
       "<pre>| ranking_regularization         | Rank-based Regularization Weight                 | 0.25     |</pre>"
      ],
      "text/plain": [
       "| ranking_regularization         | Rank-based Regularization Weight                 | 0.25     |"
      ]
     },
     "metadata": {},
     "output_type": "display_data"
    },
    {
     "data": {
      "text/html": [
       "<pre>| max_iterations                 | Maximum Number of Iterations                     | 25       |</pre>"
      ],
      "text/plain": [
       "| max_iterations                 | Maximum Number of Iterations                     | 25       |"
      ]
     },
     "metadata": {},
     "output_type": "display_data"
    },
    {
     "data": {
      "text/html": [
       "<pre>+--------------------------------+--------------------------------------------------+----------+</pre>"
      ],
      "text/plain": [
       "+--------------------------------+--------------------------------------------------+----------+"
      ]
     },
     "metadata": {},
     "output_type": "display_data"
    },
    {
     "data": {
      "text/html": [
       "<pre>  Optimizing model using SGD; tuning step size.</pre>"
      ],
      "text/plain": [
       "  Optimizing model using SGD; tuning step size."
      ]
     },
     "metadata": {},
     "output_type": "display_data"
    },
    {
     "data": {
      "text/html": [
       "<pre>  Using 54150 / 433201 points for tuning the step size.</pre>"
      ],
      "text/plain": [
       "  Using 54150 / 433201 points for tuning the step size."
      ]
     },
     "metadata": {},
     "output_type": "display_data"
    },
    {
     "data": {
      "text/html": [
       "<pre>+---------+-------------------+------------------------------------------+</pre>"
      ],
      "text/plain": [
       "+---------+-------------------+------------------------------------------+"
      ]
     },
     "metadata": {},
     "output_type": "display_data"
    },
    {
     "data": {
      "text/html": [
       "<pre>| Attempt | Initial Step Size | Estimated Objective Value                |</pre>"
      ],
      "text/plain": [
       "| Attempt | Initial Step Size | Estimated Objective Value                |"
      ]
     },
     "metadata": {},
     "output_type": "display_data"
    },
    {
     "data": {
      "text/html": [
       "<pre>+---------+-------------------+------------------------------------------+</pre>"
      ],
      "text/plain": [
       "+---------+-------------------+------------------------------------------+"
      ]
     },
     "metadata": {},
     "output_type": "display_data"
    },
    {
     "data": {
      "text/html": [
       "<pre>| 0       | 25                | Not Viable                               |</pre>"
      ],
      "text/plain": [
       "| 0       | 25                | Not Viable                               |"
      ]
     },
     "metadata": {},
     "output_type": "display_data"
    },
    {
     "data": {
      "text/html": [
       "<pre>| 1       | 6.25              | Not Viable                               |</pre>"
      ],
      "text/plain": [
       "| 1       | 6.25              | Not Viable                               |"
      ]
     },
     "metadata": {},
     "output_type": "display_data"
    },
    {
     "data": {
      "text/html": [
       "<pre>| 2       | 1.5625            | Not Viable                               |</pre>"
      ],
      "text/plain": [
       "| 2       | 1.5625            | Not Viable                               |"
      ]
     },
     "metadata": {},
     "output_type": "display_data"
    },
    {
     "data": {
      "text/html": [
       "<pre>| 3       | 0.390625          | Not Viable                               |</pre>"
      ],
      "text/plain": [
       "| 3       | 0.390625          | Not Viable                               |"
      ]
     },
     "metadata": {},
     "output_type": "display_data"
    },
    {
     "data": {
      "text/html": [
       "<pre>| 4       | 0.0976562         | 3.59212                                  |</pre>"
      ],
      "text/plain": [
       "| 4       | 0.0976562         | 3.59212                                  |"
      ]
     },
     "metadata": {},
     "output_type": "display_data"
    },
    {
     "data": {
      "text/html": [
       "<pre>| 5       | 0.0488281         | 4.00012                                  |</pre>"
      ],
      "text/plain": [
       "| 5       | 0.0488281         | 4.00012                                  |"
      ]
     },
     "metadata": {},
     "output_type": "display_data"
    },
    {
     "data": {
      "text/html": [
       "<pre>| 6       | 0.0244141         | 4.42357                                  |</pre>"
      ],
      "text/plain": [
       "| 6       | 0.0244141         | 4.42357                                  |"
      ]
     },
     "metadata": {},
     "output_type": "display_data"
    },
    {
     "data": {
      "text/html": [
       "<pre>| 7       | 0.012207          | 4.85523                                  |</pre>"
      ],
      "text/plain": [
       "| 7       | 0.012207          | 4.85523                                  |"
      ]
     },
     "metadata": {},
     "output_type": "display_data"
    },
    {
     "data": {
      "text/html": [
       "<pre>+---------+-------------------+------------------------------------------+</pre>"
      ],
      "text/plain": [
       "+---------+-------------------+------------------------------------------+"
      ]
     },
     "metadata": {},
     "output_type": "display_data"
    },
    {
     "data": {
      "text/html": [
       "<pre>| Final   | 0.0976562         | 3.59212                                  |</pre>"
      ],
      "text/plain": [
       "| Final   | 0.0976562         | 3.59212                                  |"
      ]
     },
     "metadata": {},
     "output_type": "display_data"
    },
    {
     "data": {
      "text/html": [
       "<pre>+---------+-------------------+------------------------------------------+</pre>"
      ],
      "text/plain": [
       "+---------+-------------------+------------------------------------------+"
      ]
     },
     "metadata": {},
     "output_type": "display_data"
    },
    {
     "data": {
      "text/html": [
       "<pre>Starting Optimization.</pre>"
      ],
      "text/plain": [
       "Starting Optimization."
      ]
     },
     "metadata": {},
     "output_type": "display_data"
    },
    {
     "data": {
      "text/html": [
       "<pre>+---------+--------------+-------------------+-----------------------+-------------+</pre>"
      ],
      "text/plain": [
       "+---------+--------------+-------------------+-----------------------+-------------+"
      ]
     },
     "metadata": {},
     "output_type": "display_data"
    },
    {
     "data": {
      "text/html": [
       "<pre>| Iter.   | Elapsed Time | Approx. Objective | Approx. Training RMSE | Step Size   |</pre>"
      ],
      "text/plain": [
       "| Iter.   | Elapsed Time | Approx. Objective | Approx. Training RMSE | Step Size   |"
      ]
     },
     "metadata": {},
     "output_type": "display_data"
    },
    {
     "data": {
      "text/html": [
       "<pre>+---------+--------------+-------------------+-----------------------+-------------+</pre>"
      ],
      "text/plain": [
       "+---------+--------------+-------------------+-----------------------+-------------+"
      ]
     },
     "metadata": {},
     "output_type": "display_data"
    },
    {
     "data": {
      "text/html": [
       "<pre>| Initial | 0us          | 6.75719           | 1.85649               |             |</pre>"
      ],
      "text/plain": [
       "| Initial | 0us          | 6.75719           | 1.85649               |             |"
      ]
     },
     "metadata": {},
     "output_type": "display_data"
    },
    {
     "data": {
      "text/html": [
       "<pre>+---------+--------------+-------------------+-----------------------+-------------+</pre>"
      ],
      "text/plain": [
       "+---------+--------------+-------------------+-----------------------+-------------+"
      ]
     },
     "metadata": {},
     "output_type": "display_data"
    },
    {
     "data": {
      "text/html": [
       "<pre>| 1       | 304.811ms    | DIVERGED          | DIVERGED              | 0.0976562   |</pre>"
      ],
      "text/plain": [
       "| 1       | 304.811ms    | DIVERGED          | DIVERGED              | 0.0976562   |"
      ]
     },
     "metadata": {},
     "output_type": "display_data"
    },
    {
     "data": {
      "text/html": [
       "<pre>| RESET   | 454.709ms    | 6.75719           | 1.85649               |             |</pre>"
      ],
      "text/plain": [
       "| RESET   | 454.709ms    | 6.75719           | 1.85649               |             |"
      ]
     },
     "metadata": {},
     "output_type": "display_data"
    },
    {
     "data": {
      "text/html": [
       "<pre>| 1       | 658.752ms    | 4.81408           | 1.66175               | 0.0488281   |</pre>"
      ],
      "text/plain": [
       "| 1       | 658.752ms    | 4.81408           | 1.66175               | 0.0488281   |"
      ]
     },
     "metadata": {},
     "output_type": "display_data"
    },
    {
     "data": {
      "text/html": [
       "<pre>| 2       | 864.298ms    | 4.07277           | 1.57785               | 0.0290334   |</pre>"
      ],
      "text/plain": [
       "| 2       | 864.298ms    | 4.07277           | 1.57785               | 0.0290334   |"
      ]
     },
     "metadata": {},
     "output_type": "display_data"
    },
    {
     "data": {
      "text/html": [
       "<pre>| 3       | 1.06s        | 3.74466           | 1.50543               | 0.0214205   |</pre>"
      ],
      "text/plain": [
       "| 3       | 1.06s        | 3.74466           | 1.50543               | 0.0214205   |"
      ]
     },
     "metadata": {},
     "output_type": "display_data"
    },
    {
     "data": {
      "text/html": [
       "<pre>| 4       | 1.26s        | 3.48739           | 1.4433                | 0.0172633   |</pre>"
      ],
      "text/plain": [
       "| 4       | 1.26s        | 3.48739           | 1.4433                | 0.0172633   |"
      ]
     },
     "metadata": {},
     "output_type": "display_data"
    },
    {
     "data": {
      "text/html": [
       "<pre>| 5       | 1.46s        | 3.23694           | 1.37459               | 0.014603    |</pre>"
      ],
      "text/plain": [
       "| 5       | 1.46s        | 3.23694           | 1.37459               | 0.014603    |"
      ]
     },
     "metadata": {},
     "output_type": "display_data"
    },
    {
     "data": {
      "text/html": [
       "<pre>| 6       | 1.67s        | 2.99566           | 1.30176               | 0.0127367   |</pre>"
      ],
      "text/plain": [
       "| 6       | 1.67s        | 2.99566           | 1.30176               | 0.0127367   |"
      ]
     },
     "metadata": {},
     "output_type": "display_data"
    },
    {
     "data": {
      "text/html": [
       "<pre>| 9       | 2.28s        | 2.41818           | 1.11137               | 0.00939698  |</pre>"
      ],
      "text/plain": [
       "| 9       | 2.28s        | 2.41818           | 1.11137               | 0.00939698  |"
      ]
     },
     "metadata": {},
     "output_type": "display_data"
    },
    {
     "data": {
      "text/html": [
       "<pre>| 11      | 2.67s        | 2.16154           | 1.02189               | 0.00808399  |</pre>"
      ],
      "text/plain": [
       "| 11      | 2.67s        | 2.16154           | 1.02189               | 0.00808399  |"
      ]
     },
     "metadata": {},
     "output_type": "display_data"
    },
    {
     "data": {
      "text/html": [
       "<pre>| 14      | 3.25s        | 1.90531           | 0.928107              | 0.00674643  |</pre>"
      ],
      "text/plain": [
       "| 14      | 3.25s        | 1.90531           | 0.928107              | 0.00674643  |"
      ]
     },
     "metadata": {},
     "output_type": "display_data"
    },
    {
     "data": {
      "text/html": [
       "<pre>| 19      | 4.24s        | 1.64678           | 0.83342               | 0.00536543  |</pre>"
      ],
      "text/plain": [
       "| 19      | 4.24s        | 1.64678           | 0.83342               | 0.00536543  |"
      ]
     },
     "metadata": {},
     "output_type": "display_data"
    },
    {
     "data": {
      "text/html": [
       "<pre>| 24      | 5.24s        | 1.49207           | 0.777108              | 0.0045031   |</pre>"
      ],
      "text/plain": [
       "| 24      | 5.24s        | 1.49207           | 0.777108              | 0.0045031   |"
      ]
     },
     "metadata": {},
     "output_type": "display_data"
    },
    {
     "data": {
      "text/html": [
       "<pre>+---------+--------------+-------------------+-----------------------+-------------+</pre>"
      ],
      "text/plain": [
       "+---------+--------------+-------------------+-----------------------+-------------+"
      ]
     },
     "metadata": {},
     "output_type": "display_data"
    },
    {
     "data": {
      "text/html": [
       "<pre>Optimization Complete: Maximum number of passes through the data reached.</pre>"
      ],
      "text/plain": [
       "Optimization Complete: Maximum number of passes through the data reached."
      ]
     },
     "metadata": {},
     "output_type": "display_data"
    },
    {
     "data": {
      "text/html": [
       "<pre>Computing final objective value and training RMSE.</pre>"
      ],
      "text/plain": [
       "Computing final objective value and training RMSE."
      ]
     },
     "metadata": {},
     "output_type": "display_data"
    },
    {
     "data": {
      "text/html": [
       "<pre>       Final objective value: 1.39356</pre>"
      ],
      "text/plain": [
       "       Final objective value: 1.39356"
      ]
     },
     "metadata": {},
     "output_type": "display_data"
    },
    {
     "data": {
      "text/html": [
       "<pre>       Final training RMSE: 0.719566</pre>"
      ],
      "text/plain": [
       "       Final training RMSE: 0.719566"
      ]
     },
     "metadata": {},
     "output_type": "display_data"
    },
    {
     "data": {
      "text/html": [
       "<pre>Recsys training: model = factorization_recommender</pre>"
      ],
      "text/plain": [
       "Recsys training: model = factorization_recommender"
      ]
     },
     "metadata": {},
     "output_type": "display_data"
    },
    {
     "data": {
      "text/html": [
       "<pre>Preparing data set.</pre>"
      ],
      "text/plain": [
       "Preparing data set."
      ]
     },
     "metadata": {},
     "output_type": "display_data"
    },
    {
     "data": {
      "text/html": [
       "<pre>    Data has 433201 observations with 36407 users and 26096 items.</pre>"
      ],
      "text/plain": [
       "    Data has 433201 observations with 36407 users and 26096 items."
      ]
     },
     "metadata": {},
     "output_type": "display_data"
    },
    {
     "data": {
      "text/html": [
       "<pre>    Data prepared in: 0.300297s</pre>"
      ],
      "text/plain": [
       "    Data prepared in: 0.300297s"
      ]
     },
     "metadata": {},
     "output_type": "display_data"
    },
    {
     "data": {
      "text/html": [
       "<pre>Training factorization_recommender for recommendations.</pre>"
      ],
      "text/plain": [
       "Training factorization_recommender for recommendations."
      ]
     },
     "metadata": {},
     "output_type": "display_data"
    },
    {
     "data": {
      "text/html": [
       "<pre>+--------------------------------+--------------------------------------------------+----------+</pre>"
      ],
      "text/plain": [
       "+--------------------------------+--------------------------------------------------+----------+"
      ]
     },
     "metadata": {},
     "output_type": "display_data"
    },
    {
     "data": {
      "text/html": [
       "<pre>| Parameter                      | Description                                      | Value    |</pre>"
      ],
      "text/plain": [
       "| Parameter                      | Description                                      | Value    |"
      ]
     },
     "metadata": {},
     "output_type": "display_data"
    },
    {
     "data": {
      "text/html": [
       "<pre>+--------------------------------+--------------------------------------------------+----------+</pre>"
      ],
      "text/plain": [
       "+--------------------------------+--------------------------------------------------+----------+"
      ]
     },
     "metadata": {},
     "output_type": "display_data"
    },
    {
     "data": {
      "text/html": [
       "<pre>| num_factors                    | Factor Dimension                                 | 8        |</pre>"
      ],
      "text/plain": [
       "| num_factors                    | Factor Dimension                                 | 8        |"
      ]
     },
     "metadata": {},
     "output_type": "display_data"
    },
    {
     "data": {
      "text/html": [
       "<pre>| regularization                 | L2 Regularization on Factors                     | 1e-008   |</pre>"
      ],
      "text/plain": [
       "| regularization                 | L2 Regularization on Factors                     | 1e-008   |"
      ]
     },
     "metadata": {},
     "output_type": "display_data"
    },
    {
     "data": {
      "text/html": [
       "<pre>| solver                         | Solver used for training                         | adagrad  |</pre>"
      ],
      "text/plain": [
       "| solver                         | Solver used for training                         | adagrad  |"
      ]
     },
     "metadata": {},
     "output_type": "display_data"
    },
    {
     "data": {
      "text/html": [
       "<pre>| linear_regularization          | L2 Regularization on Linear Coefficients         | 1e-010   |</pre>"
      ],
      "text/plain": [
       "| linear_regularization          | L2 Regularization on Linear Coefficients         | 1e-010   |"
      ]
     },
     "metadata": {},
     "output_type": "display_data"
    },
    {
     "data": {
      "text/html": [
       "<pre>| side_data_factorization        | Assign Factors for Side Data                     | True     |</pre>"
      ],
      "text/plain": [
       "| side_data_factorization        | Assign Factors for Side Data                     | True     |"
      ]
     },
     "metadata": {},
     "output_type": "display_data"
    },
    {
     "data": {
      "text/html": [
       "<pre>| max_iterations                 | Maximum Number of Iterations                     | 50       |</pre>"
      ],
      "text/plain": [
       "| max_iterations                 | Maximum Number of Iterations                     | 50       |"
      ]
     },
     "metadata": {},
     "output_type": "display_data"
    },
    {
     "data": {
      "text/html": [
       "<pre>+--------------------------------+--------------------------------------------------+----------+</pre>"
      ],
      "text/plain": [
       "+--------------------------------+--------------------------------------------------+----------+"
      ]
     },
     "metadata": {},
     "output_type": "display_data"
    },
    {
     "data": {
      "text/html": [
       "<pre>  Optimizing model using SGD; tuning step size.</pre>"
      ],
      "text/plain": [
       "  Optimizing model using SGD; tuning step size."
      ]
     },
     "metadata": {},
     "output_type": "display_data"
    },
    {
     "data": {
      "text/html": [
       "<pre>  Using 54150 / 433201 points for tuning the step size.</pre>"
      ],
      "text/plain": [
       "  Using 54150 / 433201 points for tuning the step size."
      ]
     },
     "metadata": {},
     "output_type": "display_data"
    },
    {
     "data": {
      "text/html": [
       "<pre>+---------+-------------------+------------------------------------------+</pre>"
      ],
      "text/plain": [
       "+---------+-------------------+------------------------------------------+"
      ]
     },
     "metadata": {},
     "output_type": "display_data"
    },
    {
     "data": {
      "text/html": [
       "<pre>| Attempt | Initial Step Size | Estimated Objective Value                |</pre>"
      ],
      "text/plain": [
       "| Attempt | Initial Step Size | Estimated Objective Value                |"
      ]
     },
     "metadata": {},
     "output_type": "display_data"
    },
    {
     "data": {
      "text/html": [
       "<pre>+---------+-------------------+------------------------------------------+</pre>"
      ],
      "text/plain": [
       "+---------+-------------------+------------------------------------------+"
      ]
     },
     "metadata": {},
     "output_type": "display_data"
    },
    {
     "data": {
      "text/html": [
       "<pre>| 0       | 1.66667           | Not Viable                               |</pre>"
      ],
      "text/plain": [
       "| 0       | 1.66667           | Not Viable                               |"
      ]
     },
     "metadata": {},
     "output_type": "display_data"
    },
    {
     "data": {
      "text/html": [
       "<pre>| 1       | 0.416667          | Not Viable                               |</pre>"
      ],
      "text/plain": [
       "| 1       | 0.416667          | Not Viable                               |"
      ]
     },
     "metadata": {},
     "output_type": "display_data"
    },
    {
     "data": {
      "text/html": [
       "<pre>| 2       | 0.104167          | Not Viable                               |</pre>"
      ],
      "text/plain": [
       "| 2       | 0.104167          | Not Viable                               |"
      ]
     },
     "metadata": {},
     "output_type": "display_data"
    },
    {
     "data": {
      "text/html": [
       "<pre>| 3       | 0.0260417         | Not Viable                               |</pre>"
      ],
      "text/plain": [
       "| 3       | 0.0260417         | Not Viable                               |"
      ]
     },
     "metadata": {},
     "output_type": "display_data"
    },
    {
     "data": {
      "text/html": [
       "<pre>| 4       | 0.00651042        | Not Viable                               |</pre>"
      ],
      "text/plain": [
       "| 4       | 0.00651042        | Not Viable                               |"
      ]
     },
     "metadata": {},
     "output_type": "display_data"
    },
    {
     "data": {
      "text/html": [
       "<pre>| 5       | 0.0016276         | 3.24919                                  |</pre>"
      ],
      "text/plain": [
       "| 5       | 0.0016276         | 3.24919                                  |"
      ]
     },
     "metadata": {},
     "output_type": "display_data"
    },
    {
     "data": {
      "text/html": [
       "<pre>| 6       | 0.000813802       | 3.32881                                  |</pre>"
      ],
      "text/plain": [
       "| 6       | 0.000813802       | 3.32881                                  |"
      ]
     },
     "metadata": {},
     "output_type": "display_data"
    },
    {
     "data": {
      "text/html": [
       "<pre>| 7       | 0.000406901       | 3.36751                                  |</pre>"
      ],
      "text/plain": [
       "| 7       | 0.000406901       | 3.36751                                  |"
      ]
     },
     "metadata": {},
     "output_type": "display_data"
    },
    {
     "data": {
      "text/html": [
       "<pre>| 8       | 0.000203451       | 3.38857                                  |</pre>"
      ],
      "text/plain": [
       "| 8       | 0.000203451       | 3.38857                                  |"
      ]
     },
     "metadata": {},
     "output_type": "display_data"
    },
    {
     "data": {
      "text/html": [
       "<pre>+---------+-------------------+------------------------------------------+</pre>"
      ],
      "text/plain": [
       "+---------+-------------------+------------------------------------------+"
      ]
     },
     "metadata": {},
     "output_type": "display_data"
    },
    {
     "data": {
      "text/html": [
       "<pre>| Final   | 0.0016276         | 3.24919                                  |</pre>"
      ],
      "text/plain": [
       "| Final   | 0.0016276         | 3.24919                                  |"
      ]
     },
     "metadata": {},
     "output_type": "display_data"
    },
    {
     "data": {
      "text/html": [
       "<pre>+---------+-------------------+------------------------------------------+</pre>"
      ],
      "text/plain": [
       "+---------+-------------------+------------------------------------------+"
      ]
     },
     "metadata": {},
     "output_type": "display_data"
    },
    {
     "data": {
      "text/html": [
       "<pre>Starting Optimization.</pre>"
      ],
      "text/plain": [
       "Starting Optimization."
      ]
     },
     "metadata": {},
     "output_type": "display_data"
    },
    {
     "data": {
      "text/html": [
       "<pre>+---------+--------------+-------------------+-----------------------+-------------+</pre>"
      ],
      "text/plain": [
       "+---------+--------------+-------------------+-----------------------+-------------+"
      ]
     },
     "metadata": {},
     "output_type": "display_data"
    },
    {
     "data": {
      "text/html": [
       "<pre>| Iter.   | Elapsed Time | Approx. Objective | Approx. Training RMSE | Step Size   |</pre>"
      ],
      "text/plain": [
       "| Iter.   | Elapsed Time | Approx. Objective | Approx. Training RMSE | Step Size   |"
      ]
     },
     "metadata": {},
     "output_type": "display_data"
    },
    {
     "data": {
      "text/html": [
       "<pre>+---------+--------------+-------------------+-----------------------+-------------+</pre>"
      ],
      "text/plain": [
       "+---------+--------------+-------------------+-----------------------+-------------+"
      ]
     },
     "metadata": {},
     "output_type": "display_data"
    },
    {
     "data": {
      "text/html": [
       "<pre>| Initial | 0us          | 3.44659           | 1.8565                |             |</pre>"
      ],
      "text/plain": [
       "| Initial | 0us          | 3.44659           | 1.8565                |             |"
      ]
     },
     "metadata": {},
     "output_type": "display_data"
    },
    {
     "data": {
      "text/html": [
       "<pre>+---------+--------------+-------------------+-----------------------+-------------+</pre>"
      ],
      "text/plain": [
       "+---------+--------------+-------------------+-----------------------+-------------+"
      ]
     },
     "metadata": {},
     "output_type": "display_data"
    },
    {
     "data": {
      "text/html": [
       "<pre>| 1       | 624.662ms    | 3.32089           | 1.82233               | 0.0016276   |</pre>"
      ],
      "text/plain": [
       "| 1       | 624.662ms    | 3.32089           | 1.82233               | 0.0016276   |"
      ]
     },
     "metadata": {},
     "output_type": "display_data"
    },
    {
     "data": {
      "text/html": [
       "<pre>| 2       | 1.23s        | 3.2581            | 1.80502               | 0.0016276   |</pre>"
      ],
      "text/plain": [
       "| 2       | 1.23s        | 3.2581            | 1.80502               | 0.0016276   |"
      ]
     },
     "metadata": {},
     "output_type": "display_data"
    },
    {
     "data": {
      "text/html": [
       "<pre>| 3       | 1.90s        | 5.75551           | 2.39906               | 0.0016276   |</pre>"
      ],
      "text/plain": [
       "| 3       | 1.90s        | 5.75551           | 2.39906               | 0.0016276   |"
      ]
     },
     "metadata": {},
     "output_type": "display_data"
    },
    {
     "data": {
      "text/html": [
       "<pre>| 4       | 2.66s        | DIVERGED          | DIVERGED              | 0.0016276   |</pre>"
      ],
      "text/plain": [
       "| 4       | 2.66s        | DIVERGED          | DIVERGED              | 0.0016276   |"
      ]
     },
     "metadata": {},
     "output_type": "display_data"
    },
    {
     "data": {
      "text/html": [
       "<pre>| RESET   | 2.81s        | 3.44663           | 1.85651               |             |</pre>"
      ],
      "text/plain": [
       "| RESET   | 2.81s        | 3.44663           | 1.85651               |             |"
      ]
     },
     "metadata": {},
     "output_type": "display_data"
    },
    {
     "data": {
      "text/html": [
       "<pre>| 1       | 3.42s        | 3.3787            | 1.83812               | 0.000813802 |</pre>"
      ],
      "text/plain": [
       "| 1       | 3.42s        | 3.3787            | 1.83812               | 0.000813802 |"
      ]
     },
     "metadata": {},
     "output_type": "display_data"
    },
    {
     "data": {
      "text/html": [
       "<pre>| 2       | 4.05s        | 3.32815           | 1.82432               | 0.000813802 |</pre>"
      ],
      "text/plain": [
       "| 2       | 4.05s        | 3.32815           | 1.82432               | 0.000813802 |"
      ]
     },
     "metadata": {},
     "output_type": "display_data"
    },
    {
     "data": {
      "text/html": [
       "<pre>| 3       | 4.67s        | 3.29578           | 1.81543               | 0.000813802 |</pre>"
      ],
      "text/plain": [
       "| 3       | 4.67s        | 3.29578           | 1.81543               | 0.000813802 |"
      ]
     },
     "metadata": {},
     "output_type": "display_data"
    },
    {
     "data": {
      "text/html": [
       "<pre>| 6       | 6.60s        | 3.22555           | 1.79598               | 0.000813802 |</pre>"
      ],
      "text/plain": [
       "| 6       | 6.60s        | 3.22555           | 1.79598               | 0.000813802 |"
      ]
     },
     "metadata": {},
     "output_type": "display_data"
    },
    {
     "data": {
      "text/html": [
       "<pre>| 8       | 7.84s        | 3.18986           | 1.78602               | 0.000813802 |</pre>"
      ],
      "text/plain": [
       "| 8       | 7.84s        | 3.18986           | 1.78602               | 0.000813802 |"
      ]
     },
     "metadata": {},
     "output_type": "display_data"
    },
    {
     "data": {
      "text/html": [
       "<pre>| 11      | 9.70s        | 3.146             | 1.7737                | 0.000813802 |</pre>"
      ],
      "text/plain": [
       "| 11      | 9.70s        | 3.146             | 1.7737                | 0.000813802 |"
      ]
     },
     "metadata": {},
     "output_type": "display_data"
    },
    {
     "data": {
      "text/html": [
       "<pre>| 16      | 12.83s       | 3.09098           | 1.75812               | 0.000813802 |</pre>"
      ],
      "text/plain": [
       "| 16      | 12.83s       | 3.09098           | 1.75812               | 0.000813802 |"
      ]
     },
     "metadata": {},
     "output_type": "display_data"
    },
    {
     "data": {
      "text/html": [
       "<pre>| 21      | 15.97s       | 3.06363           | 1.75032               | 0.000813802 |</pre>"
      ],
      "text/plain": [
       "| 21      | 15.97s       | 3.06363           | 1.75032               | 0.000813802 |"
      ]
     },
     "metadata": {},
     "output_type": "display_data"
    },
    {
     "data": {
      "text/html": [
       "<pre>| 26      | 19.05s       | 3.16138           | 1.77803               | 0.000813802 |</pre>"
      ],
      "text/plain": [
       "| 26      | 19.05s       | 3.16138           | 1.77803               | 0.000813802 |"
      ]
     },
     "metadata": {},
     "output_type": "display_data"
    },
    {
     "data": {
      "text/html": [
       "<pre>| 31      | 22.28s       | DIVERGED          | DIVERGED              | 0.000813802 |</pre>"
      ],
      "text/plain": [
       "| 31      | 22.28s       | DIVERGED          | DIVERGED              | 0.000813802 |"
      ]
     },
     "metadata": {},
     "output_type": "display_data"
    },
    {
     "data": {
      "text/html": [
       "<pre>| RESET   | 22.42s       | 3.44643           | 1.85646               |             |</pre>"
      ],
      "text/plain": [
       "| RESET   | 22.42s       | 3.44643           | 1.85646               |             |"
      ]
     },
     "metadata": {},
     "output_type": "display_data"
    },
    {
     "data": {
      "text/html": [
       "<pre>| 1       | 23.04s       | 3.41126           | 1.84696               | 0.000406901 |</pre>"
      ],
      "text/plain": [
       "| 1       | 23.04s       | 3.41126           | 1.84696               | 0.000406901 |"
      ]
     },
     "metadata": {},
     "output_type": "display_data"
    },
    {
     "data": {
      "text/html": [
       "<pre>| 5       | 25.48s       | 3.34166           | 1.82802               | 0.000406901 |</pre>"
      ],
      "text/plain": [
       "| 5       | 25.48s       | 3.34166           | 1.82802               | 0.000406901 |"
      ]
     },
     "metadata": {},
     "output_type": "display_data"
    },
    {
     "data": {
      "text/html": [
       "<pre>| 10      | 28.59s       | 3.30076           | 1.8168                | 0.000406901 |</pre>"
      ],
      "text/plain": [
       "| 10      | 28.59s       | 3.30076           | 1.8168                | 0.000406901 |"
      ]
     },
     "metadata": {},
     "output_type": "display_data"
    },
    {
     "data": {
      "text/html": [
       "<pre>| 15      | 31.68s       | 3.26934           | 1.80813               | 0.000406901 |</pre>"
      ],
      "text/plain": [
       "| 15      | 31.68s       | 3.26934           | 1.80813               | 0.000406901 |"
      ]
     },
     "metadata": {},
     "output_type": "display_data"
    },
    {
     "data": {
      "text/html": [
       "<pre>| 18      | 33.54s       | 3.25257           | 1.80349               | 0.000406901 |</pre>"
      ],
      "text/plain": [
       "| 18      | 33.54s       | 3.25257           | 1.80349               | 0.000406901 |"
      ]
     },
     "metadata": {},
     "output_type": "display_data"
    },
    {
     "data": {
      "text/html": [
       "<pre>| 20      | 34.80s       | 3.24219           | 1.80061               | 0.000406901 |</pre>"
      ],
      "text/plain": [
       "| 20      | 34.80s       | 3.24219           | 1.80061               | 0.000406901 |"
      ]
     },
     "metadata": {},
     "output_type": "display_data"
    },
    {
     "data": {
      "text/html": [
       "<pre>+---------+--------------+-------------------+-----------------------+-------------+</pre>"
      ],
      "text/plain": [
       "+---------+--------------+-------------------+-----------------------+-------------+"
      ]
     },
     "metadata": {},
     "output_type": "display_data"
    },
    {
     "data": {
      "text/html": [
       "<pre>Optimization Complete: Maximum number of passes through the data reached (hard limit).</pre>"
      ],
      "text/plain": [
       "Optimization Complete: Maximum number of passes through the data reached (hard limit)."
      ]
     },
     "metadata": {},
     "output_type": "display_data"
    },
    {
     "data": {
      "text/html": [
       "<pre>Computing final objective value and training RMSE.</pre>"
      ],
      "text/plain": [
       "Computing final objective value and training RMSE."
      ]
     },
     "metadata": {},
     "output_type": "display_data"
    },
    {
     "data": {
      "text/html": [
       "<pre>       Final objective value: 3.23963</pre>"
      ],
      "text/plain": [
       "       Final objective value: 3.23963"
      ]
     },
     "metadata": {},
     "output_type": "display_data"
    },
    {
     "data": {
      "text/html": [
       "<pre>       Final training RMSE: 1.7999</pre>"
      ],
      "text/plain": [
       "       Final training RMSE: 1.7999"
      ]
     },
     "metadata": {},
     "output_type": "display_data"
    },
    {
     "data": {
      "text/html": [
       "<pre>Recsys training: model = factorization_recommender</pre>"
      ],
      "text/plain": [
       "Recsys training: model = factorization_recommender"
      ]
     },
     "metadata": {},
     "output_type": "display_data"
    },
    {
     "data": {
      "text/html": [
       "<pre>Preparing data set.</pre>"
      ],
      "text/plain": [
       "Preparing data set."
      ]
     },
     "metadata": {},
     "output_type": "display_data"
    },
    {
     "data": {
      "text/html": [
       "<pre>    Data has 433201 observations with 36407 users and 26099 items.</pre>"
      ],
      "text/plain": [
       "    Data has 433201 observations with 36407 users and 26099 items."
      ]
     },
     "metadata": {},
     "output_type": "display_data"
    },
    {
     "data": {
      "text/html": [
       "<pre>    Data prepared in: 0.275233s</pre>"
      ],
      "text/plain": [
       "    Data prepared in: 0.275233s"
      ]
     },
     "metadata": {},
     "output_type": "display_data"
    },
    {
     "data": {
      "text/html": [
       "<pre>Training factorization_recommender for recommendations.</pre>"
      ],
      "text/plain": [
       "Training factorization_recommender for recommendations."
      ]
     },
     "metadata": {},
     "output_type": "display_data"
    },
    {
     "data": {
      "text/html": [
       "<pre>+--------------------------------+--------------------------------------------------+----------+</pre>"
      ],
      "text/plain": [
       "+--------------------------------+--------------------------------------------------+----------+"
      ]
     },
     "metadata": {},
     "output_type": "display_data"
    },
    {
     "data": {
      "text/html": [
       "<pre>| Parameter                      | Description                                      | Value    |</pre>"
      ],
      "text/plain": [
       "| Parameter                      | Description                                      | Value    |"
      ]
     },
     "metadata": {},
     "output_type": "display_data"
    },
    {
     "data": {
      "text/html": [
       "<pre>+--------------------------------+--------------------------------------------------+----------+</pre>"
      ],
      "text/plain": [
       "+--------------------------------+--------------------------------------------------+----------+"
      ]
     },
     "metadata": {},
     "output_type": "display_data"
    },
    {
     "data": {
      "text/html": [
       "<pre>| num_factors                    | Factor Dimension                                 | 8        |</pre>"
      ],
      "text/plain": [
       "| num_factors                    | Factor Dimension                                 | 8        |"
      ]
     },
     "metadata": {},
     "output_type": "display_data"
    },
    {
     "data": {
      "text/html": [
       "<pre>| regularization                 | L2 Regularization on Factors                     | 1e-008   |</pre>"
      ],
      "text/plain": [
       "| regularization                 | L2 Regularization on Factors                     | 1e-008   |"
      ]
     },
     "metadata": {},
     "output_type": "display_data"
    },
    {
     "data": {
      "text/html": [
       "<pre>| solver                         | Solver used for training                         | adagrad  |</pre>"
      ],
      "text/plain": [
       "| solver                         | Solver used for training                         | adagrad  |"
      ]
     },
     "metadata": {},
     "output_type": "display_data"
    },
    {
     "data": {
      "text/html": [
       "<pre>| linear_regularization          | L2 Regularization on Linear Coefficients         | 1e-010   |</pre>"
      ],
      "text/plain": [
       "| linear_regularization          | L2 Regularization on Linear Coefficients         | 1e-010   |"
      ]
     },
     "metadata": {},
     "output_type": "display_data"
    },
    {
     "data": {
      "text/html": [
       "<pre>| side_data_factorization        | Assign Factors for Side Data                     | True     |</pre>"
      ],
      "text/plain": [
       "| side_data_factorization        | Assign Factors for Side Data                     | True     |"
      ]
     },
     "metadata": {},
     "output_type": "display_data"
    },
    {
     "data": {
      "text/html": [
       "<pre>| max_iterations                 | Maximum Number of Iterations                     | 50       |</pre>"
      ],
      "text/plain": [
       "| max_iterations                 | Maximum Number of Iterations                     | 50       |"
      ]
     },
     "metadata": {},
     "output_type": "display_data"
    },
    {
     "data": {
      "text/html": [
       "<pre>+--------------------------------+--------------------------------------------------+----------+</pre>"
      ],
      "text/plain": [
       "+--------------------------------+--------------------------------------------------+----------+"
      ]
     },
     "metadata": {},
     "output_type": "display_data"
    },
    {
     "data": {
      "text/html": [
       "<pre>  Optimizing model using SGD; tuning step size.</pre>"
      ],
      "text/plain": [
       "  Optimizing model using SGD; tuning step size."
      ]
     },
     "metadata": {},
     "output_type": "display_data"
    },
    {
     "data": {
      "text/html": [
       "<pre>  Using 54150 / 433201 points for tuning the step size.</pre>"
      ],
      "text/plain": [
       "  Using 54150 / 433201 points for tuning the step size."
      ]
     },
     "metadata": {},
     "output_type": "display_data"
    },
    {
     "data": {
      "text/html": [
       "<pre>+---------+-------------------+------------------------------------------+</pre>"
      ],
      "text/plain": [
       "+---------+-------------------+------------------------------------------+"
      ]
     },
     "metadata": {},
     "output_type": "display_data"
    },
    {
     "data": {
      "text/html": [
       "<pre>| Attempt | Initial Step Size | Estimated Objective Value                |</pre>"
      ],
      "text/plain": [
       "| Attempt | Initial Step Size | Estimated Objective Value                |"
      ]
     },
     "metadata": {},
     "output_type": "display_data"
    },
    {
     "data": {
      "text/html": [
       "<pre>+---------+-------------------+------------------------------------------+</pre>"
      ],
      "text/plain": [
       "+---------+-------------------+------------------------------------------+"
      ]
     },
     "metadata": {},
     "output_type": "display_data"
    },
    {
     "data": {
      "text/html": [
       "<pre>| 0       | 7.14286           | Not Viable                               |</pre>"
      ],
      "text/plain": [
       "| 0       | 7.14286           | Not Viable                               |"
      ]
     },
     "metadata": {},
     "output_type": "display_data"
    },
    {
     "data": {
      "text/html": [
       "<pre>| 1       | 1.78571           | 2.13037                                  |</pre>"
      ],
      "text/plain": [
       "| 1       | 1.78571           | 2.13037                                  |"
      ]
     },
     "metadata": {},
     "output_type": "display_data"
    },
    {
     "data": {
      "text/html": [
       "<pre>| 2       | 0.892857          | 0.440548                                 |</pre>"
      ],
      "text/plain": [
       "| 2       | 0.892857          | 0.440548                                 |"
      ]
     },
     "metadata": {},
     "output_type": "display_data"
    },
    {
     "data": {
      "text/html": [
       "<pre>| 3       | 0.446429          | 0.240097                                 |</pre>"
      ],
      "text/plain": [
       "| 3       | 0.446429          | 0.240097                                 |"
      ]
     },
     "metadata": {},
     "output_type": "display_data"
    },
    {
     "data": {
      "text/html": [
       "<pre>| 4       | 0.223214          | 0.27693                                  |</pre>"
      ],
      "text/plain": [
       "| 4       | 0.223214          | 0.27693                                  |"
      ]
     },
     "metadata": {},
     "output_type": "display_data"
    },
    {
     "data": {
      "text/html": [
       "<pre>| 5       | 0.111607          | 0.954526                                 |</pre>"
      ],
      "text/plain": [
       "| 5       | 0.111607          | 0.954526                                 |"
      ]
     },
     "metadata": {},
     "output_type": "display_data"
    },
    {
     "data": {
      "text/html": [
       "<pre>+---------+-------------------+------------------------------------------+</pre>"
      ],
      "text/plain": [
       "+---------+-------------------+------------------------------------------+"
      ]
     },
     "metadata": {},
     "output_type": "display_data"
    },
    {
     "data": {
      "text/html": [
       "<pre>| Final   | 0.446429          | 0.240097                                 |</pre>"
      ],
      "text/plain": [
       "| Final   | 0.446429          | 0.240097                                 |"
      ]
     },
     "metadata": {},
     "output_type": "display_data"
    },
    {
     "data": {
      "text/html": [
       "<pre>+---------+-------------------+------------------------------------------+</pre>"
      ],
      "text/plain": [
       "+---------+-------------------+------------------------------------------+"
      ]
     },
     "metadata": {},
     "output_type": "display_data"
    },
    {
     "data": {
      "text/html": [
       "<pre>Starting Optimization.</pre>"
      ],
      "text/plain": [
       "Starting Optimization."
      ]
     },
     "metadata": {},
     "output_type": "display_data"
    },
    {
     "data": {
      "text/html": [
       "<pre>+---------+--------------+-------------------+-----------------------+-------------+</pre>"
      ],
      "text/plain": [
       "+---------+--------------+-------------------+-----------------------+-------------+"
      ]
     },
     "metadata": {},
     "output_type": "display_data"
    },
    {
     "data": {
      "text/html": [
       "<pre>| Iter.   | Elapsed Time | Approx. Objective | Approx. Training RMSE | Step Size   |</pre>"
      ],
      "text/plain": [
       "| Iter.   | Elapsed Time | Approx. Objective | Approx. Training RMSE | Step Size   |"
      ]
     },
     "metadata": {},
     "output_type": "display_data"
    },
    {
     "data": {
      "text/html": [
       "<pre>+---------+--------------+-------------------+-----------------------+-------------+</pre>"
      ],
      "text/plain": [
       "+---------+--------------+-------------------+-----------------------+-------------+"
      ]
     },
     "metadata": {},
     "output_type": "display_data"
    },
    {
     "data": {
      "text/html": [
       "<pre>| Initial | 0us          | 3.44638           | 1.85644               |             |</pre>"
      ],
      "text/plain": [
       "| Initial | 0us          | 3.44638           | 1.85644               |             |"
      ]
     },
     "metadata": {},
     "output_type": "display_data"
    },
    {
     "data": {
      "text/html": [
       "<pre>+---------+--------------+-------------------+-----------------------+-------------+</pre>"
      ],
      "text/plain": [
       "+---------+--------------+-------------------+-----------------------+-------------+"
      ]
     },
     "metadata": {},
     "output_type": "display_data"
    },
    {
     "data": {
      "text/html": [
       "<pre>| 1       | 241.141ms    | 2.48574           | 1.57619               | 0.446429    |</pre>"
      ],
      "text/plain": [
       "| 1       | 241.141ms    | 2.48574           | 1.57619               | 0.446429    |"
      ]
     },
     "metadata": {},
     "output_type": "display_data"
    },
    {
     "data": {
      "text/html": [
       "<pre>| 2       | 468.767ms    | 1.64569           | 1.28236               | 0.446429    |</pre>"
      ],
      "text/plain": [
       "| 2       | 468.767ms    | 1.64569           | 1.28236               | 0.446429    |"
      ]
     },
     "metadata": {},
     "output_type": "display_data"
    },
    {
     "data": {
      "text/html": [
       "<pre>| 3       | 686.345ms    | 1.34694           | 1.16003               | 0.446429    |</pre>"
      ],
      "text/plain": [
       "| 3       | 686.345ms    | 1.34694           | 1.16003               | 0.446429    |"
      ]
     },
     "metadata": {},
     "output_type": "display_data"
    },
    {
     "data": {
      "text/html": [
       "<pre>| 4       | 931.497ms    | 1.20304           | 1.09624               | 0.446429    |</pre>"
      ],
      "text/plain": [
       "| 4       | 931.497ms    | 1.20304           | 1.09624               | 0.446429    |"
      ]
     },
     "metadata": {},
     "output_type": "display_data"
    },
    {
     "data": {
      "text/html": [
       "<pre>| 5       | 1.15s        | 1.11767           | 1.05657               | 0.446429    |</pre>"
      ],
      "text/plain": [
       "| 5       | 1.15s        | 1.11767           | 1.05657               | 0.446429    |"
      ]
     },
     "metadata": {},
     "output_type": "display_data"
    },
    {
     "data": {
      "text/html": [
       "<pre>| 6       | 1.37s        | 1.05869           | 1.02826               | 0.446429    |</pre>"
      ],
      "text/plain": [
       "| 6       | 1.37s        | 1.05869           | 1.02826               | 0.446429    |"
      ]
     },
     "metadata": {},
     "output_type": "display_data"
    },
    {
     "data": {
      "text/html": [
       "<pre>| 10      | 2.28s        | 0.943274          | 0.970474              | 0.446429    |</pre>"
      ],
      "text/plain": [
       "| 10      | 2.28s        | 0.943274          | 0.970474              | 0.446429    |"
      ]
     },
     "metadata": {},
     "output_type": "display_data"
    },
    {
     "data": {
      "text/html": [
       "<pre>| 11      | 2.50s        | 0.925955          | 0.9615                | 0.446429    |</pre>"
      ],
      "text/plain": [
       "| 11      | 2.50s        | 0.925955          | 0.9615                | 0.446429    |"
      ]
     },
     "metadata": {},
     "output_type": "display_data"
    },
    {
     "data": {
      "text/html": [
       "<pre>| 15      | 3.54s        | 0.879539          | 0.93702               | 0.446429    |</pre>"
      ],
      "text/plain": [
       "| 15      | 3.54s        | 0.879539          | 0.93702               | 0.446429    |"
      ]
     },
     "metadata": {},
     "output_type": "display_data"
    },
    {
     "data": {
      "text/html": [
       "<pre>| 20      | 4.66s        | 0.845617          | 0.918711              | 0.446429    |</pre>"
      ],
      "text/plain": [
       "| 20      | 4.66s        | 0.845617          | 0.918711              | 0.446429    |"
      ]
     },
     "metadata": {},
     "output_type": "display_data"
    },
    {
     "data": {
      "text/html": [
       "<pre>| 25      | 5.89s        | 0.82575           | 0.907811              | 0.446429    |</pre>"
      ],
      "text/plain": [
       "| 25      | 5.89s        | 0.82575           | 0.907811              | 0.446429    |"
      ]
     },
     "metadata": {},
     "output_type": "display_data"
    },
    {
     "data": {
      "text/html": [
       "<pre>| 30      | 7.04s        | 0.812306          | 0.900356              | 0.446429    |</pre>"
      ],
      "text/plain": [
       "| 30      | 7.04s        | 0.812306          | 0.900356              | 0.446429    |"
      ]
     },
     "metadata": {},
     "output_type": "display_data"
    },
    {
     "data": {
      "text/html": [
       "<pre>| 35      | 8.26s        | 0.794579          | 0.89044               | 0.446429    |</pre>"
      ],
      "text/plain": [
       "| 35      | 8.26s        | 0.794579          | 0.89044               | 0.446429    |"
      ]
     },
     "metadata": {},
     "output_type": "display_data"
    },
    {
     "data": {
      "text/html": [
       "<pre>| 40      | 9.44s        | 0.787002          | 0.88616               | 0.446429    |</pre>"
      ],
      "text/plain": [
       "| 40      | 9.44s        | 0.787002          | 0.88616               | 0.446429    |"
      ]
     },
     "metadata": {},
     "output_type": "display_data"
    },
    {
     "data": {
      "text/html": [
       "<pre>| 45      | 10.80s       | 0.780013          | 0.882193              | 0.446429    |</pre>"
      ],
      "text/plain": [
       "| 45      | 10.80s       | 0.780013          | 0.882193              | 0.446429    |"
      ]
     },
     "metadata": {},
     "output_type": "display_data"
    },
    {
     "data": {
      "text/html": [
       "<pre>| 50      | 11.95s       | 0.772622          | 0.877982              | 0.446429    |</pre>"
      ],
      "text/plain": [
       "| 50      | 11.95s       | 0.772622          | 0.877982              | 0.446429    |"
      ]
     },
     "metadata": {},
     "output_type": "display_data"
    },
    {
     "data": {
      "text/html": [
       "<pre>+---------+--------------+-------------------+-----------------------+-------------+</pre>"
      ],
      "text/plain": [
       "+---------+--------------+-------------------+-----------------------+-------------+"
      ]
     },
     "metadata": {},
     "output_type": "display_data"
    },
    {
     "data": {
      "text/html": [
       "<pre>Optimization Complete: Maximum number of passes through the data reached.</pre>"
      ],
      "text/plain": [
       "Optimization Complete: Maximum number of passes through the data reached."
      ]
     },
     "metadata": {},
     "output_type": "display_data"
    },
    {
     "data": {
      "text/html": [
       "<pre>Computing final objective value and training RMSE.</pre>"
      ],
      "text/plain": [
       "Computing final objective value and training RMSE."
      ]
     },
     "metadata": {},
     "output_type": "display_data"
    },
    {
     "data": {
      "text/html": [
       "<pre>       Final objective value: 0.731364</pre>"
      ],
      "text/plain": [
       "       Final objective value: 0.731364"
      ]
     },
     "metadata": {},
     "output_type": "display_data"
    },
    {
     "data": {
      "text/html": [
       "<pre>       Final training RMSE: 0.854163</pre>"
      ],
      "text/plain": [
       "       Final training RMSE: 0.854163"
      ]
     },
     "metadata": {},
     "output_type": "display_data"
    },
    {
     "data": {
      "text/html": [
       "<pre>Recsys training: model = factorization_recommender</pre>"
      ],
      "text/plain": [
       "Recsys training: model = factorization_recommender"
      ]
     },
     "metadata": {},
     "output_type": "display_data"
    },
    {
     "data": {
      "text/html": [
       "<pre>Preparing data set.</pre>"
      ],
      "text/plain": [
       "Preparing data set."
      ]
     },
     "metadata": {},
     "output_type": "display_data"
    },
    {
     "data": {
      "text/html": [
       "<pre>    Data has 433201 observations with 36407 users and 26093 items.</pre>"
      ],
      "text/plain": [
       "    Data has 433201 observations with 36407 users and 26093 items."
      ]
     },
     "metadata": {},
     "output_type": "display_data"
    },
    {
     "data": {
      "text/html": [
       "<pre>    Data prepared in: 0.400569s</pre>"
      ],
      "text/plain": [
       "    Data prepared in: 0.400569s"
      ]
     },
     "metadata": {},
     "output_type": "display_data"
    },
    {
     "data": {
      "text/html": [
       "<pre>Training factorization_recommender for recommendations.</pre>"
      ],
      "text/plain": [
       "Training factorization_recommender for recommendations."
      ]
     },
     "metadata": {},
     "output_type": "display_data"
    },
    {
     "data": {
      "text/html": [
       "<pre>+--------------------------------+--------------------------------------------------+----------+</pre>"
      ],
      "text/plain": [
       "+--------------------------------+--------------------------------------------------+----------+"
      ]
     },
     "metadata": {},
     "output_type": "display_data"
    },
    {
     "data": {
      "text/html": [
       "<pre>| Parameter                      | Description                                      | Value    |</pre>"
      ],
      "text/plain": [
       "| Parameter                      | Description                                      | Value    |"
      ]
     },
     "metadata": {},
     "output_type": "display_data"
    },
    {
     "data": {
      "text/html": [
       "<pre>+--------------------------------+--------------------------------------------------+----------+</pre>"
      ],
      "text/plain": [
       "+--------------------------------+--------------------------------------------------+----------+"
      ]
     },
     "metadata": {},
     "output_type": "display_data"
    },
    {
     "data": {
      "text/html": [
       "<pre>| num_factors                    | Factor Dimension                                 | 8        |</pre>"
      ],
      "text/plain": [
       "| num_factors                    | Factor Dimension                                 | 8        |"
      ]
     },
     "metadata": {},
     "output_type": "display_data"
    },
    {
     "data": {
      "text/html": [
       "<pre>| regularization                 | L2 Regularization on Factors                     | 1e-008   |</pre>"
      ],
      "text/plain": [
       "| regularization                 | L2 Regularization on Factors                     | 1e-008   |"
      ]
     },
     "metadata": {},
     "output_type": "display_data"
    },
    {
     "data": {
      "text/html": [
       "<pre>| solver                         | Solver used for training                         | adagrad  |</pre>"
      ],
      "text/plain": [
       "| solver                         | Solver used for training                         | adagrad  |"
      ]
     },
     "metadata": {},
     "output_type": "display_data"
    },
    {
     "data": {
      "text/html": [
       "<pre>| linear_regularization          | L2 Regularization on Linear Coefficients         | 1e-010   |</pre>"
      ],
      "text/plain": [
       "| linear_regularization          | L2 Regularization on Linear Coefficients         | 1e-010   |"
      ]
     },
     "metadata": {},
     "output_type": "display_data"
    },
    {
     "data": {
      "text/html": [
       "<pre>| side_data_factorization        | Assign Factors for Side Data                     | True     |</pre>"
      ],
      "text/plain": [
       "| side_data_factorization        | Assign Factors for Side Data                     | True     |"
      ]
     },
     "metadata": {},
     "output_type": "display_data"
    },
    {
     "data": {
      "text/html": [
       "<pre>| max_iterations                 | Maximum Number of Iterations                     | 50       |</pre>"
      ],
      "text/plain": [
       "| max_iterations                 | Maximum Number of Iterations                     | 50       |"
      ]
     },
     "metadata": {},
     "output_type": "display_data"
    },
    {
     "data": {
      "text/html": [
       "<pre>+--------------------------------+--------------------------------------------------+----------+</pre>"
      ],
      "text/plain": [
       "+--------------------------------+--------------------------------------------------+----------+"
      ]
     },
     "metadata": {},
     "output_type": "display_data"
    },
    {
     "data": {
      "text/html": [
       "<pre>  Optimizing model using SGD; tuning step size.</pre>"
      ],
      "text/plain": [
       "  Optimizing model using SGD; tuning step size."
      ]
     },
     "metadata": {},
     "output_type": "display_data"
    },
    {
     "data": {
      "text/html": [
       "<pre>  Using 54150 / 433201 points for tuning the step size.</pre>"
      ],
      "text/plain": [
       "  Using 54150 / 433201 points for tuning the step size."
      ]
     },
     "metadata": {},
     "output_type": "display_data"
    },
    {
     "data": {
      "text/html": [
       "<pre>+---------+-------------------+------------------------------------------+</pre>"
      ],
      "text/plain": [
       "+---------+-------------------+------------------------------------------+"
      ]
     },
     "metadata": {},
     "output_type": "display_data"
    },
    {
     "data": {
      "text/html": [
       "<pre>| Attempt | Initial Step Size | Estimated Objective Value                |</pre>"
      ],
      "text/plain": [
       "| Attempt | Initial Step Size | Estimated Objective Value                |"
      ]
     },
     "metadata": {},
     "output_type": "display_data"
    },
    {
     "data": {
      "text/html": [
       "<pre>+---------+-------------------+------------------------------------------+</pre>"
      ],
      "text/plain": [
       "+---------+-------------------+------------------------------------------+"
      ]
     },
     "metadata": {},
     "output_type": "display_data"
    },
    {
     "data": {
      "text/html": [
       "<pre>| 0       | 1.42857           | 0.819969                                 |</pre>"
      ],
      "text/plain": [
       "| 0       | 1.42857           | 0.819969                                 |"
      ]
     },
     "metadata": {},
     "output_type": "display_data"
    },
    {
     "data": {
      "text/html": [
       "<pre>| 1       | 0.714286          | 0.378838                                 |</pre>"
      ],
      "text/plain": [
       "| 1       | 0.714286          | 0.378838                                 |"
      ]
     },
     "metadata": {},
     "output_type": "display_data"
    },
    {
     "data": {
      "text/html": [
       "<pre>| 2       | 0.357143          | 0.23225                                  |</pre>"
      ],
      "text/plain": [
       "| 2       | 0.357143          | 0.23225                                  |"
      ]
     },
     "metadata": {},
     "output_type": "display_data"
    },
    {
     "data": {
      "text/html": [
       "<pre>| 3       | 0.178571          | 0.510652                                 |</pre>"
      ],
      "text/plain": [
       "| 3       | 0.178571          | 0.510652                                 |"
      ]
     },
     "metadata": {},
     "output_type": "display_data"
    },
    {
     "data": {
      "text/html": [
       "<pre>+---------+-------------------+------------------------------------------+</pre>"
      ],
      "text/plain": [
       "+---------+-------------------+------------------------------------------+"
      ]
     },
     "metadata": {},
     "output_type": "display_data"
    },
    {
     "data": {
      "text/html": [
       "<pre>| Final   | 0.357143          | 0.23225                                  |</pre>"
      ],
      "text/plain": [
       "| Final   | 0.357143          | 0.23225                                  |"
      ]
     },
     "metadata": {},
     "output_type": "display_data"
    },
    {
     "data": {
      "text/html": [
       "<pre>+---------+-------------------+------------------------------------------+</pre>"
      ],
      "text/plain": [
       "+---------+-------------------+------------------------------------------+"
      ]
     },
     "metadata": {},
     "output_type": "display_data"
    },
    {
     "data": {
      "text/html": [
       "<pre>Starting Optimization.</pre>"
      ],
      "text/plain": [
       "Starting Optimization."
      ]
     },
     "metadata": {},
     "output_type": "display_data"
    },
    {
     "data": {
      "text/html": [
       "<pre>+---------+--------------+-------------------+-----------------------+-------------+</pre>"
      ],
      "text/plain": [
       "+---------+--------------+-------------------+-----------------------+-------------+"
      ]
     },
     "metadata": {},
     "output_type": "display_data"
    },
    {
     "data": {
      "text/html": [
       "<pre>| Iter.   | Elapsed Time | Approx. Objective | Approx. Training RMSE | Step Size   |</pre>"
      ],
      "text/plain": [
       "| Iter.   | Elapsed Time | Approx. Objective | Approx. Training RMSE | Step Size   |"
      ]
     },
     "metadata": {},
     "output_type": "display_data"
    },
    {
     "data": {
      "text/html": [
       "<pre>+---------+--------------+-------------------+-----------------------+-------------+</pre>"
      ],
      "text/plain": [
       "+---------+--------------+-------------------+-----------------------+-------------+"
      ]
     },
     "metadata": {},
     "output_type": "display_data"
    },
    {
     "data": {
      "text/html": [
       "<pre>| Initial | 0us          | 3.4457            | 1.85626               |             |</pre>"
      ],
      "text/plain": [
       "| Initial | 0us          | 3.4457            | 1.85626               |             |"
      ]
     },
     "metadata": {},
     "output_type": "display_data"
    },
    {
     "data": {
      "text/html": [
       "<pre>+---------+--------------+-------------------+-----------------------+-------------+</pre>"
      ],
      "text/plain": [
       "+---------+--------------+-------------------+-----------------------+-------------+"
      ]
     },
     "metadata": {},
     "output_type": "display_data"
    },
    {
     "data": {
      "text/html": [
       "<pre>| 1       | 662.262ms    | 2.38493           | 1.54402               | 0.357143    |</pre>"
      ],
      "text/plain": [
       "| 1       | 662.262ms    | 2.38493           | 1.54402               | 0.357143    |"
      ]
     },
     "metadata": {},
     "output_type": "display_data"
    },
    {
     "data": {
      "text/html": [
       "<pre>| 2       | 1.30s        | 1.58924           | 1.2603                | 0.357143    |</pre>"
      ],
      "text/plain": [
       "| 2       | 1.30s        | 1.58924           | 1.2603                | 0.357143    |"
      ]
     },
     "metadata": {},
     "output_type": "display_data"
    },
    {
     "data": {
      "text/html": [
       "<pre>| 3       | 1.95s        | 1.3734            | 1.17154               | 0.357143    |</pre>"
      ],
      "text/plain": [
       "| 3       | 1.95s        | 1.3734            | 1.17154               | 0.357143    |"
      ]
     },
     "metadata": {},
     "output_type": "display_data"
    },
    {
     "data": {
      "text/html": [
       "<pre>| 4       | 2.75s        | 1.25933           | 1.1218                | 0.357143    |</pre>"
      ],
      "text/plain": [
       "| 4       | 2.75s        | 1.25933           | 1.1218                | 0.357143    |"
      ]
     },
     "metadata": {},
     "output_type": "display_data"
    },
    {
     "data": {
      "text/html": [
       "<pre>| 5       | 3.41s        | 1.18565           | 1.08845               | 0.357143    |</pre>"
      ],
      "text/plain": [
       "| 5       | 3.41s        | 1.18565           | 1.08845               | 0.357143    |"
      ]
     },
     "metadata": {},
     "output_type": "display_data"
    },
    {
     "data": {
      "text/html": [
       "<pre>| 6       | 4.06s        | 1.13321           | 1.06408               | 0.357143    |</pre>"
      ],
      "text/plain": [
       "| 6       | 4.06s        | 1.13321           | 1.06408               | 0.357143    |"
      ]
     },
     "metadata": {},
     "output_type": "display_data"
    },
    {
     "data": {
      "text/html": [
       "<pre>| 10      | 6.82s        | 1.02001           | 1.00946               | 0.357143    |</pre>"
      ],
      "text/plain": [
       "| 10      | 6.82s        | 1.02001           | 1.00946               | 0.357143    |"
      ]
     },
     "metadata": {},
     "output_type": "display_data"
    },
    {
     "data": {
      "text/html": [
       "<pre>| 11      | 7.47s        | 1.00276           | 1.00088               | 0.357143    |</pre>"
      ],
      "text/plain": [
       "| 11      | 7.47s        | 1.00276           | 1.00088               | 0.357143    |"
      ]
     },
     "metadata": {},
     "output_type": "display_data"
    },
    {
     "data": {
      "text/html": [
       "<pre>| 15      | 10.55s       | 0.95285           | 0.975607              | 0.357143    |</pre>"
      ],
      "text/plain": [
       "| 15      | 10.55s       | 0.95285           | 0.975607              | 0.357143    |"
      ]
     },
     "metadata": {},
     "output_type": "display_data"
    },
    {
     "data": {
      "text/html": [
       "<pre>| 20      | 14.14s       | 0.913935          | 0.95544               | 0.357143    |</pre>"
      ],
      "text/plain": [
       "| 20      | 14.14s       | 0.913935          | 0.95544               | 0.357143    |"
      ]
     },
     "metadata": {},
     "output_type": "display_data"
    },
    {
     "data": {
      "text/html": [
       "<pre>| 25      | 17.19s       | 0.888954          | 0.942263              | 0.357143    |</pre>"
      ],
      "text/plain": [
       "| 25      | 17.19s       | 0.888954          | 0.942263              | 0.357143    |"
      ]
     },
     "metadata": {},
     "output_type": "display_data"
    },
    {
     "data": {
      "text/html": [
       "<pre>| 30      | 20.18s       | 0.870797          | 0.932567              | 0.357143    |</pre>"
      ],
      "text/plain": [
       "| 30      | 20.18s       | 0.870797          | 0.932567              | 0.357143    |"
      ]
     },
     "metadata": {},
     "output_type": "display_data"
    },
    {
     "data": {
      "text/html": [
       "<pre>| 35      | 23.20s       | 0.855527          | 0.924334              | 0.357143    |</pre>"
      ],
      "text/plain": [
       "| 35      | 23.20s       | 0.855527          | 0.924334              | 0.357143    |"
      ]
     },
     "metadata": {},
     "output_type": "display_data"
    },
    {
     "data": {
      "text/html": [
       "<pre>| 40      | 26.22s       | 0.844272          | 0.918218              | 0.357143    |</pre>"
      ],
      "text/plain": [
       "| 40      | 26.22s       | 0.844272          | 0.918218              | 0.357143    |"
      ]
     },
     "metadata": {},
     "output_type": "display_data"
    },
    {
     "data": {
      "text/html": [
       "<pre>| 45      | 30.05s       | 0.834714          | 0.91299               | 0.357143    |</pre>"
      ],
      "text/plain": [
       "| 45      | 30.05s       | 0.834714          | 0.91299               | 0.357143    |"
      ]
     },
     "metadata": {},
     "output_type": "display_data"
    },
    {
     "data": {
      "text/html": [
       "<pre>| 50      | 33.30s       | 0.825806          | 0.908092              | 0.357143    |</pre>"
      ],
      "text/plain": [
       "| 50      | 33.30s       | 0.825806          | 0.908092              | 0.357143    |"
      ]
     },
     "metadata": {},
     "output_type": "display_data"
    },
    {
     "data": {
      "text/html": [
       "<pre>+---------+--------------+-------------------+-----------------------+-------------+</pre>"
      ],
      "text/plain": [
       "+---------+--------------+-------------------+-----------------------+-------------+"
      ]
     },
     "metadata": {},
     "output_type": "display_data"
    },
    {
     "data": {
      "text/html": [
       "<pre>Optimization Complete: Maximum number of passes through the data reached.</pre>"
      ],
      "text/plain": [
       "Optimization Complete: Maximum number of passes through the data reached."
      ]
     },
     "metadata": {},
     "output_type": "display_data"
    },
    {
     "data": {
      "text/html": [
       "<pre>Computing final objective value and training RMSE.</pre>"
      ],
      "text/plain": [
       "Computing final objective value and training RMSE."
      ]
     },
     "metadata": {},
     "output_type": "display_data"
    },
    {
     "data": {
      "text/html": [
       "<pre>       Final objective value: 0.799829</pre>"
      ],
      "text/plain": [
       "       Final objective value: 0.799829"
      ]
     },
     "metadata": {},
     "output_type": "display_data"
    },
    {
     "data": {
      "text/html": [
       "<pre>       Final training RMSE: 0.893674</pre>"
      ],
      "text/plain": [
       "       Final training RMSE: 0.893674"
      ]
     },
     "metadata": {},
     "output_type": "display_data"
    },
    {
     "data": {
      "text/html": [
       "<pre>recommendations finished on 1000/8934 queries. users per second: 9364.87</pre>"
      ],
      "text/plain": [
       "recommendations finished on 1000/8934 queries. users per second: 9364.87"
      ]
     },
     "metadata": {},
     "output_type": "display_data"
    },
    {
     "data": {
      "text/html": [
       "<pre>recommendations finished on 2000/8934 queries. users per second: 9431.2</pre>"
      ],
      "text/plain": [
       "recommendations finished on 2000/8934 queries. users per second: 9431.2"
      ]
     },
     "metadata": {},
     "output_type": "display_data"
    },
    {
     "data": {
      "text/html": [
       "<pre>recommendations finished on 3000/8934 queries. users per second: 9498.54</pre>"
      ],
      "text/plain": [
       "recommendations finished on 3000/8934 queries. users per second: 9498.54"
      ]
     },
     "metadata": {},
     "output_type": "display_data"
    },
    {
     "data": {
      "text/html": [
       "<pre>recommendations finished on 4000/8934 queries. users per second: 9566.86</pre>"
      ],
      "text/plain": [
       "recommendations finished on 4000/8934 queries. users per second: 9566.86"
      ]
     },
     "metadata": {},
     "output_type": "display_data"
    },
    {
     "data": {
      "text/html": [
       "<pre>recommendations finished on 5000/8934 queries. users per second: 9543.97</pre>"
      ],
      "text/plain": [
       "recommendations finished on 5000/8934 queries. users per second: 9543.97"
      ]
     },
     "metadata": {},
     "output_type": "display_data"
    },
    {
     "data": {
      "text/html": [
       "<pre>recommendations finished on 6000/8934 queries. users per second: 9528.77</pre>"
      ],
      "text/plain": [
       "recommendations finished on 6000/8934 queries. users per second: 9528.77"
      ]
     },
     "metadata": {},
     "output_type": "display_data"
    },
    {
     "data": {
      "text/html": [
       "<pre>recommendations finished on 7000/8934 queries. users per second: 9557.03</pre>"
      ],
      "text/plain": [
       "recommendations finished on 7000/8934 queries. users per second: 9557.03"
      ]
     },
     "metadata": {},
     "output_type": "display_data"
    },
    {
     "data": {
      "text/html": [
       "<pre>recommendations finished on 8000/8934 queries. users per second: 9578.33</pre>"
      ],
      "text/plain": [
       "recommendations finished on 8000/8934 queries. users per second: 9578.33"
      ]
     },
     "metadata": {},
     "output_type": "display_data"
    },
    {
     "name": "stdout",
     "output_type": "stream",
     "text": [
      "\n",
      "Precision and recall summary statistics by cutoff\n",
      "+--------+-------------------+-------------------+\n",
      "| cutoff |   mean_precision  |    mean_recall    |\n",
      "+--------+-------------------+-------------------+\n",
      "|   1    | 0.000111931945377 |  4.3723416163e-07 |\n",
      "|   2    | 0.000111931945377 | 3.10228048013e-06 |\n",
      "|   3    | 7.46212969181e-05 | 3.10228048013e-06 |\n",
      "|   4    | 5.59659726886e-05 | 3.10228048013e-06 |\n",
      "|   5    | 4.47727781509e-05 | 3.10228048013e-06 |\n",
      "|   6    | 7.46212969181e-05 | 0.000116756255786 |\n",
      "|   7    | 9.59416674662e-05 | 0.000119346027359 |\n",
      "|   8    | 9.79404522051e-05 | 0.000121041965925 |\n",
      "|   9    | 0.000124368828197 | 0.000141721467803 |\n",
      "|   10   | 0.000111931945377 | 0.000141721467803 |\n",
      "+--------+-------------------+-------------------+\n",
      "[10 rows x 3 columns]\n",
      "\n",
      "('\\nOverall RMSE: ', 1.7092802609611355)\n",
      "\n",
      "Per User RMSE (best)\n",
      "+---------+-------+-------------------+\n",
      "| user_id | count |        rmse       |\n",
      "+---------+-------+-------------------+\n",
      "|  11709  |   1   | 0.000420441687403 |\n",
      "+---------+-------+-------------------+\n",
      "[1 rows x 3 columns]\n",
      "\n",
      "\n",
      "Per User RMSE (worst)\n",
      "+---------+-------+---------------+\n",
      "| user_id | count |      rmse     |\n",
      "+---------+-------+---------------+\n",
      "|   9815  |   1   | 8.05836158043 |\n",
      "+---------+-------+---------------+\n",
      "[1 rows x 3 columns]\n",
      "\n",
      "\n",
      "Per Item RMSE (best)\n",
      "+---------+-------+-------------------+\n",
      "| item_id | count |        rmse       |\n",
      "+---------+-------+-------------------+\n",
      "|  344854 |   1   | 0.000287482678595 |\n",
      "+---------+-------+-------------------+\n",
      "[1 rows x 3 columns]\n",
      "\n",
      "\n",
      "Per Item RMSE (worst)\n",
      "+---------+-------+--------------+\n",
      "| item_id | count |     rmse     |\n",
      "+---------+-------+--------------+\n",
      "| 2355823 |   1   | 7.4945394302 |\n",
      "+---------+-------+--------------+\n",
      "[1 rows x 3 columns]\n",
      "\n"
     ]
    },
    {
     "data": {
      "text/html": [
       "<pre>recommendations finished on 1000/8934 queries. users per second: 3735.39</pre>"
      ],
      "text/plain": [
       "recommendations finished on 1000/8934 queries. users per second: 3735.39"
      ]
     },
     "metadata": {},
     "output_type": "display_data"
    },
    {
     "data": {
      "text/html": [
       "<pre>recommendations finished on 2000/8934 queries. users per second: 3774.25</pre>"
      ],
      "text/plain": [
       "recommendations finished on 2000/8934 queries. users per second: 3774.25"
      ]
     },
     "metadata": {},
     "output_type": "display_data"
    },
    {
     "data": {
      "text/html": [
       "<pre>recommendations finished on 3000/8934 queries. users per second: 3754.12</pre>"
      ],
      "text/plain": [
       "recommendations finished on 3000/8934 queries. users per second: 3754.12"
      ]
     },
     "metadata": {},
     "output_type": "display_data"
    },
    {
     "data": {
      "text/html": [
       "<pre>recommendations finished on 4000/8934 queries. users per second: 3751.17</pre>"
      ],
      "text/plain": [
       "recommendations finished on 4000/8934 queries. users per second: 3751.17"
      ]
     },
     "metadata": {},
     "output_type": "display_data"
    },
    {
     "data": {
      "text/html": [
       "<pre>recommendations finished on 5000/8934 queries. users per second: 3757.89</pre>"
      ],
      "text/plain": [
       "recommendations finished on 5000/8934 queries. users per second: 3757.89"
      ]
     },
     "metadata": {},
     "output_type": "display_data"
    },
    {
     "data": {
      "text/html": [
       "<pre>recommendations finished on 6000/8934 queries. users per second: 3769.48</pre>"
      ],
      "text/plain": [
       "recommendations finished on 6000/8934 queries. users per second: 3769.48"
      ]
     },
     "metadata": {},
     "output_type": "display_data"
    },
    {
     "data": {
      "text/html": [
       "<pre>recommendations finished on 7000/8934 queries. users per second: 3782.93</pre>"
      ],
      "text/plain": [
       "recommendations finished on 7000/8934 queries. users per second: 3782.93"
      ]
     },
     "metadata": {},
     "output_type": "display_data"
    },
    {
     "data": {
      "text/html": [
       "<pre>recommendations finished on 8000/8934 queries. users per second: 3780.5</pre>"
      ],
      "text/plain": [
       "recommendations finished on 8000/8934 queries. users per second: 3780.5"
      ]
     },
     "metadata": {},
     "output_type": "display_data"
    },
    {
     "name": "stdout",
     "output_type": "stream",
     "text": [
      "\n",
      "Precision and recall summary statistics by cutoff\n",
      "+--------+-----------------+------------------+\n",
      "| cutoff |  mean_precision |   mean_recall    |\n",
      "+--------+-----------------+------------------+\n",
      "|   1    | 0.0172375195881 | 0.00309104334597 |\n",
      "|   2    | 0.0161182001343 | 0.00615663480973 |\n",
      "|   3    | 0.0217521080516 | 0.00926437346599 |\n",
      "|   4    | 0.0248209088874 | 0.0132508444133  |\n",
      "|   5    |  0.028497873293 | 0.0176180431301  |\n",
      "|   6    | 0.0288784419073 | 0.0218423092579  |\n",
      "|   7    | 0.0326521474943 | 0.0323878562315  |\n",
      "|   8    | 0.0354964181777 | 0.0391200404804  |\n",
      "|   9    | 0.0350595726687 | 0.0415998377082  |\n",
      "|   10   | 0.0339601522274 | 0.0431882115701  |\n",
      "+--------+-----------------+------------------+\n",
      "[10 rows x 3 columns]\n",
      "\n",
      "('\\nOverall RMSE: ', 1.88571743157764)\n",
      "\n",
      "Per User RMSE (best)\n",
      "+---------+-------+------------------+\n",
      "| user_id | count |       rmse       |\n",
      "+---------+-------+------------------+\n",
      "|  13402  |   1   | 0.00182167643279 |\n",
      "+---------+-------+------------------+\n",
      "[1 rows x 3 columns]\n",
      "\n",
      "\n",
      "Per User RMSE (worst)\n",
      "+---------+-------+---------------+\n",
      "| user_id | count |      rmse     |\n",
      "+---------+-------+---------------+\n",
      "|   9815  |   1   | 8.64817719704 |\n",
      "+---------+-------+---------------+\n",
      "[1 rows x 3 columns]\n",
      "\n",
      "\n",
      "Per Item RMSE (best)\n",
      "+---------+-------+-------------------+\n",
      "| item_id | count |        rmse       |\n",
      "+---------+-------+-------------------+\n",
      "|  790653 |   1   | 0.000241467892831 |\n",
      "+---------+-------+-------------------+\n",
      "[1 rows x 3 columns]\n",
      "\n",
      "\n",
      "Per Item RMSE (worst)\n",
      "+---------+-------+---------------+\n",
      "| item_id | count |      rmse     |\n",
      "+---------+-------+---------------+\n",
      "| 3550078 |   1   | 6.30352192169 |\n",
      "+---------+-------+---------------+\n",
      "[1 rows x 3 columns]\n",
      "\n"
     ]
    },
    {
     "data": {
      "text/html": [
       "<pre>recommendations finished on 1000/8934 queries. users per second: 219.994</pre>"
      ],
      "text/plain": [
       "recommendations finished on 1000/8934 queries. users per second: 219.994"
      ]
     },
     "metadata": {},
     "output_type": "display_data"
    },
    {
     "data": {
      "text/html": [
       "<pre>recommendations finished on 2000/8934 queries. users per second: 216.155</pre>"
      ],
      "text/plain": [
       "recommendations finished on 2000/8934 queries. users per second: 216.155"
      ]
     },
     "metadata": {},
     "output_type": "display_data"
    },
    {
     "data": {
      "text/html": [
       "<pre>recommendations finished on 3000/8934 queries. users per second: 214.682</pre>"
      ],
      "text/plain": [
       "recommendations finished on 3000/8934 queries. users per second: 214.682"
      ]
     },
     "metadata": {},
     "output_type": "display_data"
    },
    {
     "data": {
      "text/html": [
       "<pre>recommendations finished on 4000/8934 queries. users per second: 214.246</pre>"
      ],
      "text/plain": [
       "recommendations finished on 4000/8934 queries. users per second: 214.246"
      ]
     },
     "metadata": {},
     "output_type": "display_data"
    },
    {
     "data": {
      "text/html": [
       "<pre>recommendations finished on 5000/8934 queries. users per second: 215.488</pre>"
      ],
      "text/plain": [
       "recommendations finished on 5000/8934 queries. users per second: 215.488"
      ]
     },
     "metadata": {},
     "output_type": "display_data"
    },
    {
     "data": {
      "text/html": [
       "<pre>recommendations finished on 6000/8934 queries. users per second: 216.731</pre>"
      ],
      "text/plain": [
       "recommendations finished on 6000/8934 queries. users per second: 216.731"
      ]
     },
     "metadata": {},
     "output_type": "display_data"
    },
    {
     "data": {
      "text/html": [
       "<pre>recommendations finished on 7000/8934 queries. users per second: 217.086</pre>"
      ],
      "text/plain": [
       "recommendations finished on 7000/8934 queries. users per second: 217.086"
      ]
     },
     "metadata": {},
     "output_type": "display_data"
    },
    {
     "data": {
      "text/html": [
       "<pre>recommendations finished on 8000/8934 queries. users per second: 210.546</pre>"
      ],
      "text/plain": [
       "recommendations finished on 8000/8934 queries. users per second: 210.546"
      ]
     },
     "metadata": {},
     "output_type": "display_data"
    },
    {
     "name": "stdout",
     "output_type": "stream",
     "text": [
      "\n",
      "Precision and recall summary statistics by cutoff\n",
      "+--------+-----------------+------------------+\n",
      "| cutoff |  mean_precision |   mean_recall    |\n",
      "+--------+-----------------+------------------+\n",
      "|   1    | 0.0372733378106 | 0.00288675278088 |\n",
      "|   2    | 0.0303335571972 | 0.00431559947936 |\n",
      "|   3    | 0.0227968062085 | 0.00515208639057 |\n",
      "|   4    | 0.0199798522498 | 0.00594025939558 |\n",
      "|   5    |  0.020774569062 | 0.00964268072344 |\n",
      "|   6    |  0.017965077233 | 0.00986226300351 |\n",
      "|   7    | 0.0164060251367 | 0.0103791532768  |\n",
      "|   8    | 0.0143692634878 | 0.0104351192495  |\n",
      "|   9    | 0.0127726786558 | 0.0104351192495  |\n",
      "|   10   | 0.0114954107902 | 0.0104351192495  |\n",
      "+--------+-----------------+------------------+\n",
      "[10 rows x 3 columns]\n",
      "\n",
      "('\\nOverall RMSE: ', 1.8214859368533527)\n",
      "\n",
      "Per User RMSE (best)\n",
      "+---------+-------+-------------------+\n",
      "| user_id | count |        rmse       |\n",
      "+---------+-------+-------------------+\n",
      "|  13642  |   1   | 0.000658759812137 |\n",
      "+---------+-------+-------------------+\n",
      "[1 rows x 3 columns]\n",
      "\n",
      "\n",
      "Per User RMSE (worst)\n",
      "+---------+-------+---------------+\n",
      "| user_id | count |      rmse     |\n",
      "+---------+-------+---------------+\n",
      "|   9048  |   1   | 7.08337098331 |\n",
      "+---------+-------+---------------+\n",
      "[1 rows x 3 columns]\n",
      "\n",
      "\n",
      "Per Item RMSE (best)\n",
      "+---------+-------+-----------------+\n",
      "| item_id | count |       rmse      |\n",
      "+---------+-------+-----------------+\n",
      "|  76210  |   2   | 0.0013069952902 |\n",
      "+---------+-------+-----------------+\n",
      "[1 rows x 3 columns]\n",
      "\n",
      "\n",
      "Per Item RMSE (worst)\n",
      "+---------+-------+---------------+\n",
      "| item_id | count |      rmse     |\n",
      "+---------+-------+---------------+\n",
      "| 2063011 |   1   | 7.18652346897 |\n",
      "+---------+-------+---------------+\n",
      "[1 rows x 3 columns]\n",
      "\n"
     ]
    },
    {
     "data": {
      "text/html": [
       "<pre>recommendations finished on 1000/8934 queries. users per second: 762.802</pre>"
      ],
      "text/plain": [
       "recommendations finished on 1000/8934 queries. users per second: 762.802"
      ]
     },
     "metadata": {},
     "output_type": "display_data"
    },
    {
     "data": {
      "text/html": [
       "<pre>recommendations finished on 2000/8934 queries. users per second: 764.547</pre>"
      ],
      "text/plain": [
       "recommendations finished on 2000/8934 queries. users per second: 764.547"
      ]
     },
     "metadata": {},
     "output_type": "display_data"
    },
    {
     "data": {
      "text/html": [
       "<pre>recommendations finished on 3000/8934 queries. users per second: 766.013</pre>"
      ],
      "text/plain": [
       "recommendations finished on 3000/8934 queries. users per second: 766.013"
      ]
     },
     "metadata": {},
     "output_type": "display_data"
    },
    {
     "data": {
      "text/html": [
       "<pre>recommendations finished on 4000/8934 queries. users per second: 765.57</pre>"
      ],
      "text/plain": [
       "recommendations finished on 4000/8934 queries. users per second: 765.57"
      ]
     },
     "metadata": {},
     "output_type": "display_data"
    },
    {
     "data": {
      "text/html": [
       "<pre>recommendations finished on 5000/8934 queries. users per second: 766.717</pre>"
      ],
      "text/plain": [
       "recommendations finished on 5000/8934 queries. users per second: 766.717"
      ]
     },
     "metadata": {},
     "output_type": "display_data"
    },
    {
     "data": {
      "text/html": [
       "<pre>recommendations finished on 6000/8934 queries. users per second: 765.177</pre>"
      ],
      "text/plain": [
       "recommendations finished on 6000/8934 queries. users per second: 765.177"
      ]
     },
     "metadata": {},
     "output_type": "display_data"
    },
    {
     "data": {
      "text/html": [
       "<pre>recommendations finished on 7000/8934 queries. users per second: 761.788</pre>"
      ],
      "text/plain": [
       "recommendations finished on 7000/8934 queries. users per second: 761.788"
      ]
     },
     "metadata": {},
     "output_type": "display_data"
    },
    {
     "data": {
      "text/html": [
       "<pre>recommendations finished on 8000/8934 queries. users per second: 746.585</pre>"
      ],
      "text/plain": [
       "recommendations finished on 8000/8934 queries. users per second: 746.585"
      ]
     },
     "metadata": {},
     "output_type": "display_data"
    },
    {
     "name": "stdout",
     "output_type": "stream",
     "text": [
      "\n",
      "Precision and recall summary statistics by cutoff\n",
      "+--------+-------------------+-------------------+\n",
      "| cutoff |   mean_precision  |    mean_recall    |\n",
      "+--------+-------------------+-------------------+\n",
      "|   1    |        0.0        |        0.0        |\n",
      "|   2    |        0.0        |        0.0        |\n",
      "|   3    |        0.0        |        0.0        |\n",
      "|   4    | 2.79829863443e-05 | 3.87307769471e-07 |\n",
      "|   5    | 2.23863890754e-05 | 3.87307769471e-07 |\n",
      "|   6    | 1.86553242295e-05 | 3.87307769471e-07 |\n",
      "|   7    |  1.5990277911e-05 | 3.87307769471e-07 |\n",
      "|   8    | 1.39914931722e-05 | 3.87307769471e-07 |\n",
      "|   9    | 2.48737656394e-05 | 4.24703002386e-06 |\n",
      "|   10   | 2.23863890754e-05 | 4.24703002386e-06 |\n",
      "+--------+-------------------+-------------------+\n",
      "[10 rows x 3 columns]\n",
      "\n",
      "('\\nOverall RMSE: ', 1.6734013580532345)\n",
      "\n",
      "Per User RMSE (best)\n",
      "+---------+-------+-------------------+\n",
      "| user_id | count |        rmse       |\n",
      "+---------+-------+-------------------+\n",
      "|  12648  |   1   | 0.000187048171826 |\n",
      "+---------+-------+-------------------+\n",
      "[1 rows x 3 columns]\n",
      "\n",
      "\n",
      "Per User RMSE (worst)\n",
      "+---------+-------+---------------+\n",
      "| user_id | count |      rmse     |\n",
      "+---------+-------+---------------+\n",
      "|   9815  |   1   | 8.04662234594 |\n",
      "+---------+-------+---------------+\n",
      "[1 rows x 3 columns]\n",
      "\n",
      "\n",
      "Per Item RMSE (best)\n",
      "+---------+-------+-------------------+\n",
      "| item_id | count |        rmse       |\n",
      "+---------+-------+-------------------+\n",
      "|  87175  |   1   | 1.67246314167e-05 |\n",
      "+---------+-------+-------------------+\n",
      "[1 rows x 3 columns]\n",
      "\n",
      "\n",
      "Per Item RMSE (worst)\n",
      "+---------+-------+---------------+\n",
      "| item_id | count |      rmse     |\n",
      "+---------+-------+---------------+\n",
      "|  61495  |   1   | 7.64678968575 |\n",
      "+---------+-------+---------------+\n",
      "[1 rows x 3 columns]\n",
      "\n"
     ]
    },
    {
     "data": {
      "text/html": [
       "<pre>recommendations finished on 1000/8934 queries. users per second: 178.256</pre>"
      ],
      "text/plain": [
       "recommendations finished on 1000/8934 queries. users per second: 178.256"
      ]
     },
     "metadata": {},
     "output_type": "display_data"
    },
    {
     "data": {
      "text/html": [
       "<pre>recommendations finished on 2000/8934 queries. users per second: 178.999</pre>"
      ],
      "text/plain": [
       "recommendations finished on 2000/8934 queries. users per second: 178.999"
      ]
     },
     "metadata": {},
     "output_type": "display_data"
    },
    {
     "data": {
      "text/html": [
       "<pre>recommendations finished on 3000/8934 queries. users per second: 179.276</pre>"
      ],
      "text/plain": [
       "recommendations finished on 3000/8934 queries. users per second: 179.276"
      ]
     },
     "metadata": {},
     "output_type": "display_data"
    },
    {
     "data": {
      "text/html": [
       "<pre>recommendations finished on 4000/8934 queries. users per second: 179.048</pre>"
      ],
      "text/plain": [
       "recommendations finished on 4000/8934 queries. users per second: 179.048"
      ]
     },
     "metadata": {},
     "output_type": "display_data"
    },
    {
     "data": {
      "text/html": [
       "<pre>recommendations finished on 5000/8934 queries. users per second: 178.422</pre>"
      ],
      "text/plain": [
       "recommendations finished on 5000/8934 queries. users per second: 178.422"
      ]
     },
     "metadata": {},
     "output_type": "display_data"
    },
    {
     "data": {
      "text/html": [
       "<pre>recommendations finished on 6000/8934 queries. users per second: 178.012</pre>"
      ],
      "text/plain": [
       "recommendations finished on 6000/8934 queries. users per second: 178.012"
      ]
     },
     "metadata": {},
     "output_type": "display_data"
    },
    {
     "data": {
      "text/html": [
       "<pre>recommendations finished on 7000/8934 queries. users per second: 176.799</pre>"
      ],
      "text/plain": [
       "recommendations finished on 7000/8934 queries. users per second: 176.799"
      ]
     },
     "metadata": {},
     "output_type": "display_data"
    },
    {
     "data": {
      "text/html": [
       "<pre>recommendations finished on 8000/8934 queries. users per second: 175.454</pre>"
      ],
      "text/plain": [
       "recommendations finished on 8000/8934 queries. users per second: 175.454"
      ]
     },
     "metadata": {},
     "output_type": "display_data"
    },
    {
     "name": "stdout",
     "output_type": "stream",
     "text": [
      "\n",
      "Precision and recall summary statistics by cutoff\n",
      "+--------+-------------------+-------------------+\n",
      "| cutoff |   mean_precision  |    mean_recall    |\n",
      "+--------+-------------------+-------------------+\n",
      "|   1    | 0.000111931945377 | 2.21209378216e-07 |\n",
      "|   2    | 5.59659726886e-05 | 2.21209378216e-07 |\n",
      "|   3    | 7.46212969181e-05 | 1.14144039159e-05 |\n",
      "|   4    | 5.59659726886e-05 | 1.14144039159e-05 |\n",
      "|   5    | 4.47727781509e-05 | 1.14144039159e-05 |\n",
      "|   6    | 3.73106484591e-05 | 1.14144039159e-05 |\n",
      "|   7    | 3.19805558221e-05 | 1.14144039159e-05 |\n",
      "|   8    | 2.79829863443e-05 | 1.14144039159e-05 |\n",
      "|   9    | 2.48737656394e-05 | 1.14144039159e-05 |\n",
      "|   10   | 3.35795836132e-05 | 0.000123346349293 |\n",
      "+--------+-------------------+-------------------+\n",
      "[10 rows x 3 columns]\n",
      "\n",
      "('\\nOverall RMSE: ', 1.6618901583089931)\n",
      "\n",
      "Per User RMSE (best)\n",
      "+---------+-------+-------------------+\n",
      "| user_id | count |        rmse       |\n",
      "+---------+-------+-------------------+\n",
      "|  16945  |   1   | 8.92335032496e-05 |\n",
      "+---------+-------+-------------------+\n",
      "[1 rows x 3 columns]\n",
      "\n",
      "\n",
      "Per User RMSE (worst)\n",
      "+---------+-------+---------------+\n",
      "| user_id | count |      rmse     |\n",
      "+---------+-------+---------------+\n",
      "|   9815  |   1   | 7.89130783454 |\n",
      "+---------+-------+---------------+\n",
      "[1 rows x 3 columns]\n",
      "\n",
      "\n",
      "Per Item RMSE (best)\n",
      "+---------+-------+-------------------+\n",
      "| item_id | count |        rmse       |\n",
      "+---------+-------+-------------------+\n",
      "| 2004304 |   1   | 0.000387228210062 |\n",
      "+---------+-------+-------------------+\n",
      "[1 rows x 3 columns]\n",
      "\n",
      "\n",
      "Per Item RMSE (worst)\n",
      "+---------+-------+---------------+\n",
      "| item_id | count |      rmse     |\n",
      "+---------+-------+---------------+\n",
      "|  290620 |   1   | 8.51764947356 |\n",
      "+---------+-------+---------------+\n",
      "[1 rows x 3 columns]\n",
      "\n"
     ]
    },
    {
     "data": {
      "text/html": [
       "<pre>Recsys training: model = factorization_recommender</pre>"
      ],
      "text/plain": [
       "Recsys training: model = factorization_recommender"
      ]
     },
     "metadata": {},
     "output_type": "display_data"
    },
    {
     "data": {
      "text/html": [
       "<pre>Preparing data set.</pre>"
      ],
      "text/plain": [
       "Preparing data set."
      ]
     },
     "metadata": {},
     "output_type": "display_data"
    },
    {
     "data": {
      "text/html": [
       "<pre>    Data has 433201 observations with 36422 users and 23669 items.</pre>"
      ],
      "text/plain": [
       "    Data has 433201 observations with 36422 users and 23669 items."
      ]
     },
     "metadata": {},
     "output_type": "display_data"
    },
    {
     "data": {
      "text/html": [
       "<pre>    Data prepared in: 0.249162s</pre>"
      ],
      "text/plain": [
       "    Data prepared in: 0.249162s"
      ]
     },
     "metadata": {},
     "output_type": "display_data"
    },
    {
     "data": {
      "text/html": [
       "<pre>Training factorization_recommender for recommendations.</pre>"
      ],
      "text/plain": [
       "Training factorization_recommender for recommendations."
      ]
     },
     "metadata": {},
     "output_type": "display_data"
    },
    {
     "data": {
      "text/html": [
       "<pre>+--------------------------------+--------------------------------------------------+----------+</pre>"
      ],
      "text/plain": [
       "+--------------------------------+--------------------------------------------------+----------+"
      ]
     },
     "metadata": {},
     "output_type": "display_data"
    },
    {
     "data": {
      "text/html": [
       "<pre>| Parameter                      | Description                                      | Value    |</pre>"
      ],
      "text/plain": [
       "| Parameter                      | Description                                      | Value    |"
      ]
     },
     "metadata": {},
     "output_type": "display_data"
    },
    {
     "data": {
      "text/html": [
       "<pre>+--------------------------------+--------------------------------------------------+----------+</pre>"
      ],
      "text/plain": [
       "+--------------------------------+--------------------------------------------------+----------+"
      ]
     },
     "metadata": {},
     "output_type": "display_data"
    },
    {
     "data": {
      "text/html": [
       "<pre>| num_factors                    | Factor Dimension                                 | 8        |</pre>"
      ],
      "text/plain": [
       "| num_factors                    | Factor Dimension                                 | 8        |"
      ]
     },
     "metadata": {},
     "output_type": "display_data"
    },
    {
     "data": {
      "text/html": [
       "<pre>| regularization                 | L2 Regularization on Factors                     | 1e-008   |</pre>"
      ],
      "text/plain": [
       "| regularization                 | L2 Regularization on Factors                     | 1e-008   |"
      ]
     },
     "metadata": {},
     "output_type": "display_data"
    },
    {
     "data": {
      "text/html": [
       "<pre>| solver                         | Solver used for training                         | sgd      |</pre>"
      ],
      "text/plain": [
       "| solver                         | Solver used for training                         | sgd      |"
      ]
     },
     "metadata": {},
     "output_type": "display_data"
    },
    {
     "data": {
      "text/html": [
       "<pre>| linear_regularization          | L2 Regularization on Linear Coefficients         | 1e-010   |</pre>"
      ],
      "text/plain": [
       "| linear_regularization          | L2 Regularization on Linear Coefficients         | 1e-010   |"
      ]
     },
     "metadata": {},
     "output_type": "display_data"
    },
    {
     "data": {
      "text/html": [
       "<pre>| max_iterations                 | Maximum Number of Iterations                     | 50       |</pre>"
      ],
      "text/plain": [
       "| max_iterations                 | Maximum Number of Iterations                     | 50       |"
      ]
     },
     "metadata": {},
     "output_type": "display_data"
    },
    {
     "data": {
      "text/html": [
       "<pre>+--------------------------------+--------------------------------------------------+----------+</pre>"
      ],
      "text/plain": [
       "+--------------------------------+--------------------------------------------------+----------+"
      ]
     },
     "metadata": {},
     "output_type": "display_data"
    },
    {
     "data": {
      "text/html": [
       "<pre>  Optimizing model using SGD; tuning step size.</pre>"
      ],
      "text/plain": [
       "  Optimizing model using SGD; tuning step size."
      ]
     },
     "metadata": {},
     "output_type": "display_data"
    },
    {
     "data": {
      "text/html": [
       "<pre>  Using 54150 / 433201 points for tuning the step size.</pre>"
      ],
      "text/plain": [
       "  Using 54150 / 433201 points for tuning the step size."
      ]
     },
     "metadata": {},
     "output_type": "display_data"
    },
    {
     "data": {
      "text/html": [
       "<pre>+---------+-------------------+------------------------------------------+</pre>"
      ],
      "text/plain": [
       "+---------+-------------------+------------------------------------------+"
      ]
     },
     "metadata": {},
     "output_type": "display_data"
    },
    {
     "data": {
      "text/html": [
       "<pre>| Attempt | Initial Step Size | Estimated Objective Value                |</pre>"
      ],
      "text/plain": [
       "| Attempt | Initial Step Size | Estimated Objective Value                |"
      ]
     },
     "metadata": {},
     "output_type": "display_data"
    },
    {
     "data": {
      "text/html": [
       "<pre>+---------+-------------------+------------------------------------------+</pre>"
      ],
      "text/plain": [
       "+---------+-------------------+------------------------------------------+"
      ]
     },
     "metadata": {},
     "output_type": "display_data"
    },
    {
     "data": {
      "text/html": [
       "<pre>| 0       | 25                | Not Viable                               |</pre>"
      ],
      "text/plain": [
       "| 0       | 25                | Not Viable                               |"
      ]
     },
     "metadata": {},
     "output_type": "display_data"
    },
    {
     "data": {
      "text/html": [
       "<pre>| 1       | 6.25              | Not Viable                               |</pre>"
      ],
      "text/plain": [
       "| 1       | 6.25              | Not Viable                               |"
      ]
     },
     "metadata": {},
     "output_type": "display_data"
    },
    {
     "data": {
      "text/html": [
       "<pre>| 2       | 1.5625            | Not Viable                               |</pre>"
      ],
      "text/plain": [
       "| 2       | 1.5625            | Not Viable                               |"
      ]
     },
     "metadata": {},
     "output_type": "display_data"
    },
    {
     "data": {
      "text/html": [
       "<pre>| 3       | 0.390625          | Not Viable                               |</pre>"
      ],
      "text/plain": [
       "| 3       | 0.390625          | Not Viable                               |"
      ]
     },
     "metadata": {},
     "output_type": "display_data"
    },
    {
     "data": {
      "text/html": [
       "<pre>| 4       | 0.0976562         | 1.30201                                  |</pre>"
      ],
      "text/plain": [
       "| 4       | 0.0976562         | 1.30201                                  |"
      ]
     },
     "metadata": {},
     "output_type": "display_data"
    },
    {
     "data": {
      "text/html": [
       "<pre>| 5       | 0.0488281         | 1.56452                                  |</pre>"
      ],
      "text/plain": [
       "| 5       | 0.0488281         | 1.56452                                  |"
      ]
     },
     "metadata": {},
     "output_type": "display_data"
    },
    {
     "data": {
      "text/html": [
       "<pre>| 6       | 0.0244141         | 1.85525                                  |</pre>"
      ],
      "text/plain": [
       "| 6       | 0.0244141         | 1.85525                                  |"
      ]
     },
     "metadata": {},
     "output_type": "display_data"
    },
    {
     "data": {
      "text/html": [
       "<pre>| 7       | 0.012207          | 2.14985                                  |</pre>"
      ],
      "text/plain": [
       "| 7       | 0.012207          | 2.14985                                  |"
      ]
     },
     "metadata": {},
     "output_type": "display_data"
    },
    {
     "data": {
      "text/html": [
       "<pre>+---------+-------------------+------------------------------------------+</pre>"
      ],
      "text/plain": [
       "+---------+-------------------+------------------------------------------+"
      ]
     },
     "metadata": {},
     "output_type": "display_data"
    },
    {
     "data": {
      "text/html": [
       "<pre>| Final   | 0.0976562         | 1.30201                                  |</pre>"
      ],
      "text/plain": [
       "| Final   | 0.0976562         | 1.30201                                  |"
      ]
     },
     "metadata": {},
     "output_type": "display_data"
    },
    {
     "data": {
      "text/html": [
       "<pre>+---------+-------------------+------------------------------------------+</pre>"
      ],
      "text/plain": [
       "+---------+-------------------+------------------------------------------+"
      ]
     },
     "metadata": {},
     "output_type": "display_data"
    },
    {
     "data": {
      "text/html": [
       "<pre>Starting Optimization.</pre>"
      ],
      "text/plain": [
       "Starting Optimization."
      ]
     },
     "metadata": {},
     "output_type": "display_data"
    },
    {
     "data": {
      "text/html": [
       "<pre>+---------+--------------+-------------------+-----------------------+-------------+</pre>"
      ],
      "text/plain": [
       "+---------+--------------+-------------------+-----------------------+-------------+"
      ]
     },
     "metadata": {},
     "output_type": "display_data"
    },
    {
     "data": {
      "text/html": [
       "<pre>| Iter.   | Elapsed Time | Approx. Objective | Approx. Training RMSE | Step Size   |</pre>"
      ],
      "text/plain": [
       "| Iter.   | Elapsed Time | Approx. Objective | Approx. Training RMSE | Step Size   |"
      ]
     },
     "metadata": {},
     "output_type": "display_data"
    },
    {
     "data": {
      "text/html": [
       "<pre>+---------+--------------+-------------------+-----------------------+-------------+</pre>"
      ],
      "text/plain": [
       "+---------+--------------+-------------------+-----------------------+-------------+"
      ]
     },
     "metadata": {},
     "output_type": "display_data"
    },
    {
     "data": {
      "text/html": [
       "<pre>| Initial | 0us          | 3.4522            | 1.85801               |             |</pre>"
      ],
      "text/plain": [
       "| Initial | 0us          | 3.4522            | 1.85801               |             |"
      ]
     },
     "metadata": {},
     "output_type": "display_data"
    },
    {
     "data": {
      "text/html": [
       "<pre>+---------+--------------+-------------------+-----------------------+-------------+</pre>"
      ],
      "text/plain": [
       "+---------+--------------+-------------------+-----------------------+-------------+"
      ]
     },
     "metadata": {},
     "output_type": "display_data"
    },
    {
     "data": {
      "text/html": [
       "<pre>| 1       | 51.638ms     | 3.02479           | 1.73898               | 0.0976562   |</pre>"
      ],
      "text/plain": [
       "| 1       | 51.638ms     | 3.02479           | 1.73898               | 0.0976562   |"
      ]
     },
     "metadata": {},
     "output_type": "display_data"
    },
    {
     "data": {
      "text/html": [
       "<pre>| 2       | 108.789ms    | 2.30924           | 1.51942               | 0.0580668   |</pre>"
      ],
      "text/plain": [
       "| 2       | 108.789ms    | 2.30924           | 1.51942               | 0.0580668   |"
      ]
     },
     "metadata": {},
     "output_type": "display_data"
    },
    {
     "data": {
      "text/html": [
       "<pre>| 3       | 152.405ms    | 1.79707           | 1.34034               | 0.042841    |</pre>"
      ],
      "text/plain": [
       "| 3       | 152.405ms    | 1.79707           | 1.34034               | 0.042841    |"
      ]
     },
     "metadata": {},
     "output_type": "display_data"
    },
    {
     "data": {
      "text/html": [
       "<pre>| 4       | 206.549ms    | 1.51194           | 1.22937               | 0.0345267   |</pre>"
      ],
      "text/plain": [
       "| 4       | 206.549ms    | 1.51194           | 1.22937               | 0.0345267   |"
      ]
     },
     "metadata": {},
     "output_type": "display_data"
    },
    {
     "data": {
      "text/html": [
       "<pre>| 5       | 270.219ms    | 1.34377           | 1.15894               | 0.029206    |</pre>"
      ],
      "text/plain": [
       "| 5       | 270.219ms    | 1.34377           | 1.15894               | 0.029206    |"
      ]
     },
     "metadata": {},
     "output_type": "display_data"
    },
    {
     "data": {
      "text/html": [
       "<pre>| 6       | 326.869ms    | 1.23485           | 1.11094               | 0.0254734   |</pre>"
      ],
      "text/plain": [
       "| 6       | 326.869ms    | 1.23485           | 1.11094               | 0.0254734   |"
      ]
     },
     "metadata": {},
     "output_type": "display_data"
    },
    {
     "data": {
      "text/html": [
       "<pre>| 11      | 615.637ms    | 0.99915           | 0.99918               | 0.016168    |</pre>"
      ],
      "text/plain": [
       "| 11      | 615.637ms    | 0.99915           | 0.99918               | 0.016168    |"
      ]
     },
     "metadata": {},
     "output_type": "display_data"
    },
    {
     "data": {
      "text/html": [
       "<pre>| 25      | 1.39s        | 0.837958          | 0.914877              | 0.00873464  |</pre>"
      ],
      "text/plain": [
       "| 25      | 1.39s        | 0.837958          | 0.914877              | 0.00873464  |"
      ]
     },
     "metadata": {},
     "output_type": "display_data"
    },
    {
     "data": {
      "text/html": [
       "<pre>| 50      | 2.68s        | 0.76391           | 0.87339               | 0.00519365  |</pre>"
      ],
      "text/plain": [
       "| 50      | 2.68s        | 0.76391           | 0.87339               | 0.00519365  |"
      ]
     },
     "metadata": {},
     "output_type": "display_data"
    },
    {
     "data": {
      "text/html": [
       "<pre>+---------+--------------+-------------------+-----------------------+-------------+</pre>"
      ],
      "text/plain": [
       "+---------+--------------+-------------------+-----------------------+-------------+"
      ]
     },
     "metadata": {},
     "output_type": "display_data"
    },
    {
     "data": {
      "text/html": [
       "<pre>Optimization Complete: Maximum number of passes through the data reached.</pre>"
      ],
      "text/plain": [
       "Optimization Complete: Maximum number of passes through the data reached."
      ]
     },
     "metadata": {},
     "output_type": "display_data"
    },
    {
     "data": {
      "text/html": [
       "<pre>Computing final objective value and training RMSE.</pre>"
      ],
      "text/plain": [
       "Computing final objective value and training RMSE."
      ]
     },
     "metadata": {},
     "output_type": "display_data"
    },
    {
     "data": {
      "text/html": [
       "<pre>       Final objective value: 0.716101</pre>"
      ],
      "text/plain": [
       "       Final objective value: 0.716101"
      ]
     },
     "metadata": {},
     "output_type": "display_data"
    },
    {
     "data": {
      "text/html": [
       "<pre>       Final training RMSE: 0.845577</pre>"
      ],
      "text/plain": [
       "       Final training RMSE: 0.845577"
      ]
     },
     "metadata": {},
     "output_type": "display_data"
    },
    {
     "data": {
      "text/html": [
       "<pre>Recsys training: model = ranking_factorization_recommender</pre>"
      ],
      "text/plain": [
       "Recsys training: model = ranking_factorization_recommender"
      ]
     },
     "metadata": {},
     "output_type": "display_data"
    },
    {
     "data": {
      "text/html": [
       "<pre>Preparing data set.</pre>"
      ],
      "text/plain": [
       "Preparing data set."
      ]
     },
     "metadata": {},
     "output_type": "display_data"
    },
    {
     "data": {
      "text/html": [
       "<pre>    Data has 433201 observations with 36422 users and 23669 items.</pre>"
      ],
      "text/plain": [
       "    Data has 433201 observations with 36422 users and 23669 items."
      ]
     },
     "metadata": {},
     "output_type": "display_data"
    },
    {
     "data": {
      "text/html": [
       "<pre>    Data prepared in: 0.247687s</pre>"
      ],
      "text/plain": [
       "    Data prepared in: 0.247687s"
      ]
     },
     "metadata": {},
     "output_type": "display_data"
    },
    {
     "data": {
      "text/html": [
       "<pre>Training ranking_factorization_recommender for recommendations.</pre>"
      ],
      "text/plain": [
       "Training ranking_factorization_recommender for recommendations."
      ]
     },
     "metadata": {},
     "output_type": "display_data"
    },
    {
     "data": {
      "text/html": [
       "<pre>+--------------------------------+--------------------------------------------------+----------+</pre>"
      ],
      "text/plain": [
       "+--------------------------------+--------------------------------------------------+----------+"
      ]
     },
     "metadata": {},
     "output_type": "display_data"
    },
    {
     "data": {
      "text/html": [
       "<pre>| Parameter                      | Description                                      | Value    |</pre>"
      ],
      "text/plain": [
       "| Parameter                      | Description                                      | Value    |"
      ]
     },
     "metadata": {},
     "output_type": "display_data"
    },
    {
     "data": {
      "text/html": [
       "<pre>+--------------------------------+--------------------------------------------------+----------+</pre>"
      ],
      "text/plain": [
       "+--------------------------------+--------------------------------------------------+----------+"
      ]
     },
     "metadata": {},
     "output_type": "display_data"
    },
    {
     "data": {
      "text/html": [
       "<pre>| num_factors                    | Factor Dimension                                 | 32       |</pre>"
      ],
      "text/plain": [
       "| num_factors                    | Factor Dimension                                 | 32       |"
      ]
     },
     "metadata": {},
     "output_type": "display_data"
    },
    {
     "data": {
      "text/html": [
       "<pre>| regularization                 | L2 Regularization on Factors                     | 1e-009   |</pre>"
      ],
      "text/plain": [
       "| regularization                 | L2 Regularization on Factors                     | 1e-009   |"
      ]
     },
     "metadata": {},
     "output_type": "display_data"
    },
    {
     "data": {
      "text/html": [
       "<pre>| solver                         | Solver used for training                         | sgd      |</pre>"
      ],
      "text/plain": [
       "| solver                         | Solver used for training                         | sgd      |"
      ]
     },
     "metadata": {},
     "output_type": "display_data"
    },
    {
     "data": {
      "text/html": [
       "<pre>| linear_regularization          | L2 Regularization on Linear Coefficients         | 1e-009   |</pre>"
      ],
      "text/plain": [
       "| linear_regularization          | L2 Regularization on Linear Coefficients         | 1e-009   |"
      ]
     },
     "metadata": {},
     "output_type": "display_data"
    },
    {
     "data": {
      "text/html": [
       "<pre>| ranking_regularization         | Rank-based Regularization Weight                 | 0.25     |</pre>"
      ],
      "text/plain": [
       "| ranking_regularization         | Rank-based Regularization Weight                 | 0.25     |"
      ]
     },
     "metadata": {},
     "output_type": "display_data"
    },
    {
     "data": {
      "text/html": [
       "<pre>| max_iterations                 | Maximum Number of Iterations                     | 25       |</pre>"
      ],
      "text/plain": [
       "| max_iterations                 | Maximum Number of Iterations                     | 25       |"
      ]
     },
     "metadata": {},
     "output_type": "display_data"
    },
    {
     "data": {
      "text/html": [
       "<pre>+--------------------------------+--------------------------------------------------+----------+</pre>"
      ],
      "text/plain": [
       "+--------------------------------+--------------------------------------------------+----------+"
      ]
     },
     "metadata": {},
     "output_type": "display_data"
    },
    {
     "data": {
      "text/html": [
       "<pre>  Optimizing model using SGD; tuning step size.</pre>"
      ],
      "text/plain": [
       "  Optimizing model using SGD; tuning step size."
      ]
     },
     "metadata": {},
     "output_type": "display_data"
    },
    {
     "data": {
      "text/html": [
       "<pre>  Using 54150 / 433201 points for tuning the step size.</pre>"
      ],
      "text/plain": [
       "  Using 54150 / 433201 points for tuning the step size."
      ]
     },
     "metadata": {},
     "output_type": "display_data"
    },
    {
     "data": {
      "text/html": [
       "<pre>+---------+-------------------+------------------------------------------+</pre>"
      ],
      "text/plain": [
       "+---------+-------------------+------------------------------------------+"
      ]
     },
     "metadata": {},
     "output_type": "display_data"
    },
    {
     "data": {
      "text/html": [
       "<pre>| Attempt | Initial Step Size | Estimated Objective Value                |</pre>"
      ],
      "text/plain": [
       "| Attempt | Initial Step Size | Estimated Objective Value                |"
      ]
     },
     "metadata": {},
     "output_type": "display_data"
    },
    {
     "data": {
      "text/html": [
       "<pre>+---------+-------------------+------------------------------------------+</pre>"
      ],
      "text/plain": [
       "+---------+-------------------+------------------------------------------+"
      ]
     },
     "metadata": {},
     "output_type": "display_data"
    },
    {
     "data": {
      "text/html": [
       "<pre>| 0       | 25                | Not Viable                               |</pre>"
      ],
      "text/plain": [
       "| 0       | 25                | Not Viable                               |"
      ]
     },
     "metadata": {},
     "output_type": "display_data"
    },
    {
     "data": {
      "text/html": [
       "<pre>| 1       | 6.25              | Not Viable                               |</pre>"
      ],
      "text/plain": [
       "| 1       | 6.25              | Not Viable                               |"
      ]
     },
     "metadata": {},
     "output_type": "display_data"
    },
    {
     "data": {
      "text/html": [
       "<pre>| 2       | 1.5625            | Not Viable                               |</pre>"
      ],
      "text/plain": [
       "| 2       | 1.5625            | Not Viable                               |"
      ]
     },
     "metadata": {},
     "output_type": "display_data"
    },
    {
     "data": {
      "text/html": [
       "<pre>| 3       | 0.390625          | Not Viable                               |</pre>"
      ],
      "text/plain": [
       "| 3       | 0.390625          | Not Viable                               |"
      ]
     },
     "metadata": {},
     "output_type": "display_data"
    },
    {
     "data": {
      "text/html": [
       "<pre>| 4       | 0.0976562         | 3.63521                                  |</pre>"
      ],
      "text/plain": [
       "| 4       | 0.0976562         | 3.63521                                  |"
      ]
     },
     "metadata": {},
     "output_type": "display_data"
    },
    {
     "data": {
      "text/html": [
       "<pre>| 5       | 0.0488281         | 4.02951                                  |</pre>"
      ],
      "text/plain": [
       "| 5       | 0.0488281         | 4.02951                                  |"
      ]
     },
     "metadata": {},
     "output_type": "display_data"
    },
    {
     "data": {
      "text/html": [
       "<pre>| 6       | 0.0244141         | 4.45949                                  |</pre>"
      ],
      "text/plain": [
       "| 6       | 0.0244141         | 4.45949                                  |"
      ]
     },
     "metadata": {},
     "output_type": "display_data"
    },
    {
     "data": {
      "text/html": [
       "<pre>| 7       | 0.012207          | 4.89274                                  |</pre>"
      ],
      "text/plain": [
       "| 7       | 0.012207          | 4.89274                                  |"
      ]
     },
     "metadata": {},
     "output_type": "display_data"
    },
    {
     "data": {
      "text/html": [
       "<pre>+---------+-------------------+------------------------------------------+</pre>"
      ],
      "text/plain": [
       "+---------+-------------------+------------------------------------------+"
      ]
     },
     "metadata": {},
     "output_type": "display_data"
    },
    {
     "data": {
      "text/html": [
       "<pre>| Final   | 0.0976562         | 3.63521                                  |</pre>"
      ],
      "text/plain": [
       "| Final   | 0.0976562         | 3.63521                                  |"
      ]
     },
     "metadata": {},
     "output_type": "display_data"
    },
    {
     "data": {
      "text/html": [
       "<pre>+---------+-------------------+------------------------------------------+</pre>"
      ],
      "text/plain": [
       "+---------+-------------------+------------------------------------------+"
      ]
     },
     "metadata": {},
     "output_type": "display_data"
    },
    {
     "data": {
      "text/html": [
       "<pre>Starting Optimization.</pre>"
      ],
      "text/plain": [
       "Starting Optimization."
      ]
     },
     "metadata": {},
     "output_type": "display_data"
    },
    {
     "data": {
      "text/html": [
       "<pre>+---------+--------------+-------------------+-----------------------+-------------+</pre>"
      ],
      "text/plain": [
       "+---------+--------------+-------------------+-----------------------+-------------+"
      ]
     },
     "metadata": {},
     "output_type": "display_data"
    },
    {
     "data": {
      "text/html": [
       "<pre>| Iter.   | Elapsed Time | Approx. Objective | Approx. Training RMSE | Step Size   |</pre>"
      ],
      "text/plain": [
       "| Iter.   | Elapsed Time | Approx. Objective | Approx. Training RMSE | Step Size   |"
      ]
     },
     "metadata": {},
     "output_type": "display_data"
    },
    {
     "data": {
      "text/html": [
       "<pre>+---------+--------------+-------------------+-----------------------+-------------+</pre>"
      ],
      "text/plain": [
       "+---------+--------------+-------------------+-----------------------+-------------+"
      ]
     },
     "metadata": {},
     "output_type": "display_data"
    },
    {
     "data": {
      "text/html": [
       "<pre>| Initial | 0us          | 6.76828           | 1.85801               |             |</pre>"
      ],
      "text/plain": [
       "| Initial | 0us          | 6.76828           | 1.85801               |             |"
      ]
     },
     "metadata": {},
     "output_type": "display_data"
    },
    {
     "data": {
      "text/html": [
       "<pre>+---------+--------------+-------------------+-----------------------+-------------+</pre>"
      ],
      "text/plain": [
       "+---------+--------------+-------------------+-----------------------+-------------+"
      ]
     },
     "metadata": {},
     "output_type": "display_data"
    },
    {
     "data": {
      "text/html": [
       "<pre>| 1       | 282.25ms     | DIVERGED          | DIVERGED              | 0.0976562   |</pre>"
      ],
      "text/plain": [
       "| 1       | 282.25ms     | DIVERGED          | DIVERGED              | 0.0976562   |"
      ]
     },
     "metadata": {},
     "output_type": "display_data"
    },
    {
     "data": {
      "text/html": [
       "<pre>| RESET   | 428.639ms    | 6.76832           | 1.85802               |             |</pre>"
      ],
      "text/plain": [
       "| RESET   | 428.639ms    | 6.76832           | 1.85802               |             |"
      ]
     },
     "metadata": {},
     "output_type": "display_data"
    },
    {
     "data": {
      "text/html": [
       "<pre>| 1       | 625.664ms    | 4.82167           | 1.66319               | 0.0488281   |</pre>"
      ],
      "text/plain": [
       "| 1       | 625.664ms    | 4.82167           | 1.66319               | 0.0488281   |"
      ]
     },
     "metadata": {},
     "output_type": "display_data"
    },
    {
     "data": {
      "text/html": [
       "<pre>| 2       | 813.162ms    | 4.08668           | 1.58033               | 0.0290334   |</pre>"
      ],
      "text/plain": [
       "| 2       | 813.162ms    | 4.08668           | 1.58033               | 0.0290334   |"
      ]
     },
     "metadata": {},
     "output_type": "display_data"
    },
    {
     "data": {
      "text/html": [
       "<pre>| 3       | 996.65ms     | 3.75024           | 1.50813               | 0.0214205   |</pre>"
      ],
      "text/plain": [
       "| 3       | 996.65ms     | 3.75024           | 1.50813               | 0.0214205   |"
      ]
     },
     "metadata": {},
     "output_type": "display_data"
    },
    {
     "data": {
      "text/html": [
       "<pre>| 4       | 1.18s        | 3.47703           | 1.44118               | 0.0172633   |</pre>"
      ],
      "text/plain": [
       "| 4       | 1.18s        | 3.47703           | 1.44118               | 0.0172633   |"
      ]
     },
     "metadata": {},
     "output_type": "display_data"
    },
    {
     "data": {
      "text/html": [
       "<pre>| 5       | 1.37s        | 3.21374           | 1.36806               | 0.014603    |</pre>"
      ],
      "text/plain": [
       "| 5       | 1.37s        | 3.21374           | 1.36806               | 0.014603    |"
      ]
     },
     "metadata": {},
     "output_type": "display_data"
    },
    {
     "data": {
      "text/html": [
       "<pre>| 6       | 1.56s        | 2.97511           | 1.29472               | 0.0127367   |</pre>"
      ],
      "text/plain": [
       "| 6       | 1.56s        | 2.97511           | 1.29472               | 0.0127367   |"
      ]
     },
     "metadata": {},
     "output_type": "display_data"
    },
    {
     "data": {
      "text/html": [
       "<pre>| 9       | 2.12s        | 2.4055            | 1.10742               | 0.00939698  |</pre>"
      ],
      "text/plain": [
       "| 9       | 2.12s        | 2.4055            | 1.10742               | 0.00939698  |"
      ]
     },
     "metadata": {},
     "output_type": "display_data"
    },
    {
     "data": {
      "text/html": [
       "<pre>| 11      | 2.48s        | 2.15828           | 1.01894               | 0.00808399  |</pre>"
      ],
      "text/plain": [
       "| 11      | 2.48s        | 2.15828           | 1.01894               | 0.00808399  |"
      ]
     },
     "metadata": {},
     "output_type": "display_data"
    },
    {
     "data": {
      "text/html": [
       "<pre>| 19      | 3.97s        | 1.65248           | 0.834203              | 0.00536543  |</pre>"
      ],
      "text/plain": [
       "| 19      | 3.97s        | 1.65248           | 0.834203              | 0.00536543  |"
      ]
     },
     "metadata": {},
     "output_type": "display_data"
    },
    {
     "data": {
      "text/html": [
       "<pre>+---------+--------------+-------------------+-----------------------+-------------+</pre>"
      ],
      "text/plain": [
       "+---------+--------------+-------------------+-----------------------+-------------+"
      ]
     },
     "metadata": {},
     "output_type": "display_data"
    },
    {
     "data": {
      "text/html": [
       "<pre>Optimization Complete: Maximum number of passes through the data reached.</pre>"
      ],
      "text/plain": [
       "Optimization Complete: Maximum number of passes through the data reached."
      ]
     },
     "metadata": {},
     "output_type": "display_data"
    },
    {
     "data": {
      "text/html": [
       "<pre>Computing final objective value and training RMSE.</pre>"
      ],
      "text/plain": [
       "Computing final objective value and training RMSE."
      ]
     },
     "metadata": {},
     "output_type": "display_data"
    },
    {
     "data": {
      "text/html": [
       "<pre>       Final objective value: 1.39768</pre>"
      ],
      "text/plain": [
       "       Final objective value: 1.39768"
      ]
     },
     "metadata": {},
     "output_type": "display_data"
    },
    {
     "data": {
      "text/html": [
       "<pre>       Final training RMSE: 0.720182</pre>"
      ],
      "text/plain": [
       "       Final training RMSE: 0.720182"
      ]
     },
     "metadata": {},
     "output_type": "display_data"
    },
    {
     "data": {
      "text/html": [
       "<pre>Recsys training: model = factorization_recommender</pre>"
      ],
      "text/plain": [
       "Recsys training: model = factorization_recommender"
      ]
     },
     "metadata": {},
     "output_type": "display_data"
    },
    {
     "data": {
      "text/html": [
       "<pre>Preparing data set.</pre>"
      ],
      "text/plain": [
       "Preparing data set."
      ]
     },
     "metadata": {},
     "output_type": "display_data"
    },
    {
     "data": {
      "text/html": [
       "<pre>    Data has 433201 observations with 36422 users and 26096 items.</pre>"
      ],
      "text/plain": [
       "    Data has 433201 observations with 36422 users and 26096 items."
      ]
     },
     "metadata": {},
     "output_type": "display_data"
    },
    {
     "data": {
      "text/html": [
       "<pre>    Data prepared in: 0.261222s</pre>"
      ],
      "text/plain": [
       "    Data prepared in: 0.261222s"
      ]
     },
     "metadata": {},
     "output_type": "display_data"
    },
    {
     "data": {
      "text/html": [
       "<pre>Training factorization_recommender for recommendations.</pre>"
      ],
      "text/plain": [
       "Training factorization_recommender for recommendations."
      ]
     },
     "metadata": {},
     "output_type": "display_data"
    },
    {
     "data": {
      "text/html": [
       "<pre>+--------------------------------+--------------------------------------------------+----------+</pre>"
      ],
      "text/plain": [
       "+--------------------------------+--------------------------------------------------+----------+"
      ]
     },
     "metadata": {},
     "output_type": "display_data"
    },
    {
     "data": {
      "text/html": [
       "<pre>| Parameter                      | Description                                      | Value    |</pre>"
      ],
      "text/plain": [
       "| Parameter                      | Description                                      | Value    |"
      ]
     },
     "metadata": {},
     "output_type": "display_data"
    },
    {
     "data": {
      "text/html": [
       "<pre>+--------------------------------+--------------------------------------------------+----------+</pre>"
      ],
      "text/plain": [
       "+--------------------------------+--------------------------------------------------+----------+"
      ]
     },
     "metadata": {},
     "output_type": "display_data"
    },
    {
     "data": {
      "text/html": [
       "<pre>| num_factors                    | Factor Dimension                                 | 8        |</pre>"
      ],
      "text/plain": [
       "| num_factors                    | Factor Dimension                                 | 8        |"
      ]
     },
     "metadata": {},
     "output_type": "display_data"
    },
    {
     "data": {
      "text/html": [
       "<pre>| regularization                 | L2 Regularization on Factors                     | 1e-008   |</pre>"
      ],
      "text/plain": [
       "| regularization                 | L2 Regularization on Factors                     | 1e-008   |"
      ]
     },
     "metadata": {},
     "output_type": "display_data"
    },
    {
     "data": {
      "text/html": [
       "<pre>| solver                         | Solver used for training                         | adagrad  |</pre>"
      ],
      "text/plain": [
       "| solver                         | Solver used for training                         | adagrad  |"
      ]
     },
     "metadata": {},
     "output_type": "display_data"
    },
    {
     "data": {
      "text/html": [
       "<pre>| linear_regularization          | L2 Regularization on Linear Coefficients         | 1e-010   |</pre>"
      ],
      "text/plain": [
       "| linear_regularization          | L2 Regularization on Linear Coefficients         | 1e-010   |"
      ]
     },
     "metadata": {},
     "output_type": "display_data"
    },
    {
     "data": {
      "text/html": [
       "<pre>| side_data_factorization        | Assign Factors for Side Data                     | True     |</pre>"
      ],
      "text/plain": [
       "| side_data_factorization        | Assign Factors for Side Data                     | True     |"
      ]
     },
     "metadata": {},
     "output_type": "display_data"
    },
    {
     "data": {
      "text/html": [
       "<pre>| max_iterations                 | Maximum Number of Iterations                     | 50       |</pre>"
      ],
      "text/plain": [
       "| max_iterations                 | Maximum Number of Iterations                     | 50       |"
      ]
     },
     "metadata": {},
     "output_type": "display_data"
    },
    {
     "data": {
      "text/html": [
       "<pre>+--------------------------------+--------------------------------------------------+----------+</pre>"
      ],
      "text/plain": [
       "+--------------------------------+--------------------------------------------------+----------+"
      ]
     },
     "metadata": {},
     "output_type": "display_data"
    },
    {
     "data": {
      "text/html": [
       "<pre>  Optimizing model using SGD; tuning step size.</pre>"
      ],
      "text/plain": [
       "  Optimizing model using SGD; tuning step size."
      ]
     },
     "metadata": {},
     "output_type": "display_data"
    },
    {
     "data": {
      "text/html": [
       "<pre>  Using 54150 / 433201 points for tuning the step size.</pre>"
      ],
      "text/plain": [
       "  Using 54150 / 433201 points for tuning the step size."
      ]
     },
     "metadata": {},
     "output_type": "display_data"
    },
    {
     "data": {
      "text/html": [
       "<pre>+---------+-------------------+------------------------------------------+</pre>"
      ],
      "text/plain": [
       "+---------+-------------------+------------------------------------------+"
      ]
     },
     "metadata": {},
     "output_type": "display_data"
    },
    {
     "data": {
      "text/html": [
       "<pre>| Attempt | Initial Step Size | Estimated Objective Value                |</pre>"
      ],
      "text/plain": [
       "| Attempt | Initial Step Size | Estimated Objective Value                |"
      ]
     },
     "metadata": {},
     "output_type": "display_data"
    },
    {
     "data": {
      "text/html": [
       "<pre>+---------+-------------------+------------------------------------------+</pre>"
      ],
      "text/plain": [
       "+---------+-------------------+------------------------------------------+"
      ]
     },
     "metadata": {},
     "output_type": "display_data"
    },
    {
     "data": {
      "text/html": [
       "<pre>| 0       | 1.66667           | Not Viable                               |</pre>"
      ],
      "text/plain": [
       "| 0       | 1.66667           | Not Viable                               |"
      ]
     },
     "metadata": {},
     "output_type": "display_data"
    },
    {
     "data": {
      "text/html": [
       "<pre>| 1       | 0.416667          | Not Viable                               |</pre>"
      ],
      "text/plain": [
       "| 1       | 0.416667          | Not Viable                               |"
      ]
     },
     "metadata": {},
     "output_type": "display_data"
    },
    {
     "data": {
      "text/html": [
       "<pre>| 2       | 0.104167          | Not Viable                               |</pre>"
      ],
      "text/plain": [
       "| 2       | 0.104167          | Not Viable                               |"
      ]
     },
     "metadata": {},
     "output_type": "display_data"
    },
    {
     "data": {
      "text/html": [
       "<pre>| 3       | 0.0260417         | Not Viable                               |</pre>"
      ],
      "text/plain": [
       "| 3       | 0.0260417         | Not Viable                               |"
      ]
     },
     "metadata": {},
     "output_type": "display_data"
    },
    {
     "data": {
      "text/html": [
       "<pre>| 4       | 0.00651042        | Not Viable                               |</pre>"
      ],
      "text/plain": [
       "| 4       | 0.00651042        | Not Viable                               |"
      ]
     },
     "metadata": {},
     "output_type": "display_data"
    },
    {
     "data": {
      "text/html": [
       "<pre>| 5       | 0.0016276         | 3.28329                                  |</pre>"
      ],
      "text/plain": [
       "| 5       | 0.0016276         | 3.28329                                  |"
      ]
     },
     "metadata": {},
     "output_type": "display_data"
    },
    {
     "data": {
      "text/html": [
       "<pre>| 6       | 0.000813802       | 3.36167                                  |</pre>"
      ],
      "text/plain": [
       "| 6       | 0.000813802       | 3.36167                                  |"
      ]
     },
     "metadata": {},
     "output_type": "display_data"
    },
    {
     "data": {
      "text/html": [
       "<pre>| 7       | 0.000406901       | 3.4081                                   |</pre>"
      ],
      "text/plain": [
       "| 7       | 0.000406901       | 3.4081                                   |"
      ]
     },
     "metadata": {},
     "output_type": "display_data"
    },
    {
     "data": {
      "text/html": [
       "<pre>| 8       | 0.000203451       | 3.43163                                  |</pre>"
      ],
      "text/plain": [
       "| 8       | 0.000203451       | 3.43163                                  |"
      ]
     },
     "metadata": {},
     "output_type": "display_data"
    },
    {
     "data": {
      "text/html": [
       "<pre>+---------+-------------------+------------------------------------------+</pre>"
      ],
      "text/plain": [
       "+---------+-------------------+------------------------------------------+"
      ]
     },
     "metadata": {},
     "output_type": "display_data"
    },
    {
     "data": {
      "text/html": [
       "<pre>| Final   | 0.0016276         | 3.28329                                  |</pre>"
      ],
      "text/plain": [
       "| Final   | 0.0016276         | 3.28329                                  |"
      ]
     },
     "metadata": {},
     "output_type": "display_data"
    },
    {
     "data": {
      "text/html": [
       "<pre>+---------+-------------------+------------------------------------------+</pre>"
      ],
      "text/plain": [
       "+---------+-------------------+------------------------------------------+"
      ]
     },
     "metadata": {},
     "output_type": "display_data"
    },
    {
     "data": {
      "text/html": [
       "<pre>Starting Optimization.</pre>"
      ],
      "text/plain": [
       "Starting Optimization."
      ]
     },
     "metadata": {},
     "output_type": "display_data"
    },
    {
     "data": {
      "text/html": [
       "<pre>+---------+--------------+-------------------+-----------------------+-------------+</pre>"
      ],
      "text/plain": [
       "+---------+--------------+-------------------+-----------------------+-------------+"
      ]
     },
     "metadata": {},
     "output_type": "display_data"
    },
    {
     "data": {
      "text/html": [
       "<pre>| Iter.   | Elapsed Time | Approx. Objective | Approx. Training RMSE | Step Size   |</pre>"
      ],
      "text/plain": [
       "| Iter.   | Elapsed Time | Approx. Objective | Approx. Training RMSE | Step Size   |"
      ]
     },
     "metadata": {},
     "output_type": "display_data"
    },
    {
     "data": {
      "text/html": [
       "<pre>+---------+--------------+-------------------+-----------------------+-------------+</pre>"
      ],
      "text/plain": [
       "+---------+--------------+-------------------+-----------------------+-------------+"
      ]
     },
     "metadata": {},
     "output_type": "display_data"
    },
    {
     "data": {
      "text/html": [
       "<pre>| Initial | 0us          | 3.45234           | 1.85805               |             |</pre>"
      ],
      "text/plain": [
       "| Initial | 0us          | 3.45234           | 1.85805               |             |"
      ]
     },
     "metadata": {},
     "output_type": "display_data"
    },
    {
     "data": {
      "text/html": [
       "<pre>+---------+--------------+-------------------+-----------------------+-------------+</pre>"
      ],
      "text/plain": [
       "+---------+--------------+-------------------+-----------------------+-------------+"
      ]
     },
     "metadata": {},
     "output_type": "display_data"
    },
    {
     "data": {
      "text/html": [
       "<pre>| 1       | 598.592ms    | 3.34599           | 1.82921               | 0.0016276   |</pre>"
      ],
      "text/plain": [
       "| 1       | 598.592ms    | 3.34599           | 1.82921               | 0.0016276   |"
      ]
     },
     "metadata": {},
     "output_type": "display_data"
    },
    {
     "data": {
      "text/html": [
       "<pre>| 2       | 1.26s        | DIVERGED          | DIVERGED              | 0.0016276   |</pre>"
      ],
      "text/plain": [
       "| 2       | 1.26s        | DIVERGED          | DIVERGED              | 0.0016276   |"
      ]
     },
     "metadata": {},
     "output_type": "display_data"
    },
    {
     "data": {
      "text/html": [
       "<pre>| RESET   | 1.36s        | 3.4522            | 1.85801               |             |</pre>"
      ],
      "text/plain": [
       "| RESET   | 1.36s        | 3.4522            | 1.85801               |             |"
      ]
     },
     "metadata": {},
     "output_type": "display_data"
    },
    {
     "data": {
      "text/html": [
       "<pre>| 1       | 1.96s        | 3.3827            | 1.83921               | 0.000813802 |</pre>"
      ],
      "text/plain": [
       "| 1       | 1.96s        | 3.3827            | 1.83921               | 0.000813802 |"
      ]
     },
     "metadata": {},
     "output_type": "display_data"
    },
    {
     "data": {
      "text/html": [
       "<pre>| 2       | 2.55s        | 3.32693           | 1.82399               | 0.000813802 |</pre>"
      ],
      "text/plain": [
       "| 2       | 2.55s        | 3.32693           | 1.82399               | 0.000813802 |"
      ]
     },
     "metadata": {},
     "output_type": "display_data"
    },
    {
     "data": {
      "text/html": [
       "<pre>| 3       | 3.12s        | 3.29124           | 1.81418               | 0.000813802 |</pre>"
      ],
      "text/plain": [
       "| 3       | 3.12s        | 3.29124           | 1.81418               | 0.000813802 |"
      ]
     },
     "metadata": {},
     "output_type": "display_data"
    },
    {
     "data": {
      "text/html": [
       "<pre>| 4       | 3.70s        | 3.26436           | 1.80675               | 0.000813802 |</pre>"
      ],
      "text/plain": [
       "| 4       | 3.70s        | 3.26436           | 1.80675               | 0.000813802 |"
      ]
     },
     "metadata": {},
     "output_type": "display_data"
    },
    {
     "data": {
      "text/html": [
       "<pre>| 5       | 4.30s        | 3.24428           | 1.80119               | 0.000813802 |</pre>"
      ],
      "text/plain": [
       "| 5       | 4.30s        | 3.24428           | 1.80119               | 0.000813802 |"
      ]
     },
     "metadata": {},
     "output_type": "display_data"
    },
    {
     "data": {
      "text/html": [
       "<pre>| 8       | 6.02s        | 3.3113            | 1.8197                | 0.000813802 |</pre>"
      ],
      "text/plain": [
       "| 8       | 6.02s        | 3.3113            | 1.8197                | 0.000813802 |"
      ]
     },
     "metadata": {},
     "output_type": "display_data"
    },
    {
     "data": {
      "text/html": [
       "<pre>| 10      | 7.30s        | 4.86678           | 2.20608               | 0.000813802 |</pre>"
      ],
      "text/plain": [
       "| 10      | 7.30s        | 4.86678           | 2.20608               | 0.000813802 |"
      ]
     },
     "metadata": {},
     "output_type": "display_data"
    },
    {
     "data": {
      "text/html": [
       "<pre>| 11      | 7.94s        | DIVERGED          | DIVERGED              | 0.000813802 |</pre>"
      ],
      "text/plain": [
       "| 11      | 7.94s        | DIVERGED          | DIVERGED              | 0.000813802 |"
      ]
     },
     "metadata": {},
     "output_type": "display_data"
    },
    {
     "data": {
      "text/html": [
       "<pre>| RESET   | 8.04s        | 3.45218           | 1.858                 |             |</pre>"
      ],
      "text/plain": [
       "| RESET   | 8.04s        | 3.45218           | 1.858                 |             |"
      ]
     },
     "metadata": {},
     "output_type": "display_data"
    },
    {
     "data": {
      "text/html": [
       "<pre>| 2       | 9.20s        | 3.38832           | 1.84074               | 0.000406901 |</pre>"
      ],
      "text/plain": [
       "| 2       | 9.20s        | 3.38832           | 1.84074               | 0.000406901 |"
      ]
     },
     "metadata": {},
     "output_type": "display_data"
    },
    {
     "data": {
      "text/html": [
       "<pre>| 7       | 12.97s       | 3.33078           | 1.82504               | 0.000406901 |</pre>"
      ],
      "text/plain": [
       "| 7       | 12.97s       | 3.33078           | 1.82504               | 0.000406901 |"
      ]
     },
     "metadata": {},
     "output_type": "display_data"
    },
    {
     "data": {
      "text/html": [
       "<pre>| 12      | 15.99s       | 3.29404           | 1.81495               | 0.000406901 |</pre>"
      ],
      "text/plain": [
       "| 12      | 15.99s       | 3.29404           | 1.81495               | 0.000406901 |"
      ]
     },
     "metadata": {},
     "output_type": "display_data"
    },
    {
     "data": {
      "text/html": [
       "<pre>| 17      | 18.86s       | 3.26722           | 1.80755               | 0.000406901 |</pre>"
      ],
      "text/plain": [
       "| 17      | 18.86s       | 3.26722           | 1.80755               | 0.000406901 |"
      ]
     },
     "metadata": {},
     "output_type": "display_data"
    },
    {
     "data": {
      "text/html": [
       "<pre>| 22      | 21.74s       | 3.268             | 1.80776               | 0.000406901 |</pre>"
      ],
      "text/plain": [
       "| 22      | 21.74s       | 3.268             | 1.80776               | 0.000406901 |"
      ]
     },
     "metadata": {},
     "output_type": "display_data"
    },
    {
     "data": {
      "text/html": [
       "<pre>| 27      | 24.63s       | 3.43918           | 1.8545                | 0.000406901 |</pre>"
      ],
      "text/plain": [
       "| 27      | 24.63s       | 3.43918           | 1.8545                | 0.000406901 |"
      ]
     },
     "metadata": {},
     "output_type": "display_data"
    },
    {
     "data": {
      "text/html": [
       "<pre>| 32      | 27.49s       | 6.08136           | 2.46604               | 0.000406901 |</pre>"
      ],
      "text/plain": [
       "| 32      | 27.49s       | 6.08136           | 2.46604               | 0.000406901 |"
      ]
     },
     "metadata": {},
     "output_type": "display_data"
    },
    {
     "data": {
      "text/html": [
       "<pre>| 33      | 28.22s       | DIVERGED          | DIVERGED              | 0.000406901 |</pre>"
      ],
      "text/plain": [
       "| 33      | 28.22s       | DIVERGED          | DIVERGED              | 0.000406901 |"
      ]
     },
     "metadata": {},
     "output_type": "display_data"
    },
    {
     "data": {
      "text/html": [
       "<pre>| RESET   | 28.31s       | 3.45211           | 1.85799               |             |</pre>"
      ],
      "text/plain": [
       "| RESET   | 28.31s       | 3.45211           | 1.85799               |             |"
      ]
     },
     "metadata": {},
     "output_type": "display_data"
    },
    {
     "data": {
      "text/html": [
       "<pre>| 4       | 30.73s       | 3.40067           | 1.84409               | 0.000203451 |</pre>"
      ],
      "text/plain": [
       "| 4       | 30.73s       | 3.40067           | 1.84409               | 0.000203451 |"
      ]
     },
     "metadata": {},
     "output_type": "display_data"
    },
    {
     "data": {
      "text/html": [
       "<pre>| 8       | 33.32s       | 3.37747           | 1.83779               | 0.000203451 |</pre>"
      ],
      "text/plain": [
       "| 8       | 33.32s       | 3.37747           | 1.83779               | 0.000203451 |"
      ]
     },
     "metadata": {},
     "output_type": "display_data"
    },
    {
     "data": {
      "text/html": [
       "<pre>| 9       | 34.03s       | 3.3727            | 1.83649               | 0.000203451 |</pre>"
      ],
      "text/plain": [
       "| 9       | 34.03s       | 3.3727            | 1.83649               | 0.000203451 |"
      ]
     },
     "metadata": {},
     "output_type": "display_data"
    },
    {
     "data": {
      "text/html": [
       "<pre>+---------+--------------+-------------------+-----------------------+-------------+</pre>"
      ],
      "text/plain": [
       "+---------+--------------+-------------------+-----------------------+-------------+"
      ]
     },
     "metadata": {},
     "output_type": "display_data"
    },
    {
     "data": {
      "text/html": [
       "<pre>Optimization Complete: Maximum number of passes through the data reached (hard limit).</pre>"
      ],
      "text/plain": [
       "Optimization Complete: Maximum number of passes through the data reached (hard limit)."
      ]
     },
     "metadata": {},
     "output_type": "display_data"
    },
    {
     "data": {
      "text/html": [
       "<pre>Computing final objective value and training RMSE.</pre>"
      ],
      "text/plain": [
       "Computing final objective value and training RMSE."
      ]
     },
     "metadata": {},
     "output_type": "display_data"
    },
    {
     "data": {
      "text/html": [
       "<pre>       Final objective value: 3.37037</pre>"
      ],
      "text/plain": [
       "       Final objective value: 3.37037"
      ]
     },
     "metadata": {},
     "output_type": "display_data"
    },
    {
     "data": {
      "text/html": [
       "<pre>       Final training RMSE: 1.83586</pre>"
      ],
      "text/plain": [
       "       Final training RMSE: 1.83586"
      ]
     },
     "metadata": {},
     "output_type": "display_data"
    },
    {
     "data": {
      "text/html": [
       "<pre>Recsys training: model = factorization_recommender</pre>"
      ],
      "text/plain": [
       "Recsys training: model = factorization_recommender"
      ]
     },
     "metadata": {},
     "output_type": "display_data"
    },
    {
     "data": {
      "text/html": [
       "<pre>Preparing data set.</pre>"
      ],
      "text/plain": [
       "Preparing data set."
      ]
     },
     "metadata": {},
     "output_type": "display_data"
    },
    {
     "data": {
      "text/html": [
       "<pre>    Data has 433201 observations with 36422 users and 26101 items.</pre>"
      ],
      "text/plain": [
       "    Data has 433201 observations with 36422 users and 26101 items."
      ]
     },
     "metadata": {},
     "output_type": "display_data"
    },
    {
     "data": {
      "text/html": [
       "<pre>    Data prepared in: 0.245152s</pre>"
      ],
      "text/plain": [
       "    Data prepared in: 0.245152s"
      ]
     },
     "metadata": {},
     "output_type": "display_data"
    },
    {
     "data": {
      "text/html": [
       "<pre>Training factorization_recommender for recommendations.</pre>"
      ],
      "text/plain": [
       "Training factorization_recommender for recommendations."
      ]
     },
     "metadata": {},
     "output_type": "display_data"
    },
    {
     "data": {
      "text/html": [
       "<pre>+--------------------------------+--------------------------------------------------+----------+</pre>"
      ],
      "text/plain": [
       "+--------------------------------+--------------------------------------------------+----------+"
      ]
     },
     "metadata": {},
     "output_type": "display_data"
    },
    {
     "data": {
      "text/html": [
       "<pre>| Parameter                      | Description                                      | Value    |</pre>"
      ],
      "text/plain": [
       "| Parameter                      | Description                                      | Value    |"
      ]
     },
     "metadata": {},
     "output_type": "display_data"
    },
    {
     "data": {
      "text/html": [
       "<pre>+--------------------------------+--------------------------------------------------+----------+</pre>"
      ],
      "text/plain": [
       "+--------------------------------+--------------------------------------------------+----------+"
      ]
     },
     "metadata": {},
     "output_type": "display_data"
    },
    {
     "data": {
      "text/html": [
       "<pre>| num_factors                    | Factor Dimension                                 | 8        |</pre>"
      ],
      "text/plain": [
       "| num_factors                    | Factor Dimension                                 | 8        |"
      ]
     },
     "metadata": {},
     "output_type": "display_data"
    },
    {
     "data": {
      "text/html": [
       "<pre>| regularization                 | L2 Regularization on Factors                     | 1e-008   |</pre>"
      ],
      "text/plain": [
       "| regularization                 | L2 Regularization on Factors                     | 1e-008   |"
      ]
     },
     "metadata": {},
     "output_type": "display_data"
    },
    {
     "data": {
      "text/html": [
       "<pre>| solver                         | Solver used for training                         | adagrad  |</pre>"
      ],
      "text/plain": [
       "| solver                         | Solver used for training                         | adagrad  |"
      ]
     },
     "metadata": {},
     "output_type": "display_data"
    },
    {
     "data": {
      "text/html": [
       "<pre>| linear_regularization          | L2 Regularization on Linear Coefficients         | 1e-010   |</pre>"
      ],
      "text/plain": [
       "| linear_regularization          | L2 Regularization on Linear Coefficients         | 1e-010   |"
      ]
     },
     "metadata": {},
     "output_type": "display_data"
    },
    {
     "data": {
      "text/html": [
       "<pre>| side_data_factorization        | Assign Factors for Side Data                     | True     |</pre>"
      ],
      "text/plain": [
       "| side_data_factorization        | Assign Factors for Side Data                     | True     |"
      ]
     },
     "metadata": {},
     "output_type": "display_data"
    },
    {
     "data": {
      "text/html": [
       "<pre>| max_iterations                 | Maximum Number of Iterations                     | 50       |</pre>"
      ],
      "text/plain": [
       "| max_iterations                 | Maximum Number of Iterations                     | 50       |"
      ]
     },
     "metadata": {},
     "output_type": "display_data"
    },
    {
     "data": {
      "text/html": [
       "<pre>+--------------------------------+--------------------------------------------------+----------+</pre>"
      ],
      "text/plain": [
       "+--------------------------------+--------------------------------------------------+----------+"
      ]
     },
     "metadata": {},
     "output_type": "display_data"
    },
    {
     "data": {
      "text/html": [
       "<pre>  Optimizing model using SGD; tuning step size.</pre>"
      ],
      "text/plain": [
       "  Optimizing model using SGD; tuning step size."
      ]
     },
     "metadata": {},
     "output_type": "display_data"
    },
    {
     "data": {
      "text/html": [
       "<pre>  Using 54150 / 433201 points for tuning the step size.</pre>"
      ],
      "text/plain": [
       "  Using 54150 / 433201 points for tuning the step size."
      ]
     },
     "metadata": {},
     "output_type": "display_data"
    },
    {
     "data": {
      "text/html": [
       "<pre>+---------+-------------------+------------------------------------------+</pre>"
      ],
      "text/plain": [
       "+---------+-------------------+------------------------------------------+"
      ]
     },
     "metadata": {},
     "output_type": "display_data"
    },
    {
     "data": {
      "text/html": [
       "<pre>| Attempt | Initial Step Size | Estimated Objective Value                |</pre>"
      ],
      "text/plain": [
       "| Attempt | Initial Step Size | Estimated Objective Value                |"
      ]
     },
     "metadata": {},
     "output_type": "display_data"
    },
    {
     "data": {
      "text/html": [
       "<pre>+---------+-------------------+------------------------------------------+</pre>"
      ],
      "text/plain": [
       "+---------+-------------------+------------------------------------------+"
      ]
     },
     "metadata": {},
     "output_type": "display_data"
    },
    {
     "data": {
      "text/html": [
       "<pre>| 0       | 7.14286           | Not Viable                               |</pre>"
      ],
      "text/plain": [
       "| 0       | 7.14286           | Not Viable                               |"
      ]
     },
     "metadata": {},
     "output_type": "display_data"
    },
    {
     "data": {
      "text/html": [
       "<pre>| 1       | 1.78571           | 0.633086                                 |</pre>"
      ],
      "text/plain": [
       "| 1       | 1.78571           | 0.633086                                 |"
      ]
     },
     "metadata": {},
     "output_type": "display_data"
    },
    {
     "data": {
      "text/html": [
       "<pre>| 2       | 0.892857          | 0.885589                                 |</pre>"
      ],
      "text/plain": [
       "| 2       | 0.892857          | 0.885589                                 |"
      ]
     },
     "metadata": {},
     "output_type": "display_data"
    },
    {
     "data": {
      "text/html": [
       "<pre>| 3       | 0.446429          | 0.195663                                 |</pre>"
      ],
      "text/plain": [
       "| 3       | 0.446429          | 0.195663                                 |"
      ]
     },
     "metadata": {},
     "output_type": "display_data"
    },
    {
     "data": {
      "text/html": [
       "<pre>| 4       | 0.223214          | 0.291713                                 |</pre>"
      ],
      "text/plain": [
       "| 4       | 0.223214          | 0.291713                                 |"
      ]
     },
     "metadata": {},
     "output_type": "display_data"
    },
    {
     "data": {
      "text/html": [
       "<pre>| 5       | 0.111607          | 0.953626                                 |</pre>"
      ],
      "text/plain": [
       "| 5       | 0.111607          | 0.953626                                 |"
      ]
     },
     "metadata": {},
     "output_type": "display_data"
    },
    {
     "data": {
      "text/html": [
       "<pre>+---------+-------------------+------------------------------------------+</pre>"
      ],
      "text/plain": [
       "+---------+-------------------+------------------------------------------+"
      ]
     },
     "metadata": {},
     "output_type": "display_data"
    },
    {
     "data": {
      "text/html": [
       "<pre>| Final   | 0.446429          | 0.195663                                 |</pre>"
      ],
      "text/plain": [
       "| Final   | 0.446429          | 0.195663                                 |"
      ]
     },
     "metadata": {},
     "output_type": "display_data"
    },
    {
     "data": {
      "text/html": [
       "<pre>+---------+-------------------+------------------------------------------+</pre>"
      ],
      "text/plain": [
       "+---------+-------------------+------------------------------------------+"
      ]
     },
     "metadata": {},
     "output_type": "display_data"
    },
    {
     "data": {
      "text/html": [
       "<pre>Starting Optimization.</pre>"
      ],
      "text/plain": [
       "Starting Optimization."
      ]
     },
     "metadata": {},
     "output_type": "display_data"
    },
    {
     "data": {
      "text/html": [
       "<pre>+---------+--------------+-------------------+-----------------------+-------------+</pre>"
      ],
      "text/plain": [
       "+---------+--------------+-------------------+-----------------------+-------------+"
      ]
     },
     "metadata": {},
     "output_type": "display_data"
    },
    {
     "data": {
      "text/html": [
       "<pre>| Iter.   | Elapsed Time | Approx. Objective | Approx. Training RMSE | Step Size   |</pre>"
      ],
      "text/plain": [
       "| Iter.   | Elapsed Time | Approx. Objective | Approx. Training RMSE | Step Size   |"
      ]
     },
     "metadata": {},
     "output_type": "display_data"
    },
    {
     "data": {
      "text/html": [
       "<pre>+---------+--------------+-------------------+-----------------------+-------------+</pre>"
      ],
      "text/plain": [
       "+---------+--------------+-------------------+-----------------------+-------------+"
      ]
     },
     "metadata": {},
     "output_type": "display_data"
    },
    {
     "data": {
      "text/html": [
       "<pre>| Initial | 0us          | 3.45151           | 1.85782               |             |</pre>"
      ],
      "text/plain": [
       "| Initial | 0us          | 3.45151           | 1.85782               |             |"
      ]
     },
     "metadata": {},
     "output_type": "display_data"
    },
    {
     "data": {
      "text/html": [
       "<pre>+---------+--------------+-------------------+-----------------------+-------------+</pre>"
      ],
      "text/plain": [
       "+---------+--------------+-------------------+-----------------------+-------------+"
      ]
     },
     "metadata": {},
     "output_type": "display_data"
    },
    {
     "data": {
      "text/html": [
       "<pre>| 1       | 191.008ms    | 2.48911           | 1.57726               | 0.446429    |</pre>"
      ],
      "text/plain": [
       "| 1       | 191.008ms    | 2.48911           | 1.57726               | 0.446429    |"
      ]
     },
     "metadata": {},
     "output_type": "display_data"
    },
    {
     "data": {
      "text/html": [
       "<pre>| 2       | 386.528ms    | 1.64663           | 1.28273               | 0.446429    |</pre>"
      ],
      "text/plain": [
       "| 2       | 386.528ms    | 1.64663           | 1.28273               | 0.446429    |"
      ]
     },
     "metadata": {},
     "output_type": "display_data"
    },
    {
     "data": {
      "text/html": [
       "<pre>| 3       | 578.538ms    | 1.34901           | 1.16092               | 0.446429    |</pre>"
      ],
      "text/plain": [
       "| 3       | 578.538ms    | 1.34901           | 1.16092               | 0.446429    |"
      ]
     },
     "metadata": {},
     "output_type": "display_data"
    },
    {
     "data": {
      "text/html": [
       "<pre>| 4       | 768.042ms    | 1.20748           | 1.09826               | 0.446429    |</pre>"
      ],
      "text/plain": [
       "| 4       | 768.042ms    | 1.20748           | 1.09826               | 0.446429    |"
      ]
     },
     "metadata": {},
     "output_type": "display_data"
    },
    {
     "data": {
      "text/html": [
       "<pre>| 5       | 949.524ms    | 1.12344           | 1.0593                | 0.446429    |</pre>"
      ],
      "text/plain": [
       "| 5       | 949.524ms    | 1.12344           | 1.0593                | 0.446429    |"
      ]
     },
     "metadata": {},
     "output_type": "display_data"
    },
    {
     "data": {
      "text/html": [
       "<pre>| 6       | 1.12s        | 1.0661            | 1.03186               | 0.446429    |</pre>"
      ],
      "text/plain": [
       "| 6       | 1.12s        | 1.0661            | 1.03186               | 0.446429    |"
      ]
     },
     "metadata": {},
     "output_type": "display_data"
    },
    {
     "data": {
      "text/html": [
       "<pre>| 10      | 1.88s        | 0.950293          | 0.974082              | 0.446429    |</pre>"
      ],
      "text/plain": [
       "| 10      | 1.88s        | 0.950293          | 0.974082              | 0.446429    |"
      ]
     },
     "metadata": {},
     "output_type": "display_data"
    },
    {
     "data": {
      "text/html": [
       "<pre>| 11      | 2.07s        | 0.934423          | 0.965894              | 0.446429    |</pre>"
      ],
      "text/plain": [
       "| 11      | 2.07s        | 0.934423          | 0.965894              | 0.446429    |"
      ]
     },
     "metadata": {},
     "output_type": "display_data"
    },
    {
     "data": {
      "text/html": [
       "<pre>| 20      | 3.72s        | 0.85196           | 0.922159              | 0.446429    |</pre>"
      ],
      "text/plain": [
       "| 20      | 3.72s        | 0.85196           | 0.922159              | 0.446429    |"
      ]
     },
     "metadata": {},
     "output_type": "display_data"
    },
    {
     "data": {
      "text/html": [
       "<pre>| 30      | 5.57s        | 0.816873          | 0.902889              | 0.446429    |</pre>"
      ],
      "text/plain": [
       "| 30      | 5.57s        | 0.816873          | 0.902889              | 0.446429    |"
      ]
     },
     "metadata": {},
     "output_type": "display_data"
    },
    {
     "data": {
      "text/html": [
       "<pre>| 40      | 7.43s        | 0.793614          | 0.889882              | 0.446429    |</pre>"
      ],
      "text/plain": [
       "| 40      | 7.43s        | 0.793614          | 0.889882              | 0.446429    |"
      ]
     },
     "metadata": {},
     "output_type": "display_data"
    },
    {
     "data": {
      "text/html": [
       "<pre>| 50      | 9.31s        | 0.779312          | 0.881783              | 0.446429    |</pre>"
      ],
      "text/plain": [
       "| 50      | 9.31s        | 0.779312          | 0.881783              | 0.446429    |"
      ]
     },
     "metadata": {},
     "output_type": "display_data"
    },
    {
     "data": {
      "text/html": [
       "<pre>+---------+--------------+-------------------+-----------------------+-------------+</pre>"
      ],
      "text/plain": [
       "+---------+--------------+-------------------+-----------------------+-------------+"
      ]
     },
     "metadata": {},
     "output_type": "display_data"
    },
    {
     "data": {
      "text/html": [
       "<pre>Optimization Complete: Maximum number of passes through the data reached.</pre>"
      ],
      "text/plain": [
       "Optimization Complete: Maximum number of passes through the data reached."
      ]
     },
     "metadata": {},
     "output_type": "display_data"
    },
    {
     "data": {
      "text/html": [
       "<pre>Computing final objective value and training RMSE.</pre>"
      ],
      "text/plain": [
       "Computing final objective value and training RMSE."
      ]
     },
     "metadata": {},
     "output_type": "display_data"
    },
    {
     "data": {
      "text/html": [
       "<pre>       Final objective value: 0.732019</pre>"
      ],
      "text/plain": [
       "       Final objective value: 0.732019"
      ]
     },
     "metadata": {},
     "output_type": "display_data"
    },
    {
     "data": {
      "text/html": [
       "<pre>       Final training RMSE: 0.854546</pre>"
      ],
      "text/plain": [
       "       Final training RMSE: 0.854546"
      ]
     },
     "metadata": {},
     "output_type": "display_data"
    },
    {
     "data": {
      "text/html": [
       "<pre>Recsys training: model = factorization_recommender</pre>"
      ],
      "text/plain": [
       "Recsys training: model = factorization_recommender"
      ]
     },
     "metadata": {},
     "output_type": "display_data"
    },
    {
     "data": {
      "text/html": [
       "<pre>Preparing data set.</pre>"
      ],
      "text/plain": [
       "Preparing data set."
      ]
     },
     "metadata": {},
     "output_type": "display_data"
    },
    {
     "data": {
      "text/html": [
       "<pre>    Data has 433201 observations with 36422 users and 26095 items.</pre>"
      ],
      "text/plain": [
       "    Data has 433201 observations with 36422 users and 26095 items."
      ]
     },
     "metadata": {},
     "output_type": "display_data"
    },
    {
     "data": {
      "text/html": [
       "<pre>    Data prepared in: 0.287794s</pre>"
      ],
      "text/plain": [
       "    Data prepared in: 0.287794s"
      ]
     },
     "metadata": {},
     "output_type": "display_data"
    },
    {
     "data": {
      "text/html": [
       "<pre>Training factorization_recommender for recommendations.</pre>"
      ],
      "text/plain": [
       "Training factorization_recommender for recommendations."
      ]
     },
     "metadata": {},
     "output_type": "display_data"
    },
    {
     "data": {
      "text/html": [
       "<pre>+--------------------------------+--------------------------------------------------+----------+</pre>"
      ],
      "text/plain": [
       "+--------------------------------+--------------------------------------------------+----------+"
      ]
     },
     "metadata": {},
     "output_type": "display_data"
    },
    {
     "data": {
      "text/html": [
       "<pre>| Parameter                      | Description                                      | Value    |</pre>"
      ],
      "text/plain": [
       "| Parameter                      | Description                                      | Value    |"
      ]
     },
     "metadata": {},
     "output_type": "display_data"
    },
    {
     "data": {
      "text/html": [
       "<pre>+--------------------------------+--------------------------------------------------+----------+</pre>"
      ],
      "text/plain": [
       "+--------------------------------+--------------------------------------------------+----------+"
      ]
     },
     "metadata": {},
     "output_type": "display_data"
    },
    {
     "data": {
      "text/html": [
       "<pre>| num_factors                    | Factor Dimension                                 | 8        |</pre>"
      ],
      "text/plain": [
       "| num_factors                    | Factor Dimension                                 | 8        |"
      ]
     },
     "metadata": {},
     "output_type": "display_data"
    },
    {
     "data": {
      "text/html": [
       "<pre>| regularization                 | L2 Regularization on Factors                     | 1e-008   |</pre>"
      ],
      "text/plain": [
       "| regularization                 | L2 Regularization on Factors                     | 1e-008   |"
      ]
     },
     "metadata": {},
     "output_type": "display_data"
    },
    {
     "data": {
      "text/html": [
       "<pre>| solver                         | Solver used for training                         | adagrad  |</pre>"
      ],
      "text/plain": [
       "| solver                         | Solver used for training                         | adagrad  |"
      ]
     },
     "metadata": {},
     "output_type": "display_data"
    },
    {
     "data": {
      "text/html": [
       "<pre>| linear_regularization          | L2 Regularization on Linear Coefficients         | 1e-010   |</pre>"
      ],
      "text/plain": [
       "| linear_regularization          | L2 Regularization on Linear Coefficients         | 1e-010   |"
      ]
     },
     "metadata": {},
     "output_type": "display_data"
    },
    {
     "data": {
      "text/html": [
       "<pre>| side_data_factorization        | Assign Factors for Side Data                     | True     |</pre>"
      ],
      "text/plain": [
       "| side_data_factorization        | Assign Factors for Side Data                     | True     |"
      ]
     },
     "metadata": {},
     "output_type": "display_data"
    },
    {
     "data": {
      "text/html": [
       "<pre>| max_iterations                 | Maximum Number of Iterations                     | 50       |</pre>"
      ],
      "text/plain": [
       "| max_iterations                 | Maximum Number of Iterations                     | 50       |"
      ]
     },
     "metadata": {},
     "output_type": "display_data"
    },
    {
     "data": {
      "text/html": [
       "<pre>+--------------------------------+--------------------------------------------------+----------+</pre>"
      ],
      "text/plain": [
       "+--------------------------------+--------------------------------------------------+----------+"
      ]
     },
     "metadata": {},
     "output_type": "display_data"
    },
    {
     "data": {
      "text/html": [
       "<pre>  Optimizing model using SGD; tuning step size.</pre>"
      ],
      "text/plain": [
       "  Optimizing model using SGD; tuning step size."
      ]
     },
     "metadata": {},
     "output_type": "display_data"
    },
    {
     "data": {
      "text/html": [
       "<pre>  Using 54150 / 433201 points for tuning the step size.</pre>"
      ],
      "text/plain": [
       "  Using 54150 / 433201 points for tuning the step size."
      ]
     },
     "metadata": {},
     "output_type": "display_data"
    },
    {
     "data": {
      "text/html": [
       "<pre>+---------+-------------------+------------------------------------------+</pre>"
      ],
      "text/plain": [
       "+---------+-------------------+------------------------------------------+"
      ]
     },
     "metadata": {},
     "output_type": "display_data"
    },
    {
     "data": {
      "text/html": [
       "<pre>| Attempt | Initial Step Size | Estimated Objective Value                |</pre>"
      ],
      "text/plain": [
       "| Attempt | Initial Step Size | Estimated Objective Value                |"
      ]
     },
     "metadata": {},
     "output_type": "display_data"
    },
    {
     "data": {
      "text/html": [
       "<pre>+---------+-------------------+------------------------------------------+</pre>"
      ],
      "text/plain": [
       "+---------+-------------------+------------------------------------------+"
      ]
     },
     "metadata": {},
     "output_type": "display_data"
    },
    {
     "data": {
      "text/html": [
       "<pre>| 0       | 1.42857           | 0.718342                                 |</pre>"
      ],
      "text/plain": [
       "| 0       | 1.42857           | 0.718342                                 |"
      ]
     },
     "metadata": {},
     "output_type": "display_data"
    },
    {
     "data": {
      "text/html": [
       "<pre>| 1       | 0.714286          | 1.07059                                  |</pre>"
      ],
      "text/plain": [
       "| 1       | 0.714286          | 1.07059                                  |"
      ]
     },
     "metadata": {},
     "output_type": "display_data"
    },
    {
     "data": {
      "text/html": [
       "<pre>| 2       | 0.357143          | 0.265244                                 |</pre>"
      ],
      "text/plain": [
       "| 2       | 0.357143          | 0.265244                                 |"
      ]
     },
     "metadata": {},
     "output_type": "display_data"
    },
    {
     "data": {
      "text/html": [
       "<pre>| 3       | 0.178571          | 0.492612                                 |</pre>"
      ],
      "text/plain": [
       "| 3       | 0.178571          | 0.492612                                 |"
      ]
     },
     "metadata": {},
     "output_type": "display_data"
    },
    {
     "data": {
      "text/html": [
       "<pre>| 4       | 0.0892857         | 1.34847                                  |</pre>"
      ],
      "text/plain": [
       "| 4       | 0.0892857         | 1.34847                                  |"
      ]
     },
     "metadata": {},
     "output_type": "display_data"
    },
    {
     "data": {
      "text/html": [
       "<pre>+---------+-------------------+------------------------------------------+</pre>"
      ],
      "text/plain": [
       "+---------+-------------------+------------------------------------------+"
      ]
     },
     "metadata": {},
     "output_type": "display_data"
    },
    {
     "data": {
      "text/html": [
       "<pre>| Final   | 0.357143          | 0.265244                                 |</pre>"
      ],
      "text/plain": [
       "| Final   | 0.357143          | 0.265244                                 |"
      ]
     },
     "metadata": {},
     "output_type": "display_data"
    },
    {
     "data": {
      "text/html": [
       "<pre>+---------+-------------------+------------------------------------------+</pre>"
      ],
      "text/plain": [
       "+---------+-------------------+------------------------------------------+"
      ]
     },
     "metadata": {},
     "output_type": "display_data"
    },
    {
     "data": {
      "text/html": [
       "<pre>Starting Optimization.</pre>"
      ],
      "text/plain": [
       "Starting Optimization."
      ]
     },
     "metadata": {},
     "output_type": "display_data"
    },
    {
     "data": {
      "text/html": [
       "<pre>+---------+--------------+-------------------+-----------------------+-------------+</pre>"
      ],
      "text/plain": [
       "+---------+--------------+-------------------+-----------------------+-------------+"
      ]
     },
     "metadata": {},
     "output_type": "display_data"
    },
    {
     "data": {
      "text/html": [
       "<pre>| Iter.   | Elapsed Time | Approx. Objective | Approx. Training RMSE | Step Size   |</pre>"
      ],
      "text/plain": [
       "| Iter.   | Elapsed Time | Approx. Objective | Approx. Training RMSE | Step Size   |"
      ]
     },
     "metadata": {},
     "output_type": "display_data"
    },
    {
     "data": {
      "text/html": [
       "<pre>+---------+--------------+-------------------+-----------------------+-------------+</pre>"
      ],
      "text/plain": [
       "+---------+--------------+-------------------+-----------------------+-------------+"
      ]
     },
     "metadata": {},
     "output_type": "display_data"
    },
    {
     "data": {
      "text/html": [
       "<pre>| Initial | 0us          | 3.45122           | 1.85774               |             |</pre>"
      ],
      "text/plain": [
       "| Initial | 0us          | 3.45122           | 1.85774               |             |"
      ]
     },
     "metadata": {},
     "output_type": "display_data"
    },
    {
     "data": {
      "text/html": [
       "<pre>+---------+--------------+-------------------+-----------------------+-------------+</pre>"
      ],
      "text/plain": [
       "+---------+--------------+-------------------+-----------------------+-------------+"
      ]
     },
     "metadata": {},
     "output_type": "display_data"
    },
    {
     "data": {
      "text/html": [
       "<pre>| 1       | 698.356ms    | 2.36417           | 1.53728               | 0.357143    |</pre>"
      ],
      "text/plain": [
       "| 1       | 698.356ms    | 2.36417           | 1.53728               | 0.357143    |"
      ]
     },
     "metadata": {},
     "output_type": "display_data"
    },
    {
     "data": {
      "text/html": [
       "<pre>| 2       | 1.41s        | 1.57633           | 1.25516               | 0.357143    |</pre>"
      ],
      "text/plain": [
       "| 2       | 1.41s        | 1.57633           | 1.25516               | 0.357143    |"
      ]
     },
     "metadata": {},
     "output_type": "display_data"
    },
    {
     "data": {
      "text/html": [
       "<pre>| 3       | 2.10s        | 1.34061           | 1.15745               | 0.357143    |</pre>"
      ],
      "text/plain": [
       "| 3       | 2.10s        | 1.34061           | 1.15745               | 0.357143    |"
      ]
     },
     "metadata": {},
     "output_type": "display_data"
    },
    {
     "data": {
      "text/html": [
       "<pre>| 4       | 2.75s        | 1.22029           | 1.10424               | 0.357143    |</pre>"
      ],
      "text/plain": [
       "| 4       | 2.75s        | 1.22029           | 1.10424               | 0.357143    |"
      ]
     },
     "metadata": {},
     "output_type": "display_data"
    },
    {
     "data": {
      "text/html": [
       "<pre>| 5       | 3.53s        | 1.14621           | 1.07017               | 0.357143    |</pre>"
      ],
      "text/plain": [
       "| 5       | 3.53s        | 1.14621           | 1.07017               | 0.357143    |"
      ]
     },
     "metadata": {},
     "output_type": "display_data"
    },
    {
     "data": {
      "text/html": [
       "<pre>| 6       | 4.17s        | 1.09547           | 1.04618               | 0.357143    |</pre>"
      ],
      "text/plain": [
       "| 6       | 4.17s        | 1.09547           | 1.04618               | 0.357143    |"
      ]
     },
     "metadata": {},
     "output_type": "display_data"
    },
    {
     "data": {
      "text/html": [
       "<pre>| 10      | 6.78s        | 0.989087          | 0.994012              | 0.357143    |</pre>"
      ],
      "text/plain": [
       "| 10      | 6.78s        | 0.989087          | 0.994012              | 0.357143    |"
      ]
     },
     "metadata": {},
     "output_type": "display_data"
    },
    {
     "data": {
      "text/html": [
       "<pre>| 11      | 7.44s        | 0.972721          | 0.98574               | 0.357143    |</pre>"
      ],
      "text/plain": [
       "| 11      | 7.44s        | 0.972721          | 0.98574               | 0.357143    |"
      ]
     },
     "metadata": {},
     "output_type": "display_data"
    },
    {
     "data": {
      "text/html": [
       "<pre>| 15      | 10.06s       | 0.928491          | 0.963028              | 0.357143    |</pre>"
      ],
      "text/plain": [
       "| 15      | 10.06s       | 0.928491          | 0.963028              | 0.357143    |"
      ]
     },
     "metadata": {},
     "output_type": "display_data"
    },
    {
     "data": {
      "text/html": [
       "<pre>| 20      | 13.65s       | 0.894134          | 0.945007              | 0.357143    |</pre>"
      ],
      "text/plain": [
       "| 20      | 13.65s       | 0.894134          | 0.945007              | 0.357143    |"
      ]
     },
     "metadata": {},
     "output_type": "display_data"
    },
    {
     "data": {
      "text/html": [
       "<pre>| 25      | 17.23s       | 0.870963          | 0.932654              | 0.357143    |</pre>"
      ],
      "text/plain": [
       "| 25      | 17.23s       | 0.870963          | 0.932654              | 0.357143    |"
      ]
     },
     "metadata": {},
     "output_type": "display_data"
    },
    {
     "data": {
      "text/html": [
       "<pre>| 30      | 20.60s       | 0.854694          | 0.923881              | 0.357143    |</pre>"
      ],
      "text/plain": [
       "| 30      | 20.60s       | 0.854694          | 0.923881              | 0.357143    |"
      ]
     },
     "metadata": {},
     "output_type": "display_data"
    },
    {
     "data": {
      "text/html": [
       "<pre>| 35      | 23.85s       | 0.841351          | 0.916622              | 0.357143    |</pre>"
      ],
      "text/plain": [
       "| 35      | 23.85s       | 0.841351          | 0.916622              | 0.357143    |"
      ]
     },
     "metadata": {},
     "output_type": "display_data"
    },
    {
     "data": {
      "text/html": [
       "<pre>| 40      | 27.25s       | 0.830913          | 0.910902              | 0.357143    |</pre>"
      ],
      "text/plain": [
       "| 40      | 27.25s       | 0.830913          | 0.910902              | 0.357143    |"
      ]
     },
     "metadata": {},
     "output_type": "display_data"
    },
    {
     "data": {
      "text/html": [
       "<pre>| 45      | 30.62s       | 0.822636          | 0.90634               | 0.357143    |</pre>"
      ],
      "text/plain": [
       "| 45      | 30.62s       | 0.822636          | 0.90634               | 0.357143    |"
      ]
     },
     "metadata": {},
     "output_type": "display_data"
    },
    {
     "data": {
      "text/html": [
       "<pre>| 50      | 34.06s       | 0.814792          | 0.901995              | 0.357143    |</pre>"
      ],
      "text/plain": [
       "| 50      | 34.06s       | 0.814792          | 0.901995              | 0.357143    |"
      ]
     },
     "metadata": {},
     "output_type": "display_data"
    },
    {
     "data": {
      "text/html": [
       "<pre>+---------+--------------+-------------------+-----------------------+-------------+</pre>"
      ],
      "text/plain": [
       "+---------+--------------+-------------------+-----------------------+-------------+"
      ]
     },
     "metadata": {},
     "output_type": "display_data"
    },
    {
     "data": {
      "text/html": [
       "<pre>Optimization Complete: Maximum number of passes through the data reached.</pre>"
      ],
      "text/plain": [
       "Optimization Complete: Maximum number of passes through the data reached."
      ]
     },
     "metadata": {},
     "output_type": "display_data"
    },
    {
     "data": {
      "text/html": [
       "<pre>Computing final objective value and training RMSE.</pre>"
      ],
      "text/plain": [
       "Computing final objective value and training RMSE."
      ]
     },
     "metadata": {},
     "output_type": "display_data"
    },
    {
     "data": {
      "text/html": [
       "<pre>       Final objective value: 0.789044</pre>"
      ],
      "text/plain": [
       "       Final objective value: 0.789044"
      ]
     },
     "metadata": {},
     "output_type": "display_data"
    },
    {
     "data": {
      "text/html": [
       "<pre>       Final training RMSE: 0.887608</pre>"
      ],
      "text/plain": [
       "       Final training RMSE: 0.887608"
      ]
     },
     "metadata": {},
     "output_type": "display_data"
    },
    {
     "data": {
      "text/html": [
       "<pre>recommendations finished on 1000/8919 queries. users per second: 8944.78</pre>"
      ],
      "text/plain": [
       "recommendations finished on 1000/8919 queries. users per second: 8944.78"
      ]
     },
     "metadata": {},
     "output_type": "display_data"
    },
    {
     "data": {
      "text/html": [
       "<pre>recommendations finished on 2000/8919 queries. users per second: 9408.89</pre>"
      ],
      "text/plain": [
       "recommendations finished on 2000/8919 queries. users per second: 9408.89"
      ]
     },
     "metadata": {},
     "output_type": "display_data"
    },
    {
     "data": {
      "text/html": [
       "<pre>recommendations finished on 3000/8919 queries. users per second: 9682.92</pre>"
      ],
      "text/plain": [
       "recommendations finished on 3000/8919 queries. users per second: 9682.92"
      ]
     },
     "metadata": {},
     "output_type": "display_data"
    },
    {
     "data": {
      "text/html": [
       "<pre>recommendations finished on 4000/8919 queries. users per second: 9850.28</pre>"
      ],
      "text/plain": [
       "recommendations finished on 4000/8919 queries. users per second: 9850.28"
      ]
     },
     "metadata": {},
     "output_type": "display_data"
    },
    {
     "data": {
      "text/html": [
       "<pre>recommendations finished on 5000/8919 queries. users per second: 9884.45</pre>"
      ],
      "text/plain": [
       "recommendations finished on 5000/8919 queries. users per second: 9884.45"
      ]
     },
     "metadata": {},
     "output_type": "display_data"
    },
    {
     "data": {
      "text/html": [
       "<pre>recommendations finished on 6000/8919 queries. users per second: 9948.55</pre>"
      ],
      "text/plain": [
       "recommendations finished on 6000/8919 queries. users per second: 9948.55"
      ]
     },
     "metadata": {},
     "output_type": "display_data"
    },
    {
     "data": {
      "text/html": [
       "<pre>recommendations finished on 7000/8919 queries. users per second: 10016.3</pre>"
      ],
      "text/plain": [
       "recommendations finished on 7000/8919 queries. users per second: 10016.3"
      ]
     },
     "metadata": {},
     "output_type": "display_data"
    },
    {
     "data": {
      "text/html": [
       "<pre>recommendations finished on 8000/8919 queries. users per second: 10017.2</pre>"
      ],
      "text/plain": [
       "recommendations finished on 8000/8919 queries. users per second: 10017.2"
      ]
     },
     "metadata": {},
     "output_type": "display_data"
    },
    {
     "name": "stdout",
     "output_type": "stream",
     "text": [
      "\n",
      "Precision and recall summary statistics by cutoff\n",
      "+--------+-------------------+-------------------+\n",
      "| cutoff |   mean_precision  |    mean_recall    |\n",
      "+--------+-------------------+-------------------+\n",
      "|   1    |        0.0        |        0.0        |\n",
      "|   2    | 5.60600964234e-05 | 3.86621354644e-07 |\n",
      "|   3    | 3.73733976156e-05 | 3.86621354644e-07 |\n",
      "|   4    | 2.80300482117e-05 | 3.86621354644e-07 |\n",
      "|   5    | 4.48480771387e-05 |  1.0165100785e-06 |\n",
      "|   6    | 3.73733976156e-05 |  1.0165100785e-06 |\n",
      "|   7    | 3.20343408134e-05 |  1.0165100785e-06 |\n",
      "|   8    | 5.60600964234e-05 |  1.2585600041e-05 |\n",
      "|   9    | 7.47467952312e-05 |  1.7695937658e-05 |\n",
      "|   10   | 7.84841349927e-05 | 2.04989424792e-05 |\n",
      "+--------+-------------------+-------------------+\n",
      "[10 rows x 3 columns]\n",
      "\n",
      "('\\nOverall RMSE: ', 1.7058085218436736)\n",
      "\n",
      "Per User RMSE (best)\n",
      "+---------+-------+-------------------+\n",
      "| user_id | count |        rmse       |\n",
      "+---------+-------+-------------------+\n",
      "|  20737  |   1   | 0.000520557857703 |\n",
      "+---------+-------+-------------------+\n",
      "[1 rows x 3 columns]\n",
      "\n",
      "\n",
      "Per User RMSE (worst)\n",
      "+---------+-------+---------------+\n",
      "| user_id | count |      rmse     |\n",
      "+---------+-------+---------------+\n",
      "|  19590  |   1   | 8.25092801382 |\n",
      "+---------+-------+---------------+\n",
      "[1 rows x 3 columns]\n",
      "\n",
      "\n",
      "Per Item RMSE (best)\n",
      "+---------+-------+-------------------+\n",
      "| item_id | count |        rmse       |\n",
      "+---------+-------+-------------------+\n",
      "| 2517300 |   1   | 0.000594527221869 |\n",
      "+---------+-------+-------------------+\n",
      "[1 rows x 3 columns]\n",
      "\n",
      "\n",
      "Per Item RMSE (worst)\n",
      "+---------+-------+---------------+\n",
      "| item_id | count |      rmse     |\n",
      "+---------+-------+---------------+\n",
      "| 3073256 |   1   | 8.31792697241 |\n",
      "+---------+-------+---------------+\n",
      "[1 rows x 3 columns]\n",
      "\n"
     ]
    },
    {
     "data": {
      "text/html": [
       "<pre>recommendations finished on 1000/8919 queries. users per second: 4374.3</pre>"
      ],
      "text/plain": [
       "recommendations finished on 1000/8919 queries. users per second: 4374.3"
      ]
     },
     "metadata": {},
     "output_type": "display_data"
    },
    {
     "data": {
      "text/html": [
       "<pre>recommendations finished on 2000/8919 queries. users per second: 4393.58</pre>"
      ],
      "text/plain": [
       "recommendations finished on 2000/8919 queries. users per second: 4393.58"
      ]
     },
     "metadata": {},
     "output_type": "display_data"
    },
    {
     "data": {
      "text/html": [
       "<pre>recommendations finished on 3000/8919 queries. users per second: 4289.64</pre>"
      ],
      "text/plain": [
       "recommendations finished on 3000/8919 queries. users per second: 4289.64"
      ]
     },
     "metadata": {},
     "output_type": "display_data"
    },
    {
     "data": {
      "text/html": [
       "<pre>recommendations finished on 4000/8919 queries. users per second: 4285.04</pre>"
      ],
      "text/plain": [
       "recommendations finished on 4000/8919 queries. users per second: 4285.04"
      ]
     },
     "metadata": {},
     "output_type": "display_data"
    },
    {
     "data": {
      "text/html": [
       "<pre>recommendations finished on 5000/8919 queries. users per second: 4328.74</pre>"
      ],
      "text/plain": [
       "recommendations finished on 5000/8919 queries. users per second: 4328.74"
      ]
     },
     "metadata": {},
     "output_type": "display_data"
    },
    {
     "data": {
      "text/html": [
       "<pre>recommendations finished on 6000/8919 queries. users per second: 4342.56</pre>"
      ],
      "text/plain": [
       "recommendations finished on 6000/8919 queries. users per second: 4342.56"
      ]
     },
     "metadata": {},
     "output_type": "display_data"
    },
    {
     "data": {
      "text/html": [
       "<pre>recommendations finished on 7000/8919 queries. users per second: 4352.49</pre>"
      ],
      "text/plain": [
       "recommendations finished on 7000/8919 queries. users per second: 4352.49"
      ]
     },
     "metadata": {},
     "output_type": "display_data"
    },
    {
     "data": {
      "text/html": [
       "<pre>recommendations finished on 8000/8919 queries. users per second: 4369.51</pre>"
      ],
      "text/plain": [
       "recommendations finished on 8000/8919 queries. users per second: 4369.51"
      ]
     },
     "metadata": {},
     "output_type": "display_data"
    },
    {
     "name": "stdout",
     "output_type": "stream",
     "text": [
      "\n",
      "Precision and recall summary statistics by cutoff\n",
      "+--------+-----------------+------------------+\n",
      "| cutoff |  mean_precision |   mean_recall    |\n",
      "+--------+-----------------+------------------+\n",
      "|   1    |  0.016818028927 | 0.00235695308266 |\n",
      "|   2    | 0.0155286467093 | 0.00470967402421 |\n",
      "|   3    | 0.0203311283029 | 0.00941815285689 |\n",
      "|   4    | 0.0233210001121 | 0.0132185604875  |\n",
      "|   5    | 0.0290167059087 | 0.0236052567184  |\n",
      "|   6    | 0.0312441604066 | 0.0272441082926  |\n",
      "|   7    | 0.0320343408134 | 0.0322568902202  |\n",
      "|   8    | 0.0351216504092 | 0.0391944559403  |\n",
      "|   9    | 0.0363892314784 | 0.0445652414609  |\n",
      "|   10   | 0.0350824083417 | 0.0470128727653  |\n",
      "+--------+-----------------+------------------+\n",
      "[10 rows x 3 columns]\n",
      "\n",
      "('\\nOverall RMSE: ', 1.8879569744382643)\n",
      "\n",
      "Per User RMSE (best)\n",
      "+---------+-------+------------------+\n",
      "| user_id | count |       rmse       |\n",
      "+---------+-------+------------------+\n",
      "|  22015  |   1   | 9.1820262722e-05 |\n",
      "+---------+-------+------------------+\n",
      "[1 rows x 3 columns]\n",
      "\n",
      "\n",
      "Per User RMSE (worst)\n",
      "+---------+-------+--------------+\n",
      "| user_id | count |     rmse     |\n",
      "+---------+-------+--------------+\n",
      "|  19590  |   1   | 8.7050972872 |\n",
      "+---------+-------+--------------+\n",
      "[1 rows x 3 columns]\n",
      "\n",
      "\n",
      "Per Item RMSE (best)\n",
      "+---------+-------+-------------------+\n",
      "| item_id | count |        rmse       |\n",
      "+---------+-------+-------------------+\n",
      "|  303353 |   1   | 0.000286132789799 |\n",
      "+---------+-------+-------------------+\n",
      "[1 rows x 3 columns]\n",
      "\n",
      "\n",
      "Per Item RMSE (worst)\n",
      "+---------+-------+---------------+\n",
      "| item_id | count |      rmse     |\n",
      "+---------+-------+---------------+\n",
      "| 4661358 |   1   | 6.29015168478 |\n",
      "+---------+-------+---------------+\n",
      "[1 rows x 3 columns]\n",
      "\n"
     ]
    },
    {
     "data": {
      "text/html": [
       "<pre>recommendations finished on 1000/8919 queries. users per second: 210.077</pre>"
      ],
      "text/plain": [
       "recommendations finished on 1000/8919 queries. users per second: 210.077"
      ]
     },
     "metadata": {},
     "output_type": "display_data"
    },
    {
     "data": {
      "text/html": [
       "<pre>recommendations finished on 2000/8919 queries. users per second: 218.523</pre>"
      ],
      "text/plain": [
       "recommendations finished on 2000/8919 queries. users per second: 218.523"
      ]
     },
     "metadata": {},
     "output_type": "display_data"
    },
    {
     "data": {
      "text/html": [
       "<pre>recommendations finished on 3000/8919 queries. users per second: 216.093</pre>"
      ],
      "text/plain": [
       "recommendations finished on 3000/8919 queries. users per second: 216.093"
      ]
     },
     "metadata": {},
     "output_type": "display_data"
    },
    {
     "data": {
      "text/html": [
       "<pre>recommendations finished on 4000/8919 queries. users per second: 213.164</pre>"
      ],
      "text/plain": [
       "recommendations finished on 4000/8919 queries. users per second: 213.164"
      ]
     },
     "metadata": {},
     "output_type": "display_data"
    },
    {
     "data": {
      "text/html": [
       "<pre>recommendations finished on 5000/8919 queries. users per second: 211.759</pre>"
      ],
      "text/plain": [
       "recommendations finished on 5000/8919 queries. users per second: 211.759"
      ]
     },
     "metadata": {},
     "output_type": "display_data"
    },
    {
     "data": {
      "text/html": [
       "<pre>recommendations finished on 6000/8919 queries. users per second: 210.646</pre>"
      ],
      "text/plain": [
       "recommendations finished on 6000/8919 queries. users per second: 210.646"
      ]
     },
     "metadata": {},
     "output_type": "display_data"
    },
    {
     "data": {
      "text/html": [
       "<pre>recommendations finished on 7000/8919 queries. users per second: 210.118</pre>"
      ],
      "text/plain": [
       "recommendations finished on 7000/8919 queries. users per second: 210.118"
      ]
     },
     "metadata": {},
     "output_type": "display_data"
    },
    {
     "data": {
      "text/html": [
       "<pre>recommendations finished on 8000/8919 queries. users per second: 209.341</pre>"
      ],
      "text/plain": [
       "recommendations finished on 8000/8919 queries. users per second: 209.341"
      ]
     },
     "metadata": {},
     "output_type": "display_data"
    },
    {
     "name": "stdout",
     "output_type": "stream",
     "text": [
      "\n",
      "Precision and recall summary statistics by cutoff\n",
      "+--------+-----------------+------------------+\n",
      "| cutoff |  mean_precision |   mean_recall    |\n",
      "+--------+-----------------+------------------+\n",
      "|   1    | 0.0424935530889 | 0.00363988972416 |\n",
      "|   2    |  0.033636057854 | 0.00581184592562 |\n",
      "|   3    | 0.0293007437306 | 0.00883764875707 |\n",
      "|   4    | 0.0253952236798 | 0.0099680808159  |\n",
      "|   5    | 0.0216167731808 | 0.0105489583441  |\n",
      "|   6    | 0.0189296258923 | 0.0109996496752  |\n",
      "|   7    | 0.0166418400525 | 0.0111832308259  |\n",
      "|   8    | 0.0153324363718 |  0.011775290227  |\n",
      "|   9    | 0.0137409525233 | 0.0117953602116  |\n",
      "|   10   | 0.0125574615988 | 0.0119587659432  |\n",
      "+--------+-----------------+------------------+\n",
      "[10 rows x 3 columns]\n",
      "\n",
      "('\\nOverall RMSE: ', 1.8447471620359903)\n",
      "\n",
      "Per User RMSE (best)\n",
      "+---------+-------+----------------+\n",
      "| user_id | count |      rmse      |\n",
      "+---------+-------+----------------+\n",
      "|  22180  |   1   | 0.122281502593 |\n",
      "+---------+-------+----------------+\n",
      "[1 rows x 3 columns]\n",
      "\n",
      "\n",
      "Per User RMSE (worst)\n",
      "+---------+-------+---------------+\n",
      "| user_id | count |      rmse     |\n",
      "+---------+-------+---------------+\n",
      "|  22431  |   1   | 7.12228150259 |\n",
      "+---------+-------+---------------+\n",
      "[1 rows x 3 columns]\n",
      "\n",
      "\n",
      "Per Item RMSE (best)\n",
      "+---------+-------+-----------------+\n",
      "| item_id | count |       rmse      |\n",
      "+---------+-------+-----------------+\n",
      "| 3148348 |   1   | 0.0830094254094 |\n",
      "+---------+-------+-----------------+\n",
      "[1 rows x 3 columns]\n",
      "\n",
      "\n",
      "Per Item RMSE (worst)\n",
      "+---------+-------+---------------+\n",
      "| item_id | count |      rmse     |\n",
      "+---------+-------+---------------+\n",
      "| 1757831 |   1   | 7.12797736504 |\n",
      "+---------+-------+---------------+\n",
      "[1 rows x 3 columns]\n",
      "\n"
     ]
    },
    {
     "data": {
      "text/html": [
       "<pre>recommendations finished on 1000/8919 queries. users per second: 821.195</pre>"
      ],
      "text/plain": [
       "recommendations finished on 1000/8919 queries. users per second: 821.195"
      ]
     },
     "metadata": {},
     "output_type": "display_data"
    },
    {
     "data": {
      "text/html": [
       "<pre>recommendations finished on 2000/8919 queries. users per second: 827.669</pre>"
      ],
      "text/plain": [
       "recommendations finished on 2000/8919 queries. users per second: 827.669"
      ]
     },
     "metadata": {},
     "output_type": "display_data"
    },
    {
     "data": {
      "text/html": [
       "<pre>recommendations finished on 3000/8919 queries. users per second: 825.727</pre>"
      ],
      "text/plain": [
       "recommendations finished on 3000/8919 queries. users per second: 825.727"
      ]
     },
     "metadata": {},
     "output_type": "display_data"
    },
    {
     "data": {
      "text/html": [
       "<pre>recommendations finished on 4000/8919 queries. users per second: 824.931</pre>"
      ],
      "text/plain": [
       "recommendations finished on 4000/8919 queries. users per second: 824.931"
      ]
     },
     "metadata": {},
     "output_type": "display_data"
    },
    {
     "data": {
      "text/html": [
       "<pre>recommendations finished on 5000/8919 queries. users per second: 825.614</pre>"
      ],
      "text/plain": [
       "recommendations finished on 5000/8919 queries. users per second: 825.614"
      ]
     },
     "metadata": {},
     "output_type": "display_data"
    },
    {
     "data": {
      "text/html": [
       "<pre>recommendations finished on 6000/8919 queries. users per second: 793.956</pre>"
      ],
      "text/plain": [
       "recommendations finished on 6000/8919 queries. users per second: 793.956"
      ]
     },
     "metadata": {},
     "output_type": "display_data"
    },
    {
     "data": {
      "text/html": [
       "<pre>recommendations finished on 7000/8919 queries. users per second: 770.233</pre>"
      ],
      "text/plain": [
       "recommendations finished on 7000/8919 queries. users per second: 770.233"
      ]
     },
     "metadata": {},
     "output_type": "display_data"
    },
    {
     "data": {
      "text/html": [
       "<pre>recommendations finished on 8000/8919 queries. users per second: 747.246</pre>"
      ],
      "text/plain": [
       "recommendations finished on 8000/8919 queries. users per second: 747.246"
      ]
     },
     "metadata": {},
     "output_type": "display_data"
    },
    {
     "name": "stdout",
     "output_type": "stream",
     "text": [
      "\n",
      "Precision and recall summary statistics by cutoff\n",
      "+--------+-------------------+-------------------+\n",
      "| cutoff |   mean_precision  |    mean_recall    |\n",
      "+--------+-------------------+-------------------+\n",
      "|   1    | 0.000112120192847 | 7.18719184915e-07 |\n",
      "|   2    | 0.000112120192847 | 1.31510318942e-06 |\n",
      "|   3    | 7.47467952312e-05 | 1.31510318942e-06 |\n",
      "|   4    | 5.60600964234e-05 | 1.31510318942e-06 |\n",
      "|   5    | 4.48480771387e-05 | 1.31510318942e-06 |\n",
      "|   6    | 7.47467952312e-05 | 0.000117587895771 |\n",
      "|   7    | 8.00858520334e-05 | 0.000117899340751 |\n",
      "|   8    | 9.81051687409e-05 | 0.000118604009521 |\n",
      "|   9    | 8.72045944363e-05 | 0.000118604009521 |\n",
      "|   10   | 7.84841349927e-05 | 0.000118604009521 |\n",
      "+--------+-------------------+-------------------+\n",
      "[10 rows x 3 columns]\n",
      "\n",
      "('\\nOverall RMSE: ', 1.6661563926248433)\n",
      "\n",
      "Per User RMSE (best)\n",
      "+---------+-------+-------------------+\n",
      "| user_id | count |        rmse       |\n",
      "+---------+-------+-------------------+\n",
      "|  22100  |   1   | 0.000561205553678 |\n",
      "+---------+-------+-------------------+\n",
      "[1 rows x 3 columns]\n",
      "\n",
      "\n",
      "Per User RMSE (worst)\n",
      "+---------+-------+---------------+\n",
      "| user_id | count |      rmse     |\n",
      "+---------+-------+---------------+\n",
      "|  19019  |   3   | 7.97302344761 |\n",
      "+---------+-------+---------------+\n",
      "[1 rows x 3 columns]\n",
      "\n",
      "\n",
      "Per Item RMSE (best)\n",
      "+---------+-------+-------------------+\n",
      "| item_id | count |        rmse       |\n",
      "+---------+-------+-------------------+\n",
      "| 3108840 |   1   | 1.60302781254e-05 |\n",
      "+---------+-------+-------------------+\n",
      "[1 rows x 3 columns]\n",
      "\n",
      "\n",
      "Per Item RMSE (worst)\n",
      "+---------+-------+---------------+\n",
      "| item_id | count |      rmse     |\n",
      "+---------+-------+---------------+\n",
      "| 3073256 |   1   | 8.41591971628 |\n",
      "+---------+-------+---------------+\n",
      "[1 rows x 3 columns]\n",
      "\n"
     ]
    },
    {
     "data": {
      "text/html": [
       "<pre>recommendations finished on 1000/8919 queries. users per second: 195.366</pre>"
      ],
      "text/plain": [
       "recommendations finished on 1000/8919 queries. users per second: 195.366"
      ]
     },
     "metadata": {},
     "output_type": "display_data"
    },
    {
     "data": {
      "text/html": [
       "<pre>recommendations finished on 2000/8919 queries. users per second: 196.521</pre>"
      ],
      "text/plain": [
       "recommendations finished on 2000/8919 queries. users per second: 196.521"
      ]
     },
     "metadata": {},
     "output_type": "display_data"
    },
    {
     "data": {
      "text/html": [
       "<pre>recommendations finished on 3000/8919 queries. users per second: 195.877</pre>"
      ],
      "text/plain": [
       "recommendations finished on 3000/8919 queries. users per second: 195.877"
      ]
     },
     "metadata": {},
     "output_type": "display_data"
    },
    {
     "data": {
      "text/html": [
       "<pre>recommendations finished on 4000/8919 queries. users per second: 198.003</pre>"
      ],
      "text/plain": [
       "recommendations finished on 4000/8919 queries. users per second: 198.003"
      ]
     },
     "metadata": {},
     "output_type": "display_data"
    },
    {
     "data": {
      "text/html": [
       "<pre>recommendations finished on 5000/8919 queries. users per second: 199.832</pre>"
      ],
      "text/plain": [
       "recommendations finished on 5000/8919 queries. users per second: 199.832"
      ]
     },
     "metadata": {},
     "output_type": "display_data"
    },
    {
     "data": {
      "text/html": [
       "<pre>recommendations finished on 6000/8919 queries. users per second: 200.915</pre>"
      ],
      "text/plain": [
       "recommendations finished on 6000/8919 queries. users per second: 200.915"
      ]
     },
     "metadata": {},
     "output_type": "display_data"
    },
    {
     "data": {
      "text/html": [
       "<pre>recommendations finished on 7000/8919 queries. users per second: 197.964</pre>"
      ],
      "text/plain": [
       "recommendations finished on 7000/8919 queries. users per second: 197.964"
      ]
     },
     "metadata": {},
     "output_type": "display_data"
    },
    {
     "data": {
      "text/html": [
       "<pre>recommendations finished on 8000/8919 queries. users per second: 189.134</pre>"
      ],
      "text/plain": [
       "recommendations finished on 8000/8919 queries. users per second: 189.134"
      ]
     },
     "metadata": {},
     "output_type": "display_data"
    },
    {
     "name": "stdout",
     "output_type": "stream",
     "text": [
      "\n",
      "Precision and recall summary statistics by cutoff\n",
      "+--------+-------------------+-------------------+\n",
      "| cutoff |   mean_precision  |    mean_recall    |\n",
      "+--------+-------------------+-------------------+\n",
      "|   1    | 0.000112120192847 | 3.61678041441e-06 |\n",
      "|   2    | 0.000112120192847 | 4.33549959933e-06 |\n",
      "|   3    | 7.47467952312e-05 | 4.33549959933e-06 |\n",
      "|   4    |  8.4090144635e-05 | 4.93188360383e-06 |\n",
      "|   5    | 8.96961542774e-05 | 5.57625252824e-06 |\n",
      "|   6    | 7.47467952312e-05 | 5.57625252824e-06 |\n",
      "|   7    | 6.40686816267e-05 | 5.57625252824e-06 |\n",
      "|   8    | 5.60600964234e-05 | 5.57625252824e-06 |\n",
      "|   9    |  6.2288996026e-05 | 6.22062145264e-06 |\n",
      "|   10   | 5.60600964234e-05 | 6.22062145264e-06 |\n",
      "+--------+-------------------+-------------------+\n",
      "[10 rows x 3 columns]\n",
      "\n",
      "('\\nOverall RMSE: ', 1.6556843060633093)\n",
      "\n",
      "Per User RMSE (best)\n",
      "+---------+-------+-------------------+\n",
      "| user_id | count |        rmse       |\n",
      "+---------+-------+-------------------+\n",
      "|  18744  |   1   | 6.05702269469e-05 |\n",
      "+---------+-------+-------------------+\n",
      "[1 rows x 3 columns]\n",
      "\n",
      "\n",
      "Per User RMSE (worst)\n",
      "+---------+-------+---------------+\n",
      "| user_id | count |      rmse     |\n",
      "+---------+-------+---------------+\n",
      "|  19019  |   3   | 7.94909371927 |\n",
      "+---------+-------+---------------+\n",
      "[1 rows x 3 columns]\n",
      "\n",
      "\n",
      "Per Item RMSE (best)\n",
      "+---------+-------+-------------------+\n",
      "| item_id | count |        rmse       |\n",
      "+---------+-------+-------------------+\n",
      "| 1621642 |   1   | 0.000239164646995 |\n",
      "+---------+-------+-------------------+\n",
      "[1 rows x 3 columns]\n",
      "\n",
      "\n",
      "Per Item RMSE (worst)\n",
      "+---------+-------+---------------+\n",
      "| item_id | count |      rmse     |\n",
      "+---------+-------+---------------+\n",
      "|  44958  |   1   | 8.91325989206 |\n",
      "+---------+-------+---------------+\n",
      "[1 rows x 3 columns]\n",
      "\n"
     ]
    },
    {
     "data": {
      "text/html": [
       "<pre>Recsys training: model = factorization_recommender</pre>"
      ],
      "text/plain": [
       "Recsys training: model = factorization_recommender"
      ]
     },
     "metadata": {},
     "output_type": "display_data"
    },
    {
     "data": {
      "text/html": [
       "<pre>Preparing data set.</pre>"
      ],
      "text/plain": [
       "Preparing data set."
      ]
     },
     "metadata": {},
     "output_type": "display_data"
    },
    {
     "data": {
      "text/html": [
       "<pre>    Data has 433201 observations with 36440 users and 23788 items.</pre>"
      ],
      "text/plain": [
       "    Data has 433201 observations with 36440 users and 23788 items."
      ]
     },
     "metadata": {},
     "output_type": "display_data"
    },
    {
     "data": {
      "text/html": [
       "<pre>    Data prepared in: 0.228636s</pre>"
      ],
      "text/plain": [
       "    Data prepared in: 0.228636s"
      ]
     },
     "metadata": {},
     "output_type": "display_data"
    },
    {
     "data": {
      "text/html": [
       "<pre>Training factorization_recommender for recommendations.</pre>"
      ],
      "text/plain": [
       "Training factorization_recommender for recommendations."
      ]
     },
     "metadata": {},
     "output_type": "display_data"
    },
    {
     "data": {
      "text/html": [
       "<pre>+--------------------------------+--------------------------------------------------+----------+</pre>"
      ],
      "text/plain": [
       "+--------------------------------+--------------------------------------------------+----------+"
      ]
     },
     "metadata": {},
     "output_type": "display_data"
    },
    {
     "data": {
      "text/html": [
       "<pre>| Parameter                      | Description                                      | Value    |</pre>"
      ],
      "text/plain": [
       "| Parameter                      | Description                                      | Value    |"
      ]
     },
     "metadata": {},
     "output_type": "display_data"
    },
    {
     "data": {
      "text/html": [
       "<pre>+--------------------------------+--------------------------------------------------+----------+</pre>"
      ],
      "text/plain": [
       "+--------------------------------+--------------------------------------------------+----------+"
      ]
     },
     "metadata": {},
     "output_type": "display_data"
    },
    {
     "data": {
      "text/html": [
       "<pre>| num_factors                    | Factor Dimension                                 | 8        |</pre>"
      ],
      "text/plain": [
       "| num_factors                    | Factor Dimension                                 | 8        |"
      ]
     },
     "metadata": {},
     "output_type": "display_data"
    },
    {
     "data": {
      "text/html": [
       "<pre>| regularization                 | L2 Regularization on Factors                     | 1e-008   |</pre>"
      ],
      "text/plain": [
       "| regularization                 | L2 Regularization on Factors                     | 1e-008   |"
      ]
     },
     "metadata": {},
     "output_type": "display_data"
    },
    {
     "data": {
      "text/html": [
       "<pre>| solver                         | Solver used for training                         | sgd      |</pre>"
      ],
      "text/plain": [
       "| solver                         | Solver used for training                         | sgd      |"
      ]
     },
     "metadata": {},
     "output_type": "display_data"
    },
    {
     "data": {
      "text/html": [
       "<pre>| linear_regularization          | L2 Regularization on Linear Coefficients         | 1e-010   |</pre>"
      ],
      "text/plain": [
       "| linear_regularization          | L2 Regularization on Linear Coefficients         | 1e-010   |"
      ]
     },
     "metadata": {},
     "output_type": "display_data"
    },
    {
     "data": {
      "text/html": [
       "<pre>| max_iterations                 | Maximum Number of Iterations                     | 50       |</pre>"
      ],
      "text/plain": [
       "| max_iterations                 | Maximum Number of Iterations                     | 50       |"
      ]
     },
     "metadata": {},
     "output_type": "display_data"
    },
    {
     "data": {
      "text/html": [
       "<pre>+--------------------------------+--------------------------------------------------+----------+</pre>"
      ],
      "text/plain": [
       "+--------------------------------+--------------------------------------------------+----------+"
      ]
     },
     "metadata": {},
     "output_type": "display_data"
    },
    {
     "data": {
      "text/html": [
       "<pre>  Optimizing model using SGD; tuning step size.</pre>"
      ],
      "text/plain": [
       "  Optimizing model using SGD; tuning step size."
      ]
     },
     "metadata": {},
     "output_type": "display_data"
    },
    {
     "data": {
      "text/html": [
       "<pre>  Using 54150 / 433201 points for tuning the step size.</pre>"
      ],
      "text/plain": [
       "  Using 54150 / 433201 points for tuning the step size."
      ]
     },
     "metadata": {},
     "output_type": "display_data"
    },
    {
     "data": {
      "text/html": [
       "<pre>+---------+-------------------+------------------------------------------+</pre>"
      ],
      "text/plain": [
       "+---------+-------------------+------------------------------------------+"
      ]
     },
     "metadata": {},
     "output_type": "display_data"
    },
    {
     "data": {
      "text/html": [
       "<pre>| Attempt | Initial Step Size | Estimated Objective Value                |</pre>"
      ],
      "text/plain": [
       "| Attempt | Initial Step Size | Estimated Objective Value                |"
      ]
     },
     "metadata": {},
     "output_type": "display_data"
    },
    {
     "data": {
      "text/html": [
       "<pre>+---------+-------------------+------------------------------------------+</pre>"
      ],
      "text/plain": [
       "+---------+-------------------+------------------------------------------+"
      ]
     },
     "metadata": {},
     "output_type": "display_data"
    },
    {
     "data": {
      "text/html": [
       "<pre>| 0       | 25                | Not Viable                               |</pre>"
      ],
      "text/plain": [
       "| 0       | 25                | Not Viable                               |"
      ]
     },
     "metadata": {},
     "output_type": "display_data"
    },
    {
     "data": {
      "text/html": [
       "<pre>| 1       | 6.25              | Not Viable                               |</pre>"
      ],
      "text/plain": [
       "| 1       | 6.25              | Not Viable                               |"
      ]
     },
     "metadata": {},
     "output_type": "display_data"
    },
    {
     "data": {
      "text/html": [
       "<pre>| 2       | 1.5625            | Not Viable                               |</pre>"
      ],
      "text/plain": [
       "| 2       | 1.5625            | Not Viable                               |"
      ]
     },
     "metadata": {},
     "output_type": "display_data"
    },
    {
     "data": {
      "text/html": [
       "<pre>| 3       | 0.390625          | Not Viable                               |</pre>"
      ],
      "text/plain": [
       "| 3       | 0.390625          | Not Viable                               |"
      ]
     },
     "metadata": {},
     "output_type": "display_data"
    },
    {
     "data": {
      "text/html": [
       "<pre>| 4       | 0.0976562         | 1.2891                                   |</pre>"
      ],
      "text/plain": [
       "| 4       | 0.0976562         | 1.2891                                   |"
      ]
     },
     "metadata": {},
     "output_type": "display_data"
    },
    {
     "data": {
      "text/html": [
       "<pre>| 5       | 0.0488281         | 1.57745                                  |</pre>"
      ],
      "text/plain": [
       "| 5       | 0.0488281         | 1.57745                                  |"
      ]
     },
     "metadata": {},
     "output_type": "display_data"
    },
    {
     "data": {
      "text/html": [
       "<pre>| 6       | 0.0244141         | 1.87657                                  |</pre>"
      ],
      "text/plain": [
       "| 6       | 0.0244141         | 1.87657                                  |"
      ]
     },
     "metadata": {},
     "output_type": "display_data"
    },
    {
     "data": {
      "text/html": [
       "<pre>| 7       | 0.012207          | 2.17965                                  |</pre>"
      ],
      "text/plain": [
       "| 7       | 0.012207          | 2.17965                                  |"
      ]
     },
     "metadata": {},
     "output_type": "display_data"
    },
    {
     "data": {
      "text/html": [
       "<pre>+---------+-------------------+------------------------------------------+</pre>"
      ],
      "text/plain": [
       "+---------+-------------------+------------------------------------------+"
      ]
     },
     "metadata": {},
     "output_type": "display_data"
    },
    {
     "data": {
      "text/html": [
       "<pre>| Final   | 0.0976562         | 1.2891                                   |</pre>"
      ],
      "text/plain": [
       "| Final   | 0.0976562         | 1.2891                                   |"
      ]
     },
     "metadata": {},
     "output_type": "display_data"
    },
    {
     "data": {
      "text/html": [
       "<pre>+---------+-------------------+------------------------------------------+</pre>"
      ],
      "text/plain": [
       "+---------+-------------------+------------------------------------------+"
      ]
     },
     "metadata": {},
     "output_type": "display_data"
    },
    {
     "data": {
      "text/html": [
       "<pre>Starting Optimization.</pre>"
      ],
      "text/plain": [
       "Starting Optimization."
      ]
     },
     "metadata": {},
     "output_type": "display_data"
    },
    {
     "data": {
      "text/html": [
       "<pre>+---------+--------------+-------------------+-----------------------+-------------+</pre>"
      ],
      "text/plain": [
       "+---------+--------------+-------------------+-----------------------+-------------+"
      ]
     },
     "metadata": {},
     "output_type": "display_data"
    },
    {
     "data": {
      "text/html": [
       "<pre>| Iter.   | Elapsed Time | Approx. Objective | Approx. Training RMSE | Step Size   |</pre>"
      ],
      "text/plain": [
       "| Iter.   | Elapsed Time | Approx. Objective | Approx. Training RMSE | Step Size   |"
      ]
     },
     "metadata": {},
     "output_type": "display_data"
    },
    {
     "data": {
      "text/html": [
       "<pre>+---------+--------------+-------------------+-----------------------+-------------+</pre>"
      ],
      "text/plain": [
       "+---------+--------------+-------------------+-----------------------+-------------+"
      ]
     },
     "metadata": {},
     "output_type": "display_data"
    },
    {
     "data": {
      "text/html": [
       "<pre>| Initial | 0us          | 3.48325           | 1.86635               |             |</pre>"
      ],
      "text/plain": [
       "| Initial | 0us          | 3.48325           | 1.86635               |             |"
      ]
     },
     "metadata": {},
     "output_type": "display_data"
    },
    {
     "data": {
      "text/html": [
       "<pre>+---------+--------------+-------------------+-----------------------+-------------+</pre>"
      ],
      "text/plain": [
       "+---------+--------------+-------------------+-----------------------+-------------+"
      ]
     },
     "metadata": {},
     "output_type": "display_data"
    },
    {
     "data": {
      "text/html": [
       "<pre>| 1       | 50.635ms     | 3.09119           | 1.75796               | 0.0976562   |</pre>"
      ],
      "text/plain": [
       "| 1       | 50.635ms     | 3.09119           | 1.75796               | 0.0976562   |"
      ]
     },
     "metadata": {},
     "output_type": "display_data"
    },
    {
     "data": {
      "text/html": [
       "<pre>| 2       | 99.766ms     | 2.33804           | 1.52887               | 0.0580668   |</pre>"
      ],
      "text/plain": [
       "| 2       | 99.766ms     | 2.33804           | 1.52887               | 0.0580668   |"
      ]
     },
     "metadata": {},
     "output_type": "display_data"
    },
    {
     "data": {
      "text/html": [
       "<pre>| 3       | 153.408ms    | 1.80907           | 1.3448                | 0.042841    |</pre>"
      ],
      "text/plain": [
       "| 3       | 153.408ms    | 1.80907           | 1.3448                | 0.042841    |"
      ]
     },
     "metadata": {},
     "output_type": "display_data"
    },
    {
     "data": {
      "text/html": [
       "<pre>| 4       | 212.565ms    | 1.52232           | 1.23358               | 0.0345267   |</pre>"
      ],
      "text/plain": [
       "| 4       | 212.565ms    | 1.52232           | 1.23358               | 0.0345267   |"
      ]
     },
     "metadata": {},
     "output_type": "display_data"
    },
    {
     "data": {
      "text/html": [
       "<pre>| 5       | 261.195ms    | 1.35262           | 1.16275               | 0.029206    |</pre>"
      ],
      "text/plain": [
       "| 5       | 261.195ms    | 1.35262           | 1.16275               | 0.029206    |"
      ]
     },
     "metadata": {},
     "output_type": "display_data"
    },
    {
     "data": {
      "text/html": [
       "<pre>| 6       | 318.848ms    | 1.24488           | 1.11544               | 0.0254734   |</pre>"
      ],
      "text/plain": [
       "| 6       | 318.848ms    | 1.24488           | 1.11544               | 0.0254734   |"
      ]
     },
     "metadata": {},
     "output_type": "display_data"
    },
    {
     "data": {
      "text/html": [
       "<pre>| 11      | 588.565ms    | 1.00766           | 1.00343               | 0.016168    |</pre>"
      ],
      "text/plain": [
       "| 11      | 588.565ms    | 1.00766           | 1.00343               | 0.016168    |"
      ]
     },
     "metadata": {},
     "output_type": "display_data"
    },
    {
     "data": {
      "text/html": [
       "<pre>| 25      | 1.28s        | 0.847564          | 0.920107              | 0.00873464  |</pre>"
      ],
      "text/plain": [
       "| 25      | 1.28s        | 0.847564          | 0.920107              | 0.00873464  |"
      ]
     },
     "metadata": {},
     "output_type": "display_data"
    },
    {
     "data": {
      "text/html": [
       "<pre>| 50      | 2.50s        | 0.773015          | 0.878582              | 0.00519365  |</pre>"
      ],
      "text/plain": [
       "| 50      | 2.50s        | 0.773015          | 0.878582              | 0.00519365  |"
      ]
     },
     "metadata": {},
     "output_type": "display_data"
    },
    {
     "data": {
      "text/html": [
       "<pre>+---------+--------------+-------------------+-----------------------+-------------+</pre>"
      ],
      "text/plain": [
       "+---------+--------------+-------------------+-----------------------+-------------+"
      ]
     },
     "metadata": {},
     "output_type": "display_data"
    },
    {
     "data": {
      "text/html": [
       "<pre>Optimization Complete: Maximum number of passes through the data reached.</pre>"
      ],
      "text/plain": [
       "Optimization Complete: Maximum number of passes through the data reached."
      ]
     },
     "metadata": {},
     "output_type": "display_data"
    },
    {
     "data": {
      "text/html": [
       "<pre>Computing final objective value and training RMSE.</pre>"
      ],
      "text/plain": [
       "Computing final objective value and training RMSE."
      ]
     },
     "metadata": {},
     "output_type": "display_data"
    },
    {
     "data": {
      "text/html": [
       "<pre>       Final objective value: 0.723868</pre>"
      ],
      "text/plain": [
       "       Final objective value: 0.723868"
      ]
     },
     "metadata": {},
     "output_type": "display_data"
    },
    {
     "data": {
      "text/html": [
       "<pre>       Final training RMSE: 0.850152</pre>"
      ],
      "text/plain": [
       "       Final training RMSE: 0.850152"
      ]
     },
     "metadata": {},
     "output_type": "display_data"
    },
    {
     "data": {
      "text/html": [
       "<pre>Recsys training: model = ranking_factorization_recommender</pre>"
      ],
      "text/plain": [
       "Recsys training: model = ranking_factorization_recommender"
      ]
     },
     "metadata": {},
     "output_type": "display_data"
    },
    {
     "data": {
      "text/html": [
       "<pre>Preparing data set.</pre>"
      ],
      "text/plain": [
       "Preparing data set."
      ]
     },
     "metadata": {},
     "output_type": "display_data"
    },
    {
     "data": {
      "text/html": [
       "<pre>    Data has 433201 observations with 36440 users and 23788 items.</pre>"
      ],
      "text/plain": [
       "    Data has 433201 observations with 36440 users and 23788 items."
      ]
     },
     "metadata": {},
     "output_type": "display_data"
    },
    {
     "data": {
      "text/html": [
       "<pre>    Data prepared in: 0.238666s</pre>"
      ],
      "text/plain": [
       "    Data prepared in: 0.238666s"
      ]
     },
     "metadata": {},
     "output_type": "display_data"
    },
    {
     "data": {
      "text/html": [
       "<pre>Training ranking_factorization_recommender for recommendations.</pre>"
      ],
      "text/plain": [
       "Training ranking_factorization_recommender for recommendations."
      ]
     },
     "metadata": {},
     "output_type": "display_data"
    },
    {
     "data": {
      "text/html": [
       "<pre>+--------------------------------+--------------------------------------------------+----------+</pre>"
      ],
      "text/plain": [
       "+--------------------------------+--------------------------------------------------+----------+"
      ]
     },
     "metadata": {},
     "output_type": "display_data"
    },
    {
     "data": {
      "text/html": [
       "<pre>| Parameter                      | Description                                      | Value    |</pre>"
      ],
      "text/plain": [
       "| Parameter                      | Description                                      | Value    |"
      ]
     },
     "metadata": {},
     "output_type": "display_data"
    },
    {
     "data": {
      "text/html": [
       "<pre>+--------------------------------+--------------------------------------------------+----------+</pre>"
      ],
      "text/plain": [
       "+--------------------------------+--------------------------------------------------+----------+"
      ]
     },
     "metadata": {},
     "output_type": "display_data"
    },
    {
     "data": {
      "text/html": [
       "<pre>| num_factors                    | Factor Dimension                                 | 32       |</pre>"
      ],
      "text/plain": [
       "| num_factors                    | Factor Dimension                                 | 32       |"
      ]
     },
     "metadata": {},
     "output_type": "display_data"
    },
    {
     "data": {
      "text/html": [
       "<pre>| regularization                 | L2 Regularization on Factors                     | 1e-009   |</pre>"
      ],
      "text/plain": [
       "| regularization                 | L2 Regularization on Factors                     | 1e-009   |"
      ]
     },
     "metadata": {},
     "output_type": "display_data"
    },
    {
     "data": {
      "text/html": [
       "<pre>| solver                         | Solver used for training                         | sgd      |</pre>"
      ],
      "text/plain": [
       "| solver                         | Solver used for training                         | sgd      |"
      ]
     },
     "metadata": {},
     "output_type": "display_data"
    },
    {
     "data": {
      "text/html": [
       "<pre>| linear_regularization          | L2 Regularization on Linear Coefficients         | 1e-009   |</pre>"
      ],
      "text/plain": [
       "| linear_regularization          | L2 Regularization on Linear Coefficients         | 1e-009   |"
      ]
     },
     "metadata": {},
     "output_type": "display_data"
    },
    {
     "data": {
      "text/html": [
       "<pre>| ranking_regularization         | Rank-based Regularization Weight                 | 0.25     |</pre>"
      ],
      "text/plain": [
       "| ranking_regularization         | Rank-based Regularization Weight                 | 0.25     |"
      ]
     },
     "metadata": {},
     "output_type": "display_data"
    },
    {
     "data": {
      "text/html": [
       "<pre>| max_iterations                 | Maximum Number of Iterations                     | 25       |</pre>"
      ],
      "text/plain": [
       "| max_iterations                 | Maximum Number of Iterations                     | 25       |"
      ]
     },
     "metadata": {},
     "output_type": "display_data"
    },
    {
     "data": {
      "text/html": [
       "<pre>+--------------------------------+--------------------------------------------------+----------+</pre>"
      ],
      "text/plain": [
       "+--------------------------------+--------------------------------------------------+----------+"
      ]
     },
     "metadata": {},
     "output_type": "display_data"
    },
    {
     "data": {
      "text/html": [
       "<pre>  Optimizing model using SGD; tuning step size.</pre>"
      ],
      "text/plain": [
       "  Optimizing model using SGD; tuning step size."
      ]
     },
     "metadata": {},
     "output_type": "display_data"
    },
    {
     "data": {
      "text/html": [
       "<pre>  Using 54150 / 433201 points for tuning the step size.</pre>"
      ],
      "text/plain": [
       "  Using 54150 / 433201 points for tuning the step size."
      ]
     },
     "metadata": {},
     "output_type": "display_data"
    },
    {
     "data": {
      "text/html": [
       "<pre>+---------+-------------------+------------------------------------------+</pre>"
      ],
      "text/plain": [
       "+---------+-------------------+------------------------------------------+"
      ]
     },
     "metadata": {},
     "output_type": "display_data"
    },
    {
     "data": {
      "text/html": [
       "<pre>| Attempt | Initial Step Size | Estimated Objective Value                |</pre>"
      ],
      "text/plain": [
       "| Attempt | Initial Step Size | Estimated Objective Value                |"
      ]
     },
     "metadata": {},
     "output_type": "display_data"
    },
    {
     "data": {
      "text/html": [
       "<pre>+---------+-------------------+------------------------------------------+</pre>"
      ],
      "text/plain": [
       "+---------+-------------------+------------------------------------------+"
      ]
     },
     "metadata": {},
     "output_type": "display_data"
    },
    {
     "data": {
      "text/html": [
       "<pre>| 0       | 25                | Not Viable                               |</pre>"
      ],
      "text/plain": [
       "| 0       | 25                | Not Viable                               |"
      ]
     },
     "metadata": {},
     "output_type": "display_data"
    },
    {
     "data": {
      "text/html": [
       "<pre>| 1       | 6.25              | Not Viable                               |</pre>"
      ],
      "text/plain": [
       "| 1       | 6.25              | Not Viable                               |"
      ]
     },
     "metadata": {},
     "output_type": "display_data"
    },
    {
     "data": {
      "text/html": [
       "<pre>| 2       | 1.5625            | Not Viable                               |</pre>"
      ],
      "text/plain": [
       "| 2       | 1.5625            | Not Viable                               |"
      ]
     },
     "metadata": {},
     "output_type": "display_data"
    },
    {
     "data": {
      "text/html": [
       "<pre>| 3       | 0.390625          | Not Viable                               |</pre>"
      ],
      "text/plain": [
       "| 3       | 0.390625          | Not Viable                               |"
      ]
     },
     "metadata": {},
     "output_type": "display_data"
    },
    {
     "data": {
      "text/html": [
       "<pre>| 4       | 0.0976562         | 3.6641                                   |</pre>"
      ],
      "text/plain": [
       "| 4       | 0.0976562         | 3.6641                                   |"
      ]
     },
     "metadata": {},
     "output_type": "display_data"
    },
    {
     "data": {
      "text/html": [
       "<pre>| 5       | 0.0488281         | 4.06726                                  |</pre>"
      ],
      "text/plain": [
       "| 5       | 0.0488281         | 4.06726                                  |"
      ]
     },
     "metadata": {},
     "output_type": "display_data"
    },
    {
     "data": {
      "text/html": [
       "<pre>| 6       | 0.0244141         | 4.50416                                  |</pre>"
      ],
      "text/plain": [
       "| 6       | 0.0244141         | 4.50416                                  |"
      ]
     },
     "metadata": {},
     "output_type": "display_data"
    },
    {
     "data": {
      "text/html": [
       "<pre>| 7       | 0.012207          | 4.94241                                  |</pre>"
      ],
      "text/plain": [
       "| 7       | 0.012207          | 4.94241                                  |"
      ]
     },
     "metadata": {},
     "output_type": "display_data"
    },
    {
     "data": {
      "text/html": [
       "<pre>+---------+-------------------+------------------------------------------+</pre>"
      ],
      "text/plain": [
       "+---------+-------------------+------------------------------------------+"
      ]
     },
     "metadata": {},
     "output_type": "display_data"
    },
    {
     "data": {
      "text/html": [
       "<pre>| Final   | 0.0976562         | 3.6641                                   |</pre>"
      ],
      "text/plain": [
       "| Final   | 0.0976562         | 3.6641                                   |"
      ]
     },
     "metadata": {},
     "output_type": "display_data"
    },
    {
     "data": {
      "text/html": [
       "<pre>+---------+-------------------+------------------------------------------+</pre>"
      ],
      "text/plain": [
       "+---------+-------------------+------------------------------------------+"
      ]
     },
     "metadata": {},
     "output_type": "display_data"
    },
    {
     "data": {
      "text/html": [
       "<pre>Starting Optimization.</pre>"
      ],
      "text/plain": [
       "Starting Optimization."
      ]
     },
     "metadata": {},
     "output_type": "display_data"
    },
    {
     "data": {
      "text/html": [
       "<pre>+---------+--------------+-------------------+-----------------------+-------------+</pre>"
      ],
      "text/plain": [
       "+---------+--------------+-------------------+-----------------------+-------------+"
      ]
     },
     "metadata": {},
     "output_type": "display_data"
    },
    {
     "data": {
      "text/html": [
       "<pre>| Iter.   | Elapsed Time | Approx. Objective | Approx. Training RMSE | Step Size   |</pre>"
      ],
      "text/plain": [
       "| Iter.   | Elapsed Time | Approx. Objective | Approx. Training RMSE | Step Size   |"
      ]
     },
     "metadata": {},
     "output_type": "display_data"
    },
    {
     "data": {
      "text/html": [
       "<pre>+---------+--------------+-------------------+-----------------------+-------------+</pre>"
      ],
      "text/plain": [
       "+---------+--------------+-------------------+-----------------------+-------------+"
      ]
     },
     "metadata": {},
     "output_type": "display_data"
    },
    {
     "data": {
      "text/html": [
       "<pre>| Initial | 0us          | 6.82916           | 1.86635               |             |</pre>"
      ],
      "text/plain": [
       "| Initial | 0us          | 6.82916           | 1.86635               |             |"
      ]
     },
     "metadata": {},
     "output_type": "display_data"
    },
    {
     "data": {
      "text/html": [
       "<pre>+---------+--------------+-------------------+-----------------------+-------------+</pre>"
      ],
      "text/plain": [
       "+---------+--------------+-------------------+-----------------------+-------------+"
      ]
     },
     "metadata": {},
     "output_type": "display_data"
    },
    {
     "data": {
      "text/html": [
       "<pre>| 1       | 278.741ms    | DIVERGED          | DIVERGED              | 0.0976562   |</pre>"
      ],
      "text/plain": [
       "| 1       | 278.741ms    | DIVERGED          | DIVERGED              | 0.0976562   |"
      ]
     },
     "metadata": {},
     "output_type": "display_data"
    },
    {
     "data": {
      "text/html": [
       "<pre>| RESET   | 428.138ms    | 6.82915           | 1.86635               |             |</pre>"
      ],
      "text/plain": [
       "| RESET   | 428.138ms    | 6.82915           | 1.86635               |             |"
      ]
     },
     "metadata": {},
     "output_type": "display_data"
    },
    {
     "data": {
      "text/html": [
       "<pre>| 1       | 618.644ms    | 4.87472           | 1.67224               | 0.0488281   |</pre>"
      ],
      "text/plain": [
       "| 1       | 618.644ms    | 4.87472           | 1.67224               | 0.0488281   |"
      ]
     },
     "metadata": {},
     "output_type": "display_data"
    },
    {
     "data": {
      "text/html": [
       "<pre>| 2       | 805.642ms    | 4.12222           | 1.58597               | 0.0290334   |</pre>"
      ],
      "text/plain": [
       "| 2       | 805.642ms    | 4.12222           | 1.58597               | 0.0290334   |"
      ]
     },
     "metadata": {},
     "output_type": "display_data"
    },
    {
     "data": {
      "text/html": [
       "<pre>| 3       | 988.628ms    | 3.78264           | 1.51225               | 0.0214205   |</pre>"
      ],
      "text/plain": [
       "| 3       | 988.628ms    | 3.78264           | 1.51225               | 0.0214205   |"
      ]
     },
     "metadata": {},
     "output_type": "display_data"
    },
    {
     "data": {
      "text/html": [
       "<pre>| 4       | 1.17s        | 3.50058           | 1.44452               | 0.0172633   |</pre>"
      ],
      "text/plain": [
       "| 4       | 1.17s        | 3.50058           | 1.44452               | 0.0172633   |"
      ]
     },
     "metadata": {},
     "output_type": "display_data"
    },
    {
     "data": {
      "text/html": [
       "<pre>| 5       | 1.35s        | 3.22893           | 1.37053               | 0.014603    |</pre>"
      ],
      "text/plain": [
       "| 5       | 1.35s        | 3.22893           | 1.37053               | 0.014603    |"
      ]
     },
     "metadata": {},
     "output_type": "display_data"
    },
    {
     "data": {
      "text/html": [
       "<pre>| 6       | 1.54s        | 2.98702           | 1.29721               | 0.0127367   |</pre>"
      ],
      "text/plain": [
       "| 6       | 1.54s        | 2.98702           | 1.29721               | 0.0127367   |"
      ]
     },
     "metadata": {},
     "output_type": "display_data"
    },
    {
     "data": {
      "text/html": [
       "<pre>| 9       | 2.10s        | 2.41481           | 1.10715               | 0.00939698  |</pre>"
      ],
      "text/plain": [
       "| 9       | 2.10s        | 2.41481           | 1.10715               | 0.00939698  |"
      ]
     },
     "metadata": {},
     "output_type": "display_data"
    },
    {
     "data": {
      "text/html": [
       "<pre>| 11      | 2.47s        | 2.16168           | 1.01768               | 0.00808399  |</pre>"
      ],
      "text/plain": [
       "| 11      | 2.47s        | 2.16168           | 1.01768               | 0.00808399  |"
      ]
     },
     "metadata": {},
     "output_type": "display_data"
    },
    {
     "data": {
      "text/html": [
       "<pre>| 19      | 3.95s        | 1.65457           | 0.833621              | 0.00536543  |</pre>"
      ],
      "text/plain": [
       "| 19      | 3.95s        | 1.65457           | 0.833621              | 0.00536543  |"
      ]
     },
     "metadata": {},
     "output_type": "display_data"
    },
    {
     "data": {
      "text/html": [
       "<pre>+---------+--------------+-------------------+-----------------------+-------------+</pre>"
      ],
      "text/plain": [
       "+---------+--------------+-------------------+-----------------------+-------------+"
      ]
     },
     "metadata": {},
     "output_type": "display_data"
    },
    {
     "data": {
      "text/html": [
       "<pre>Optimization Complete: Maximum number of passes through the data reached.</pre>"
      ],
      "text/plain": [
       "Optimization Complete: Maximum number of passes through the data reached."
      ]
     },
     "metadata": {},
     "output_type": "display_data"
    },
    {
     "data": {
      "text/html": [
       "<pre>Computing final objective value and training RMSE.</pre>"
      ],
      "text/plain": [
       "Computing final objective value and training RMSE."
      ]
     },
     "metadata": {},
     "output_type": "display_data"
    },
    {
     "data": {
      "text/html": [
       "<pre>       Final objective value: 1.3995</pre>"
      ],
      "text/plain": [
       "       Final objective value: 1.3995"
      ]
     },
     "metadata": {},
     "output_type": "display_data"
    },
    {
     "data": {
      "text/html": [
       "<pre>       Final training RMSE: 0.719218</pre>"
      ],
      "text/plain": [
       "       Final training RMSE: 0.719218"
      ]
     },
     "metadata": {},
     "output_type": "display_data"
    },
    {
     "data": {
      "text/html": [
       "<pre>Recsys training: model = factorization_recommender</pre>"
      ],
      "text/plain": [
       "Recsys training: model = factorization_recommender"
      ]
     },
     "metadata": {},
     "output_type": "display_data"
    },
    {
     "data": {
      "text/html": [
       "<pre>Preparing data set.</pre>"
      ],
      "text/plain": [
       "Preparing data set."
      ]
     },
     "metadata": {},
     "output_type": "display_data"
    },
    {
     "data": {
      "text/html": [
       "<pre>    Data has 433201 observations with 36440 users and 26096 items.</pre>"
      ],
      "text/plain": [
       "    Data has 433201 observations with 36440 users and 26096 items."
      ]
     },
     "metadata": {},
     "output_type": "display_data"
    },
    {
     "data": {
      "text/html": [
       "<pre>    Data prepared in: 0.260191s</pre>"
      ],
      "text/plain": [
       "    Data prepared in: 0.260191s"
      ]
     },
     "metadata": {},
     "output_type": "display_data"
    },
    {
     "data": {
      "text/html": [
       "<pre>Training factorization_recommender for recommendations.</pre>"
      ],
      "text/plain": [
       "Training factorization_recommender for recommendations."
      ]
     },
     "metadata": {},
     "output_type": "display_data"
    },
    {
     "data": {
      "text/html": [
       "<pre>+--------------------------------+--------------------------------------------------+----------+</pre>"
      ],
      "text/plain": [
       "+--------------------------------+--------------------------------------------------+----------+"
      ]
     },
     "metadata": {},
     "output_type": "display_data"
    },
    {
     "data": {
      "text/html": [
       "<pre>| Parameter                      | Description                                      | Value    |</pre>"
      ],
      "text/plain": [
       "| Parameter                      | Description                                      | Value    |"
      ]
     },
     "metadata": {},
     "output_type": "display_data"
    },
    {
     "data": {
      "text/html": [
       "<pre>+--------------------------------+--------------------------------------------------+----------+</pre>"
      ],
      "text/plain": [
       "+--------------------------------+--------------------------------------------------+----------+"
      ]
     },
     "metadata": {},
     "output_type": "display_data"
    },
    {
     "data": {
      "text/html": [
       "<pre>| num_factors                    | Factor Dimension                                 | 8        |</pre>"
      ],
      "text/plain": [
       "| num_factors                    | Factor Dimension                                 | 8        |"
      ]
     },
     "metadata": {},
     "output_type": "display_data"
    },
    {
     "data": {
      "text/html": [
       "<pre>| regularization                 | L2 Regularization on Factors                     | 1e-008   |</pre>"
      ],
      "text/plain": [
       "| regularization                 | L2 Regularization on Factors                     | 1e-008   |"
      ]
     },
     "metadata": {},
     "output_type": "display_data"
    },
    {
     "data": {
      "text/html": [
       "<pre>| solver                         | Solver used for training                         | adagrad  |</pre>"
      ],
      "text/plain": [
       "| solver                         | Solver used for training                         | adagrad  |"
      ]
     },
     "metadata": {},
     "output_type": "display_data"
    },
    {
     "data": {
      "text/html": [
       "<pre>| linear_regularization          | L2 Regularization on Linear Coefficients         | 1e-010   |</pre>"
      ],
      "text/plain": [
       "| linear_regularization          | L2 Regularization on Linear Coefficients         | 1e-010   |"
      ]
     },
     "metadata": {},
     "output_type": "display_data"
    },
    {
     "data": {
      "text/html": [
       "<pre>| side_data_factorization        | Assign Factors for Side Data                     | True     |</pre>"
      ],
      "text/plain": [
       "| side_data_factorization        | Assign Factors for Side Data                     | True     |"
      ]
     },
     "metadata": {},
     "output_type": "display_data"
    },
    {
     "data": {
      "text/html": [
       "<pre>| max_iterations                 | Maximum Number of Iterations                     | 50       |</pre>"
      ],
      "text/plain": [
       "| max_iterations                 | Maximum Number of Iterations                     | 50       |"
      ]
     },
     "metadata": {},
     "output_type": "display_data"
    },
    {
     "data": {
      "text/html": [
       "<pre>+--------------------------------+--------------------------------------------------+----------+</pre>"
      ],
      "text/plain": [
       "+--------------------------------+--------------------------------------------------+----------+"
      ]
     },
     "metadata": {},
     "output_type": "display_data"
    },
    {
     "data": {
      "text/html": [
       "<pre>  Optimizing model using SGD; tuning step size.</pre>"
      ],
      "text/plain": [
       "  Optimizing model using SGD; tuning step size."
      ]
     },
     "metadata": {},
     "output_type": "display_data"
    },
    {
     "data": {
      "text/html": [
       "<pre>  Using 54150 / 433201 points for tuning the step size.</pre>"
      ],
      "text/plain": [
       "  Using 54150 / 433201 points for tuning the step size."
      ]
     },
     "metadata": {},
     "output_type": "display_data"
    },
    {
     "data": {
      "text/html": [
       "<pre>+---------+-------------------+------------------------------------------+</pre>"
      ],
      "text/plain": [
       "+---------+-------------------+------------------------------------------+"
      ]
     },
     "metadata": {},
     "output_type": "display_data"
    },
    {
     "data": {
      "text/html": [
       "<pre>| Attempt | Initial Step Size | Estimated Objective Value                |</pre>"
      ],
      "text/plain": [
       "| Attempt | Initial Step Size | Estimated Objective Value                |"
      ]
     },
     "metadata": {},
     "output_type": "display_data"
    },
    {
     "data": {
      "text/html": [
       "<pre>+---------+-------------------+------------------------------------------+</pre>"
      ],
      "text/plain": [
       "+---------+-------------------+------------------------------------------+"
      ]
     },
     "metadata": {},
     "output_type": "display_data"
    },
    {
     "data": {
      "text/html": [
       "<pre>| 0       | 1.66667           | Not Viable                               |</pre>"
      ],
      "text/plain": [
       "| 0       | 1.66667           | Not Viable                               |"
      ]
     },
     "metadata": {},
     "output_type": "display_data"
    },
    {
     "data": {
      "text/html": [
       "<pre>| 1       | 0.416667          | Not Viable                               |</pre>"
      ],
      "text/plain": [
       "| 1       | 0.416667          | Not Viable                               |"
      ]
     },
     "metadata": {},
     "output_type": "display_data"
    },
    {
     "data": {
      "text/html": [
       "<pre>| 2       | 0.104167          | Not Viable                               |</pre>"
      ],
      "text/plain": [
       "| 2       | 0.104167          | Not Viable                               |"
      ]
     },
     "metadata": {},
     "output_type": "display_data"
    },
    {
     "data": {
      "text/html": [
       "<pre>| 3       | 0.0260417         | Not Viable                               |</pre>"
      ],
      "text/plain": [
       "| 3       | 0.0260417         | Not Viable                               |"
      ]
     },
     "metadata": {},
     "output_type": "display_data"
    },
    {
     "data": {
      "text/html": [
       "<pre>| 4       | 0.00651042        | Not Viable                               |</pre>"
      ],
      "text/plain": [
       "| 4       | 0.00651042        | Not Viable                               |"
      ]
     },
     "metadata": {},
     "output_type": "display_data"
    },
    {
     "data": {
      "text/html": [
       "<pre>| 5       | 0.0016276         | 3.31126                                  |</pre>"
      ],
      "text/plain": [
       "| 5       | 0.0016276         | 3.31126                                  |"
      ]
     },
     "metadata": {},
     "output_type": "display_data"
    },
    {
     "data": {
      "text/html": [
       "<pre>| 6       | 0.000813802       | 3.38278                                  |</pre>"
      ],
      "text/plain": [
       "| 6       | 0.000813802       | 3.38278                                  |"
      ]
     },
     "metadata": {},
     "output_type": "display_data"
    },
    {
     "data": {
      "text/html": [
       "<pre>| 7       | 0.000406901       | 3.4265                                   |</pre>"
      ],
      "text/plain": [
       "| 7       | 0.000406901       | 3.4265                                   |"
      ]
     },
     "metadata": {},
     "output_type": "display_data"
    },
    {
     "data": {
      "text/html": [
       "<pre>| 8       | 0.000203451       | 3.44716                                  |</pre>"
      ],
      "text/plain": [
       "| 8       | 0.000203451       | 3.44716                                  |"
      ]
     },
     "metadata": {},
     "output_type": "display_data"
    },
    {
     "data": {
      "text/html": [
       "<pre>+---------+-------------------+------------------------------------------+</pre>"
      ],
      "text/plain": [
       "+---------+-------------------+------------------------------------------+"
      ]
     },
     "metadata": {},
     "output_type": "display_data"
    },
    {
     "data": {
      "text/html": [
       "<pre>| Final   | 0.0016276         | 3.31126                                  |</pre>"
      ],
      "text/plain": [
       "| Final   | 0.0016276         | 3.31126                                  |"
      ]
     },
     "metadata": {},
     "output_type": "display_data"
    },
    {
     "data": {
      "text/html": [
       "<pre>+---------+-------------------+------------------------------------------+</pre>"
      ],
      "text/plain": [
       "+---------+-------------------+------------------------------------------+"
      ]
     },
     "metadata": {},
     "output_type": "display_data"
    },
    {
     "data": {
      "text/html": [
       "<pre>Starting Optimization.</pre>"
      ],
      "text/plain": [
       "Starting Optimization."
      ]
     },
     "metadata": {},
     "output_type": "display_data"
    },
    {
     "data": {
      "text/html": [
       "<pre>+---------+--------------+-------------------+-----------------------+-------------+</pre>"
      ],
      "text/plain": [
       "+---------+--------------+-------------------+-----------------------+-------------+"
      ]
     },
     "metadata": {},
     "output_type": "display_data"
    },
    {
     "data": {
      "text/html": [
       "<pre>| Iter.   | Elapsed Time | Approx. Objective | Approx. Training RMSE | Step Size   |</pre>"
      ],
      "text/plain": [
       "| Iter.   | Elapsed Time | Approx. Objective | Approx. Training RMSE | Step Size   |"
      ]
     },
     "metadata": {},
     "output_type": "display_data"
    },
    {
     "data": {
      "text/html": [
       "<pre>+---------+--------------+-------------------+-----------------------+-------------+</pre>"
      ],
      "text/plain": [
       "+---------+--------------+-------------------+-----------------------+-------------+"
      ]
     },
     "metadata": {},
     "output_type": "display_data"
    },
    {
     "data": {
      "text/html": [
       "<pre>| Initial | 0us          | 3.48332           | 1.86637               |             |</pre>"
      ],
      "text/plain": [
       "| Initial | 0us          | 3.48332           | 1.86637               |             |"
      ]
     },
     "metadata": {},
     "output_type": "display_data"
    },
    {
     "data": {
      "text/html": [
       "<pre>+---------+--------------+-------------------+-----------------------+-------------+</pre>"
      ],
      "text/plain": [
       "+---------+--------------+-------------------+-----------------------+-------------+"
      ]
     },
     "metadata": {},
     "output_type": "display_data"
    },
    {
     "data": {
      "text/html": [
       "<pre>| 1       | 550.964ms    | 3.36351           | 1.83399               | 0.0016276   |</pre>"
      ],
      "text/plain": [
       "| 1       | 550.964ms    | 3.36351           | 1.83399               | 0.0016276   |"
      ]
     },
     "metadata": {},
     "output_type": "display_data"
    },
    {
     "data": {
      "text/html": [
       "<pre>| 2       | 1.11s        | 3.30165           | 1.81704               | 0.0016276   |</pre>"
      ],
      "text/plain": [
       "| 2       | 1.11s        | 3.30165           | 1.81704               | 0.0016276   |"
      ]
     },
     "metadata": {},
     "output_type": "display_data"
    },
    {
     "data": {
      "text/html": [
       "<pre>| 3       | 1.65s        | 4.5366            | 2.12993               | 0.0016276   |</pre>"
      ],
      "text/plain": [
       "| 3       | 1.65s        | 4.5366            | 2.12993               | 0.0016276   |"
      ]
     },
     "metadata": {},
     "output_type": "display_data"
    },
    {
     "data": {
      "text/html": [
       "<pre>| 4       | 2.26s        | DIVERGED          | DIVERGED              | 0.0016276   |</pre>"
      ],
      "text/plain": [
       "| 4       | 2.26s        | DIVERGED          | DIVERGED              | 0.0016276   |"
      ]
     },
     "metadata": {},
     "output_type": "display_data"
    },
    {
     "data": {
      "text/html": [
       "<pre>| RESET   | 2.34s        | 3.48332           | 1.86636               |             |</pre>"
      ],
      "text/plain": [
       "| RESET   | 2.34s        | 3.48332           | 1.86636               |             |"
      ]
     },
     "metadata": {},
     "output_type": "display_data"
    },
    {
     "data": {
      "text/html": [
       "<pre>| 1       | 2.88s        | 3.41855           | 1.84893               | 0.000813802 |</pre>"
      ],
      "text/plain": [
       "| 1       | 2.88s        | 3.41855           | 1.84893               | 0.000813802 |"
      ]
     },
     "metadata": {},
     "output_type": "display_data"
    },
    {
     "data": {
      "text/html": [
       "<pre>| 2       | 3.42s        | 3.37385           | 1.8368                | 0.000813802 |</pre>"
      ],
      "text/plain": [
       "| 2       | 3.42s        | 3.37385           | 1.8368                | 0.000813802 |"
      ]
     },
     "metadata": {},
     "output_type": "display_data"
    },
    {
     "data": {
      "text/html": [
       "<pre>| 3       | 3.96s        | 3.34585           | 1.82917               | 0.000813802 |</pre>"
      ],
      "text/plain": [
       "| 3       | 3.96s        | 3.34585           | 1.82917               | 0.000813802 |"
      ]
     },
     "metadata": {},
     "output_type": "display_data"
    },
    {
     "data": {
      "text/html": [
       "<pre>| 6       | 5.61s        | 3.30829           | 1.81887               | 0.000813802 |</pre>"
      ],
      "text/plain": [
       "| 6       | 5.61s        | 3.30829           | 1.81887               | 0.000813802 |"
      ]
     },
     "metadata": {},
     "output_type": "display_data"
    },
    {
     "data": {
      "text/html": [
       "<pre>| 8       | 6.71s        | 3.50065           | 1.871                 | 0.000813802 |</pre>"
      ],
      "text/plain": [
       "| 8       | 6.71s        | 3.50065           | 1.871                 | 0.000813802 |"
      ]
     },
     "metadata": {},
     "output_type": "display_data"
    },
    {
     "data": {
      "text/html": [
       "<pre>| 10      | 7.86s        | DIVERGED          | DIVERGED              | 0.000813802 |</pre>"
      ],
      "text/plain": [
       "| 10      | 7.86s        | DIVERGED          | DIVERGED              | 0.000813802 |"
      ]
     },
     "metadata": {},
     "output_type": "display_data"
    },
    {
     "data": {
      "text/html": [
       "<pre>| RESET   | 7.94s        | 3.48337           | 1.86638               |             |</pre>"
      ],
      "text/plain": [
       "| RESET   | 7.94s        | 3.48337           | 1.86638               |             |"
      ]
     },
     "metadata": {},
     "output_type": "display_data"
    },
    {
     "data": {
      "text/html": [
       "<pre>| 1       | 8.48s        | 3.44832           | 1.85696               | 0.000406901 |</pre>"
      ],
      "text/plain": [
       "| 1       | 8.48s        | 3.44832           | 1.85696               | 0.000406901 |"
      ]
     },
     "metadata": {},
     "output_type": "display_data"
    },
    {
     "data": {
      "text/html": [
       "<pre>| 6       | 11.21s       | 3.37024           | 1.83582               | 0.000406901 |</pre>"
      ],
      "text/plain": [
       "| 6       | 11.21s       | 3.37024           | 1.83582               | 0.000406901 |"
      ]
     },
     "metadata": {},
     "output_type": "display_data"
    },
    {
     "data": {
      "text/html": [
       "<pre>| 11      | 13.94s       | 3.33492           | 1.82618               | 0.000406901 |</pre>"
      ],
      "text/plain": [
       "| 11      | 13.94s       | 3.33492           | 1.82618               | 0.000406901 |"
      ]
     },
     "metadata": {},
     "output_type": "display_data"
    },
    {
     "data": {
      "text/html": [
       "<pre>| 16      | 16.66s       | 3.3051            | 1.81799               | 0.000406901 |</pre>"
      ],
      "text/plain": [
       "| 16      | 16.66s       | 3.3051            | 1.81799               | 0.000406901 |"
      ]
     },
     "metadata": {},
     "output_type": "display_data"
    },
    {
     "data": {
      "text/html": [
       "<pre>| 21      | 19.38s       | 3.28043           | 1.8112                | 0.000406901 |</pre>"
      ],
      "text/plain": [
       "| 21      | 19.38s       | 3.28043           | 1.8112                | 0.000406901 |"
      ]
     },
     "metadata": {},
     "output_type": "display_data"
    },
    {
     "data": {
      "text/html": [
       "<pre>| 26      | 22.13s       | 3.26987           | 1.80828               | 0.000406901 |</pre>"
      ],
      "text/plain": [
       "| 26      | 22.13s       | 3.26987           | 1.80828               | 0.000406901 |"
      ]
     },
     "metadata": {},
     "output_type": "display_data"
    },
    {
     "data": {
      "text/html": [
       "<pre>| 31      | 24.85s       | 3.31469           | 1.82063               | 0.000406901 |</pre>"
      ],
      "text/plain": [
       "| 31      | 24.85s       | 3.31469           | 1.82063               | 0.000406901 |"
      ]
     },
     "metadata": {},
     "output_type": "display_data"
    },
    {
     "data": {
      "text/html": [
       "<pre>| 36      | 27.58s       | 3.71753           | 1.92809               | 0.000406901 |</pre>"
      ],
      "text/plain": [
       "| 36      | 27.58s       | 3.71753           | 1.92809               | 0.000406901 |"
      ]
     },
     "metadata": {},
     "output_type": "display_data"
    },
    {
     "data": {
      "text/html": [
       "<pre>| 39      | 29.21s       | 5.31368           | 2.30514               | 0.000406901 |</pre>"
      ],
      "text/plain": [
       "| 39      | 29.21s       | 5.31368           | 2.30514               | 0.000406901 |"
      ]
     },
     "metadata": {},
     "output_type": "display_data"
    },
    {
     "data": {
      "text/html": [
       "<pre>| 40      | 29.81s       | DIVERGED          | DIVERGED              | 0.000406901 |</pre>"
      ],
      "text/plain": [
       "| 40      | 29.81s       | DIVERGED          | DIVERGED              | 0.000406901 |"
      ]
     },
     "metadata": {},
     "output_type": "display_data"
    },
    {
     "data": {
      "text/html": [
       "<pre>| RESET   | 29.89s       | 3.4833            | 1.86636               |             |</pre>"
      ],
      "text/plain": [
       "| RESET   | 29.89s       | 3.4833            | 1.86636               |             |"
      ]
     },
     "metadata": {},
     "output_type": "display_data"
    },
    {
     "data": {
      "text/html": [
       "<pre>| 1       | 30.43s       | 3.46486           | 1.86141               | 0.000203451 |</pre>"
      ],
      "text/plain": [
       "| 1       | 30.43s       | 3.46486           | 1.86141               | 0.000203451 |"
      ]
     },
     "metadata": {},
     "output_type": "display_data"
    },
    {
     "data": {
      "text/html": [
       "<pre>+---------+--------------+-------------------+-----------------------+-------------+</pre>"
      ],
      "text/plain": [
       "+---------+--------------+-------------------+-----------------------+-------------+"
      ]
     },
     "metadata": {},
     "output_type": "display_data"
    },
    {
     "data": {
      "text/html": [
       "<pre>Optimization Complete: Maximum number of passes through the data reached (hard limit).</pre>"
      ],
      "text/plain": [
       "Optimization Complete: Maximum number of passes through the data reached (hard limit)."
      ]
     },
     "metadata": {},
     "output_type": "display_data"
    },
    {
     "data": {
      "text/html": [
       "<pre>Computing final objective value and training RMSE.</pre>"
      ],
      "text/plain": [
       "Computing final objective value and training RMSE."
      ]
     },
     "metadata": {},
     "output_type": "display_data"
    },
    {
     "data": {
      "text/html": [
       "<pre>       Final objective value: 3.45553</pre>"
      ],
      "text/plain": [
       "       Final objective value: 3.45553"
      ]
     },
     "metadata": {},
     "output_type": "display_data"
    },
    {
     "data": {
      "text/html": [
       "<pre>       Final training RMSE: 1.85891</pre>"
      ],
      "text/plain": [
       "       Final training RMSE: 1.85891"
      ]
     },
     "metadata": {},
     "output_type": "display_data"
    },
    {
     "data": {
      "text/html": [
       "<pre>Recsys training: model = factorization_recommender</pre>"
      ],
      "text/plain": [
       "Recsys training: model = factorization_recommender"
      ]
     },
     "metadata": {},
     "output_type": "display_data"
    },
    {
     "data": {
      "text/html": [
       "<pre>Preparing data set.</pre>"
      ],
      "text/plain": [
       "Preparing data set."
      ]
     },
     "metadata": {},
     "output_type": "display_data"
    },
    {
     "data": {
      "text/html": [
       "<pre>    Data has 433201 observations with 36440 users and 26100 items.</pre>"
      ],
      "text/plain": [
       "    Data has 433201 observations with 36440 users and 26100 items."
      ]
     },
     "metadata": {},
     "output_type": "display_data"
    },
    {
     "data": {
      "text/html": [
       "<pre>    Data prepared in: 0.25621s</pre>"
      ],
      "text/plain": [
       "    Data prepared in: 0.25621s"
      ]
     },
     "metadata": {},
     "output_type": "display_data"
    },
    {
     "data": {
      "text/html": [
       "<pre>Training factorization_recommender for recommendations.</pre>"
      ],
      "text/plain": [
       "Training factorization_recommender for recommendations."
      ]
     },
     "metadata": {},
     "output_type": "display_data"
    },
    {
     "data": {
      "text/html": [
       "<pre>+--------------------------------+--------------------------------------------------+----------+</pre>"
      ],
      "text/plain": [
       "+--------------------------------+--------------------------------------------------+----------+"
      ]
     },
     "metadata": {},
     "output_type": "display_data"
    },
    {
     "data": {
      "text/html": [
       "<pre>| Parameter                      | Description                                      | Value    |</pre>"
      ],
      "text/plain": [
       "| Parameter                      | Description                                      | Value    |"
      ]
     },
     "metadata": {},
     "output_type": "display_data"
    },
    {
     "data": {
      "text/html": [
       "<pre>+--------------------------------+--------------------------------------------------+----------+</pre>"
      ],
      "text/plain": [
       "+--------------------------------+--------------------------------------------------+----------+"
      ]
     },
     "metadata": {},
     "output_type": "display_data"
    },
    {
     "data": {
      "text/html": [
       "<pre>| num_factors                    | Factor Dimension                                 | 8        |</pre>"
      ],
      "text/plain": [
       "| num_factors                    | Factor Dimension                                 | 8        |"
      ]
     },
     "metadata": {},
     "output_type": "display_data"
    },
    {
     "data": {
      "text/html": [
       "<pre>| regularization                 | L2 Regularization on Factors                     | 1e-008   |</pre>"
      ],
      "text/plain": [
       "| regularization                 | L2 Regularization on Factors                     | 1e-008   |"
      ]
     },
     "metadata": {},
     "output_type": "display_data"
    },
    {
     "data": {
      "text/html": [
       "<pre>| solver                         | Solver used for training                         | adagrad  |</pre>"
      ],
      "text/plain": [
       "| solver                         | Solver used for training                         | adagrad  |"
      ]
     },
     "metadata": {},
     "output_type": "display_data"
    },
    {
     "data": {
      "text/html": [
       "<pre>| linear_regularization          | L2 Regularization on Linear Coefficients         | 1e-010   |</pre>"
      ],
      "text/plain": [
       "| linear_regularization          | L2 Regularization on Linear Coefficients         | 1e-010   |"
      ]
     },
     "metadata": {},
     "output_type": "display_data"
    },
    {
     "data": {
      "text/html": [
       "<pre>| side_data_factorization        | Assign Factors for Side Data                     | True     |</pre>"
      ],
      "text/plain": [
       "| side_data_factorization        | Assign Factors for Side Data                     | True     |"
      ]
     },
     "metadata": {},
     "output_type": "display_data"
    },
    {
     "data": {
      "text/html": [
       "<pre>| max_iterations                 | Maximum Number of Iterations                     | 50       |</pre>"
      ],
      "text/plain": [
       "| max_iterations                 | Maximum Number of Iterations                     | 50       |"
      ]
     },
     "metadata": {},
     "output_type": "display_data"
    },
    {
     "data": {
      "text/html": [
       "<pre>+--------------------------------+--------------------------------------------------+----------+</pre>"
      ],
      "text/plain": [
       "+--------------------------------+--------------------------------------------------+----------+"
      ]
     },
     "metadata": {},
     "output_type": "display_data"
    },
    {
     "data": {
      "text/html": [
       "<pre>  Optimizing model using SGD; tuning step size.</pre>"
      ],
      "text/plain": [
       "  Optimizing model using SGD; tuning step size."
      ]
     },
     "metadata": {},
     "output_type": "display_data"
    },
    {
     "data": {
      "text/html": [
       "<pre>  Using 54150 / 433201 points for tuning the step size.</pre>"
      ],
      "text/plain": [
       "  Using 54150 / 433201 points for tuning the step size."
      ]
     },
     "metadata": {},
     "output_type": "display_data"
    },
    {
     "data": {
      "text/html": [
       "<pre>+---------+-------------------+------------------------------------------+</pre>"
      ],
      "text/plain": [
       "+---------+-------------------+------------------------------------------+"
      ]
     },
     "metadata": {},
     "output_type": "display_data"
    },
    {
     "data": {
      "text/html": [
       "<pre>| Attempt | Initial Step Size | Estimated Objective Value                |</pre>"
      ],
      "text/plain": [
       "| Attempt | Initial Step Size | Estimated Objective Value                |"
      ]
     },
     "metadata": {},
     "output_type": "display_data"
    },
    {
     "data": {
      "text/html": [
       "<pre>+---------+-------------------+------------------------------------------+</pre>"
      ],
      "text/plain": [
       "+---------+-------------------+------------------------------------------+"
      ]
     },
     "metadata": {},
     "output_type": "display_data"
    },
    {
     "data": {
      "text/html": [
       "<pre>| 0       | 7.14286           | Not Viable                               |</pre>"
      ],
      "text/plain": [
       "| 0       | 7.14286           | Not Viable                               |"
      ]
     },
     "metadata": {},
     "output_type": "display_data"
    },
    {
     "data": {
      "text/html": [
       "<pre>| 1       | 1.78571           | 0.626805                                 |</pre>"
      ],
      "text/plain": [
       "| 1       | 1.78571           | 0.626805                                 |"
      ]
     },
     "metadata": {},
     "output_type": "display_data"
    },
    {
     "data": {
      "text/html": [
       "<pre>| 2       | 0.892857          | 0.434822                                 |</pre>"
      ],
      "text/plain": [
       "| 2       | 0.892857          | 0.434822                                 |"
      ]
     },
     "metadata": {},
     "output_type": "display_data"
    },
    {
     "data": {
      "text/html": [
       "<pre>| 3       | 0.446429          | 0.194075                                 |</pre>"
      ],
      "text/plain": [
       "| 3       | 0.446429          | 0.194075                                 |"
      ]
     },
     "metadata": {},
     "output_type": "display_data"
    },
    {
     "data": {
      "text/html": [
       "<pre>| 4       | 0.223214          | 0.412335                                 |</pre>"
      ],
      "text/plain": [
       "| 4       | 0.223214          | 0.412335                                 |"
      ]
     },
     "metadata": {},
     "output_type": "display_data"
    },
    {
     "data": {
      "text/html": [
       "<pre>+---------+-------------------+------------------------------------------+</pre>"
      ],
      "text/plain": [
       "+---------+-------------------+------------------------------------------+"
      ]
     },
     "metadata": {},
     "output_type": "display_data"
    },
    {
     "data": {
      "text/html": [
       "<pre>| Final   | 0.446429          | 0.194075                                 |</pre>"
      ],
      "text/plain": [
       "| Final   | 0.446429          | 0.194075                                 |"
      ]
     },
     "metadata": {},
     "output_type": "display_data"
    },
    {
     "data": {
      "text/html": [
       "<pre>+---------+-------------------+------------------------------------------+</pre>"
      ],
      "text/plain": [
       "+---------+-------------------+------------------------------------------+"
      ]
     },
     "metadata": {},
     "output_type": "display_data"
    },
    {
     "data": {
      "text/html": [
       "<pre>Starting Optimization.</pre>"
      ],
      "text/plain": [
       "Starting Optimization."
      ]
     },
     "metadata": {},
     "output_type": "display_data"
    },
    {
     "data": {
      "text/html": [
       "<pre>+---------+--------------+-------------------+-----------------------+-------------+</pre>"
      ],
      "text/plain": [
       "+---------+--------------+-------------------+-----------------------+-------------+"
      ]
     },
     "metadata": {},
     "output_type": "display_data"
    },
    {
     "data": {
      "text/html": [
       "<pre>| Iter.   | Elapsed Time | Approx. Objective | Approx. Training RMSE | Step Size   |</pre>"
      ],
      "text/plain": [
       "| Iter.   | Elapsed Time | Approx. Objective | Approx. Training RMSE | Step Size   |"
      ]
     },
     "metadata": {},
     "output_type": "display_data"
    },
    {
     "data": {
      "text/html": [
       "<pre>+---------+--------------+-------------------+-----------------------+-------------+</pre>"
      ],
      "text/plain": [
       "+---------+--------------+-------------------+-----------------------+-------------+"
      ]
     },
     "metadata": {},
     "output_type": "display_data"
    },
    {
     "data": {
      "text/html": [
       "<pre>| Initial | 0us          | 3.4822            | 1.86606               |             |</pre>"
      ],
      "text/plain": [
       "| Initial | 0us          | 3.4822            | 1.86606               |             |"
      ]
     },
     "metadata": {},
     "output_type": "display_data"
    },
    {
     "data": {
      "text/html": [
       "<pre>+---------+--------------+-------------------+-----------------------+-------------+</pre>"
      ],
      "text/plain": [
       "+---------+--------------+-------------------+-----------------------+-------------+"
      ]
     },
     "metadata": {},
     "output_type": "display_data"
    },
    {
     "data": {
      "text/html": [
       "<pre>| 1       | 199.53ms     | 2.51227           | 1.58458               | 0.446429    |</pre>"
      ],
      "text/plain": [
       "| 1       | 199.53ms     | 2.51227           | 1.58458               | 0.446429    |"
      ]
     },
     "metadata": {},
     "output_type": "display_data"
    },
    {
     "data": {
      "text/html": [
       "<pre>| 2       | 384.021ms    | 1.6539            | 1.28556               | 0.446429    |</pre>"
      ],
      "text/plain": [
       "| 2       | 384.021ms    | 1.6539            | 1.28556               | 0.446429    |"
      ]
     },
     "metadata": {},
     "output_type": "display_data"
    },
    {
     "data": {
      "text/html": [
       "<pre>| 3       | 568.01ms     | 1.35143           | 1.16196               | 0.446429    |</pre>"
      ],
      "text/plain": [
       "| 3       | 568.01ms     | 1.35143           | 1.16196               | 0.446429    |"
      ]
     },
     "metadata": {},
     "output_type": "display_data"
    },
    {
     "data": {
      "text/html": [
       "<pre>| 4       | 750.997ms    | 1.21092           | 1.09982               | 0.446429    |</pre>"
      ],
      "text/plain": [
       "| 4       | 750.997ms    | 1.21092           | 1.09982               | 0.446429    |"
      ]
     },
     "metadata": {},
     "output_type": "display_data"
    },
    {
     "data": {
      "text/html": [
       "<pre>| 5       | 937.493ms    | 1.12378           | 1.05945               | 0.446429    |</pre>"
      ],
      "text/plain": [
       "| 5       | 937.493ms    | 1.12378           | 1.05945               | 0.446429    |"
      ]
     },
     "metadata": {},
     "output_type": "display_data"
    },
    {
     "data": {
      "text/html": [
       "<pre>| 6       | 1.11s        | 1.06969           | 1.03359               | 0.446429    |</pre>"
      ],
      "text/plain": [
       "| 6       | 1.11s        | 1.06969           | 1.03359               | 0.446429    |"
      ]
     },
     "metadata": {},
     "output_type": "display_data"
    },
    {
     "data": {
      "text/html": [
       "<pre>| 10      | 1.84s        | 0.950912          | 0.974396              | 0.446429    |</pre>"
      ],
      "text/plain": [
       "| 10      | 1.84s        | 0.950912          | 0.974396              | 0.446429    |"
      ]
     },
     "metadata": {},
     "output_type": "display_data"
    },
    {
     "data": {
      "text/html": [
       "<pre>| 11      | 2.03s        | 0.934768          | 0.966067              | 0.446429    |</pre>"
      ],
      "text/plain": [
       "| 11      | 2.03s        | 0.934768          | 0.966067              | 0.446429    |"
      ]
     },
     "metadata": {},
     "output_type": "display_data"
    },
    {
     "data": {
      "text/html": [
       "<pre>| 20      | 3.66s        | 0.853394          | 0.922929              | 0.446429    |</pre>"
      ],
      "text/plain": [
       "| 20      | 3.66s        | 0.853394          | 0.922929              | 0.446429    |"
      ]
     },
     "metadata": {},
     "output_type": "display_data"
    },
    {
     "data": {
      "text/html": [
       "<pre>| 30      | 5.53s        | 0.818669          | 0.903879              | 0.446429    |</pre>"
      ],
      "text/plain": [
       "| 30      | 5.53s        | 0.818669          | 0.903879              | 0.446429    |"
      ]
     },
     "metadata": {},
     "output_type": "display_data"
    },
    {
     "data": {
      "text/html": [
       "<pre>| 40      | 7.37s        | 0.793143          | 0.889616              | 0.446429    |</pre>"
      ],
      "text/plain": [
       "| 40      | 7.37s        | 0.793143          | 0.889616              | 0.446429    |"
      ]
     },
     "metadata": {},
     "output_type": "display_data"
    },
    {
     "data": {
      "text/html": [
       "<pre>| 50      | 9.21s        | 0.778636          | 0.881401              | 0.446429    |</pre>"
      ],
      "text/plain": [
       "| 50      | 9.21s        | 0.778636          | 0.881401              | 0.446429    |"
      ]
     },
     "metadata": {},
     "output_type": "display_data"
    },
    {
     "data": {
      "text/html": [
       "<pre>+---------+--------------+-------------------+-----------------------+-------------+</pre>"
      ],
      "text/plain": [
       "+---------+--------------+-------------------+-----------------------+-------------+"
      ]
     },
     "metadata": {},
     "output_type": "display_data"
    },
    {
     "data": {
      "text/html": [
       "<pre>Optimization Complete: Maximum number of passes through the data reached.</pre>"
      ],
      "text/plain": [
       "Optimization Complete: Maximum number of passes through the data reached."
      ]
     },
     "metadata": {},
     "output_type": "display_data"
    },
    {
     "data": {
      "text/html": [
       "<pre>Computing final objective value and training RMSE.</pre>"
      ],
      "text/plain": [
       "Computing final objective value and training RMSE."
      ]
     },
     "metadata": {},
     "output_type": "display_data"
    },
    {
     "data": {
      "text/html": [
       "<pre>       Final objective value: 0.73119</pre>"
      ],
      "text/plain": [
       "       Final objective value: 0.73119"
      ]
     },
     "metadata": {},
     "output_type": "display_data"
    },
    {
     "data": {
      "text/html": [
       "<pre>       Final training RMSE: 0.854062</pre>"
      ],
      "text/plain": [
       "       Final training RMSE: 0.854062"
      ]
     },
     "metadata": {},
     "output_type": "display_data"
    },
    {
     "data": {
      "text/html": [
       "<pre>Recsys training: model = factorization_recommender</pre>"
      ],
      "text/plain": [
       "Recsys training: model = factorization_recommender"
      ]
     },
     "metadata": {},
     "output_type": "display_data"
    },
    {
     "data": {
      "text/html": [
       "<pre>Preparing data set.</pre>"
      ],
      "text/plain": [
       "Preparing data set."
      ]
     },
     "metadata": {},
     "output_type": "display_data"
    },
    {
     "data": {
      "text/html": [
       "<pre>    Data has 433201 observations with 36440 users and 26094 items.</pre>"
      ],
      "text/plain": [
       "    Data has 433201 observations with 36440 users and 26094 items."
      ]
     },
     "metadata": {},
     "output_type": "display_data"
    },
    {
     "data": {
      "text/html": [
       "<pre>    Data prepared in: 0.277739s</pre>"
      ],
      "text/plain": [
       "    Data prepared in: 0.277739s"
      ]
     },
     "metadata": {},
     "output_type": "display_data"
    },
    {
     "data": {
      "text/html": [
       "<pre>Training factorization_recommender for recommendations.</pre>"
      ],
      "text/plain": [
       "Training factorization_recommender for recommendations."
      ]
     },
     "metadata": {},
     "output_type": "display_data"
    },
    {
     "data": {
      "text/html": [
       "<pre>+--------------------------------+--------------------------------------------------+----------+</pre>"
      ],
      "text/plain": [
       "+--------------------------------+--------------------------------------------------+----------+"
      ]
     },
     "metadata": {},
     "output_type": "display_data"
    },
    {
     "data": {
      "text/html": [
       "<pre>| Parameter                      | Description                                      | Value    |</pre>"
      ],
      "text/plain": [
       "| Parameter                      | Description                                      | Value    |"
      ]
     },
     "metadata": {},
     "output_type": "display_data"
    },
    {
     "data": {
      "text/html": [
       "<pre>+--------------------------------+--------------------------------------------------+----------+</pre>"
      ],
      "text/plain": [
       "+--------------------------------+--------------------------------------------------+----------+"
      ]
     },
     "metadata": {},
     "output_type": "display_data"
    },
    {
     "data": {
      "text/html": [
       "<pre>| num_factors                    | Factor Dimension                                 | 8        |</pre>"
      ],
      "text/plain": [
       "| num_factors                    | Factor Dimension                                 | 8        |"
      ]
     },
     "metadata": {},
     "output_type": "display_data"
    },
    {
     "data": {
      "text/html": [
       "<pre>| regularization                 | L2 Regularization on Factors                     | 1e-008   |</pre>"
      ],
      "text/plain": [
       "| regularization                 | L2 Regularization on Factors                     | 1e-008   |"
      ]
     },
     "metadata": {},
     "output_type": "display_data"
    },
    {
     "data": {
      "text/html": [
       "<pre>| solver                         | Solver used for training                         | adagrad  |</pre>"
      ],
      "text/plain": [
       "| solver                         | Solver used for training                         | adagrad  |"
      ]
     },
     "metadata": {},
     "output_type": "display_data"
    },
    {
     "data": {
      "text/html": [
       "<pre>| linear_regularization          | L2 Regularization on Linear Coefficients         | 1e-010   |</pre>"
      ],
      "text/plain": [
       "| linear_regularization          | L2 Regularization on Linear Coefficients         | 1e-010   |"
      ]
     },
     "metadata": {},
     "output_type": "display_data"
    },
    {
     "data": {
      "text/html": [
       "<pre>| side_data_factorization        | Assign Factors for Side Data                     | True     |</pre>"
      ],
      "text/plain": [
       "| side_data_factorization        | Assign Factors for Side Data                     | True     |"
      ]
     },
     "metadata": {},
     "output_type": "display_data"
    },
    {
     "data": {
      "text/html": [
       "<pre>| max_iterations                 | Maximum Number of Iterations                     | 50       |</pre>"
      ],
      "text/plain": [
       "| max_iterations                 | Maximum Number of Iterations                     | 50       |"
      ]
     },
     "metadata": {},
     "output_type": "display_data"
    },
    {
     "data": {
      "text/html": [
       "<pre>+--------------------------------+--------------------------------------------------+----------+</pre>"
      ],
      "text/plain": [
       "+--------------------------------+--------------------------------------------------+----------+"
      ]
     },
     "metadata": {},
     "output_type": "display_data"
    },
    {
     "data": {
      "text/html": [
       "<pre>  Optimizing model using SGD; tuning step size.</pre>"
      ],
      "text/plain": [
       "  Optimizing model using SGD; tuning step size."
      ]
     },
     "metadata": {},
     "output_type": "display_data"
    },
    {
     "data": {
      "text/html": [
       "<pre>  Using 54150 / 433201 points for tuning the step size.</pre>"
      ],
      "text/plain": [
       "  Using 54150 / 433201 points for tuning the step size."
      ]
     },
     "metadata": {},
     "output_type": "display_data"
    },
    {
     "data": {
      "text/html": [
       "<pre>+---------+-------------------+------------------------------------------+</pre>"
      ],
      "text/plain": [
       "+---------+-------------------+------------------------------------------+"
      ]
     },
     "metadata": {},
     "output_type": "display_data"
    },
    {
     "data": {
      "text/html": [
       "<pre>| Attempt | Initial Step Size | Estimated Objective Value                |</pre>"
      ],
      "text/plain": [
       "| Attempt | Initial Step Size | Estimated Objective Value                |"
      ]
     },
     "metadata": {},
     "output_type": "display_data"
    },
    {
     "data": {
      "text/html": [
       "<pre>+---------+-------------------+------------------------------------------+</pre>"
      ],
      "text/plain": [
       "+---------+-------------------+------------------------------------------+"
      ]
     },
     "metadata": {},
     "output_type": "display_data"
    },
    {
     "data": {
      "text/html": [
       "<pre>| 0       | 1.42857           | 0.622335                                 |</pre>"
      ],
      "text/plain": [
       "| 0       | 1.42857           | 0.622335                                 |"
      ]
     },
     "metadata": {},
     "output_type": "display_data"
    },
    {
     "data": {
      "text/html": [
       "<pre>| 1       | 0.714286          | 0.380485                                 |</pre>"
      ],
      "text/plain": [
       "| 1       | 0.714286          | 0.380485                                 |"
      ]
     },
     "metadata": {},
     "output_type": "display_data"
    },
    {
     "data": {
      "text/html": [
       "<pre>| 2       | 0.357143          | 0.710646                                 |</pre>"
      ],
      "text/plain": [
       "| 2       | 0.357143          | 0.710646                                 |"
      ]
     },
     "metadata": {},
     "output_type": "display_data"
    },
    {
     "data": {
      "text/html": [
       "<pre>| 3       | 0.178571          | 0.489755                                 |</pre>"
      ],
      "text/plain": [
       "| 3       | 0.178571          | 0.489755                                 |"
      ]
     },
     "metadata": {},
     "output_type": "display_data"
    },
    {
     "data": {
      "text/html": [
       "<pre>| 4       | 0.0892857         | 1.39458                                  |</pre>"
      ],
      "text/plain": [
       "| 4       | 0.0892857         | 1.39458                                  |"
      ]
     },
     "metadata": {},
     "output_type": "display_data"
    },
    {
     "data": {
      "text/html": [
       "<pre>+---------+-------------------+------------------------------------------+</pre>"
      ],
      "text/plain": [
       "+---------+-------------------+------------------------------------------+"
      ]
     },
     "metadata": {},
     "output_type": "display_data"
    },
    {
     "data": {
      "text/html": [
       "<pre>| Final   | 0.714286          | 0.380485                                 |</pre>"
      ],
      "text/plain": [
       "| Final   | 0.714286          | 0.380485                                 |"
      ]
     },
     "metadata": {},
     "output_type": "display_data"
    },
    {
     "data": {
      "text/html": [
       "<pre>+---------+-------------------+------------------------------------------+</pre>"
      ],
      "text/plain": [
       "+---------+-------------------+------------------------------------------+"
      ]
     },
     "metadata": {},
     "output_type": "display_data"
    },
    {
     "data": {
      "text/html": [
       "<pre>Starting Optimization.</pre>"
      ],
      "text/plain": [
       "Starting Optimization."
      ]
     },
     "metadata": {},
     "output_type": "display_data"
    },
    {
     "data": {
      "text/html": [
       "<pre>+---------+--------------+-------------------+-----------------------+-------------+</pre>"
      ],
      "text/plain": [
       "+---------+--------------+-------------------+-----------------------+-------------+"
      ]
     },
     "metadata": {},
     "output_type": "display_data"
    },
    {
     "data": {
      "text/html": [
       "<pre>| Iter.   | Elapsed Time | Approx. Objective | Approx. Training RMSE | Step Size   |</pre>"
      ],
      "text/plain": [
       "| Iter.   | Elapsed Time | Approx. Objective | Approx. Training RMSE | Step Size   |"
      ]
     },
     "metadata": {},
     "output_type": "display_data"
    },
    {
     "data": {
      "text/html": [
       "<pre>+---------+--------------+-------------------+-----------------------+-------------+</pre>"
      ],
      "text/plain": [
       "+---------+--------------+-------------------+-----------------------+-------------+"
      ]
     },
     "metadata": {},
     "output_type": "display_data"
    },
    {
     "data": {
      "text/html": [
       "<pre>| Initial | 501us        | 3.48348           | 1.86641               |             |</pre>"
      ],
      "text/plain": [
       "| Initial | 501us        | 3.48348           | 1.86641               |             |"
      ]
     },
     "metadata": {},
     "output_type": "display_data"
    },
    {
     "data": {
      "text/html": [
       "<pre>+---------+--------------+-------------------+-----------------------+-------------+</pre>"
      ],
      "text/plain": [
       "+---------+--------------+-------------------+-----------------------+-------------+"
      ]
     },
     "metadata": {},
     "output_type": "display_data"
    },
    {
     "data": {
      "text/html": [
       "<pre>| 1       | 684.319ms    | 3.18923           | 1.78499               | 0.714286    |</pre>"
      ],
      "text/plain": [
       "| 1       | 684.319ms    | 3.18923           | 1.78499               | 0.714286    |"
      ]
     },
     "metadata": {},
     "output_type": "display_data"
    },
    {
     "data": {
      "text/html": [
       "<pre>| 2       | 1.35s        | 2.04685           | 1.4298                | 0.714286    |</pre>"
      ],
      "text/plain": [
       "| 2       | 1.35s        | 2.04685           | 1.4298                | 0.714286    |"
      ]
     },
     "metadata": {},
     "output_type": "display_data"
    },
    {
     "data": {
      "text/html": [
       "<pre>| 3       | 2.02s        | 1.53401           | 1.23757               | 0.714286    |</pre>"
      ],
      "text/plain": [
       "| 3       | 2.02s        | 1.53401           | 1.23757               | 0.714286    |"
      ]
     },
     "metadata": {},
     "output_type": "display_data"
    },
    {
     "data": {
      "text/html": [
       "<pre>| 4       | 2.79s        | 1.4028            | 1.18338               | 0.714286    |</pre>"
      ],
      "text/plain": [
       "| 4       | 2.79s        | 1.4028            | 1.18338               | 0.714286    |"
      ]
     },
     "metadata": {},
     "output_type": "display_data"
    },
    {
     "data": {
      "text/html": [
       "<pre>| 5       | 3.59s        | 1.32087           | 1.14824               | 0.714286    |</pre>"
      ],
      "text/plain": [
       "| 5       | 3.59s        | 1.32087           | 1.14824               | 0.714286    |"
      ]
     },
     "metadata": {},
     "output_type": "display_data"
    },
    {
     "data": {
      "text/html": [
       "<pre>| 6       | 4.28s        | 1.26332           | 1.12289               | 0.714286    |</pre>"
      ],
      "text/plain": [
       "| 6       | 4.28s        | 1.26332           | 1.12289               | 0.714286    |"
      ]
     },
     "metadata": {},
     "output_type": "display_data"
    },
    {
     "data": {
      "text/html": [
       "<pre>| 10      | 7.04s        | 1.1247            | 1.05937               | 0.714286    |</pre>"
      ],
      "text/plain": [
       "| 10      | 7.04s        | 1.1247            | 1.05937               | 0.714286    |"
      ]
     },
     "metadata": {},
     "output_type": "display_data"
    },
    {
     "data": {
      "text/html": [
       "<pre>| 11      | 7.75s        | 1.10334           | 1.04924               | 0.714286    |</pre>"
      ],
      "text/plain": [
       "| 11      | 7.75s        | 1.10334           | 1.04924               | 0.714286    |"
      ]
     },
     "metadata": {},
     "output_type": "display_data"
    },
    {
     "data": {
      "text/html": [
       "<pre>| 15      | 10.40s       | 1.03886           | 1.01804               | 0.714286    |</pre>"
      ],
      "text/plain": [
       "| 15      | 10.40s       | 1.03886           | 1.01804               | 0.714286    |"
      ]
     },
     "metadata": {},
     "output_type": "display_data"
    },
    {
     "data": {
      "text/html": [
       "<pre>| 20      | 13.70s       | 0.989379          | 0.993429              | 0.714286    |</pre>"
      ],
      "text/plain": [
       "| 20      | 13.70s       | 0.989379          | 0.993429              | 0.714286    |"
      ]
     },
     "metadata": {},
     "output_type": "display_data"
    },
    {
     "data": {
      "text/html": [
       "<pre>| 25      | 17.00s       | 0.955865          | 0.976408              | 0.714286    |</pre>"
      ],
      "text/plain": [
       "| 25      | 17.00s       | 0.955865          | 0.976408              | 0.714286    |"
      ]
     },
     "metadata": {},
     "output_type": "display_data"
    },
    {
     "data": {
      "text/html": [
       "<pre>| 30      | 20.28s       | 0.931762          | 0.963979              | 0.714286    |</pre>"
      ],
      "text/plain": [
       "| 30      | 20.28s       | 0.931762          | 0.963979              | 0.714286    |"
      ]
     },
     "metadata": {},
     "output_type": "display_data"
    },
    {
     "data": {
      "text/html": [
       "<pre>| 35      | 23.57s       | 0.914961          | 0.95522               | 0.714286    |</pre>"
      ],
      "text/plain": [
       "| 35      | 23.57s       | 0.914961          | 0.95522               | 0.714286    |"
      ]
     },
     "metadata": {},
     "output_type": "display_data"
    },
    {
     "data": {
      "text/html": [
       "<pre>| 40      | 26.83s       | 0.898244          | 0.946423              | 0.714286    |</pre>"
      ],
      "text/plain": [
       "| 40      | 26.83s       | 0.898244          | 0.946423              | 0.714286    |"
      ]
     },
     "metadata": {},
     "output_type": "display_data"
    },
    {
     "data": {
      "text/html": [
       "<pre>| 45      | 30.12s       | 0.884546          | 0.939153              | 0.714286    |</pre>"
      ],
      "text/plain": [
       "| 45      | 30.12s       | 0.884546          | 0.939153              | 0.714286    |"
      ]
     },
     "metadata": {},
     "output_type": "display_data"
    },
    {
     "data": {
      "text/html": [
       "<pre>| 50      | 33.41s       | 0.872147          | 0.932523              | 0.714286    |</pre>"
      ],
      "text/plain": [
       "| 50      | 33.41s       | 0.872147          | 0.932523              | 0.714286    |"
      ]
     },
     "metadata": {},
     "output_type": "display_data"
    },
    {
     "data": {
      "text/html": [
       "<pre>+---------+--------------+-------------------+-----------------------+-------------+</pre>"
      ],
      "text/plain": [
       "+---------+--------------+-------------------+-----------------------+-------------+"
      ]
     },
     "metadata": {},
     "output_type": "display_data"
    },
    {
     "data": {
      "text/html": [
       "<pre>Optimization Complete: Maximum number of passes through the data reached.</pre>"
      ],
      "text/plain": [
       "Optimization Complete: Maximum number of passes through the data reached."
      ]
     },
     "metadata": {},
     "output_type": "display_data"
    },
    {
     "data": {
      "text/html": [
       "<pre>Computing final objective value and training RMSE.</pre>"
      ],
      "text/plain": [
       "Computing final objective value and training RMSE."
      ]
     },
     "metadata": {},
     "output_type": "display_data"
    },
    {
     "data": {
      "text/html": [
       "<pre>       Final objective value: 0.824804</pre>"
      ],
      "text/plain": [
       "       Final objective value: 0.824804"
      ]
     },
     "metadata": {},
     "output_type": "display_data"
    },
    {
     "data": {
      "text/html": [
       "<pre>       Final training RMSE: 0.906783</pre>"
      ],
      "text/plain": [
       "       Final training RMSE: 0.906783"
      ]
     },
     "metadata": {},
     "output_type": "display_data"
    },
    {
     "data": {
      "text/html": [
       "<pre>recommendations finished on 1000/8901 queries. users per second: 9152.4</pre>"
      ],
      "text/plain": [
       "recommendations finished on 1000/8901 queries. users per second: 9152.4"
      ]
     },
     "metadata": {},
     "output_type": "display_data"
    },
    {
     "data": {
      "text/html": [
       "<pre>recommendations finished on 2000/8901 queries. users per second: 9109.38</pre>"
      ],
      "text/plain": [
       "recommendations finished on 2000/8901 queries. users per second: 9109.38"
      ]
     },
     "metadata": {},
     "output_type": "display_data"
    },
    {
     "data": {
      "text/html": [
       "<pre>recommendations finished on 3000/8901 queries. users per second: 9108.93</pre>"
      ],
      "text/plain": [
       "recommendations finished on 3000/8901 queries. users per second: 9108.93"
      ]
     },
     "metadata": {},
     "output_type": "display_data"
    },
    {
     "data": {
      "text/html": [
       "<pre>recommendations finished on 4000/8901 queries. users per second: 9161.05</pre>"
      ],
      "text/plain": [
       "recommendations finished on 4000/8901 queries. users per second: 9161.05"
      ]
     },
     "metadata": {},
     "output_type": "display_data"
    },
    {
     "data": {
      "text/html": [
       "<pre>recommendations finished on 5000/8901 queries. users per second: 9184.12</pre>"
      ],
      "text/plain": [
       "recommendations finished on 5000/8901 queries. users per second: 9184.12"
      ]
     },
     "metadata": {},
     "output_type": "display_data"
    },
    {
     "data": {
      "text/html": [
       "<pre>recommendations finished on 6000/8901 queries. users per second: 9199.58</pre>"
      ],
      "text/plain": [
       "recommendations finished on 6000/8901 queries. users per second: 9199.58"
      ]
     },
     "metadata": {},
     "output_type": "display_data"
    },
    {
     "data": {
      "text/html": [
       "<pre>recommendations finished on 7000/8901 queries. users per second: 9204.57</pre>"
      ],
      "text/plain": [
       "recommendations finished on 7000/8901 queries. users per second: 9204.57"
      ]
     },
     "metadata": {},
     "output_type": "display_data"
    },
    {
     "data": {
      "text/html": [
       "<pre>recommendations finished on 8000/8901 queries. users per second: 8359.33</pre>"
      ],
      "text/plain": [
       "recommendations finished on 8000/8901 queries. users per second: 8359.33"
      ]
     },
     "metadata": {},
     "output_type": "display_data"
    },
    {
     "name": "stdout",
     "output_type": "stream",
     "text": [
      "\n",
      "Precision and recall summary statistics by cutoff\n",
      "+--------+-------------------+-------------------+\n",
      "| cutoff |   mean_precision  |    mean_recall    |\n",
      "+--------+-------------------+-------------------+\n",
      "|   1    | 0.000337040781935 | 9.01391367715e-06 |\n",
      "|   2    | 0.000168520390967 | 9.01391367715e-06 |\n",
      "|   3    | 0.000112346927312 | 9.01391367715e-06 |\n",
      "|   4    | 0.000112346927312 | 1.11744315101e-05 |\n",
      "|   5    | 8.98775418492e-05 | 1.11744315101e-05 |\n",
      "|   6    |  7.4897951541e-05 | 1.11744315101e-05 |\n",
      "|   7    |  6.4198244178e-05 | 1.11744315101e-05 |\n",
      "|   8    | 9.83035613976e-05 | 2.03028531764e-05 |\n",
      "|   9    | 0.000112346927312 | 2.70668929861e-05 |\n",
      "|   10   |  0.00010111223458 | 2.70668929861e-05 |\n",
      "+--------+-------------------+-------------------+\n",
      "[10 rows x 3 columns]\n",
      "\n",
      "('\\nOverall RMSE: ', 1.66175797794858)\n",
      "\n",
      "Per User RMSE (best)\n",
      "+---------+-------+-------------------+\n",
      "| user_id | count |        rmse       |\n",
      "+---------+-------+-------------------+\n",
      "|  29912  |   1   | 0.000638347541117 |\n",
      "+---------+-------+-------------------+\n",
      "[1 rows x 3 columns]\n",
      "\n",
      "\n",
      "Per User RMSE (worst)\n",
      "+---------+-------+---------------+\n",
      "| user_id | count |      rmse     |\n",
      "+---------+-------+---------------+\n",
      "|  27001  |   1   | 8.84613384637 |\n",
      "+---------+-------+---------------+\n",
      "[1 rows x 3 columns]\n",
      "\n",
      "\n",
      "Per Item RMSE (best)\n",
      "+---------+-------+-------------------+\n",
      "| item_id | count |        rmse       |\n",
      "+---------+-------+-------------------+\n",
      "|  92585  |   1   | 0.000267845069193 |\n",
      "+---------+-------+-------------------+\n",
      "[1 rows x 3 columns]\n",
      "\n",
      "\n",
      "Per Item RMSE (worst)\n",
      "+---------+-------+---------------+\n",
      "| item_id | count |      rmse     |\n",
      "+---------+-------+---------------+\n",
      "| 3592542 |   1   | 8.66878368291 |\n",
      "+---------+-------+---------------+\n",
      "[1 rows x 3 columns]\n",
      "\n"
     ]
    },
    {
     "data": {
      "text/html": [
       "<pre>recommendations finished on 1000/8901 queries. users per second: 3770.68</pre>"
      ],
      "text/plain": [
       "recommendations finished on 1000/8901 queries. users per second: 3770.68"
      ]
     },
     "metadata": {},
     "output_type": "display_data"
    },
    {
     "data": {
      "text/html": [
       "<pre>recommendations finished on 2000/8901 queries. users per second: 3788.57</pre>"
      ],
      "text/plain": [
       "recommendations finished on 2000/8901 queries. users per second: 3788.57"
      ]
     },
     "metadata": {},
     "output_type": "display_data"
    },
    {
     "data": {
      "text/html": [
       "<pre>recommendations finished on 3000/8901 queries. users per second: 3775.43</pre>"
      ],
      "text/plain": [
       "recommendations finished on 3000/8901 queries. users per second: 3775.43"
      ]
     },
     "metadata": {},
     "output_type": "display_data"
    },
    {
     "data": {
      "text/html": [
       "<pre>recommendations finished on 4000/8901 queries. users per second: 3774.24</pre>"
      ],
      "text/plain": [
       "recommendations finished on 4000/8901 queries. users per second: 3774.24"
      ]
     },
     "metadata": {},
     "output_type": "display_data"
    },
    {
     "data": {
      "text/html": [
       "<pre>recommendations finished on 5000/8901 queries. users per second: 3783.54</pre>"
      ],
      "text/plain": [
       "recommendations finished on 5000/8901 queries. users per second: 3783.54"
      ]
     },
     "metadata": {},
     "output_type": "display_data"
    },
    {
     "data": {
      "text/html": [
       "<pre>recommendations finished on 6000/8901 queries. users per second: 3768.29</pre>"
      ],
      "text/plain": [
       "recommendations finished on 6000/8901 queries. users per second: 3768.29"
      ]
     },
     "metadata": {},
     "output_type": "display_data"
    },
    {
     "data": {
      "text/html": [
       "<pre>recommendations finished on 7000/8901 queries. users per second: 3768.63</pre>"
      ],
      "text/plain": [
       "recommendations finished on 7000/8901 queries. users per second: 3768.63"
      ]
     },
     "metadata": {},
     "output_type": "display_data"
    },
    {
     "data": {
      "text/html": [
       "<pre>recommendations finished on 8000/8901 queries. users per second: 3722.29</pre>"
      ],
      "text/plain": [
       "recommendations finished on 8000/8901 queries. users per second: 3722.29"
      ]
     },
     "metadata": {},
     "output_type": "display_data"
    },
    {
     "name": "stdout",
     "output_type": "stream",
     "text": [
      "\n",
      "Precision and recall summary statistics by cutoff\n",
      "+--------+-----------------+------------------+\n",
      "| cutoff |  mean_precision |   mean_recall    |\n",
      "+--------+-----------------+------------------+\n",
      "|   1    | 0.0159532636782 | 0.00276662954756 |\n",
      "|   2    | 0.0255589259634 | 0.00633787798264 |\n",
      "|   3    | 0.0220199977531 | 0.00930239074044 |\n",
      "|   4    | 0.0257274463543 | 0.0141313485385  |\n",
      "|   5    |  0.028625997079 | 0.0182539038062  |\n",
      "|   6    | 0.0313822416957 | 0.0229816137661  |\n",
      "|   7    | 0.0355016290304 |  0.030679703601  |\n",
      "|   8    | 0.0348135041007 | 0.0350339147161  |\n",
      "|   9    | 0.0366001323197 | 0.0456231235422  |\n",
      "|   10   | 0.0366138636108 | 0.0500875037696  |\n",
      "+--------+-----------------+------------------+\n",
      "[10 rows x 3 columns]\n",
      "\n",
      "('\\nOverall RMSE: ', 1.8427377420318056)\n",
      "\n",
      "Per User RMSE (best)\n",
      "+---------+-------+-------------------+\n",
      "| user_id | count |        rmse       |\n",
      "+---------+-------+-------------------+\n",
      "|  27179  |   1   | 0.000124353493429 |\n",
      "+---------+-------+-------------------+\n",
      "[1 rows x 3 columns]\n",
      "\n",
      "\n",
      "Per User RMSE (worst)\n",
      "+---------+-------+---------------+\n",
      "| user_id | count |      rmse     |\n",
      "+---------+-------+---------------+\n",
      "|  28965  |   1   | 8.69663097295 |\n",
      "+---------+-------+---------------+\n",
      "[1 rows x 3 columns]\n",
      "\n",
      "\n",
      "Per Item RMSE (best)\n",
      "+---------+-------+-------------------+\n",
      "| item_id | count |        rmse       |\n",
      "+---------+-------+-------------------+\n",
      "|  65580  |   1   | 9.41571343178e-05 |\n",
      "+---------+-------+-------------------+\n",
      "[1 rows x 3 columns]\n",
      "\n",
      "\n",
      "Per Item RMSE (worst)\n",
      "+---------+-------+---------------+\n",
      "| item_id | count |      rmse     |\n",
      "+---------+-------+---------------+\n",
      "| 2923076 |   1   | 6.29832341107 |\n",
      "+---------+-------+---------------+\n",
      "[1 rows x 3 columns]\n",
      "\n"
     ]
    },
    {
     "data": {
      "text/html": [
       "<pre>recommendations finished on 1000/8901 queries. users per second: 185.328</pre>"
      ],
      "text/plain": [
       "recommendations finished on 1000/8901 queries. users per second: 185.328"
      ]
     },
     "metadata": {},
     "output_type": "display_data"
    },
    {
     "data": {
      "text/html": [
       "<pre>recommendations finished on 2000/8901 queries. users per second: 184.958</pre>"
      ],
      "text/plain": [
       "recommendations finished on 2000/8901 queries. users per second: 184.958"
      ]
     },
     "metadata": {},
     "output_type": "display_data"
    },
    {
     "data": {
      "text/html": [
       "<pre>recommendations finished on 3000/8901 queries. users per second: 184.465</pre>"
      ],
      "text/plain": [
       "recommendations finished on 3000/8901 queries. users per second: 184.465"
      ]
     },
     "metadata": {},
     "output_type": "display_data"
    },
    {
     "data": {
      "text/html": [
       "<pre>recommendations finished on 4000/8901 queries. users per second: 184.373</pre>"
      ],
      "text/plain": [
       "recommendations finished on 4000/8901 queries. users per second: 184.373"
      ]
     },
     "metadata": {},
     "output_type": "display_data"
    },
    {
     "data": {
      "text/html": [
       "<pre>recommendations finished on 5000/8901 queries. users per second: 184.686</pre>"
      ],
      "text/plain": [
       "recommendations finished on 5000/8901 queries. users per second: 184.686"
      ]
     },
     "metadata": {},
     "output_type": "display_data"
    },
    {
     "data": {
      "text/html": [
       "<pre>recommendations finished on 6000/8901 queries. users per second: 184.431</pre>"
      ],
      "text/plain": [
       "recommendations finished on 6000/8901 queries. users per second: 184.431"
      ]
     },
     "metadata": {},
     "output_type": "display_data"
    },
    {
     "data": {
      "text/html": [
       "<pre>recommendations finished on 7000/8901 queries. users per second: 184.624</pre>"
      ],
      "text/plain": [
       "recommendations finished on 7000/8901 queries. users per second: 184.624"
      ]
     },
     "metadata": {},
     "output_type": "display_data"
    },
    {
     "data": {
      "text/html": [
       "<pre>recommendations finished on 8000/8901 queries. users per second: 184.945</pre>"
      ],
      "text/plain": [
       "recommendations finished on 8000/8901 queries. users per second: 184.945"
      ]
     },
     "metadata": {},
     "output_type": "display_data"
    },
    {
     "name": "stdout",
     "output_type": "stream",
     "text": [
      "\n",
      "Precision and recall summary statistics by cutoff\n",
      "+--------+-----------------+------------------+\n",
      "| cutoff |  mean_precision |   mean_recall    |\n",
      "+--------+-----------------+------------------+\n",
      "|   1    | 0.0402201999775 | 0.00412255526768 |\n",
      "|   2    | 0.0320750477474 | 0.0055588562132  |\n",
      "|   3    | 0.0296221398345 | 0.00969420409877 |\n",
      "|   4    | 0.0239298955174 | 0.0104727387483  |\n",
      "|   5    | 0.0218177732839 | 0.0116672193949  |\n",
      "|   6    | 0.0187806613489 | 0.0120165118821  |\n",
      "|   7    | 0.0166594443642 | 0.0122354949379  |\n",
      "|   8    |  0.015012358162 | 0.0124983880796  |\n",
      "|   9    |  0.013544046237 | 0.0126341486614  |\n",
      "|   10   | 0.0126053252444 | 0.0127896556312  |\n",
      "+--------+-----------------+------------------+\n",
      "[10 rows x 3 columns]\n",
      "\n",
      "('\\nOverall RMSE: ', 1.823168288747858)\n",
      "\n",
      "Per User RMSE (best)\n",
      "+---------+-------+----------------+\n",
      "| user_id | count |      rmse      |\n",
      "+---------+-------+----------------+\n",
      "|  32022  |   1   | 0.242465884323 |\n",
      "+---------+-------+----------------+\n",
      "[1 rows x 3 columns]\n",
      "\n",
      "\n",
      "Per User RMSE (worst)\n",
      "+---------+-------+---------------+\n",
      "| user_id | count |      rmse     |\n",
      "+---------+-------+---------------+\n",
      "|  27001  |   1   | 7.28677683225 |\n",
      "+---------+-------+---------------+\n",
      "[1 rows x 3 columns]\n",
      "\n",
      "\n",
      "Per Item RMSE (best)\n",
      "+---------+-------+----------------+\n",
      "| item_id | count |      rmse      |\n",
      "+---------+-------+----------------+\n",
      "| 1870419 |   1   | 0.228495643446 |\n",
      "+---------+-------+----------------+\n",
      "[1 rows x 3 columns]\n",
      "\n",
      "\n",
      "Per Item RMSE (worst)\n",
      "+---------+-------+---------------+\n",
      "| item_id | count |      rmse     |\n",
      "+---------+-------+---------------+\n",
      "|  63555  |   1   | 6.35680504629 |\n",
      "+---------+-------+---------------+\n",
      "[1 rows x 3 columns]\n",
      "\n"
     ]
    },
    {
     "data": {
      "text/html": [
       "<pre>recommendations finished on 1000/8901 queries. users per second: 653.138</pre>"
      ],
      "text/plain": [
       "recommendations finished on 1000/8901 queries. users per second: 653.138"
      ]
     },
     "metadata": {},
     "output_type": "display_data"
    },
    {
     "data": {
      "text/html": [
       "<pre>recommendations finished on 2000/8901 queries. users per second: 656.902</pre>"
      ],
      "text/plain": [
       "recommendations finished on 2000/8901 queries. users per second: 656.902"
      ]
     },
     "metadata": {},
     "output_type": "display_data"
    },
    {
     "data": {
      "text/html": [
       "<pre>recommendations finished on 3000/8901 queries. users per second: 657.805</pre>"
      ],
      "text/plain": [
       "recommendations finished on 3000/8901 queries. users per second: 657.805"
      ]
     },
     "metadata": {},
     "output_type": "display_data"
    },
    {
     "data": {
      "text/html": [
       "<pre>recommendations finished on 4000/8901 queries. users per second: 664.009</pre>"
      ],
      "text/plain": [
       "recommendations finished on 4000/8901 queries. users per second: 664.009"
      ]
     },
     "metadata": {},
     "output_type": "display_data"
    },
    {
     "data": {
      "text/html": [
       "<pre>recommendations finished on 5000/8901 queries. users per second: 666.271</pre>"
      ],
      "text/plain": [
       "recommendations finished on 5000/8901 queries. users per second: 666.271"
      ]
     },
     "metadata": {},
     "output_type": "display_data"
    },
    {
     "data": {
      "text/html": [
       "<pre>recommendations finished on 6000/8901 queries. users per second: 664.857</pre>"
      ],
      "text/plain": [
       "recommendations finished on 6000/8901 queries. users per second: 664.857"
      ]
     },
     "metadata": {},
     "output_type": "display_data"
    },
    {
     "data": {
      "text/html": [
       "<pre>recommendations finished on 7000/8901 queries. users per second: 662.968</pre>"
      ],
      "text/plain": [
       "recommendations finished on 7000/8901 queries. users per second: 662.968"
      ]
     },
     "metadata": {},
     "output_type": "display_data"
    },
    {
     "data": {
      "text/html": [
       "<pre>recommendations finished on 8000/8901 queries. users per second: 655.041</pre>"
      ],
      "text/plain": [
       "recommendations finished on 8000/8901 queries. users per second: 655.041"
      ]
     },
     "metadata": {},
     "output_type": "display_data"
    },
    {
     "name": "stdout",
     "output_type": "stream",
     "text": [
      "\n",
      "Precision and recall summary statistics by cutoff\n",
      "+--------+-------------------+-------------------+\n",
      "| cutoff |   mean_precision  |    mean_recall    |\n",
      "+--------+-------------------+-------------------+\n",
      "|   1    | 0.000112346927312 | 2.16051783291e-06 |\n",
      "|   2    | 5.61734636558e-05 | 2.16051783291e-06 |\n",
      "|   3    | 3.74489757705e-05 | 2.16051783291e-06 |\n",
      "|   4    | 2.80867318279e-05 | 2.16051783291e-06 |\n",
      "|   5    | 2.24693854623e-05 | 2.16051783291e-06 |\n",
      "|   6    | 1.87244878853e-05 | 2.16051783291e-06 |\n",
      "|   7    | 1.60495610445e-05 | 2.16051783291e-06 |\n",
      "|   8    | 2.80867318279e-05 | 4.90068679173e-06 |\n",
      "|   9    |  2.4965983847e-05 | 4.90068679173e-06 |\n",
      "|   10   | 2.24693854623e-05 | 4.90068679173e-06 |\n",
      "+--------+-------------------+-------------------+\n",
      "[10 rows x 3 columns]\n",
      "\n",
      "('\\nOverall RMSE: ', 1.6292197623667362)\n",
      "\n",
      "Per User RMSE (best)\n",
      "+---------+-------+-------------------+\n",
      "| user_id | count |        rmse       |\n",
      "+---------+-------+-------------------+\n",
      "|  29183  |   1   | 4.22727165361e-06 |\n",
      "+---------+-------+-------------------+\n",
      "[1 rows x 3 columns]\n",
      "\n",
      "\n",
      "Per User RMSE (worst)\n",
      "+---------+-------+---------------+\n",
      "| user_id | count |      rmse     |\n",
      "+---------+-------+---------------+\n",
      "|  27001  |   1   | 8.71063242909 |\n",
      "+---------+-------+---------------+\n",
      "[1 rows x 3 columns]\n",
      "\n",
      "\n",
      "Per Item RMSE (best)\n",
      "+---------+-------+-------------------+\n",
      "| item_id | count |        rmse       |\n",
      "+---------+-------+-------------------+\n",
      "| 3321428 |   1   | 0.000380420252077 |\n",
      "+---------+-------+-------------------+\n",
      "[1 rows x 3 columns]\n",
      "\n",
      "\n",
      "Per Item RMSE (worst)\n",
      "+---------+-------+---------------+\n",
      "| item_id | count |      rmse     |\n",
      "+---------+-------+---------------+\n",
      "|  368226 |   6   | 8.22637069898 |\n",
      "+---------+-------+---------------+\n",
      "[1 rows x 3 columns]\n",
      "\n"
     ]
    },
    {
     "data": {
      "text/html": [
       "<pre>recommendations finished on 1000/8901 queries. users per second: 193.321</pre>"
      ],
      "text/plain": [
       "recommendations finished on 1000/8901 queries. users per second: 193.321"
      ]
     },
     "metadata": {},
     "output_type": "display_data"
    },
    {
     "data": {
      "text/html": [
       "<pre>recommendations finished on 2000/8901 queries. users per second: 193.442</pre>"
      ],
      "text/plain": [
       "recommendations finished on 2000/8901 queries. users per second: 193.442"
      ]
     },
     "metadata": {},
     "output_type": "display_data"
    },
    {
     "data": {
      "text/html": [
       "<pre>recommendations finished on 3000/8901 queries. users per second: 193.658</pre>"
      ],
      "text/plain": [
       "recommendations finished on 3000/8901 queries. users per second: 193.658"
      ]
     },
     "metadata": {},
     "output_type": "display_data"
    },
    {
     "data": {
      "text/html": [
       "<pre>recommendations finished on 4000/8901 queries. users per second: 194.537</pre>"
      ],
      "text/plain": [
       "recommendations finished on 4000/8901 queries. users per second: 194.537"
      ]
     },
     "metadata": {},
     "output_type": "display_data"
    },
    {
     "data": {
      "text/html": [
       "<pre>recommendations finished on 5000/8901 queries. users per second: 195.853</pre>"
      ],
      "text/plain": [
       "recommendations finished on 5000/8901 queries. users per second: 195.853"
      ]
     },
     "metadata": {},
     "output_type": "display_data"
    },
    {
     "data": {
      "text/html": [
       "<pre>recommendations finished on 6000/8901 queries. users per second: 189.87</pre>"
      ],
      "text/plain": [
       "recommendations finished on 6000/8901 queries. users per second: 189.87"
      ]
     },
     "metadata": {},
     "output_type": "display_data"
    },
    {
     "data": {
      "text/html": [
       "<pre>recommendations finished on 7000/8901 queries. users per second: 184.31</pre>"
      ],
      "text/plain": [
       "recommendations finished on 7000/8901 queries. users per second: 184.31"
      ]
     },
     "metadata": {},
     "output_type": "display_data"
    },
    {
     "data": {
      "text/html": [
       "<pre>recommendations finished on 8000/8901 queries. users per second: 178.441</pre>"
      ],
      "text/plain": [
       "recommendations finished on 8000/8901 queries. users per second: 178.441"
      ]
     },
     "metadata": {},
     "output_type": "display_data"
    },
    {
     "name": "stdout",
     "output_type": "stream",
     "text": [
      "\n",
      "Precision and recall summary statistics by cutoff\n",
      "+--------+-------------------+-------------------+\n",
      "| cutoff |   mean_precision  |    mean_recall    |\n",
      "+--------+-------------------+-------------------+\n",
      "|   1    |        0.0        |        0.0        |\n",
      "|   2    |        0.0        |        0.0        |\n",
      "|   3    |        0.0        |        0.0        |\n",
      "|   4    | 8.42601954837e-05 | 9.12842166634e-06 |\n",
      "|   5    | 6.74081563869e-05 | 9.12842166634e-06 |\n",
      "|   6    | 5.61734636558e-05 | 9.12842166634e-06 |\n",
      "|   7    | 4.81486831335e-05 | 9.12842166634e-06 |\n",
      "|   8    | 4.21300977418e-05 | 9.12842166634e-06 |\n",
      "|   9    | 3.74489757705e-05 | 9.12842166634e-06 |\n",
      "|   10   | 3.37040781935e-05 | 9.12842166634e-06 |\n",
      "+--------+-------------------+-------------------+\n",
      "[10 rows x 3 columns]\n",
      "\n",
      "('\\nOverall RMSE: ', 1.628409527114778)\n",
      "\n",
      "Per User RMSE (best)\n",
      "+---------+-------+-----------------+\n",
      "| user_id | count |       rmse      |\n",
      "+---------+-------+-----------------+\n",
      "|  27525  |   1   | 0.0010354481455 |\n",
      "+---------+-------+-----------------+\n",
      "[1 rows x 3 columns]\n",
      "\n",
      "\n",
      "Per User RMSE (worst)\n",
      "+---------+-------+---------------+\n",
      "| user_id | count |      rmse     |\n",
      "+---------+-------+---------------+\n",
      "|  27001  |   1   | 8.95225657925 |\n",
      "+---------+-------+---------------+\n",
      "[1 rows x 3 columns]\n",
      "\n",
      "\n",
      "Per Item RMSE (best)\n",
      "+---------+-------+-------------------+\n",
      "| item_id | count |        rmse       |\n",
      "+---------+-------+-------------------+\n",
      "| 2835548 |   1   | 0.000735725158137 |\n",
      "+---------+-------+-------------------+\n",
      "[1 rows x 3 columns]\n",
      "\n",
      "\n",
      "Per Item RMSE (worst)\n",
      "+---------+-------+---------------+\n",
      "| item_id | count |      rmse     |\n",
      "+---------+-------+---------------+\n",
      "| 3592542 |   1   | 8.52491696991 |\n",
      "+---------+-------+---------------+\n",
      "[1 rows x 3 columns]\n",
      "\n"
     ]
    },
    {
     "data": {
      "text/html": [
       "<pre>Recsys training: model = factorization_recommender</pre>"
      ],
      "text/plain": [
       "Recsys training: model = factorization_recommender"
      ]
     },
     "metadata": {},
     "output_type": "display_data"
    },
    {
     "data": {
      "text/html": [
       "<pre>Preparing data set.</pre>"
      ],
      "text/plain": [
       "Preparing data set."
      ]
     },
     "metadata": {},
     "output_type": "display_data"
    },
    {
     "data": {
      "text/html": [
       "<pre>    Data has 433201 observations with 35756 users and 23935 items.</pre>"
      ],
      "text/plain": [
       "    Data has 433201 observations with 35756 users and 23935 items."
      ]
     },
     "metadata": {},
     "output_type": "display_data"
    },
    {
     "data": {
      "text/html": [
       "<pre>    Data prepared in: 0.248158s</pre>"
      ],
      "text/plain": [
       "    Data prepared in: 0.248158s"
      ]
     },
     "metadata": {},
     "output_type": "display_data"
    },
    {
     "data": {
      "text/html": [
       "<pre>Training factorization_recommender for recommendations.</pre>"
      ],
      "text/plain": [
       "Training factorization_recommender for recommendations."
      ]
     },
     "metadata": {},
     "output_type": "display_data"
    },
    {
     "data": {
      "text/html": [
       "<pre>+--------------------------------+--------------------------------------------------+----------+</pre>"
      ],
      "text/plain": [
       "+--------------------------------+--------------------------------------------------+----------+"
      ]
     },
     "metadata": {},
     "output_type": "display_data"
    },
    {
     "data": {
      "text/html": [
       "<pre>| Parameter                      | Description                                      | Value    |</pre>"
      ],
      "text/plain": [
       "| Parameter                      | Description                                      | Value    |"
      ]
     },
     "metadata": {},
     "output_type": "display_data"
    },
    {
     "data": {
      "text/html": [
       "<pre>+--------------------------------+--------------------------------------------------+----------+</pre>"
      ],
      "text/plain": [
       "+--------------------------------+--------------------------------------------------+----------+"
      ]
     },
     "metadata": {},
     "output_type": "display_data"
    },
    {
     "data": {
      "text/html": [
       "<pre>| num_factors                    | Factor Dimension                                 | 8        |</pre>"
      ],
      "text/plain": [
       "| num_factors                    | Factor Dimension                                 | 8        |"
      ]
     },
     "metadata": {},
     "output_type": "display_data"
    },
    {
     "data": {
      "text/html": [
       "<pre>| regularization                 | L2 Regularization on Factors                     | 1e-008   |</pre>"
      ],
      "text/plain": [
       "| regularization                 | L2 Regularization on Factors                     | 1e-008   |"
      ]
     },
     "metadata": {},
     "output_type": "display_data"
    },
    {
     "data": {
      "text/html": [
       "<pre>| solver                         | Solver used for training                         | sgd      |</pre>"
      ],
      "text/plain": [
       "| solver                         | Solver used for training                         | sgd      |"
      ]
     },
     "metadata": {},
     "output_type": "display_data"
    },
    {
     "data": {
      "text/html": [
       "<pre>| linear_regularization          | L2 Regularization on Linear Coefficients         | 1e-010   |</pre>"
      ],
      "text/plain": [
       "| linear_regularization          | L2 Regularization on Linear Coefficients         | 1e-010   |"
      ]
     },
     "metadata": {},
     "output_type": "display_data"
    },
    {
     "data": {
      "text/html": [
       "<pre>| max_iterations                 | Maximum Number of Iterations                     | 50       |</pre>"
      ],
      "text/plain": [
       "| max_iterations                 | Maximum Number of Iterations                     | 50       |"
      ]
     },
     "metadata": {},
     "output_type": "display_data"
    },
    {
     "data": {
      "text/html": [
       "<pre>+--------------------------------+--------------------------------------------------+----------+</pre>"
      ],
      "text/plain": [
       "+--------------------------------+--------------------------------------------------+----------+"
      ]
     },
     "metadata": {},
     "output_type": "display_data"
    },
    {
     "data": {
      "text/html": [
       "<pre>  Optimizing model using SGD; tuning step size.</pre>"
      ],
      "text/plain": [
       "  Optimizing model using SGD; tuning step size."
      ]
     },
     "metadata": {},
     "output_type": "display_data"
    },
    {
     "data": {
      "text/html": [
       "<pre>  Using 54150 / 433201 points for tuning the step size.</pre>"
      ],
      "text/plain": [
       "  Using 54150 / 433201 points for tuning the step size."
      ]
     },
     "metadata": {},
     "output_type": "display_data"
    },
    {
     "data": {
      "text/html": [
       "<pre>+---------+-------------------+------------------------------------------+</pre>"
      ],
      "text/plain": [
       "+---------+-------------------+------------------------------------------+"
      ]
     },
     "metadata": {},
     "output_type": "display_data"
    },
    {
     "data": {
      "text/html": [
       "<pre>| Attempt | Initial Step Size | Estimated Objective Value                |</pre>"
      ],
      "text/plain": [
       "| Attempt | Initial Step Size | Estimated Objective Value                |"
      ]
     },
     "metadata": {},
     "output_type": "display_data"
    },
    {
     "data": {
      "text/html": [
       "<pre>+---------+-------------------+------------------------------------------+</pre>"
      ],
      "text/plain": [
       "+---------+-------------------+------------------------------------------+"
      ]
     },
     "metadata": {},
     "output_type": "display_data"
    },
    {
     "data": {
      "text/html": [
       "<pre>| 0       | 25                | Not Viable                               |</pre>"
      ],
      "text/plain": [
       "| 0       | 25                | Not Viable                               |"
      ]
     },
     "metadata": {},
     "output_type": "display_data"
    },
    {
     "data": {
      "text/html": [
       "<pre>| 1       | 6.25              | Not Viable                               |</pre>"
      ],
      "text/plain": [
       "| 1       | 6.25              | Not Viable                               |"
      ]
     },
     "metadata": {},
     "output_type": "display_data"
    },
    {
     "data": {
      "text/html": [
       "<pre>| 2       | 1.5625            | Not Viable                               |</pre>"
      ],
      "text/plain": [
       "| 2       | 1.5625            | Not Viable                               |"
      ]
     },
     "metadata": {},
     "output_type": "display_data"
    },
    {
     "data": {
      "text/html": [
       "<pre>| 3       | 0.390625          | Not Viable                               |</pre>"
      ],
      "text/plain": [
       "| 3       | 0.390625          | Not Viable                               |"
      ]
     },
     "metadata": {},
     "output_type": "display_data"
    },
    {
     "data": {
      "text/html": [
       "<pre>| 4       | 0.0976562         | 1.28789                                  |</pre>"
      ],
      "text/plain": [
       "| 4       | 0.0976562         | 1.28789                                  |"
      ]
     },
     "metadata": {},
     "output_type": "display_data"
    },
    {
     "data": {
      "text/html": [
       "<pre>| 5       | 0.0488281         | 1.57288                                  |</pre>"
      ],
      "text/plain": [
       "| 5       | 0.0488281         | 1.57288                                  |"
      ]
     },
     "metadata": {},
     "output_type": "display_data"
    },
    {
     "data": {
      "text/html": [
       "<pre>| 6       | 0.0244141         | 1.85699                                  |</pre>"
      ],
      "text/plain": [
       "| 6       | 0.0244141         | 1.85699                                  |"
      ]
     },
     "metadata": {},
     "output_type": "display_data"
    },
    {
     "data": {
      "text/html": [
       "<pre>| 7       | 0.012207          | 2.14675                                  |</pre>"
      ],
      "text/plain": [
       "| 7       | 0.012207          | 2.14675                                  |"
      ]
     },
     "metadata": {},
     "output_type": "display_data"
    },
    {
     "data": {
      "text/html": [
       "<pre>+---------+-------------------+------------------------------------------+</pre>"
      ],
      "text/plain": [
       "+---------+-------------------+------------------------------------------+"
      ]
     },
     "metadata": {},
     "output_type": "display_data"
    },
    {
     "data": {
      "text/html": [
       "<pre>| Final   | 0.0976562         | 1.28789                                  |</pre>"
      ],
      "text/plain": [
       "| Final   | 0.0976562         | 1.28789                                  |"
      ]
     },
     "metadata": {},
     "output_type": "display_data"
    },
    {
     "data": {
      "text/html": [
       "<pre>+---------+-------------------+------------------------------------------+</pre>"
      ],
      "text/plain": [
       "+---------+-------------------+------------------------------------------+"
      ]
     },
     "metadata": {},
     "output_type": "display_data"
    },
    {
     "data": {
      "text/html": [
       "<pre>Starting Optimization.</pre>"
      ],
      "text/plain": [
       "Starting Optimization."
      ]
     },
     "metadata": {},
     "output_type": "display_data"
    },
    {
     "data": {
      "text/html": [
       "<pre>+---------+--------------+-------------------+-----------------------+-------------+</pre>"
      ],
      "text/plain": [
       "+---------+--------------+-------------------+-----------------------+-------------+"
      ]
     },
     "metadata": {},
     "output_type": "display_data"
    },
    {
     "data": {
      "text/html": [
       "<pre>| Iter.   | Elapsed Time | Approx. Objective | Approx. Training RMSE | Step Size   |</pre>"
      ],
      "text/plain": [
       "| Iter.   | Elapsed Time | Approx. Objective | Approx. Training RMSE | Step Size   |"
      ]
     },
     "metadata": {},
     "output_type": "display_data"
    },
    {
     "data": {
      "text/html": [
       "<pre>+---------+--------------+-------------------+-----------------------+-------------+</pre>"
      ],
      "text/plain": [
       "+---------+--------------+-------------------+-----------------------+-------------+"
      ]
     },
     "metadata": {},
     "output_type": "display_data"
    },
    {
     "data": {
      "text/html": [
       "<pre>| Initial | 0us          | 3.46707           | 1.86201               |             |</pre>"
      ],
      "text/plain": [
       "| Initial | 0us          | 3.46707           | 1.86201               |             |"
      ]
     },
     "metadata": {},
     "output_type": "display_data"
    },
    {
     "data": {
      "text/html": [
       "<pre>+---------+--------------+-------------------+-----------------------+-------------+</pre>"
      ],
      "text/plain": [
       "+---------+--------------+-------------------+-----------------------+-------------+"
      ]
     },
     "metadata": {},
     "output_type": "display_data"
    },
    {
     "data": {
      "text/html": [
       "<pre>| 1       | 49.632ms     | 3.08259           | 1.75551               | 0.0976562   |</pre>"
      ],
      "text/plain": [
       "| 1       | 49.632ms     | 3.08259           | 1.75551               | 0.0976562   |"
      ]
     },
     "metadata": {},
     "output_type": "display_data"
    },
    {
     "data": {
      "text/html": [
       "<pre>| 2       | 100.768ms    | 2.32257           | 1.5238                | 0.0580668   |</pre>"
      ],
      "text/plain": [
       "| 2       | 100.768ms    | 2.32257           | 1.5238                | 0.0580668   |"
      ]
     },
     "metadata": {},
     "output_type": "display_data"
    },
    {
     "data": {
      "text/html": [
       "<pre>| 3       | 153.408ms    | 1.80459           | 1.34313               | 0.042841    |</pre>"
      ],
      "text/plain": [
       "| 3       | 153.408ms    | 1.80459           | 1.34313               | 0.042841    |"
      ]
     },
     "metadata": {},
     "output_type": "display_data"
    },
    {
     "data": {
      "text/html": [
       "<pre>| 4       | 204.544ms    | 1.53282           | 1.23783               | 0.0345267   |</pre>"
      ],
      "text/plain": [
       "| 4       | 204.544ms    | 1.53282           | 1.23783               | 0.0345267   |"
      ]
     },
     "metadata": {},
     "output_type": "display_data"
    },
    {
     "data": {
      "text/html": [
       "<pre>| 5       | 266.208ms    | 1.35779           | 1.16497               | 0.029206    |</pre>"
      ],
      "text/plain": [
       "| 5       | 266.208ms    | 1.35779           | 1.16497               | 0.029206    |"
      ]
     },
     "metadata": {},
     "output_type": "display_data"
    },
    {
     "data": {
      "text/html": [
       "<pre>| 6       | 324.864ms    | 1.25137           | 1.11835               | 0.0254734   |</pre>"
      ],
      "text/plain": [
       "| 6       | 324.864ms    | 1.25137           | 1.11835               | 0.0254734   |"
      ]
     },
     "metadata": {},
     "output_type": "display_data"
    },
    {
     "data": {
      "text/html": [
       "<pre>| 11      | 579.04ms     | 1.01275           | 1.00596               | 0.016168    |</pre>"
      ],
      "text/plain": [
       "| 11      | 579.04ms     | 1.01275           | 1.00596               | 0.016168    |"
      ]
     },
     "metadata": {},
     "output_type": "display_data"
    },
    {
     "data": {
      "text/html": [
       "<pre>| 25      | 1.28s        | 0.848774          | 0.920765              | 0.00873464  |</pre>"
      ],
      "text/plain": [
       "| 25      | 1.28s        | 0.848774          | 0.920765              | 0.00873464  |"
      ]
     },
     "metadata": {},
     "output_type": "display_data"
    },
    {
     "data": {
      "text/html": [
       "<pre>| 50      | 2.48s        | 0.77421           | 0.879262              | 0.00519365  |</pre>"
      ],
      "text/plain": [
       "| 50      | 2.48s        | 0.77421           | 0.879262              | 0.00519365  |"
      ]
     },
     "metadata": {},
     "output_type": "display_data"
    },
    {
     "data": {
      "text/html": [
       "<pre>+---------+--------------+-------------------+-----------------------+-------------+</pre>"
      ],
      "text/plain": [
       "+---------+--------------+-------------------+-----------------------+-------------+"
      ]
     },
     "metadata": {},
     "output_type": "display_data"
    },
    {
     "data": {
      "text/html": [
       "<pre>Optimization Complete: Maximum number of passes through the data reached.</pre>"
      ],
      "text/plain": [
       "Optimization Complete: Maximum number of passes through the data reached."
      ]
     },
     "metadata": {},
     "output_type": "display_data"
    },
    {
     "data": {
      "text/html": [
       "<pre>Computing final objective value and training RMSE.</pre>"
      ],
      "text/plain": [
       "Computing final objective value and training RMSE."
      ]
     },
     "metadata": {},
     "output_type": "display_data"
    },
    {
     "data": {
      "text/html": [
       "<pre>       Final objective value: 0.725218</pre>"
      ],
      "text/plain": [
       "       Final objective value: 0.725218"
      ]
     },
     "metadata": {},
     "output_type": "display_data"
    },
    {
     "data": {
      "text/html": [
       "<pre>       Final training RMSE: 0.850947</pre>"
      ],
      "text/plain": [
       "       Final training RMSE: 0.850947"
      ]
     },
     "metadata": {},
     "output_type": "display_data"
    },
    {
     "data": {
      "text/html": [
       "<pre>Recsys training: model = ranking_factorization_recommender</pre>"
      ],
      "text/plain": [
       "Recsys training: model = ranking_factorization_recommender"
      ]
     },
     "metadata": {},
     "output_type": "display_data"
    },
    {
     "data": {
      "text/html": [
       "<pre>Preparing data set.</pre>"
      ],
      "text/plain": [
       "Preparing data set."
      ]
     },
     "metadata": {},
     "output_type": "display_data"
    },
    {
     "data": {
      "text/html": [
       "<pre>    Data has 433201 observations with 35756 users and 23935 items.</pre>"
      ],
      "text/plain": [
       "    Data has 433201 observations with 35756 users and 23935 items."
      ]
     },
     "metadata": {},
     "output_type": "display_data"
    },
    {
     "data": {
      "text/html": [
       "<pre>    Data prepared in: 0.235152s</pre>"
      ],
      "text/plain": [
       "    Data prepared in: 0.235152s"
      ]
     },
     "metadata": {},
     "output_type": "display_data"
    },
    {
     "data": {
      "text/html": [
       "<pre>Training ranking_factorization_recommender for recommendations.</pre>"
      ],
      "text/plain": [
       "Training ranking_factorization_recommender for recommendations."
      ]
     },
     "metadata": {},
     "output_type": "display_data"
    },
    {
     "data": {
      "text/html": [
       "<pre>+--------------------------------+--------------------------------------------------+----------+</pre>"
      ],
      "text/plain": [
       "+--------------------------------+--------------------------------------------------+----------+"
      ]
     },
     "metadata": {},
     "output_type": "display_data"
    },
    {
     "data": {
      "text/html": [
       "<pre>| Parameter                      | Description                                      | Value    |</pre>"
      ],
      "text/plain": [
       "| Parameter                      | Description                                      | Value    |"
      ]
     },
     "metadata": {},
     "output_type": "display_data"
    },
    {
     "data": {
      "text/html": [
       "<pre>+--------------------------------+--------------------------------------------------+----------+</pre>"
      ],
      "text/plain": [
       "+--------------------------------+--------------------------------------------------+----------+"
      ]
     },
     "metadata": {},
     "output_type": "display_data"
    },
    {
     "data": {
      "text/html": [
       "<pre>| num_factors                    | Factor Dimension                                 | 32       |</pre>"
      ],
      "text/plain": [
       "| num_factors                    | Factor Dimension                                 | 32       |"
      ]
     },
     "metadata": {},
     "output_type": "display_data"
    },
    {
     "data": {
      "text/html": [
       "<pre>| regularization                 | L2 Regularization on Factors                     | 1e-009   |</pre>"
      ],
      "text/plain": [
       "| regularization                 | L2 Regularization on Factors                     | 1e-009   |"
      ]
     },
     "metadata": {},
     "output_type": "display_data"
    },
    {
     "data": {
      "text/html": [
       "<pre>| solver                         | Solver used for training                         | sgd      |</pre>"
      ],
      "text/plain": [
       "| solver                         | Solver used for training                         | sgd      |"
      ]
     },
     "metadata": {},
     "output_type": "display_data"
    },
    {
     "data": {
      "text/html": [
       "<pre>| linear_regularization          | L2 Regularization on Linear Coefficients         | 1e-009   |</pre>"
      ],
      "text/plain": [
       "| linear_regularization          | L2 Regularization on Linear Coefficients         | 1e-009   |"
      ]
     },
     "metadata": {},
     "output_type": "display_data"
    },
    {
     "data": {
      "text/html": [
       "<pre>| ranking_regularization         | Rank-based Regularization Weight                 | 0.25     |</pre>"
      ],
      "text/plain": [
       "| ranking_regularization         | Rank-based Regularization Weight                 | 0.25     |"
      ]
     },
     "metadata": {},
     "output_type": "display_data"
    },
    {
     "data": {
      "text/html": [
       "<pre>| max_iterations                 | Maximum Number of Iterations                     | 25       |</pre>"
      ],
      "text/plain": [
       "| max_iterations                 | Maximum Number of Iterations                     | 25       |"
      ]
     },
     "metadata": {},
     "output_type": "display_data"
    },
    {
     "data": {
      "text/html": [
       "<pre>+--------------------------------+--------------------------------------------------+----------+</pre>"
      ],
      "text/plain": [
       "+--------------------------------+--------------------------------------------------+----------+"
      ]
     },
     "metadata": {},
     "output_type": "display_data"
    },
    {
     "data": {
      "text/html": [
       "<pre>  Optimizing model using SGD; tuning step size.</pre>"
      ],
      "text/plain": [
       "  Optimizing model using SGD; tuning step size."
      ]
     },
     "metadata": {},
     "output_type": "display_data"
    },
    {
     "data": {
      "text/html": [
       "<pre>  Using 54150 / 433201 points for tuning the step size.</pre>"
      ],
      "text/plain": [
       "  Using 54150 / 433201 points for tuning the step size."
      ]
     },
     "metadata": {},
     "output_type": "display_data"
    },
    {
     "data": {
      "text/html": [
       "<pre>+---------+-------------------+------------------------------------------+</pre>"
      ],
      "text/plain": [
       "+---------+-------------------+------------------------------------------+"
      ]
     },
     "metadata": {},
     "output_type": "display_data"
    },
    {
     "data": {
      "text/html": [
       "<pre>| Attempt | Initial Step Size | Estimated Objective Value                |</pre>"
      ],
      "text/plain": [
       "| Attempt | Initial Step Size | Estimated Objective Value                |"
      ]
     },
     "metadata": {},
     "output_type": "display_data"
    },
    {
     "data": {
      "text/html": [
       "<pre>+---------+-------------------+------------------------------------------+</pre>"
      ],
      "text/plain": [
       "+---------+-------------------+------------------------------------------+"
      ]
     },
     "metadata": {},
     "output_type": "display_data"
    },
    {
     "data": {
      "text/html": [
       "<pre>| 0       | 25                | Not Viable                               |</pre>"
      ],
      "text/plain": [
       "| 0       | 25                | Not Viable                               |"
      ]
     },
     "metadata": {},
     "output_type": "display_data"
    },
    {
     "data": {
      "text/html": [
       "<pre>| 1       | 6.25              | Not Viable                               |</pre>"
      ],
      "text/plain": [
       "| 1       | 6.25              | Not Viable                               |"
      ]
     },
     "metadata": {},
     "output_type": "display_data"
    },
    {
     "data": {
      "text/html": [
       "<pre>| 2       | 1.5625            | Not Viable                               |</pre>"
      ],
      "text/plain": [
       "| 2       | 1.5625            | Not Viable                               |"
      ]
     },
     "metadata": {},
     "output_type": "display_data"
    },
    {
     "data": {
      "text/html": [
       "<pre>| 3       | 0.390625          | Not Viable                               |</pre>"
      ],
      "text/plain": [
       "| 3       | 0.390625          | Not Viable                               |"
      ]
     },
     "metadata": {},
     "output_type": "display_data"
    },
    {
     "data": {
      "text/html": [
       "<pre>| 4       | 0.0976562         | 3.64696                                  |</pre>"
      ],
      "text/plain": [
       "| 4       | 0.0976562         | 3.64696                                  |"
      ]
     },
     "metadata": {},
     "output_type": "display_data"
    },
    {
     "data": {
      "text/html": [
       "<pre>| 5       | 0.0488281         | 4.03267                                  |</pre>"
      ],
      "text/plain": [
       "| 5       | 0.0488281         | 4.03267                                  |"
      ]
     },
     "metadata": {},
     "output_type": "display_data"
    },
    {
     "data": {
      "text/html": [
       "<pre>| 6       | 0.0244141         | 4.45803                                  |</pre>"
      ],
      "text/plain": [
       "| 6       | 0.0244141         | 4.45803                                  |"
      ]
     },
     "metadata": {},
     "output_type": "display_data"
    },
    {
     "data": {
      "text/html": [
       "<pre>| 7       | 0.012207          | 4.88887                                  |</pre>"
      ],
      "text/plain": [
       "| 7       | 0.012207          | 4.88887                                  |"
      ]
     },
     "metadata": {},
     "output_type": "display_data"
    },
    {
     "data": {
      "text/html": [
       "<pre>+---------+-------------------+------------------------------------------+</pre>"
      ],
      "text/plain": [
       "+---------+-------------------+------------------------------------------+"
      ]
     },
     "metadata": {},
     "output_type": "display_data"
    },
    {
     "data": {
      "text/html": [
       "<pre>| Final   | 0.0976562         | 3.64696                                  |</pre>"
      ],
      "text/plain": [
       "| Final   | 0.0976562         | 3.64696                                  |"
      ]
     },
     "metadata": {},
     "output_type": "display_data"
    },
    {
     "data": {
      "text/html": [
       "<pre>+---------+-------------------+------------------------------------------+</pre>"
      ],
      "text/plain": [
       "+---------+-------------------+------------------------------------------+"
      ]
     },
     "metadata": {},
     "output_type": "display_data"
    },
    {
     "data": {
      "text/html": [
       "<pre>Starting Optimization.</pre>"
      ],
      "text/plain": [
       "Starting Optimization."
      ]
     },
     "metadata": {},
     "output_type": "display_data"
    },
    {
     "data": {
      "text/html": [
       "<pre>+---------+--------------+-------------------+-----------------------+-------------+</pre>"
      ],
      "text/plain": [
       "+---------+--------------+-------------------+-----------------------+-------------+"
      ]
     },
     "metadata": {},
     "output_type": "display_data"
    },
    {
     "data": {
      "text/html": [
       "<pre>| Iter.   | Elapsed Time | Approx. Objective | Approx. Training RMSE | Step Size   |</pre>"
      ],
      "text/plain": [
       "| Iter.   | Elapsed Time | Approx. Objective | Approx. Training RMSE | Step Size   |"
      ]
     },
     "metadata": {},
     "output_type": "display_data"
    },
    {
     "data": {
      "text/html": [
       "<pre>+---------+--------------+-------------------+-----------------------+-------------+</pre>"
      ],
      "text/plain": [
       "+---------+--------------+-------------------+-----------------------+-------------+"
      ]
     },
     "metadata": {},
     "output_type": "display_data"
    },
    {
     "data": {
      "text/html": [
       "<pre>| Initial | 0us          | 6.79746           | 1.86201               |             |</pre>"
      ],
      "text/plain": [
       "| Initial | 0us          | 6.79746           | 1.86201               |             |"
      ]
     },
     "metadata": {},
     "output_type": "display_data"
    },
    {
     "data": {
      "text/html": [
       "<pre>+---------+--------------+-------------------+-----------------------+-------------+</pre>"
      ],
      "text/plain": [
       "+---------+--------------+-------------------+-----------------------+-------------+"
      ]
     },
     "metadata": {},
     "output_type": "display_data"
    },
    {
     "data": {
      "text/html": [
       "<pre>| 1       | 266.709ms    | DIVERGED          | DIVERGED              | 0.0976562   |</pre>"
      ],
      "text/plain": [
       "| 1       | 266.709ms    | DIVERGED          | DIVERGED              | 0.0976562   |"
      ]
     },
     "metadata": {},
     "output_type": "display_data"
    },
    {
     "data": {
      "text/html": [
       "<pre>| RESET   | 408.085ms    | 6.79746           | 1.86201               |             |</pre>"
      ],
      "text/plain": [
       "| RESET   | 408.085ms    | 6.79746           | 1.86201               |             |"
      ]
     },
     "metadata": {},
     "output_type": "display_data"
    },
    {
     "data": {
      "text/html": [
       "<pre>| 1       | 587.562ms    | 4.83079           | 1.66518               | 0.0488281   |</pre>"
      ],
      "text/plain": [
       "| 1       | 587.562ms    | 4.83079           | 1.66518               | 0.0488281   |"
      ]
     },
     "metadata": {},
     "output_type": "display_data"
    },
    {
     "data": {
      "text/html": [
       "<pre>| 2       | 763.029ms    | 4.08196           | 1.57826               | 0.0290334   |</pre>"
      ],
      "text/plain": [
       "| 2       | 763.029ms    | 4.08196           | 1.57826               | 0.0290334   |"
      ]
     },
     "metadata": {},
     "output_type": "display_data"
    },
    {
     "data": {
      "text/html": [
       "<pre>| 3       | 936.49ms     | 3.75102           | 1.50683               | 0.0214205   |</pre>"
      ],
      "text/plain": [
       "| 3       | 936.49ms     | 3.75102           | 1.50683               | 0.0214205   |"
      ]
     },
     "metadata": {},
     "output_type": "display_data"
    },
    {
     "data": {
      "text/html": [
       "<pre>| 4       | 1.10s        | 3.47923           | 1.44125               | 0.0172633   |</pre>"
      ],
      "text/plain": [
       "| 4       | 1.10s        | 3.47923           | 1.44125               | 0.0172633   |"
      ]
     },
     "metadata": {},
     "output_type": "display_data"
    },
    {
     "data": {
      "text/html": [
       "<pre>| 5       | 1.28s        | 3.20601           | 1.36553               | 0.014603    |</pre>"
      ],
      "text/plain": [
       "| 5       | 1.28s        | 3.20601           | 1.36553               | 0.014603    |"
      ]
     },
     "metadata": {},
     "output_type": "display_data"
    },
    {
     "data": {
      "text/html": [
       "<pre>| 6       | 1.46s        | 2.9597            | 1.29047               | 0.0127367   |</pre>"
      ],
      "text/plain": [
       "| 6       | 1.46s        | 2.9597            | 1.29047               | 0.0127367   |"
      ]
     },
     "metadata": {},
     "output_type": "display_data"
    },
    {
     "data": {
      "text/html": [
       "<pre>| 9       | 1.97s        | 2.3839            | 1.09848               | 0.00939698  |</pre>"
      ],
      "text/plain": [
       "| 9       | 1.97s        | 2.3839            | 1.09848               | 0.00939698  |"
      ]
     },
     "metadata": {},
     "output_type": "display_data"
    },
    {
     "data": {
      "text/html": [
       "<pre>| 11      | 2.30s        | 2.13589           | 1.01049               | 0.00808399  |</pre>"
      ],
      "text/plain": [
       "| 11      | 2.30s        | 2.13589           | 1.01049               | 0.00808399  |"
      ]
     },
     "metadata": {},
     "output_type": "display_data"
    },
    {
     "data": {
      "text/html": [
       "<pre>| 19      | 3.64s        | 1.63756           | 0.829914              | 0.00536543  |</pre>"
      ],
      "text/plain": [
       "| 19      | 3.64s        | 1.63756           | 0.829914              | 0.00536543  |"
      ]
     },
     "metadata": {},
     "output_type": "display_data"
    },
    {
     "data": {
      "text/html": [
       "<pre>+---------+--------------+-------------------+-----------------------+-------------+</pre>"
      ],
      "text/plain": [
       "+---------+--------------+-------------------+-----------------------+-------------+"
      ]
     },
     "metadata": {},
     "output_type": "display_data"
    },
    {
     "data": {
      "text/html": [
       "<pre>Optimization Complete: Maximum number of passes through the data reached.</pre>"
      ],
      "text/plain": [
       "Optimization Complete: Maximum number of passes through the data reached."
      ]
     },
     "metadata": {},
     "output_type": "display_data"
    },
    {
     "data": {
      "text/html": [
       "<pre>Computing final objective value and training RMSE.</pre>"
      ],
      "text/plain": [
       "Computing final objective value and training RMSE."
      ]
     },
     "metadata": {},
     "output_type": "display_data"
    },
    {
     "data": {
      "text/html": [
       "<pre>       Final objective value: 1.38533</pre>"
      ],
      "text/plain": [
       "       Final objective value: 1.38533"
      ]
     },
     "metadata": {},
     "output_type": "display_data"
    },
    {
     "data": {
      "text/html": [
       "<pre>       Final training RMSE: 0.718036</pre>"
      ],
      "text/plain": [
       "       Final training RMSE: 0.718036"
      ]
     },
     "metadata": {},
     "output_type": "display_data"
    },
    {
     "data": {
      "text/html": [
       "<pre>Recsys training: model = factorization_recommender</pre>"
      ],
      "text/plain": [
       "Recsys training: model = factorization_recommender"
      ]
     },
     "metadata": {},
     "output_type": "display_data"
    },
    {
     "data": {
      "text/html": [
       "<pre>Preparing data set.</pre>"
      ],
      "text/plain": [
       "Preparing data set."
      ]
     },
     "metadata": {},
     "output_type": "display_data"
    },
    {
     "data": {
      "text/html": [
       "<pre>    Data has 433201 observations with 35756 users and 26096 items.</pre>"
      ],
      "text/plain": [
       "    Data has 433201 observations with 35756 users and 26096 items."
      ]
     },
     "metadata": {},
     "output_type": "display_data"
    },
    {
     "data": {
      "text/html": [
       "<pre>    Data prepared in: 0.267711s</pre>"
      ],
      "text/plain": [
       "    Data prepared in: 0.267711s"
      ]
     },
     "metadata": {},
     "output_type": "display_data"
    },
    {
     "data": {
      "text/html": [
       "<pre>Training factorization_recommender for recommendations.</pre>"
      ],
      "text/plain": [
       "Training factorization_recommender for recommendations."
      ]
     },
     "metadata": {},
     "output_type": "display_data"
    },
    {
     "data": {
      "text/html": [
       "<pre>+--------------------------------+--------------------------------------------------+----------+</pre>"
      ],
      "text/plain": [
       "+--------------------------------+--------------------------------------------------+----------+"
      ]
     },
     "metadata": {},
     "output_type": "display_data"
    },
    {
     "data": {
      "text/html": [
       "<pre>| Parameter                      | Description                                      | Value    |</pre>"
      ],
      "text/plain": [
       "| Parameter                      | Description                                      | Value    |"
      ]
     },
     "metadata": {},
     "output_type": "display_data"
    },
    {
     "data": {
      "text/html": [
       "<pre>+--------------------------------+--------------------------------------------------+----------+</pre>"
      ],
      "text/plain": [
       "+--------------------------------+--------------------------------------------------+----------+"
      ]
     },
     "metadata": {},
     "output_type": "display_data"
    },
    {
     "data": {
      "text/html": [
       "<pre>| num_factors                    | Factor Dimension                                 | 8        |</pre>"
      ],
      "text/plain": [
       "| num_factors                    | Factor Dimension                                 | 8        |"
      ]
     },
     "metadata": {},
     "output_type": "display_data"
    },
    {
     "data": {
      "text/html": [
       "<pre>| regularization                 | L2 Regularization on Factors                     | 1e-008   |</pre>"
      ],
      "text/plain": [
       "| regularization                 | L2 Regularization on Factors                     | 1e-008   |"
      ]
     },
     "metadata": {},
     "output_type": "display_data"
    },
    {
     "data": {
      "text/html": [
       "<pre>| solver                         | Solver used for training                         | adagrad  |</pre>"
      ],
      "text/plain": [
       "| solver                         | Solver used for training                         | adagrad  |"
      ]
     },
     "metadata": {},
     "output_type": "display_data"
    },
    {
     "data": {
      "text/html": [
       "<pre>| linear_regularization          | L2 Regularization on Linear Coefficients         | 1e-010   |</pre>"
      ],
      "text/plain": [
       "| linear_regularization          | L2 Regularization on Linear Coefficients         | 1e-010   |"
      ]
     },
     "metadata": {},
     "output_type": "display_data"
    },
    {
     "data": {
      "text/html": [
       "<pre>| side_data_factorization        | Assign Factors for Side Data                     | True     |</pre>"
      ],
      "text/plain": [
       "| side_data_factorization        | Assign Factors for Side Data                     | True     |"
      ]
     },
     "metadata": {},
     "output_type": "display_data"
    },
    {
     "data": {
      "text/html": [
       "<pre>| max_iterations                 | Maximum Number of Iterations                     | 50       |</pre>"
      ],
      "text/plain": [
       "| max_iterations                 | Maximum Number of Iterations                     | 50       |"
      ]
     },
     "metadata": {},
     "output_type": "display_data"
    },
    {
     "data": {
      "text/html": [
       "<pre>+--------------------------------+--------------------------------------------------+----------+</pre>"
      ],
      "text/plain": [
       "+--------------------------------+--------------------------------------------------+----------+"
      ]
     },
     "metadata": {},
     "output_type": "display_data"
    },
    {
     "data": {
      "text/html": [
       "<pre>  Optimizing model using SGD; tuning step size.</pre>"
      ],
      "text/plain": [
       "  Optimizing model using SGD; tuning step size."
      ]
     },
     "metadata": {},
     "output_type": "display_data"
    },
    {
     "data": {
      "text/html": [
       "<pre>  Using 54150 / 433201 points for tuning the step size.</pre>"
      ],
      "text/plain": [
       "  Using 54150 / 433201 points for tuning the step size."
      ]
     },
     "metadata": {},
     "output_type": "display_data"
    },
    {
     "data": {
      "text/html": [
       "<pre>+---------+-------------------+------------------------------------------+</pre>"
      ],
      "text/plain": [
       "+---------+-------------------+------------------------------------------+"
      ]
     },
     "metadata": {},
     "output_type": "display_data"
    },
    {
     "data": {
      "text/html": [
       "<pre>| Attempt | Initial Step Size | Estimated Objective Value                |</pre>"
      ],
      "text/plain": [
       "| Attempt | Initial Step Size | Estimated Objective Value                |"
      ]
     },
     "metadata": {},
     "output_type": "display_data"
    },
    {
     "data": {
      "text/html": [
       "<pre>+---------+-------------------+------------------------------------------+</pre>"
      ],
      "text/plain": [
       "+---------+-------------------+------------------------------------------+"
      ]
     },
     "metadata": {},
     "output_type": "display_data"
    },
    {
     "data": {
      "text/html": [
       "<pre>| 0       | 1.66667           | Not Viable                               |</pre>"
      ],
      "text/plain": [
       "| 0       | 1.66667           | Not Viable                               |"
      ]
     },
     "metadata": {},
     "output_type": "display_data"
    },
    {
     "data": {
      "text/html": [
       "<pre>| 1       | 0.416667          | Not Viable                               |</pre>"
      ],
      "text/plain": [
       "| 1       | 0.416667          | Not Viable                               |"
      ]
     },
     "metadata": {},
     "output_type": "display_data"
    },
    {
     "data": {
      "text/html": [
       "<pre>| 2       | 0.104167          | Not Viable                               |</pre>"
      ],
      "text/plain": [
       "| 2       | 0.104167          | Not Viable                               |"
      ]
     },
     "metadata": {},
     "output_type": "display_data"
    },
    {
     "data": {
      "text/html": [
       "<pre>| 3       | 0.0260417         | Not Viable                               |</pre>"
      ],
      "text/plain": [
       "| 3       | 0.0260417         | Not Viable                               |"
      ]
     },
     "metadata": {},
     "output_type": "display_data"
    },
    {
     "data": {
      "text/html": [
       "<pre>| 4       | 0.00651042        | Not Viable                               |</pre>"
      ],
      "text/plain": [
       "| 4       | 0.00651042        | Not Viable                               |"
      ]
     },
     "metadata": {},
     "output_type": "display_data"
    },
    {
     "data": {
      "text/html": [
       "<pre>| 5       | 0.0016276         | 3.24385                                  |</pre>"
      ],
      "text/plain": [
       "| 5       | 0.0016276         | 3.24385                                  |"
      ]
     },
     "metadata": {},
     "output_type": "display_data"
    },
    {
     "data": {
      "text/html": [
       "<pre>| 6       | 0.000813802       | 3.32288                                  |</pre>"
      ],
      "text/plain": [
       "| 6       | 0.000813802       | 3.32288                                  |"
      ]
     },
     "metadata": {},
     "output_type": "display_data"
    },
    {
     "data": {
      "text/html": [
       "<pre>| 7       | 0.000406901       | 3.36362                                  |</pre>"
      ],
      "text/plain": [
       "| 7       | 0.000406901       | 3.36362                                  |"
      ]
     },
     "metadata": {},
     "output_type": "display_data"
    },
    {
     "data": {
      "text/html": [
       "<pre>| 8       | 0.000203451       | 3.38555                                  |</pre>"
      ],
      "text/plain": [
       "| 8       | 0.000203451       | 3.38555                                  |"
      ]
     },
     "metadata": {},
     "output_type": "display_data"
    },
    {
     "data": {
      "text/html": [
       "<pre>+---------+-------------------+------------------------------------------+</pre>"
      ],
      "text/plain": [
       "+---------+-------------------+------------------------------------------+"
      ]
     },
     "metadata": {},
     "output_type": "display_data"
    },
    {
     "data": {
      "text/html": [
       "<pre>| Final   | 0.0016276         | 3.24385                                  |</pre>"
      ],
      "text/plain": [
       "| Final   | 0.0016276         | 3.24385                                  |"
      ]
     },
     "metadata": {},
     "output_type": "display_data"
    },
    {
     "data": {
      "text/html": [
       "<pre>+---------+-------------------+------------------------------------------+</pre>"
      ],
      "text/plain": [
       "+---------+-------------------+------------------------------------------+"
      ]
     },
     "metadata": {},
     "output_type": "display_data"
    },
    {
     "data": {
      "text/html": [
       "<pre>Starting Optimization.</pre>"
      ],
      "text/plain": [
       "Starting Optimization."
      ]
     },
     "metadata": {},
     "output_type": "display_data"
    },
    {
     "data": {
      "text/html": [
       "<pre>+---------+--------------+-------------------+-----------------------+-------------+</pre>"
      ],
      "text/plain": [
       "+---------+--------------+-------------------+-----------------------+-------------+"
      ]
     },
     "metadata": {},
     "output_type": "display_data"
    },
    {
     "data": {
      "text/html": [
       "<pre>| Iter.   | Elapsed Time | Approx. Objective | Approx. Training RMSE | Step Size   |</pre>"
      ],
      "text/plain": [
       "| Iter.   | Elapsed Time | Approx. Objective | Approx. Training RMSE | Step Size   |"
      ]
     },
     "metadata": {},
     "output_type": "display_data"
    },
    {
     "data": {
      "text/html": [
       "<pre>+---------+--------------+-------------------+-----------------------+-------------+</pre>"
      ],
      "text/plain": [
       "+---------+--------------+-------------------+-----------------------+-------------+"
      ]
     },
     "metadata": {},
     "output_type": "display_data"
    },
    {
     "data": {
      "text/html": [
       "<pre>| Initial | 501us        | 3.46709           | 1.86201               |             |</pre>"
      ],
      "text/plain": [
       "| Initial | 501us        | 3.46709           | 1.86201               |             |"
      ]
     },
     "metadata": {},
     "output_type": "display_data"
    },
    {
     "data": {
      "text/html": [
       "<pre>+---------+--------------+-------------------+-----------------------+-------------+</pre>"
      ],
      "text/plain": [
       "+---------+--------------+-------------------+-----------------------+-------------+"
      ]
     },
     "metadata": {},
     "output_type": "display_data"
    },
    {
     "data": {
      "text/html": [
       "<pre>| 1       | 612.628ms    | 3.34933           | 1.83012               | 0.0016276   |</pre>"
      ],
      "text/plain": [
       "| 1       | 612.628ms    | 3.34933           | 1.83012               | 0.0016276   |"
      ]
     },
     "metadata": {},
     "output_type": "display_data"
    },
    {
     "data": {
      "text/html": [
       "<pre>| 2       | 1.21s        | 3.27208           | 1.80889               | 0.0016276   |</pre>"
      ],
      "text/plain": [
       "| 2       | 1.21s        | 3.27208           | 1.80889               | 0.0016276   |"
      ]
     },
     "metadata": {},
     "output_type": "display_data"
    },
    {
     "data": {
      "text/html": [
       "<pre>| 3       | 1.84s        | 3.22815           | 1.79671               | 0.0016276   |</pre>"
      ],
      "text/plain": [
       "| 3       | 1.84s        | 3.22815           | 1.79671               | 0.0016276   |"
      ]
     },
     "metadata": {},
     "output_type": "display_data"
    },
    {
     "data": {
      "text/html": [
       "<pre>| 4       | 2.45s        | 3.19536           | 1.78756               | 0.0016276   |</pre>"
      ],
      "text/plain": [
       "| 4       | 2.45s        | 3.19536           | 1.78756               | 0.0016276   |"
      ]
     },
     "metadata": {},
     "output_type": "display_data"
    },
    {
     "data": {
      "text/html": [
       "<pre>| 5       | 3.07s        | 3.17434           | 1.78167               | 0.0016276   |</pre>"
      ],
      "text/plain": [
       "| 5       | 3.07s        | 3.17434           | 1.78167               | 0.0016276   |"
      ]
     },
     "metadata": {},
     "output_type": "display_data"
    },
    {
     "data": {
      "text/html": [
       "<pre>| 6       | 3.81s        | 3.17597           | 1.78213               | 0.0016276   |</pre>"
      ],
      "text/plain": [
       "| 6       | 3.81s        | 3.17597           | 1.78213               | 0.0016276   |"
      ]
     },
     "metadata": {},
     "output_type": "display_data"
    },
    {
     "data": {
      "text/html": [
       "<pre>| 9       | 6.11s        | DIVERGED          | DIVERGED              | 0.0016276   |</pre>"
      ],
      "text/plain": [
       "| 9       | 6.11s        | DIVERGED          | DIVERGED              | 0.0016276   |"
      ]
     },
     "metadata": {},
     "output_type": "display_data"
    },
    {
     "data": {
      "text/html": [
       "<pre>| RESET   | 6.27s        | 3.46723           | 1.86205               |             |</pre>"
      ],
      "text/plain": [
       "| RESET   | 6.27s        | 3.46723           | 1.86205               |             |"
      ]
     },
     "metadata": {},
     "output_type": "display_data"
    },
    {
     "data": {
      "text/html": [
       "<pre>| 1       | 7.06s        | 3.40093           | 1.84416               | 0.000813802 |</pre>"
      ],
      "text/plain": [
       "| 1       | 7.06s        | 3.40093           | 1.84416               | 0.000813802 |"
      ]
     },
     "metadata": {},
     "output_type": "display_data"
    },
    {
     "data": {
      "text/html": [
       "<pre>| 3       | 8.45s        | 3.32847           | 1.82441               | 0.000813802 |</pre>"
      ],
      "text/plain": [
       "| 3       | 8.45s        | 3.32847           | 1.82441               | 0.000813802 |"
      ]
     },
     "metadata": {},
     "output_type": "display_data"
    },
    {
     "data": {
      "text/html": [
       "<pre>| 6       | 10.42s       | 3.27446           | 1.80955               | 0.000813802 |</pre>"
      ],
      "text/plain": [
       "| 6       | 10.42s       | 3.27446           | 1.80955               | 0.000813802 |"
      ]
     },
     "metadata": {},
     "output_type": "display_data"
    },
    {
     "data": {
      "text/html": [
       "<pre>| 11      | 13.47s       | 3.2147            | 1.79296               | 0.000813802 |</pre>"
      ],
      "text/plain": [
       "| 11      | 13.47s       | 3.2147            | 1.79296               | 0.000813802 |"
      ]
     },
     "metadata": {},
     "output_type": "display_data"
    },
    {
     "data": {
      "text/html": [
       "<pre>| 16      | 16.53s       | 3.41717           | 1.84856               | 0.000813802 |</pre>"
      ],
      "text/plain": [
       "| 16      | 16.53s       | 3.41717           | 1.84856               | 0.000813802 |"
      ]
     },
     "metadata": {},
     "output_type": "display_data"
    },
    {
     "data": {
      "text/html": [
       "<pre>| 19      | 18.47s       | DIVERGED          | DIVERGED              | 0.000813802 |</pre>"
      ],
      "text/plain": [
       "| 19      | 18.47s       | DIVERGED          | DIVERGED              | 0.000813802 |"
      ]
     },
     "metadata": {},
     "output_type": "display_data"
    },
    {
     "data": {
      "text/html": [
       "<pre>| RESET   | 18.63s       | 3.4669            | 1.86196               |             |</pre>"
      ],
      "text/plain": [
       "| RESET   | 18.63s       | 3.4669            | 1.86196               |             |"
      ]
     },
     "metadata": {},
     "output_type": "display_data"
    },
    {
     "data": {
      "text/html": [
       "<pre>| 2       | 19.87s       | 3.40489           | 1.84523               | 0.000406901 |</pre>"
      ],
      "text/plain": [
       "| 2       | 19.87s       | 3.40489           | 1.84523               | 0.000406901 |"
      ]
     },
     "metadata": {},
     "output_type": "display_data"
    },
    {
     "data": {
      "text/html": [
       "<pre>| 7       | 22.91s       | 3.34279           | 1.82833               | 0.000406901 |</pre>"
      ],
      "text/plain": [
       "| 7       | 22.91s       | 3.34279           | 1.82833               | 0.000406901 |"
      ]
     },
     "metadata": {},
     "output_type": "display_data"
    },
    {
     "data": {
      "text/html": [
       "<pre>| 12      | 25.97s       | 3.30425           | 1.81776               | 0.000406901 |</pre>"
      ],
      "text/plain": [
       "| 12      | 25.97s       | 3.30425           | 1.81776               | 0.000406901 |"
      ]
     },
     "metadata": {},
     "output_type": "display_data"
    },
    {
     "data": {
      "text/html": [
       "<pre>| 17      | 29.06s       | 3.27337           | 1.80925               | 0.000406901 |</pre>"
      ],
      "text/plain": [
       "| 17      | 29.06s       | 3.27337           | 1.80925               | 0.000406901 |"
      ]
     },
     "metadata": {},
     "output_type": "display_data"
    },
    {
     "data": {
      "text/html": [
       "<pre>| 22      | 32.08s       | 3.25152           | 1.8032                | 0.000406901 |</pre>"
      ],
      "text/plain": [
       "| 22      | 32.08s       | 3.25152           | 1.8032                | 0.000406901 |"
      ]
     },
     "metadata": {},
     "output_type": "display_data"
    },
    {
     "data": {
      "text/html": [
       "<pre>| 25      | 33.91s       | 3.24928           | 1.80258               | 0.000406901 |</pre>"
      ],
      "text/plain": [
       "| 25      | 33.91s       | 3.24928           | 1.80258               | 0.000406901 |"
      ]
     },
     "metadata": {},
     "output_type": "display_data"
    },
    {
     "data": {
      "text/html": [
       "<pre>| 27      | 35.14s       | 3.25909           | 1.80529               | 0.000406901 |</pre>"
      ],
      "text/plain": [
       "| 27      | 35.14s       | 3.25909           | 1.80529               | 0.000406901 |"
      ]
     },
     "metadata": {},
     "output_type": "display_data"
    },
    {
     "data": {
      "text/html": [
       "<pre>+---------+--------------+-------------------+-----------------------+-------------+</pre>"
      ],
      "text/plain": [
       "+---------+--------------+-------------------+-----------------------+-------------+"
      ]
     },
     "metadata": {},
     "output_type": "display_data"
    },
    {
     "data": {
      "text/html": [
       "<pre>Optimization Complete: Maximum number of passes through the data reached (hard limit).</pre>"
      ],
      "text/plain": [
       "Optimization Complete: Maximum number of passes through the data reached (hard limit)."
      ]
     },
     "metadata": {},
     "output_type": "display_data"
    },
    {
     "data": {
      "text/html": [
       "<pre>Computing final objective value and training RMSE.</pre>"
      ],
      "text/plain": [
       "Computing final objective value and training RMSE."
      ]
     },
     "metadata": {},
     "output_type": "display_data"
    },
    {
     "data": {
      "text/html": [
       "<pre>       Final objective value: 3.26359</pre>"
      ],
      "text/plain": [
       "       Final objective value: 3.26359"
      ]
     },
     "metadata": {},
     "output_type": "display_data"
    },
    {
     "data": {
      "text/html": [
       "<pre>       Final training RMSE: 1.80654</pre>"
      ],
      "text/plain": [
       "       Final training RMSE: 1.80654"
      ]
     },
     "metadata": {},
     "output_type": "display_data"
    },
    {
     "data": {
      "text/html": [
       "<pre>Recsys training: model = factorization_recommender</pre>"
      ],
      "text/plain": [
       "Recsys training: model = factorization_recommender"
      ]
     },
     "metadata": {},
     "output_type": "display_data"
    },
    {
     "data": {
      "text/html": [
       "<pre>Preparing data set.</pre>"
      ],
      "text/plain": [
       "Preparing data set."
      ]
     },
     "metadata": {},
     "output_type": "display_data"
    },
    {
     "data": {
      "text/html": [
       "<pre>    Data has 433201 observations with 35756 users and 26101 items.</pre>"
      ],
      "text/plain": [
       "    Data has 433201 observations with 35756 users and 26101 items."
      ]
     },
     "metadata": {},
     "output_type": "display_data"
    },
    {
     "data": {
      "text/html": [
       "<pre>    Data prepared in: 0.244679s</pre>"
      ],
      "text/plain": [
       "    Data prepared in: 0.244679s"
      ]
     },
     "metadata": {},
     "output_type": "display_data"
    },
    {
     "data": {
      "text/html": [
       "<pre>Training factorization_recommender for recommendations.</pre>"
      ],
      "text/plain": [
       "Training factorization_recommender for recommendations."
      ]
     },
     "metadata": {},
     "output_type": "display_data"
    },
    {
     "data": {
      "text/html": [
       "<pre>+--------------------------------+--------------------------------------------------+----------+</pre>"
      ],
      "text/plain": [
       "+--------------------------------+--------------------------------------------------+----------+"
      ]
     },
     "metadata": {},
     "output_type": "display_data"
    },
    {
     "data": {
      "text/html": [
       "<pre>| Parameter                      | Description                                      | Value    |</pre>"
      ],
      "text/plain": [
       "| Parameter                      | Description                                      | Value    |"
      ]
     },
     "metadata": {},
     "output_type": "display_data"
    },
    {
     "data": {
      "text/html": [
       "<pre>+--------------------------------+--------------------------------------------------+----------+</pre>"
      ],
      "text/plain": [
       "+--------------------------------+--------------------------------------------------+----------+"
      ]
     },
     "metadata": {},
     "output_type": "display_data"
    },
    {
     "data": {
      "text/html": [
       "<pre>| num_factors                    | Factor Dimension                                 | 8        |</pre>"
      ],
      "text/plain": [
       "| num_factors                    | Factor Dimension                                 | 8        |"
      ]
     },
     "metadata": {},
     "output_type": "display_data"
    },
    {
     "data": {
      "text/html": [
       "<pre>| regularization                 | L2 Regularization on Factors                     | 1e-008   |</pre>"
      ],
      "text/plain": [
       "| regularization                 | L2 Regularization on Factors                     | 1e-008   |"
      ]
     },
     "metadata": {},
     "output_type": "display_data"
    },
    {
     "data": {
      "text/html": [
       "<pre>| solver                         | Solver used for training                         | adagrad  |</pre>"
      ],
      "text/plain": [
       "| solver                         | Solver used for training                         | adagrad  |"
      ]
     },
     "metadata": {},
     "output_type": "display_data"
    },
    {
     "data": {
      "text/html": [
       "<pre>| linear_regularization          | L2 Regularization on Linear Coefficients         | 1e-010   |</pre>"
      ],
      "text/plain": [
       "| linear_regularization          | L2 Regularization on Linear Coefficients         | 1e-010   |"
      ]
     },
     "metadata": {},
     "output_type": "display_data"
    },
    {
     "data": {
      "text/html": [
       "<pre>| side_data_factorization        | Assign Factors for Side Data                     | True     |</pre>"
      ],
      "text/plain": [
       "| side_data_factorization        | Assign Factors for Side Data                     | True     |"
      ]
     },
     "metadata": {},
     "output_type": "display_data"
    },
    {
     "data": {
      "text/html": [
       "<pre>| max_iterations                 | Maximum Number of Iterations                     | 50       |</pre>"
      ],
      "text/plain": [
       "| max_iterations                 | Maximum Number of Iterations                     | 50       |"
      ]
     },
     "metadata": {},
     "output_type": "display_data"
    },
    {
     "data": {
      "text/html": [
       "<pre>+--------------------------------+--------------------------------------------------+----------+</pre>"
      ],
      "text/plain": [
       "+--------------------------------+--------------------------------------------------+----------+"
      ]
     },
     "metadata": {},
     "output_type": "display_data"
    },
    {
     "data": {
      "text/html": [
       "<pre>  Optimizing model using SGD; tuning step size.</pre>"
      ],
      "text/plain": [
       "  Optimizing model using SGD; tuning step size."
      ]
     },
     "metadata": {},
     "output_type": "display_data"
    },
    {
     "data": {
      "text/html": [
       "<pre>  Using 54150 / 433201 points for tuning the step size.</pre>"
      ],
      "text/plain": [
       "  Using 54150 / 433201 points for tuning the step size."
      ]
     },
     "metadata": {},
     "output_type": "display_data"
    },
    {
     "data": {
      "text/html": [
       "<pre>+---------+-------------------+------------------------------------------+</pre>"
      ],
      "text/plain": [
       "+---------+-------------------+------------------------------------------+"
      ]
     },
     "metadata": {},
     "output_type": "display_data"
    },
    {
     "data": {
      "text/html": [
       "<pre>| Attempt | Initial Step Size | Estimated Objective Value                |</pre>"
      ],
      "text/plain": [
       "| Attempt | Initial Step Size | Estimated Objective Value                |"
      ]
     },
     "metadata": {},
     "output_type": "display_data"
    },
    {
     "data": {
      "text/html": [
       "<pre>+---------+-------------------+------------------------------------------+</pre>"
      ],
      "text/plain": [
       "+---------+-------------------+------------------------------------------+"
      ]
     },
     "metadata": {},
     "output_type": "display_data"
    },
    {
     "data": {
      "text/html": [
       "<pre>| 0       | 7.14286           | Not Viable                               |</pre>"
      ],
      "text/plain": [
       "| 0       | 7.14286           | Not Viable                               |"
      ]
     },
     "metadata": {},
     "output_type": "display_data"
    },
    {
     "data": {
      "text/html": [
       "<pre>| 1       | 1.78571           | 0.661814                                 |</pre>"
      ],
      "text/plain": [
       "| 1       | 1.78571           | 0.661814                                 |"
      ]
     },
     "metadata": {},
     "output_type": "display_data"
    },
    {
     "data": {
      "text/html": [
       "<pre>| 2       | 0.892857          | 0.424835                                 |</pre>"
      ],
      "text/plain": [
       "| 2       | 0.892857          | 0.424835                                 |"
      ]
     },
     "metadata": {},
     "output_type": "display_data"
    },
    {
     "data": {
      "text/html": [
       "<pre>| 3       | 0.446429          | 0.228921                                 |</pre>"
      ],
      "text/plain": [
       "| 3       | 0.446429          | 0.228921                                 |"
      ]
     },
     "metadata": {},
     "output_type": "display_data"
    },
    {
     "data": {
      "text/html": [
       "<pre>| 4       | 0.223214          | 0.276082                                 |</pre>"
      ],
      "text/plain": [
       "| 4       | 0.223214          | 0.276082                                 |"
      ]
     },
     "metadata": {},
     "output_type": "display_data"
    },
    {
     "data": {
      "text/html": [
       "<pre>| 5       | 0.111607          | 0.951009                                 |</pre>"
      ],
      "text/plain": [
       "| 5       | 0.111607          | 0.951009                                 |"
      ]
     },
     "metadata": {},
     "output_type": "display_data"
    },
    {
     "data": {
      "text/html": [
       "<pre>+---------+-------------------+------------------------------------------+</pre>"
      ],
      "text/plain": [
       "+---------+-------------------+------------------------------------------+"
      ]
     },
     "metadata": {},
     "output_type": "display_data"
    },
    {
     "data": {
      "text/html": [
       "<pre>| Final   | 0.446429          | 0.228921                                 |</pre>"
      ],
      "text/plain": [
       "| Final   | 0.446429          | 0.228921                                 |"
      ]
     },
     "metadata": {},
     "output_type": "display_data"
    },
    {
     "data": {
      "text/html": [
       "<pre>+---------+-------------------+------------------------------------------+</pre>"
      ],
      "text/plain": [
       "+---------+-------------------+------------------------------------------+"
      ]
     },
     "metadata": {},
     "output_type": "display_data"
    },
    {
     "data": {
      "text/html": [
       "<pre>Starting Optimization.</pre>"
      ],
      "text/plain": [
       "Starting Optimization."
      ]
     },
     "metadata": {},
     "output_type": "display_data"
    },
    {
     "data": {
      "text/html": [
       "<pre>+---------+--------------+-------------------+-----------------------+-------------+</pre>"
      ],
      "text/plain": [
       "+---------+--------------+-------------------+-----------------------+-------------+"
      ]
     },
     "metadata": {},
     "output_type": "display_data"
    },
    {
     "data": {
      "text/html": [
       "<pre>| Iter.   | Elapsed Time | Approx. Objective | Approx. Training RMSE | Step Size   |</pre>"
      ],
      "text/plain": [
       "| Iter.   | Elapsed Time | Approx. Objective | Approx. Training RMSE | Step Size   |"
      ]
     },
     "metadata": {},
     "output_type": "display_data"
    },
    {
     "data": {
      "text/html": [
       "<pre>+---------+--------------+-------------------+-----------------------+-------------+</pre>"
      ],
      "text/plain": [
       "+---------+--------------+-------------------+-----------------------+-------------+"
      ]
     },
     "metadata": {},
     "output_type": "display_data"
    },
    {
     "data": {
      "text/html": [
       "<pre>| Initial | 0us          | 3.46597           | 1.86171               |             |</pre>"
      ],
      "text/plain": [
       "| Initial | 0us          | 3.46597           | 1.86171               |             |"
      ]
     },
     "metadata": {},
     "output_type": "display_data"
    },
    {
     "data": {
      "text/html": [
       "<pre>+---------+--------------+-------------------+-----------------------+-------------+</pre>"
      ],
      "text/plain": [
       "+---------+--------------+-------------------+-----------------------+-------------+"
      ]
     },
     "metadata": {},
     "output_type": "display_data"
    },
    {
     "data": {
      "text/html": [
       "<pre>| 1       | 206.55ms     | 2.4942            | 1.57888               | 0.446429    |</pre>"
      ],
      "text/plain": [
       "| 1       | 206.55ms     | 2.4942            | 1.57888               | 0.446429    |"
      ]
     },
     "metadata": {},
     "output_type": "display_data"
    },
    {
     "data": {
      "text/html": [
       "<pre>| 2       | 407.082ms    | 1.66084           | 1.28826               | 0.446429    |</pre>"
      ],
      "text/plain": [
       "| 2       | 407.082ms    | 1.66084           | 1.28826               | 0.446429    |"
      ]
     },
     "metadata": {},
     "output_type": "display_data"
    },
    {
     "data": {
      "text/html": [
       "<pre>| 3       | 610.624ms    | 1.37112           | 1.17041               | 0.446429    |</pre>"
      ],
      "text/plain": [
       "| 3       | 610.624ms    | 1.37112           | 1.17041               | 0.446429    |"
      ]
     },
     "metadata": {},
     "output_type": "display_data"
    },
    {
     "data": {
      "text/html": [
       "<pre>| 4       | 804.138ms    | 1.23292           | 1.10979               | 0.446429    |</pre>"
      ],
      "text/plain": [
       "| 4       | 804.138ms    | 1.23292           | 1.10979               | 0.446429    |"
      ]
     },
     "metadata": {},
     "output_type": "display_data"
    },
    {
     "data": {
      "text/html": [
       "<pre>| 5       | 1.00s        | 1.14898           | 1.07129               | 0.446429    |</pre>"
      ],
      "text/plain": [
       "| 5       | 1.00s        | 1.14898           | 1.07129               | 0.446429    |"
      ]
     },
     "metadata": {},
     "output_type": "display_data"
    },
    {
     "data": {
      "text/html": [
       "<pre>| 6       | 1.20s        | 1.09399           | 1.04529               | 0.446429    |</pre>"
      ],
      "text/plain": [
       "| 6       | 1.20s        | 1.09399           | 1.04529               | 0.446429    |"
      ]
     },
     "metadata": {},
     "output_type": "display_data"
    },
    {
     "data": {
      "text/html": [
       "<pre>| 10      | 2.01s        | 0.970915          | 0.984618              | 0.446429    |</pre>"
      ],
      "text/plain": [
       "| 10      | 2.01s        | 0.970915          | 0.984618              | 0.446429    |"
      ]
     },
     "metadata": {},
     "output_type": "display_data"
    },
    {
     "data": {
      "text/html": [
       "<pre>| 11      | 2.21s        | 0.95163           | 0.974766              | 0.446429    |</pre>"
      ],
      "text/plain": [
       "| 11      | 2.21s        | 0.95163           | 0.974766              | 0.446429    |"
      ]
     },
     "metadata": {},
     "output_type": "display_data"
    },
    {
     "data": {
      "text/html": [
       "<pre>| 20      | 3.98s        | 0.872643          | 0.933309              | 0.446429    |</pre>"
      ],
      "text/plain": [
       "| 20      | 3.98s        | 0.872643          | 0.933309              | 0.446429    |"
      ]
     },
     "metadata": {},
     "output_type": "display_data"
    },
    {
     "data": {
      "text/html": [
       "<pre>| 30      | 5.94s        | 0.831823          | 0.911134              | 0.446429    |</pre>"
      ],
      "text/plain": [
       "| 30      | 5.94s        | 0.831823          | 0.911134              | 0.446429    |"
      ]
     },
     "metadata": {},
     "output_type": "display_data"
    },
    {
     "data": {
      "text/html": [
       "<pre>| 40      | 7.90s        | 0.807146          | 0.897456              | 0.446429    |</pre>"
      ],
      "text/plain": [
       "| 40      | 7.90s        | 0.807146          | 0.897456              | 0.446429    |"
      ]
     },
     "metadata": {},
     "output_type": "display_data"
    },
    {
     "data": {
      "text/html": [
       "<pre>| 50      | 9.85s        | 0.79885           | 0.892796              | 0.446429    |</pre>"
      ],
      "text/plain": [
       "| 50      | 9.85s        | 0.79885           | 0.892796              | 0.446429    |"
      ]
     },
     "metadata": {},
     "output_type": "display_data"
    },
    {
     "data": {
      "text/html": [
       "<pre>+---------+--------------+-------------------+-----------------------+-------------+</pre>"
      ],
      "text/plain": [
       "+---------+--------------+-------------------+-----------------------+-------------+"
      ]
     },
     "metadata": {},
     "output_type": "display_data"
    },
    {
     "data": {
      "text/html": [
       "<pre>Optimization Complete: Maximum number of passes through the data reached.</pre>"
      ],
      "text/plain": [
       "Optimization Complete: Maximum number of passes through the data reached."
      ]
     },
     "metadata": {},
     "output_type": "display_data"
    },
    {
     "data": {
      "text/html": [
       "<pre>Computing final objective value and training RMSE.</pre>"
      ],
      "text/plain": [
       "Computing final objective value and training RMSE."
      ]
     },
     "metadata": {},
     "output_type": "display_data"
    },
    {
     "data": {
      "text/html": [
       "<pre>       Final objective value: 0.748605</pre>"
      ],
      "text/plain": [
       "       Final objective value: 0.748605"
      ]
     },
     "metadata": {},
     "output_type": "display_data"
    },
    {
     "data": {
      "text/html": [
       "<pre>       Final training RMSE: 0.864199</pre>"
      ],
      "text/plain": [
       "       Final training RMSE: 0.864199"
      ]
     },
     "metadata": {},
     "output_type": "display_data"
    },
    {
     "data": {
      "text/html": [
       "<pre>Recsys training: model = factorization_recommender</pre>"
      ],
      "text/plain": [
       "Recsys training: model = factorization_recommender"
      ]
     },
     "metadata": {},
     "output_type": "display_data"
    },
    {
     "data": {
      "text/html": [
       "<pre>Preparing data set.</pre>"
      ],
      "text/plain": [
       "Preparing data set."
      ]
     },
     "metadata": {},
     "output_type": "display_data"
    },
    {
     "data": {
      "text/html": [
       "<pre>    Data has 433201 observations with 35756 users and 26095 items.</pre>"
      ],
      "text/plain": [
       "    Data has 433201 observations with 35756 users and 26095 items."
      ]
     },
     "metadata": {},
     "output_type": "display_data"
    },
    {
     "data": {
      "text/html": [
       "<pre>    Data prepared in: 0.274732s</pre>"
      ],
      "text/plain": [
       "    Data prepared in: 0.274732s"
      ]
     },
     "metadata": {},
     "output_type": "display_data"
    },
    {
     "data": {
      "text/html": [
       "<pre>Training factorization_recommender for recommendations.</pre>"
      ],
      "text/plain": [
       "Training factorization_recommender for recommendations."
      ]
     },
     "metadata": {},
     "output_type": "display_data"
    },
    {
     "data": {
      "text/html": [
       "<pre>+--------------------------------+--------------------------------------------------+----------+</pre>"
      ],
      "text/plain": [
       "+--------------------------------+--------------------------------------------------+----------+"
      ]
     },
     "metadata": {},
     "output_type": "display_data"
    },
    {
     "data": {
      "text/html": [
       "<pre>| Parameter                      | Description                                      | Value    |</pre>"
      ],
      "text/plain": [
       "| Parameter                      | Description                                      | Value    |"
      ]
     },
     "metadata": {},
     "output_type": "display_data"
    },
    {
     "data": {
      "text/html": [
       "<pre>+--------------------------------+--------------------------------------------------+----------+</pre>"
      ],
      "text/plain": [
       "+--------------------------------+--------------------------------------------------+----------+"
      ]
     },
     "metadata": {},
     "output_type": "display_data"
    },
    {
     "data": {
      "text/html": [
       "<pre>| num_factors                    | Factor Dimension                                 | 8        |</pre>"
      ],
      "text/plain": [
       "| num_factors                    | Factor Dimension                                 | 8        |"
      ]
     },
     "metadata": {},
     "output_type": "display_data"
    },
    {
     "data": {
      "text/html": [
       "<pre>| regularization                 | L2 Regularization on Factors                     | 1e-008   |</pre>"
      ],
      "text/plain": [
       "| regularization                 | L2 Regularization on Factors                     | 1e-008   |"
      ]
     },
     "metadata": {},
     "output_type": "display_data"
    },
    {
     "data": {
      "text/html": [
       "<pre>| solver                         | Solver used for training                         | adagrad  |</pre>"
      ],
      "text/plain": [
       "| solver                         | Solver used for training                         | adagrad  |"
      ]
     },
     "metadata": {},
     "output_type": "display_data"
    },
    {
     "data": {
      "text/html": [
       "<pre>| linear_regularization          | L2 Regularization on Linear Coefficients         | 1e-010   |</pre>"
      ],
      "text/plain": [
       "| linear_regularization          | L2 Regularization on Linear Coefficients         | 1e-010   |"
      ]
     },
     "metadata": {},
     "output_type": "display_data"
    },
    {
     "data": {
      "text/html": [
       "<pre>| side_data_factorization        | Assign Factors for Side Data                     | True     |</pre>"
      ],
      "text/plain": [
       "| side_data_factorization        | Assign Factors for Side Data                     | True     |"
      ]
     },
     "metadata": {},
     "output_type": "display_data"
    },
    {
     "data": {
      "text/html": [
       "<pre>| max_iterations                 | Maximum Number of Iterations                     | 50       |</pre>"
      ],
      "text/plain": [
       "| max_iterations                 | Maximum Number of Iterations                     | 50       |"
      ]
     },
     "metadata": {},
     "output_type": "display_data"
    },
    {
     "data": {
      "text/html": [
       "<pre>+--------------------------------+--------------------------------------------------+----------+</pre>"
      ],
      "text/plain": [
       "+--------------------------------+--------------------------------------------------+----------+"
      ]
     },
     "metadata": {},
     "output_type": "display_data"
    },
    {
     "data": {
      "text/html": [
       "<pre>  Optimizing model using SGD; tuning step size.</pre>"
      ],
      "text/plain": [
       "  Optimizing model using SGD; tuning step size."
      ]
     },
     "metadata": {},
     "output_type": "display_data"
    },
    {
     "data": {
      "text/html": [
       "<pre>  Using 54150 / 433201 points for tuning the step size.</pre>"
      ],
      "text/plain": [
       "  Using 54150 / 433201 points for tuning the step size."
      ]
     },
     "metadata": {},
     "output_type": "display_data"
    },
    {
     "data": {
      "text/html": [
       "<pre>+---------+-------------------+------------------------------------------+</pre>"
      ],
      "text/plain": [
       "+---------+-------------------+------------------------------------------+"
      ]
     },
     "metadata": {},
     "output_type": "display_data"
    },
    {
     "data": {
      "text/html": [
       "<pre>| Attempt | Initial Step Size | Estimated Objective Value                |</pre>"
      ],
      "text/plain": [
       "| Attempt | Initial Step Size | Estimated Objective Value                |"
      ]
     },
     "metadata": {},
     "output_type": "display_data"
    },
    {
     "data": {
      "text/html": [
       "<pre>+---------+-------------------+------------------------------------------+</pre>"
      ],
      "text/plain": [
       "+---------+-------------------+------------------------------------------+"
      ]
     },
     "metadata": {},
     "output_type": "display_data"
    },
    {
     "data": {
      "text/html": [
       "<pre>| 0       | 1.42857           | 0.634318                                 |</pre>"
      ],
      "text/plain": [
       "| 0       | 1.42857           | 0.634318                                 |"
      ]
     },
     "metadata": {},
     "output_type": "display_data"
    },
    {
     "data": {
      "text/html": [
       "<pre>| 1       | 0.714286          | 0.793542                                 |</pre>"
      ],
      "text/plain": [
       "| 1       | 0.714286          | 0.793542                                 |"
      ]
     },
     "metadata": {},
     "output_type": "display_data"
    },
    {
     "data": {
      "text/html": [
       "<pre>| 2       | 0.357143          | 0.337233                                 |</pre>"
      ],
      "text/plain": [
       "| 2       | 0.357143          | 0.337233                                 |"
      ]
     },
     "metadata": {},
     "output_type": "display_data"
    },
    {
     "data": {
      "text/html": [
       "<pre>| 3       | 0.178571          | 0.467881                                 |</pre>"
      ],
      "text/plain": [
       "| 3       | 0.178571          | 0.467881                                 |"
      ]
     },
     "metadata": {},
     "output_type": "display_data"
    },
    {
     "data": {
      "text/html": [
       "<pre>| 4       | 0.0892857         | 1.32465                                  |</pre>"
      ],
      "text/plain": [
       "| 4       | 0.0892857         | 1.32465                                  |"
      ]
     },
     "metadata": {},
     "output_type": "display_data"
    },
    {
     "data": {
      "text/html": [
       "<pre>+---------+-------------------+------------------------------------------+</pre>"
      ],
      "text/plain": [
       "+---------+-------------------+------------------------------------------+"
      ]
     },
     "metadata": {},
     "output_type": "display_data"
    },
    {
     "data": {
      "text/html": [
       "<pre>| Final   | 0.357143          | 0.337233                                 |</pre>"
      ],
      "text/plain": [
       "| Final   | 0.357143          | 0.337233                                 |"
      ]
     },
     "metadata": {},
     "output_type": "display_data"
    },
    {
     "data": {
      "text/html": [
       "<pre>+---------+-------------------+------------------------------------------+</pre>"
      ],
      "text/plain": [
       "+---------+-------------------+------------------------------------------+"
      ]
     },
     "metadata": {},
     "output_type": "display_data"
    },
    {
     "data": {
      "text/html": [
       "<pre>Starting Optimization.</pre>"
      ],
      "text/plain": [
       "Starting Optimization."
      ]
     },
     "metadata": {},
     "output_type": "display_data"
    },
    {
     "data": {
      "text/html": [
       "<pre>+---------+--------------+-------------------+-----------------------+-------------+</pre>"
      ],
      "text/plain": [
       "+---------+--------------+-------------------+-----------------------+-------------+"
      ]
     },
     "metadata": {},
     "output_type": "display_data"
    },
    {
     "data": {
      "text/html": [
       "<pre>| Iter.   | Elapsed Time | Approx. Objective | Approx. Training RMSE | Step Size   |</pre>"
      ],
      "text/plain": [
       "| Iter.   | Elapsed Time | Approx. Objective | Approx. Training RMSE | Step Size   |"
      ]
     },
     "metadata": {},
     "output_type": "display_data"
    },
    {
     "data": {
      "text/html": [
       "<pre>+---------+--------------+-------------------+-----------------------+-------------+</pre>"
      ],
      "text/plain": [
       "+---------+--------------+-------------------+-----------------------+-------------+"
      ]
     },
     "metadata": {},
     "output_type": "display_data"
    },
    {
     "data": {
      "text/html": [
       "<pre>| Initial | 502us        | 3.46586           | 1.86168               |             |</pre>"
      ],
      "text/plain": [
       "| Initial | 502us        | 3.46586           | 1.86168               |             |"
      ]
     },
     "metadata": {},
     "output_type": "display_data"
    },
    {
     "data": {
      "text/html": [
       "<pre>+---------+--------------+-------------------+-----------------------+-------------+</pre>"
      ],
      "text/plain": [
       "+---------+--------------+-------------------+-----------------------+-------------+"
      ]
     },
     "metadata": {},
     "output_type": "display_data"
    },
    {
     "data": {
      "text/html": [
       "<pre>| 1       | 708.384ms    | 2.36191           | 1.53655               | 0.357143    |</pre>"
      ],
      "text/plain": [
       "| 1       | 708.384ms    | 2.36191           | 1.53655               | 0.357143    |"
      ]
     },
     "metadata": {},
     "output_type": "display_data"
    },
    {
     "data": {
      "text/html": [
       "<pre>| 2       | 1.38s        | 1.58365           | 1.25808               | 0.357143    |</pre>"
      ],
      "text/plain": [
       "| 2       | 1.38s        | 1.58365           | 1.25808               | 0.357143    |"
      ]
     },
     "metadata": {},
     "output_type": "display_data"
    },
    {
     "data": {
      "text/html": [
       "<pre>| 3       | 2.05s        | 1.35023           | 1.1616                | 0.357143    |</pre>"
      ],
      "text/plain": [
       "| 3       | 2.05s        | 1.35023           | 1.1616                | 0.357143    |"
      ]
     },
     "metadata": {},
     "output_type": "display_data"
    },
    {
     "data": {
      "text/html": [
       "<pre>| 4       | 2.74s        | 1.23311           | 1.11004               | 0.357143    |</pre>"
      ],
      "text/plain": [
       "| 4       | 2.74s        | 1.23311           | 1.11004               | 0.357143    |"
      ]
     },
     "metadata": {},
     "output_type": "display_data"
    },
    {
     "data": {
      "text/html": [
       "<pre>| 5       | 3.41s        | 1.15876           | 1.07601               | 0.357143    |</pre>"
      ],
      "text/plain": [
       "| 5       | 3.41s        | 1.15876           | 1.07601               | 0.357143    |"
      ]
     },
     "metadata": {},
     "output_type": "display_data"
    },
    {
     "data": {
      "text/html": [
       "<pre>| 6       | 4.09s        | 1.10826           | 1.05228               | 0.357143    |</pre>"
      ],
      "text/plain": [
       "| 6       | 4.09s        | 1.10826           | 1.05228               | 0.357143    |"
      ]
     },
     "metadata": {},
     "output_type": "display_data"
    },
    {
     "data": {
      "text/html": [
       "<pre>| 10      | 6.84s        | 1.00109           | 1.00003               | 0.357143    |</pre>"
      ],
      "text/plain": [
       "| 10      | 6.84s        | 1.00109           | 1.00003               | 0.357143    |"
      ]
     },
     "metadata": {},
     "output_type": "display_data"
    },
    {
     "data": {
      "text/html": [
       "<pre>| 11      | 7.52s        | 0.985029          | 0.991964              | 0.357143    |</pre>"
      ],
      "text/plain": [
       "| 11      | 7.52s        | 0.985029          | 0.991964              | 0.357143    |"
      ]
     },
     "metadata": {},
     "output_type": "display_data"
    },
    {
     "data": {
      "text/html": [
       "<pre>| 15      | 10.20s       | 0.941091          | 0.969549              | 0.357143    |</pre>"
      ],
      "text/plain": [
       "| 15      | 10.20s       | 0.941091          | 0.969549              | 0.357143    |"
      ]
     },
     "metadata": {},
     "output_type": "display_data"
    },
    {
     "data": {
      "text/html": [
       "<pre>| 20      | 13.53s       | 0.906436          | 0.951494              | 0.357143    |</pre>"
      ],
      "text/plain": [
       "| 20      | 13.53s       | 0.906436          | 0.951494              | 0.357143    |"
      ]
     },
     "metadata": {},
     "output_type": "display_data"
    },
    {
     "data": {
      "text/html": [
       "<pre>| 25      | 16.87s       | 0.884517          | 0.939892              | 0.357143    |</pre>"
      ],
      "text/plain": [
       "| 25      | 16.87s       | 0.884517          | 0.939892              | 0.357143    |"
      ]
     },
     "metadata": {},
     "output_type": "display_data"
    },
    {
     "data": {
      "text/html": [
       "<pre>| 30      | 20.24s       | 0.867146          | 0.930595              | 0.357143    |</pre>"
      ],
      "text/plain": [
       "| 30      | 20.24s       | 0.867146          | 0.930595              | 0.357143    |"
      ]
     },
     "metadata": {},
     "output_type": "display_data"
    },
    {
     "data": {
      "text/html": [
       "<pre>| 35      | 23.57s       | 0.854014          | 0.923503              | 0.357143    |</pre>"
      ],
      "text/plain": [
       "| 35      | 23.57s       | 0.854014          | 0.923503              | 0.357143    |"
      ]
     },
     "metadata": {},
     "output_type": "display_data"
    },
    {
     "data": {
      "text/html": [
       "<pre>| 40      | 26.90s       | 0.843528          | 0.9178                | 0.357143    |</pre>"
      ],
      "text/plain": [
       "| 40      | 26.90s       | 0.843528          | 0.9178                | 0.357143    |"
      ]
     },
     "metadata": {},
     "output_type": "display_data"
    },
    {
     "data": {
      "text/html": [
       "<pre>| 45      | 30.27s       | 0.83484           | 0.913048              | 0.357143    |</pre>"
      ],
      "text/plain": [
       "| 45      | 30.27s       | 0.83484           | 0.913048              | 0.357143    |"
      ]
     },
     "metadata": {},
     "output_type": "display_data"
    },
    {
     "data": {
      "text/html": [
       "<pre>| 50      | 33.86s       | 0.826858          | 0.908659              | 0.357143    |</pre>"
      ],
      "text/plain": [
       "| 50      | 33.86s       | 0.826858          | 0.908659              | 0.357143    |"
      ]
     },
     "metadata": {},
     "output_type": "display_data"
    },
    {
     "data": {
      "text/html": [
       "<pre>+---------+--------------+-------------------+-----------------------+-------------+</pre>"
      ],
      "text/plain": [
       "+---------+--------------+-------------------+-----------------------+-------------+"
      ]
     },
     "metadata": {},
     "output_type": "display_data"
    },
    {
     "data": {
      "text/html": [
       "<pre>Optimization Complete: Maximum number of passes through the data reached.</pre>"
      ],
      "text/plain": [
       "Optimization Complete: Maximum number of passes through the data reached."
      ]
     },
     "metadata": {},
     "output_type": "display_data"
    },
    {
     "data": {
      "text/html": [
       "<pre>Computing final objective value and training RMSE.</pre>"
      ],
      "text/plain": [
       "Computing final objective value and training RMSE."
      ]
     },
     "metadata": {},
     "output_type": "display_data"
    },
    {
     "data": {
      "text/html": [
       "<pre>       Final objective value: 0.799762</pre>"
      ],
      "text/plain": [
       "       Final objective value: 0.799762"
      ]
     },
     "metadata": {},
     "output_type": "display_data"
    },
    {
     "data": {
      "text/html": [
       "<pre>       Final training RMSE: 0.893625</pre>"
      ],
      "text/plain": [
       "       Final training RMSE: 0.893625"
      ]
     },
     "metadata": {},
     "output_type": "display_data"
    },
    {
     "data": {
      "text/html": [
       "<pre>recommendations finished on 1000/9584 queries. users per second: 11398.3</pre>"
      ],
      "text/plain": [
       "recommendations finished on 1000/9584 queries. users per second: 11398.3"
      ]
     },
     "metadata": {},
     "output_type": "display_data"
    },
    {
     "data": {
      "text/html": [
       "<pre>recommendations finished on 2000/9584 queries. users per second: 11699.1</pre>"
      ],
      "text/plain": [
       "recommendations finished on 2000/9584 queries. users per second: 11699.1"
      ]
     },
     "metadata": {},
     "output_type": "display_data"
    },
    {
     "data": {
      "text/html": [
       "<pre>recommendations finished on 3000/9584 queries. users per second: 11848.8</pre>"
      ],
      "text/plain": [
       "recommendations finished on 3000/9584 queries. users per second: 11848.8"
      ]
     },
     "metadata": {},
     "output_type": "display_data"
    },
    {
     "data": {
      "text/html": [
       "<pre>recommendations finished on 4000/9584 queries. users per second: 11820.4</pre>"
      ],
      "text/plain": [
       "recommendations finished on 4000/9584 queries. users per second: 11820.4"
      ]
     },
     "metadata": {},
     "output_type": "display_data"
    },
    {
     "data": {
      "text/html": [
       "<pre>recommendations finished on 5000/9584 queries. users per second: 11775</pre>"
      ],
      "text/plain": [
       "recommendations finished on 5000/9584 queries. users per second: 11775"
      ]
     },
     "metadata": {},
     "output_type": "display_data"
    },
    {
     "data": {
      "text/html": [
       "<pre>recommendations finished on 6000/9584 queries. users per second: 11768.1</pre>"
      ],
      "text/plain": [
       "recommendations finished on 6000/9584 queries. users per second: 11768.1"
      ]
     },
     "metadata": {},
     "output_type": "display_data"
    },
    {
     "data": {
      "text/html": [
       "<pre>recommendations finished on 7000/9584 queries. users per second: 11743.3</pre>"
      ],
      "text/plain": [
       "recommendations finished on 7000/9584 queries. users per second: 11743.3"
      ]
     },
     "metadata": {},
     "output_type": "display_data"
    },
    {
     "data": {
      "text/html": [
       "<pre>recommendations finished on 8000/9584 queries. users per second: 11733.5</pre>"
      ],
      "text/plain": [
       "recommendations finished on 8000/9584 queries. users per second: 11733.5"
      ]
     },
     "metadata": {},
     "output_type": "display_data"
    },
    {
     "data": {
      "text/html": [
       "<pre>recommendations finished on 9000/9584 queries. users per second: 11109</pre>"
      ],
      "text/plain": [
       "recommendations finished on 9000/9584 queries. users per second: 11109"
      ]
     },
     "metadata": {},
     "output_type": "display_data"
    },
    {
     "name": "stdout",
     "output_type": "stream",
     "text": [
      "\n",
      "Precision and recall summary statistics by cutoff\n",
      "+--------+-------------------+-------------------+\n",
      "| cutoff |   mean_precision  |    mean_recall    |\n",
      "+--------+-------------------+-------------------+\n",
      "|   1    |        0.0        |        0.0        |\n",
      "|   2    | 0.000156510851419 | 0.000130765581072 |\n",
      "|   3    | 0.000173900946021 |  0.0001341431212  |\n",
      "|   4    | 0.000130425709516 |  0.0001341431212  |\n",
      "|   5    | 0.000104340567613 |  0.0001341431212  |\n",
      "|   6    | 0.000121730662215 | 0.000138240888789 |\n",
      "|   7    | 0.000178869544479 | 0.000158407578932 |\n",
      "|   8    | 0.000169553422371 | 0.000159877164392 |\n",
      "|   9    |  0.00016230754962 | 0.000171470560793 |\n",
      "|   10   | 0.000156510851419 | 0.000275811128406 |\n",
      "+--------+-------------------+-------------------+\n",
      "[10 rows x 3 columns]\n",
      "\n",
      "('\\nOverall RMSE: ', 1.6842899949153836)\n",
      "\n",
      "Per User RMSE (best)\n",
      "+---------+-------+-------------------+\n",
      "| user_id | count |        rmse       |\n",
      "+---------+-------+-------------------+\n",
      "|  35947  |   1   | 0.000973178437619 |\n",
      "+---------+-------+-------------------+\n",
      "[1 rows x 3 columns]\n",
      "\n",
      "\n",
      "Per User RMSE (worst)\n",
      "+---------+-------+---------------+\n",
      "| user_id | count |      rmse     |\n",
      "+---------+-------+---------------+\n",
      "|  44053  |   1   | 9.16382141261 |\n",
      "+---------+-------+---------------+\n",
      "[1 rows x 3 columns]\n",
      "\n",
      "\n",
      "Per Item RMSE (best)\n",
      "+---------+-------+-------------------+\n",
      "| item_id | count |        rmse       |\n",
      "+---------+-------+-------------------+\n",
      "|  14341  |   1   | 0.000667260595891 |\n",
      "+---------+-------+-------------------+\n",
      "[1 rows x 3 columns]\n",
      "\n",
      "\n",
      "Per Item RMSE (worst)\n",
      "+---------+-------+---------------+\n",
      "| item_id | count |      rmse     |\n",
      "+---------+-------+---------------+\n",
      "| 2071491 |   1   | 7.89699499459 |\n",
      "+---------+-------+---------------+\n",
      "[1 rows x 3 columns]\n",
      "\n"
     ]
    },
    {
     "data": {
      "text/html": [
       "<pre>recommendations finished on 1000/9584 queries. users per second: 3270.27</pre>"
      ],
      "text/plain": [
       "recommendations finished on 1000/9584 queries. users per second: 3270.27"
      ]
     },
     "metadata": {},
     "output_type": "display_data"
    },
    {
     "data": {
      "text/html": [
       "<pre>recommendations finished on 2000/9584 queries. users per second: 3302.61</pre>"
      ],
      "text/plain": [
       "recommendations finished on 2000/9584 queries. users per second: 3302.61"
      ]
     },
     "metadata": {},
     "output_type": "display_data"
    },
    {
     "data": {
      "text/html": [
       "<pre>recommendations finished on 3000/9584 queries. users per second: 3333.84</pre>"
      ],
      "text/plain": [
       "recommendations finished on 3000/9584 queries. users per second: 3333.84"
      ]
     },
     "metadata": {},
     "output_type": "display_data"
    },
    {
     "data": {
      "text/html": [
       "<pre>recommendations finished on 4000/9584 queries. users per second: 3213.42</pre>"
      ],
      "text/plain": [
       "recommendations finished on 4000/9584 queries. users per second: 3213.42"
      ]
     },
     "metadata": {},
     "output_type": "display_data"
    },
    {
     "data": {
      "text/html": [
       "<pre>recommendations finished on 5000/9584 queries. users per second: 3219.37</pre>"
      ],
      "text/plain": [
       "recommendations finished on 5000/9584 queries. users per second: 3219.37"
      ]
     },
     "metadata": {},
     "output_type": "display_data"
    },
    {
     "data": {
      "text/html": [
       "<pre>recommendations finished on 6000/9584 queries. users per second: 3233.8</pre>"
      ],
      "text/plain": [
       "recommendations finished on 6000/9584 queries. users per second: 3233.8"
      ]
     },
     "metadata": {},
     "output_type": "display_data"
    },
    {
     "data": {
      "text/html": [
       "<pre>recommendations finished on 7000/9584 queries. users per second: 3215.79</pre>"
      ],
      "text/plain": [
       "recommendations finished on 7000/9584 queries. users per second: 3215.79"
      ]
     },
     "metadata": {},
     "output_type": "display_data"
    },
    {
     "data": {
      "text/html": [
       "<pre>recommendations finished on 8000/9584 queries. users per second: 3122.21</pre>"
      ],
      "text/plain": [
       "recommendations finished on 8000/9584 queries. users per second: 3122.21"
      ]
     },
     "metadata": {},
     "output_type": "display_data"
    },
    {
     "data": {
      "text/html": [
       "<pre>recommendations finished on 9000/9584 queries. users per second: 3018.72</pre>"
      ],
      "text/plain": [
       "recommendations finished on 9000/9584 queries. users per second: 3018.72"
      ]
     },
     "metadata": {},
     "output_type": "display_data"
    },
    {
     "name": "stdout",
     "output_type": "stream",
     "text": [
      "\n",
      "Precision and recall summary statistics by cutoff\n",
      "+--------+-----------------+------------------+\n",
      "| cutoff |  mean_precision |   mean_recall    |\n",
      "+--------+-----------------+------------------+\n",
      "|   1    | 0.0171118530885 | 0.00264128868978 |\n",
      "|   2    | 0.0138772954925 | 0.0038923496042  |\n",
      "|   3    | 0.0189204229271 | 0.00920081782274 |\n",
      "|   4    | 0.0177378964942 | 0.0119239373748  |\n",
      "|   5    | 0.0212020033389 | 0.0168512077775  |\n",
      "|   6    |  0.025963411241 | 0.0259801015322  |\n",
      "|   7    | 0.0303631051753 | 0.0326334247635  |\n",
      "|   8    | 0.0310021911519 | 0.0357775625486  |\n",
      "|   9    | 0.0314065108514 | 0.0400589920878  |\n",
      "|   10   | 0.0325959933222 | 0.0445253970718  |\n",
      "+--------+-----------------+------------------+\n",
      "[10 rows x 3 columns]\n",
      "\n",
      "('\\nOverall RMSE: ', 1.8806327028721126)\n",
      "\n",
      "Per User RMSE (best)\n",
      "+---------+-------+------------------+\n",
      "| user_id | count |       rmse       |\n",
      "+---------+-------+------------------+\n",
      "|  45217  |   1   | 0.00215588360157 |\n",
      "+---------+-------+------------------+\n",
      "[1 rows x 3 columns]\n",
      "\n",
      "\n",
      "Per User RMSE (worst)\n",
      "+---------+-------+---------------+\n",
      "| user_id | count |      rmse     |\n",
      "+---------+-------+---------------+\n",
      "|  44053  |   1   | 9.74369247108 |\n",
      "+---------+-------+---------------+\n",
      "[1 rows x 3 columns]\n",
      "\n",
      "\n",
      "Per Item RMSE (best)\n",
      "+---------+-------+-------------------+\n",
      "| item_id | count |        rmse       |\n",
      "+---------+-------+-------------------+\n",
      "| 1329177 |   1   | 0.000103427461053 |\n",
      "+---------+-------+-------------------+\n",
      "[1 rows x 3 columns]\n",
      "\n",
      "\n",
      "Per Item RMSE (worst)\n",
      "+---------+-------+---------------+\n",
      "| item_id | count |      rmse     |\n",
      "+---------+-------+---------------+\n",
      "| 1051241 |   1   | 6.29138667732 |\n",
      "+---------+-------+---------------+\n",
      "[1 rows x 3 columns]\n",
      "\n"
     ]
    },
    {
     "data": {
      "text/html": [
       "<pre>recommendations finished on 1000/9584 queries. users per second: 205.383</pre>"
      ],
      "text/plain": [
       "recommendations finished on 1000/9584 queries. users per second: 205.383"
      ]
     },
     "metadata": {},
     "output_type": "display_data"
    },
    {
     "data": {
      "text/html": [
       "<pre>recommendations finished on 2000/9584 queries. users per second: 203.82</pre>"
      ],
      "text/plain": [
       "recommendations finished on 2000/9584 queries. users per second: 203.82"
      ]
     },
     "metadata": {},
     "output_type": "display_data"
    },
    {
     "data": {
      "text/html": [
       "<pre>recommendations finished on 3000/9584 queries. users per second: 203.782</pre>"
      ],
      "text/plain": [
       "recommendations finished on 3000/9584 queries. users per second: 203.782"
      ]
     },
     "metadata": {},
     "output_type": "display_data"
    },
    {
     "data": {
      "text/html": [
       "<pre>recommendations finished on 4000/9584 queries. users per second: 202.295</pre>"
      ],
      "text/plain": [
       "recommendations finished on 4000/9584 queries. users per second: 202.295"
      ]
     },
     "metadata": {},
     "output_type": "display_data"
    },
    {
     "data": {
      "text/html": [
       "<pre>recommendations finished on 5000/9584 queries. users per second: 202.584</pre>"
      ],
      "text/plain": [
       "recommendations finished on 5000/9584 queries. users per second: 202.584"
      ]
     },
     "metadata": {},
     "output_type": "display_data"
    },
    {
     "data": {
      "text/html": [
       "<pre>recommendations finished on 6000/9584 queries. users per second: 202.787</pre>"
      ],
      "text/plain": [
       "recommendations finished on 6000/9584 queries. users per second: 202.787"
      ]
     },
     "metadata": {},
     "output_type": "display_data"
    },
    {
     "data": {
      "text/html": [
       "<pre>recommendations finished on 7000/9584 queries. users per second: 198.918</pre>"
      ],
      "text/plain": [
       "recommendations finished on 7000/9584 queries. users per second: 198.918"
      ]
     },
     "metadata": {},
     "output_type": "display_data"
    },
    {
     "data": {
      "text/html": [
       "<pre>recommendations finished on 8000/9584 queries. users per second: 193.429</pre>"
      ],
      "text/plain": [
       "recommendations finished on 8000/9584 queries. users per second: 193.429"
      ]
     },
     "metadata": {},
     "output_type": "display_data"
    },
    {
     "data": {
      "text/html": [
       "<pre>recommendations finished on 9000/9584 queries. users per second: 188.941</pre>"
      ],
      "text/plain": [
       "recommendations finished on 9000/9584 queries. users per second: 188.941"
      ]
     },
     "metadata": {},
     "output_type": "display_data"
    },
    {
     "name": "stdout",
     "output_type": "stream",
     "text": [
      "\n",
      "Precision and recall summary statistics by cutoff\n",
      "+--------+------------------+------------------+\n",
      "| cutoff |  mean_precision  |   mean_recall    |\n",
      "+--------+------------------+------------------+\n",
      "|   1    |       0.0        |       0.0        |\n",
      "|   2    | 0.0113731218698  | 0.00196081577881 |\n",
      "|   3    | 0.00758208124652 | 0.00196081577881 |\n",
      "|   4    | 0.00568656093489 | 0.00196081577881 |\n",
      "|   5    | 0.00459098497496 | 0.00196345224442 |\n",
      "|   6    | 0.00382582081247 | 0.00196345224442 |\n",
      "|   7    | 0.00327927498211 | 0.00196345224442 |\n",
      "|   8    | 0.00286936560935 | 0.00196345224442 |\n",
      "|   9    | 0.00255054720831 | 0.00196345224442 |\n",
      "|   10   | 0.00229549248748 | 0.00196345224442 |\n",
      "+--------+------------------+------------------+\n",
      "[10 rows x 3 columns]\n",
      "\n",
      "('\\nOverall RMSE: ', 1.8088810661157144)\n",
      "\n",
      "Per User RMSE (best)\n",
      "+---------+-------+------------------+\n",
      "| user_id | count |       rmse       |\n",
      "+---------+-------+------------------+\n",
      "|  41505  |   1   | 0.00140546995139 |\n",
      "+---------+-------+------------------+\n",
      "[1 rows x 3 columns]\n",
      "\n",
      "\n",
      "Per User RMSE (worst)\n",
      "+---------+-------+---------------+\n",
      "| user_id | count |      rmse     |\n",
      "+---------+-------+---------------+\n",
      "|  44053  |   1   | 7.53970115928 |\n",
      "+---------+-------+---------------+\n",
      "[1 rows x 3 columns]\n",
      "\n",
      "\n",
      "Per Item RMSE (best)\n",
      "+---------+-------+-------------------+\n",
      "| item_id | count |        rmse       |\n",
      "+---------+-------+-------------------+\n",
      "| 1242521 |   1   | 0.000560401667927 |\n",
      "+---------+-------+-------------------+\n",
      "[1 rows x 3 columns]\n",
      "\n",
      "\n",
      "Per Item RMSE (worst)\n",
      "+---------+-------+---------------+\n",
      "| item_id | count |      rmse     |\n",
      "+---------+-------+---------------+\n",
      "|  119711 |   1   | 6.80010330024 |\n",
      "+---------+-------+---------------+\n",
      "[1 rows x 3 columns]\n",
      "\n"
     ]
    },
    {
     "data": {
      "text/html": [
       "<pre>recommendations finished on 1000/9584 queries. users per second: 841.303</pre>"
      ],
      "text/plain": [
       "recommendations finished on 1000/9584 queries. users per second: 841.303"
      ]
     },
     "metadata": {},
     "output_type": "display_data"
    },
    {
     "data": {
      "text/html": [
       "<pre>recommendations finished on 2000/9584 queries. users per second: 832.341</pre>"
      ],
      "text/plain": [
       "recommendations finished on 2000/9584 queries. users per second: 832.341"
      ]
     },
     "metadata": {},
     "output_type": "display_data"
    },
    {
     "data": {
      "text/html": [
       "<pre>recommendations finished on 3000/9584 queries. users per second: 826.646</pre>"
      ],
      "text/plain": [
       "recommendations finished on 3000/9584 queries. users per second: 826.646"
      ]
     },
     "metadata": {},
     "output_type": "display_data"
    },
    {
     "data": {
      "text/html": [
       "<pre>recommendations finished on 4000/9584 queries. users per second: 822.554</pre>"
      ],
      "text/plain": [
       "recommendations finished on 4000/9584 queries. users per second: 822.554"
      ]
     },
     "metadata": {},
     "output_type": "display_data"
    },
    {
     "data": {
      "text/html": [
       "<pre>recommendations finished on 5000/9584 queries. users per second: 820.253</pre>"
      ],
      "text/plain": [
       "recommendations finished on 5000/9584 queries. users per second: 820.253"
      ]
     },
     "metadata": {},
     "output_type": "display_data"
    },
    {
     "data": {
      "text/html": [
       "<pre>recommendations finished on 6000/9584 queries. users per second: 818.944</pre>"
      ],
      "text/plain": [
       "recommendations finished on 6000/9584 queries. users per second: 818.944"
      ]
     },
     "metadata": {},
     "output_type": "display_data"
    },
    {
     "data": {
      "text/html": [
       "<pre>recommendations finished on 7000/9584 queries. users per second: 818.31</pre>"
      ],
      "text/plain": [
       "recommendations finished on 7000/9584 queries. users per second: 818.31"
      ]
     },
     "metadata": {},
     "output_type": "display_data"
    },
    {
     "data": {
      "text/html": [
       "<pre>recommendations finished on 8000/9584 queries. users per second: 814.107</pre>"
      ],
      "text/plain": [
       "recommendations finished on 8000/9584 queries. users per second: 814.107"
      ]
     },
     "metadata": {},
     "output_type": "display_data"
    },
    {
     "data": {
      "text/html": [
       "<pre>recommendations finished on 9000/9584 queries. users per second: 755.708</pre>"
      ],
      "text/plain": [
       "recommendations finished on 9000/9584 queries. users per second: 755.708"
      ]
     },
     "metadata": {},
     "output_type": "display_data"
    },
    {
     "name": "stdout",
     "output_type": "stream",
     "text": [
      "\n",
      "Precision and recall summary statistics by cutoff\n",
      "+--------+-------------------+-------------------+\n",
      "| cutoff |   mean_precision  |    mean_recall    |\n",
      "+--------+-------------------+-------------------+\n",
      "|   1    | 0.000104340567613 | 7.14661422005e-07 |\n",
      "|   2    | 0.000104340567613 | 1.94219751157e-06 |\n",
      "|   3    | 6.95603784085e-05 | 1.94219751157e-06 |\n",
      "|   4    | 5.21702838063e-05 | 1.94219751157e-06 |\n",
      "|   5    | 6.26043405676e-05 | 2.15213829147e-06 |\n",
      "|   6    | 6.95603784085e-05 | 0.000106492705904 |\n",
      "|   7    |  5.9623181493e-05 | 0.000106492705904 |\n",
      "|   8    | 6.52128547579e-05 | 0.000210833273517 |\n",
      "|   9    | 6.95603784085e-05 | 0.000211409740741 |\n",
      "|   10   | 7.30383973289e-05 | 0.000315750308354 |\n",
      "+--------+-------------------+-------------------+\n",
      "[10 rows x 3 columns]\n",
      "\n",
      "('\\nOverall RMSE: ', 1.6530751475047603)\n",
      "\n",
      "Per User RMSE (best)\n",
      "+---------+-------+------------------+\n",
      "| user_id | count |       rmse       |\n",
      "+---------+-------+------------------+\n",
      "|  36435  |   1   | 0.00170257436707 |\n",
      "+---------+-------+------------------+\n",
      "[1 rows x 3 columns]\n",
      "\n",
      "\n",
      "Per User RMSE (worst)\n",
      "+---------+-------+---------------+\n",
      "| user_id | count |      rmse     |\n",
      "+---------+-------+---------------+\n",
      "|  44053  |   1   | 8.94787078136 |\n",
      "+---------+-------+---------------+\n",
      "[1 rows x 3 columns]\n",
      "\n",
      "\n",
      "Per Item RMSE (best)\n",
      "+---------+-------+-------------------+\n",
      "| item_id | count |        rmse       |\n",
      "+---------+-------+-------------------+\n",
      "|  29843  |   1   | 0.000289501269171 |\n",
      "+---------+-------+-------------------+\n",
      "[1 rows x 3 columns]\n",
      "\n",
      "\n",
      "Per Item RMSE (worst)\n",
      "+---------+-------+---------------+\n",
      "| item_id | count |      rmse     |\n",
      "+---------+-------+---------------+\n",
      "| 3686998 |   1   | 8.71610101296 |\n",
      "+---------+-------+---------------+\n",
      "[1 rows x 3 columns]\n",
      "\n"
     ]
    },
    {
     "data": {
      "text/html": [
       "<pre>recommendations finished on 1000/9584 queries. users per second: 190.643</pre>"
      ],
      "text/plain": [
       "recommendations finished on 1000/9584 queries. users per second: 190.643"
      ]
     },
     "metadata": {},
     "output_type": "display_data"
    },
    {
     "data": {
      "text/html": [
       "<pre>recommendations finished on 2000/9584 queries. users per second: 190.879</pre>"
      ],
      "text/plain": [
       "recommendations finished on 2000/9584 queries. users per second: 190.879"
      ]
     },
     "metadata": {},
     "output_type": "display_data"
    },
    {
     "data": {
      "text/html": [
       "<pre>recommendations finished on 3000/9584 queries. users per second: 189.189</pre>"
      ],
      "text/plain": [
       "recommendations finished on 3000/9584 queries. users per second: 189.189"
      ]
     },
     "metadata": {},
     "output_type": "display_data"
    },
    {
     "data": {
      "text/html": [
       "<pre>recommendations finished on 4000/9584 queries. users per second: 189.505</pre>"
      ],
      "text/plain": [
       "recommendations finished on 4000/9584 queries. users per second: 189.505"
      ]
     },
     "metadata": {},
     "output_type": "display_data"
    },
    {
     "data": {
      "text/html": [
       "<pre>recommendations finished on 5000/9584 queries. users per second: 189.713</pre>"
      ],
      "text/plain": [
       "recommendations finished on 5000/9584 queries. users per second: 189.713"
      ]
     },
     "metadata": {},
     "output_type": "display_data"
    },
    {
     "data": {
      "text/html": [
       "<pre>recommendations finished on 6000/9584 queries. users per second: 190.066</pre>"
      ],
      "text/plain": [
       "recommendations finished on 6000/9584 queries. users per second: 190.066"
      ]
     },
     "metadata": {},
     "output_type": "display_data"
    },
    {
     "data": {
      "text/html": [
       "<pre>recommendations finished on 7000/9584 queries. users per second: 190.268</pre>"
      ],
      "text/plain": [
       "recommendations finished on 7000/9584 queries. users per second: 190.268"
      ]
     },
     "metadata": {},
     "output_type": "display_data"
    },
    {
     "data": {
      "text/html": [
       "<pre>recommendations finished on 8000/9584 queries. users per second: 188.333</pre>"
      ],
      "text/plain": [
       "recommendations finished on 8000/9584 queries. users per second: 188.333"
      ]
     },
     "metadata": {},
     "output_type": "display_data"
    },
    {
     "data": {
      "text/html": [
       "<pre>recommendations finished on 9000/9584 queries. users per second: 183.878</pre>"
      ],
      "text/plain": [
       "recommendations finished on 9000/9584 queries. users per second: 183.878"
      ]
     },
     "metadata": {},
     "output_type": "display_data"
    },
    {
     "name": "stdout",
     "output_type": "stream",
     "text": [
      "\n",
      "Precision and recall summary statistics by cutoff\n",
      "+--------+-------------------+-------------------+\n",
      "| cutoff |   mean_precision  |    mean_recall    |\n",
      "+--------+-------------------+-------------------+\n",
      "|   1    |        0.0        |        0.0        |\n",
      "|   2    |        0.0        |        0.0        |\n",
      "|   3    | 3.47801892042e-05 | 7.14661422005e-07 |\n",
      "|   4    | 2.60851419032e-05 | 7.14661422005e-07 |\n",
      "|   5    | 4.17362270451e-05 | 0.000105055229035 |\n",
      "|   6    | 5.21702838063e-05 | 0.000107801033446 |\n",
      "|   7    |  5.9623181493e-05 | 0.000109028569535 |\n",
      "|   8    | 5.21702838063e-05 | 0.000109028569535 |\n",
      "|   9    | 4.63735856056e-05 | 0.000109028569535 |\n",
      "|   10   | 4.17362270451e-05 | 0.000109028569535 |\n",
      "+--------+-------------------+-------------------+\n",
      "[10 rows x 3 columns]\n",
      "\n",
      "('\\nOverall RMSE: ', 1.6416101507963237)\n",
      "\n",
      "Per User RMSE (best)\n",
      "+---------+-------+-------------------+\n",
      "| user_id | count |        rmse       |\n",
      "+---------+-------+-------------------+\n",
      "|  37739  |   1   | 0.000403827644934 |\n",
      "+---------+-------+-------------------+\n",
      "[1 rows x 3 columns]\n",
      "\n",
      "\n",
      "Per User RMSE (worst)\n",
      "+---------+-------+---------------+\n",
      "| user_id | count |      rmse     |\n",
      "+---------+-------+---------------+\n",
      "|  44053  |   1   | 8.78179123001 |\n",
      "+---------+-------+---------------+\n",
      "[1 rows x 3 columns]\n",
      "\n",
      "\n",
      "Per Item RMSE (best)\n",
      "+---------+-------+-------------------+\n",
      "| item_id | count |        rmse       |\n",
      "+---------+-------+-------------------+\n",
      "| 1003023 |   1   | 0.000191342881292 |\n",
      "+---------+-------+-------------------+\n",
      "[1 rows x 3 columns]\n",
      "\n",
      "\n",
      "Per Item RMSE (worst)\n",
      "+---------+-------+---------------+\n",
      "| item_id | count |      rmse     |\n",
      "+---------+-------+---------------+\n",
      "| 3686998 |   1   | 8.76679620207 |\n",
      "+---------+-------+---------------+\n",
      "[1 rows x 3 columns]\n",
      "\n"
     ]
    }
   ],
   "source": [
    "# Validation Code for different algorithms together\n",
    "\n",
    "# Creating Folds for Cross Validation\n",
    "folds = gl.cross_validation.KFold(ratings, 5)\n",
    "\n",
    "# List creating for saving Cross Validation Results\n",
    "result_mf_rating = list()\n",
    "result_rmf_rating = list()\n",
    "result_mf_rating_genre = list()\n",
    "result_mf_rating_omdb = list()\n",
    "result_mf_rating_full = list()\n",
    "\n",
    "# Running Models with Cross Validation\n",
    "for train, valid in folds:\n",
    "    # Model 1 : Factorization Machines with Rating Database\n",
    "    mf_rating = gl.factorization_recommender.create(train, target='rating')\n",
    "    \n",
    "    # Model 2: Rank based Factorization Machines with Rating Database\n",
    "    rmf_rating = gl.recommender.create(train, target='rating')\n",
    "    \n",
    "    # Model 3:  Factorization Machines with Rating Database and Movie Genre as side features\n",
    "    mf_rating_genre = gl.factorization_recommender.create(train, target='rating',item_data = genre,side_data_factorization=True)\n",
    "    \n",
    "    # Model 4:  Factorization Machines with Rating Database and Movie OMDB as side features\n",
    "    mf_rating_omdb = gl.factorization_recommender.create(train, target='rating',item_data = omdb,side_data_factorization=True)\n",
    "    \n",
    "    # Model 5:  Factorization Machines with Rating Database, Genre and  Movie OMDB as side features\n",
    "    mf_rating_full = gl.factorization_recommender.create(train, target='rating',item_data = movie_features_full,side_data_factorization=True)\n",
    "    \n",
    "    # Evaluating Model 1 on Test set\n",
    "    x = mf_rating.evaluate(valid)\n",
    "    result_mf_rating.append(x['rmse_overall'])\n",
    "    \n",
    "    # Evaluating Model 2 on Test set\n",
    "    x = rmf_rating.evaluate(valid)\n",
    "    result_rmf_rating.append(x['rmse_overall'])\n",
    "    \n",
    "    # Evaluating Model 3 on Test set\n",
    "    x = mf_rating_genre.evaluate(valid)\n",
    "    result_mf_rating_genre.append(x['rmse_overall'])        \n",
    "    \n",
    "    # Evaluating Model 4 on Test set\n",
    "    x = mf_rating_omdb.evaluate(valid)\n",
    "    result_mf_rating_omdb.append(x['rmse_overall'])\n",
    "    \n",
    "    # Evaluating Model 5 on Test set\n",
    "    x = mf_rating_full.evaluate(valid)\n",
    "    result_mf_rating_full.append(x['rmse_overall'])"
   ]
  },
  {
   "cell_type": "code",
   "execution_count": 10,
   "metadata": {
    "collapsed": false
   },
   "outputs": [
    {
     "name": "stdout",
     "output_type": "stream",
     "text": [
      "Model 1 : Factorization Machines with Rating Database :1.6944\n",
      "Model 2 : Rank based Factorization Machines with Rating Database :1.8760\n",
      "Model 3 : Factorization Machines with Rating Database and Movie Genre as side features :1.8224\n",
      "Model 4 : Factorization Machines with Rating Database and Movie OMDB as side features :1.6567\n",
      "Model 5 : Factorization Machines with Rating Database, Genre and  Movie OMDB as side features :1.6498\n"
     ]
    }
   ],
   "source": [
    "## Printing the result of 5 fold Cross - Validation result\n",
    "print \"Model 1 : Factorization Machines with Rating Database :{0:.4f}\".format(np.mean(result_mf_rating))\n",
    "print \"Model 2 : Rank based Factorization Machines with Rating Database :{0:.4f}\".format(np.mean(result_rmf_rating))\n",
    "print \"Model 3 : Factorization Machines with Rating Database and Movie Genre as side features :{0:.4f}\".format(np.mean(result_mf_rating_genre))\n",
    "print \"Model 4 : Factorization Machines with Rating Database and Movie OMDB as side features :{0:.4f}\".format(np.mean(result_mf_rating_omdb))\n",
    "print \"Model 5 : Factorization Machines with Rating Database, Genre and  Movie OMDB as side features :{0:.4f}\".format(np.mean(result_mf_rating_full))"
   ]
  },
  {
   "cell_type": "markdown",
   "metadata": {},
   "source": [
    "## 4) Visualization"
   ]
  },
  {
   "cell_type": "code",
   "execution_count": 20,
   "metadata": {
    "collapsed": false
   },
   "outputs": [
    {
     "data": {
      "text/html": [
       "<pre>Recsys training: model = ranking_factorization_recommender</pre>"
      ],
      "text/plain": [
       "Recsys training: model = ranking_factorization_recommender"
      ]
     },
     "metadata": {},
     "output_type": "display_data"
    },
    {
     "data": {
      "text/html": [
       "<pre>Preparing data set.</pre>"
      ],
      "text/plain": [
       "Preparing data set."
      ]
     },
     "metadata": {},
     "output_type": "display_data"
    },
    {
     "data": {
      "text/html": [
       "<pre>    Data has 541501 observations with 45339 users and 26096 items.</pre>"
      ],
      "text/plain": [
       "    Data has 541501 observations with 45339 users and 26096 items."
      ]
     },
     "metadata": {},
     "output_type": "display_data"
    },
    {
     "data": {
      "text/html": [
       "<pre>    Data prepared in: 0.450346s</pre>"
      ],
      "text/plain": [
       "    Data prepared in: 0.450346s"
      ]
     },
     "metadata": {},
     "output_type": "display_data"
    },
    {
     "data": {
      "text/html": [
       "<pre>Training ranking_factorization_recommender for recommendations.</pre>"
      ],
      "text/plain": [
       "Training ranking_factorization_recommender for recommendations."
      ]
     },
     "metadata": {},
     "output_type": "display_data"
    },
    {
     "data": {
      "text/html": [
       "<pre>+--------------------------------+--------------------------------------------------+----------+</pre>"
      ],
      "text/plain": [
       "+--------------------------------+--------------------------------------------------+----------+"
      ]
     },
     "metadata": {},
     "output_type": "display_data"
    },
    {
     "data": {
      "text/html": [
       "<pre>| Parameter                      | Description                                      | Value    |</pre>"
      ],
      "text/plain": [
       "| Parameter                      | Description                                      | Value    |"
      ]
     },
     "metadata": {},
     "output_type": "display_data"
    },
    {
     "data": {
      "text/html": [
       "<pre>+--------------------------------+--------------------------------------------------+----------+</pre>"
      ],
      "text/plain": [
       "+--------------------------------+--------------------------------------------------+----------+"
      ]
     },
     "metadata": {},
     "output_type": "display_data"
    },
    {
     "data": {
      "text/html": [
       "<pre>| num_factors                    | Factor Dimension                                 | 32       |</pre>"
      ],
      "text/plain": [
       "| num_factors                    | Factor Dimension                                 | 32       |"
      ]
     },
     "metadata": {},
     "output_type": "display_data"
    },
    {
     "data": {
      "text/html": [
       "<pre>| regularization                 | L2 Regularization on Factors                     | 1e-009   |</pre>"
      ],
      "text/plain": [
       "| regularization                 | L2 Regularization on Factors                     | 1e-009   |"
      ]
     },
     "metadata": {},
     "output_type": "display_data"
    },
    {
     "data": {
      "text/html": [
       "<pre>| solver                         | Solver used for training                         | adagrad  |</pre>"
      ],
      "text/plain": [
       "| solver                         | Solver used for training                         | adagrad  |"
      ]
     },
     "metadata": {},
     "output_type": "display_data"
    },
    {
     "data": {
      "text/html": [
       "<pre>| linear_regularization          | L2 Regularization on Linear Coefficients         | 1e-009   |</pre>"
      ],
      "text/plain": [
       "| linear_regularization          | L2 Regularization on Linear Coefficients         | 1e-009   |"
      ]
     },
     "metadata": {},
     "output_type": "display_data"
    },
    {
     "data": {
      "text/html": [
       "<pre>| ranking_regularization         | Rank-based Regularization Weight                 | 0.25     |</pre>"
      ],
      "text/plain": [
       "| ranking_regularization         | Rank-based Regularization Weight                 | 0.25     |"
      ]
     },
     "metadata": {},
     "output_type": "display_data"
    },
    {
     "data": {
      "text/html": [
       "<pre>| side_data_factorization        | Assign Factors for Side Data                     | True     |</pre>"
      ],
      "text/plain": [
       "| side_data_factorization        | Assign Factors for Side Data                     | True     |"
      ]
     },
     "metadata": {},
     "output_type": "display_data"
    },
    {
     "data": {
      "text/html": [
       "<pre>| max_iterations                 | Maximum Number of Iterations                     | 25       |</pre>"
      ],
      "text/plain": [
       "| max_iterations                 | Maximum Number of Iterations                     | 25       |"
      ]
     },
     "metadata": {},
     "output_type": "display_data"
    },
    {
     "data": {
      "text/html": [
       "<pre>+--------------------------------+--------------------------------------------------+----------+</pre>"
      ],
      "text/plain": [
       "+--------------------------------+--------------------------------------------------+----------+"
      ]
     },
     "metadata": {},
     "output_type": "display_data"
    },
    {
     "data": {
      "text/html": [
       "<pre>  Optimizing model using SGD; tuning step size.</pre>"
      ],
      "text/plain": [
       "  Optimizing model using SGD; tuning step size."
      ]
     },
     "metadata": {},
     "output_type": "display_data"
    },
    {
     "data": {
      "text/html": [
       "<pre>  Using 67687 / 541501 points for tuning the step size.</pre>"
      ],
      "text/plain": [
       "  Using 67687 / 541501 points for tuning the step size."
      ]
     },
     "metadata": {},
     "output_type": "display_data"
    },
    {
     "data": {
      "text/html": [
       "<pre>+---------+-------------------+------------------------------------------+</pre>"
      ],
      "text/plain": [
       "+---------+-------------------+------------------------------------------+"
      ]
     },
     "metadata": {},
     "output_type": "display_data"
    },
    {
     "data": {
      "text/html": [
       "<pre>| Attempt | Initial Step Size | Estimated Objective Value                |</pre>"
      ],
      "text/plain": [
       "| Attempt | Initial Step Size | Estimated Objective Value                |"
      ]
     },
     "metadata": {},
     "output_type": "display_data"
    },
    {
     "data": {
      "text/html": [
       "<pre>+---------+-------------------+------------------------------------------+</pre>"
      ],
      "text/plain": [
       "+---------+-------------------+------------------------------------------+"
      ]
     },
     "metadata": {},
     "output_type": "display_data"
    },
    {
     "data": {
      "text/html": [
       "<pre>| 0       | 1.42857           | Not Viable                               |</pre>"
      ],
      "text/plain": [
       "| 0       | 1.42857           | Not Viable                               |"
      ]
     },
     "metadata": {},
     "output_type": "display_data"
    },
    {
     "data": {
      "text/html": [
       "<pre>| 1       | 0.357143          | 1.7028                                   |</pre>"
      ],
      "text/plain": [
       "| 1       | 0.357143          | 1.7028                                   |"
      ]
     },
     "metadata": {},
     "output_type": "display_data"
    },
    {
     "data": {
      "text/html": [
       "<pre>| 2       | 0.178571          | 2.13512                                  |</pre>"
      ],
      "text/plain": [
       "| 2       | 0.178571          | 2.13512                                  |"
      ]
     },
     "metadata": {},
     "output_type": "display_data"
    },
    {
     "data": {
      "text/html": [
       "<pre>| 3       | 0.0892857         | 3.27443                                  |</pre>"
      ],
      "text/plain": [
       "| 3       | 0.0892857         | 3.27443                                  |"
      ]
     },
     "metadata": {},
     "output_type": "display_data"
    },
    {
     "data": {
      "text/html": [
       "<pre>| 4       | 0.0446429         | 4.58091                                  |</pre>"
      ],
      "text/plain": [
       "| 4       | 0.0446429         | 4.58091                                  |"
      ]
     },
     "metadata": {},
     "output_type": "display_data"
    },
    {
     "data": {
      "text/html": [
       "<pre>+---------+-------------------+------------------------------------------+</pre>"
      ],
      "text/plain": [
       "+---------+-------------------+------------------------------------------+"
      ]
     },
     "metadata": {},
     "output_type": "display_data"
    },
    {
     "data": {
      "text/html": [
       "<pre>| Final   | 0.357143          | 1.7028                                   |</pre>"
      ],
      "text/plain": [
       "| Final   | 0.357143          | 1.7028                                   |"
      ]
     },
     "metadata": {},
     "output_type": "display_data"
    },
    {
     "data": {
      "text/html": [
       "<pre>+---------+-------------------+------------------------------------------+</pre>"
      ],
      "text/plain": [
       "+---------+-------------------+------------------------------------------+"
      ]
     },
     "metadata": {},
     "output_type": "display_data"
    },
    {
     "data": {
      "text/html": [
       "<pre>Starting Optimization.</pre>"
      ],
      "text/plain": [
       "Starting Optimization."
      ]
     },
     "metadata": {},
     "output_type": "display_data"
    },
    {
     "data": {
      "text/html": [
       "<pre>+---------+--------------+-------------------+-----------------------+-------------+</pre>"
      ],
      "text/plain": [
       "+---------+--------------+-------------------+-----------------------+-------------+"
      ]
     },
     "metadata": {},
     "output_type": "display_data"
    },
    {
     "data": {
      "text/html": [
       "<pre>| Iter.   | Elapsed Time | Approx. Objective | Approx. Training RMSE | Step Size   |</pre>"
      ],
      "text/plain": [
       "| Iter.   | Elapsed Time | Approx. Objective | Approx. Training RMSE | Step Size   |"
      ]
     },
     "metadata": {},
     "output_type": "display_data"
    },
    {
     "data": {
      "text/html": [
       "<pre>+---------+--------------+-------------------+-----------------------+-------------+</pre>"
      ],
      "text/plain": [
       "+---------+--------------+-------------------+-----------------------+-------------+"
      ]
     },
     "metadata": {},
     "output_type": "display_data"
    },
    {
     "data": {
      "text/html": [
       "<pre>| Initial | 0us          | 6.77707           | 1.8592                |             |</pre>"
      ],
      "text/plain": [
       "| Initial | 0us          | 6.77707           | 1.8592                |             |"
      ]
     },
     "metadata": {},
     "output_type": "display_data"
    },
    {
     "data": {
      "text/html": [
       "<pre>+---------+--------------+-------------------+-----------------------+-------------+</pre>"
      ],
      "text/plain": [
       "+---------+--------------+-------------------+-----------------------+-------------+"
      ]
     },
     "metadata": {},
     "output_type": "display_data"
    },
    {
     "data": {
      "text/html": [
       "<pre>| 1       | 4.74s        | 9.01901           | 2.52151               | 0.357143    |</pre>"
      ],
      "text/plain": [
       "| 1       | 4.74s        | 9.01901           | 2.52151               | 0.357143    |"
      ]
     },
     "metadata": {},
     "output_type": "display_data"
    },
    {
     "data": {
      "text/html": [
       "<pre>| 2       | 8.89s        | 4.08359           | 1.6429                | 0.357143    |</pre>"
      ],
      "text/plain": [
       "| 2       | 8.89s        | 4.08359           | 1.6429                | 0.357143    |"
      ]
     },
     "metadata": {},
     "output_type": "display_data"
    },
    {
     "data": {
      "text/html": [
       "<pre>| 3       | 12.96s       | 3.36091           | 1.46848               | 0.357143    |</pre>"
      ],
      "text/plain": [
       "| 3       | 12.96s       | 3.36091           | 1.46848               | 0.357143    |"
      ]
     },
     "metadata": {},
     "output_type": "display_data"
    },
    {
     "data": {
      "text/html": [
       "<pre>| 4       | 17.02s       | 3.00588           | 1.36524               | 0.357143    |</pre>"
      ],
      "text/plain": [
       "| 4       | 17.02s       | 3.00588           | 1.36524               | 0.357143    |"
      ]
     },
     "metadata": {},
     "output_type": "display_data"
    },
    {
     "data": {
      "text/html": [
       "<pre>| 5       | 21.06s       | 2.76316           | 1.29115               | 0.357143    |</pre>"
      ],
      "text/plain": [
       "| 5       | 21.06s       | 2.76316           | 1.29115               | 0.357143    |"
      ]
     },
     "metadata": {},
     "output_type": "display_data"
    },
    {
     "data": {
      "text/html": [
       "<pre>| 6       | 25.06s       | 2.59403           | 1.23746               | 0.357143    |</pre>"
      ],
      "text/plain": [
       "| 6       | 25.06s       | 2.59403           | 1.23746               | 0.357143    |"
      ]
     },
     "metadata": {},
     "output_type": "display_data"
    },
    {
     "data": {
      "text/html": [
       "<pre>| 7       | 29.04s       | 2.47268           | 1.20148               | 0.357143    |</pre>"
      ],
      "text/plain": [
       "| 7       | 29.04s       | 2.47268           | 1.20148               | 0.357143    |"
      ]
     },
     "metadata": {},
     "output_type": "display_data"
    },
    {
     "data": {
      "text/html": [
       "<pre>| 8       | 32.96s       | 2.34859           | 1.1602                | 0.357143    |</pre>"
      ],
      "text/plain": [
       "| 8       | 32.96s       | 2.34859           | 1.1602                | 0.357143    |"
      ]
     },
     "metadata": {},
     "output_type": "display_data"
    },
    {
     "data": {
      "text/html": [
       "<pre>| 9       | 36.90s       | 2.26585           | 1.13194               | 0.357143    |</pre>"
      ],
      "text/plain": [
       "| 9       | 36.90s       | 2.26585           | 1.13194               | 0.357143    |"
      ]
     },
     "metadata": {},
     "output_type": "display_data"
    },
    {
     "data": {
      "text/html": [
       "<pre>| 10      | 40.84s       | 2.19008           | 1.10879               | 0.357143    |</pre>"
      ],
      "text/plain": [
       "| 10      | 40.84s       | 2.19008           | 1.10879               | 0.357143    |"
      ]
     },
     "metadata": {},
     "output_type": "display_data"
    },
    {
     "data": {
      "text/html": [
       "<pre>| 11      | 44.76s       | 2.10738           | 1.08375               | 0.357143    |</pre>"
      ],
      "text/plain": [
       "| 11      | 44.76s       | 2.10738           | 1.08375               | 0.357143    |"
      ]
     },
     "metadata": {},
     "output_type": "display_data"
    },
    {
     "data": {
      "text/html": [
       "<pre>| 12      | 48.67s       | 2.04817           | 1.05934               | 0.357143    |</pre>"
      ],
      "text/plain": [
       "| 12      | 48.67s       | 2.04817           | 1.05934               | 0.357143    |"
      ]
     },
     "metadata": {},
     "output_type": "display_data"
    },
    {
     "data": {
      "text/html": [
       "<pre>| 13      | 52.52s       | 1.99492           | 1.03937               | 0.357143    |</pre>"
      ],
      "text/plain": [
       "| 13      | 52.52s       | 1.99492           | 1.03937               | 0.357143    |"
      ]
     },
     "metadata": {},
     "output_type": "display_data"
    },
    {
     "data": {
      "text/html": [
       "<pre>| 14      | 56.36s       | 1.95207           | 1.02615               | 0.357143    |</pre>"
      ],
      "text/plain": [
       "| 14      | 56.36s       | 1.95207           | 1.02615               | 0.357143    |"
      ]
     },
     "metadata": {},
     "output_type": "display_data"
    },
    {
     "data": {
      "text/html": [
       "<pre>| 15      | 1m 0s        | 1.90678           | 1.01348               | 0.357143    |</pre>"
      ],
      "text/plain": [
       "| 15      | 1m 0s        | 1.90678           | 1.01348               | 0.357143    |"
      ]
     },
     "metadata": {},
     "output_type": "display_data"
    },
    {
     "data": {
      "text/html": [
       "<pre>| 16      | 1m 4s        | 1.86829           | 0.99994               | 0.357143    |</pre>"
      ],
      "text/plain": [
       "| 16      | 1m 4s        | 1.86829           | 0.99994               | 0.357143    |"
      ]
     },
     "metadata": {},
     "output_type": "display_data"
    },
    {
     "data": {
      "text/html": [
       "<pre>| 17      | 1m 8s        | 1.8391            | 0.987157              | 0.357143    |</pre>"
      ],
      "text/plain": [
       "| 17      | 1m 8s        | 1.8391            | 0.987157              | 0.357143    |"
      ]
     },
     "metadata": {},
     "output_type": "display_data"
    },
    {
     "data": {
      "text/html": [
       "<pre>| 18      | 1m 11s       | 1.80256           | 0.979097              | 0.357143    |</pre>"
      ],
      "text/plain": [
       "| 18      | 1m 11s       | 1.80256           | 0.979097              | 0.357143    |"
      ]
     },
     "metadata": {},
     "output_type": "display_data"
    },
    {
     "data": {
      "text/html": [
       "<pre>| 19      | 1m 15s       | 1.77344           | 0.969948              | 0.357143    |</pre>"
      ],
      "text/plain": [
       "| 19      | 1m 15s       | 1.77344           | 0.969948              | 0.357143    |"
      ]
     },
     "metadata": {},
     "output_type": "display_data"
    },
    {
     "data": {
      "text/html": [
       "<pre>| 20      | 1m 19s       | 1.74539           | 0.957496              | 0.357143    |</pre>"
      ],
      "text/plain": [
       "| 20      | 1m 19s       | 1.74539           | 0.957496              | 0.357143    |"
      ]
     },
     "metadata": {},
     "output_type": "display_data"
    },
    {
     "data": {
      "text/html": [
       "<pre>| 21      | 1m 23s       | 1.71869           | 0.949065              | 0.357143    |</pre>"
      ],
      "text/plain": [
       "| 21      | 1m 23s       | 1.71869           | 0.949065              | 0.357143    |"
      ]
     },
     "metadata": {},
     "output_type": "display_data"
    },
    {
     "data": {
      "text/html": [
       "<pre>| 22      | 1m 27s       | 1.70155           | 0.940269              | 0.357143    |</pre>"
      ],
      "text/plain": [
       "| 22      | 1m 27s       | 1.70155           | 0.940269              | 0.357143    |"
      ]
     },
     "metadata": {},
     "output_type": "display_data"
    },
    {
     "data": {
      "text/html": [
       "<pre>| 23      | 1m 30s       | 1.67655           | 0.934778              | 0.357143    |</pre>"
      ],
      "text/plain": [
       "| 23      | 1m 30s       | 1.67655           | 0.934778              | 0.357143    |"
      ]
     },
     "metadata": {},
     "output_type": "display_data"
    },
    {
     "data": {
      "text/html": [
       "<pre>| 24      | 1m 34s       | 1.65188           | 0.92706               | 0.357143    |</pre>"
      ],
      "text/plain": [
       "| 24      | 1m 34s       | 1.65188           | 0.92706               | 0.357143    |"
      ]
     },
     "metadata": {},
     "output_type": "display_data"
    },
    {
     "data": {
      "text/html": [
       "<pre>| 25      | 1m 38s       | 1.6306            | 0.919006              | 0.357143    |</pre>"
      ],
      "text/plain": [
       "| 25      | 1m 38s       | 1.6306            | 0.919006              | 0.357143    |"
      ]
     },
     "metadata": {},
     "output_type": "display_data"
    },
    {
     "data": {
      "text/html": [
       "<pre>+---------+--------------+-------------------+-----------------------+-------------+</pre>"
      ],
      "text/plain": [
       "+---------+--------------+-------------------+-----------------------+-------------+"
      ]
     },
     "metadata": {},
     "output_type": "display_data"
    },
    {
     "data": {
      "text/html": [
       "<pre>Optimization Complete: Maximum number of passes through the data reached.</pre>"
      ],
      "text/plain": [
       "Optimization Complete: Maximum number of passes through the data reached."
      ]
     },
     "metadata": {},
     "output_type": "display_data"
    },
    {
     "data": {
      "text/html": [
       "<pre>Computing final objective value and training RMSE.</pre>"
      ],
      "text/plain": [
       "Computing final objective value and training RMSE."
      ]
     },
     "metadata": {},
     "output_type": "display_data"
    },
    {
     "data": {
      "text/html": [
       "<pre>       Final objective value: 1.56801</pre>"
      ],
      "text/plain": [
       "       Final objective value: 1.56801"
      ]
     },
     "metadata": {},
     "output_type": "display_data"
    },
    {
     "data": {
      "text/html": [
       "<pre>       Final training RMSE: 0.87422</pre>"
      ],
      "text/plain": [
       "       Final training RMSE: 0.87422"
      ]
     },
     "metadata": {},
     "output_type": "display_data"
    },
    {
     "data": {
      "text/plain": [
       "View object\n",
       "\n",
       "URI: \t\thttp://localhost:32212/view/2baa26f3-230b-4b5c-8612-b9f70569d53e\n",
       "HTML: \t\t\n",
       "<gl-recommender-explore\n",
       "    uri=\"http://localhost:32212/view/6a0c5dd3-459a-4547-ba4f-8cabdfaa188d\"\n",
       "    api_key=\"\"\n",
       "/>\n",
       "        "
      ]
     },
     "execution_count": 20,
     "metadata": {},
     "output_type": "execute_result"
    }
   ],
   "source": [
    "# As seen above Movie and Genre Features combined give better performance let's build one visualization on it\n",
    "mf_rating_full = gl.ranking_factorization_recommender.create(ratings, target='rating',item_data = movie_features_full,side_data_factorization=True,random_seed=30)\n",
    "view = mf_rating_full.views.explore(item_data=movies_name,item_name_column='title')\n",
    "view.show()"
   ]
  }
 ],
 "metadata": {
  "kernelspec": {
   "display_name": "Python 2",
   "language": "python",
   "name": "python2"
  },
  "language_info": {
   "codemirror_mode": {
    "name": "ipython",
    "version": 2
   },
   "file_extension": ".py",
   "mimetype": "text/x-python",
   "name": "python",
   "nbconvert_exporter": "python",
   "pygments_lexer": "ipython2",
   "version": "2.7.11"
  }
 },
 "nbformat": 4,
 "nbformat_minor": 0
}
